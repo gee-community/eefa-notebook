{
 "cells": [
  {
   "cell_type": "markdown",
   "metadata": {},
   "source": [
    "## Import libraries"
   ]
  },
  {
   "cell_type": "code",
   "execution_count": null,
   "metadata": {},
   "outputs": [],
   "source": [
    "import ee\n",
    "import geemap"
   ]
  },
  {
   "cell_type": "markdown",
   "metadata": {},
   "source": [
    "## Create an interactive map"
   ]
  },
  {
   "cell_type": "code",
   "execution_count": null,
   "metadata": {},
   "outputs": [],
   "source": [
    "Map = geemap.Map(center=[40, -100], zoom=4)"
   ]
  },
  {
   "cell_type": "markdown",
   "metadata": {},
   "source": [
    "## Add Earth Engine Python script"
   ]
  },
  {
   "cell_type": "code",
   "execution_count": null,
   "metadata": {},
   "outputs": [],
   "source": [
    "# Add Earth Engine dataset\n",
    "image = ee.Image(\"USGS/SRTMGL1_003\")\n",
    "\n",
    "#  ~~~~~~~~~~~~~~~~~~~~~~~~~~~~~~~~~~~~~~~~~~~~~~~~~~~~~~~~~~~~~~~~~~~~~~~\n",
    "#  Chapter:      F3.1 Advanced Pixel-Based Image Transformations\n",
    "#  Checkpoint:   F31b\n",
    "#  Authors:      Karen, Andrea, Nick, and David\n",
    "#  ~~~~~~~~~~~~~~~~~~~~~~~~~~~~~~~~~~~~~~~~~~~~~~~~~~~~~~~~~~~~~~~~~~~~~~~\n",
    "\n",
    "# Examine the True-color Landsat 8 images for the 2013 Rim Fire.\n",
    "burnImage = (\n",
    "    ee.ImageCollection(\"LANDSAT/LC08/C02/T1_TOA\")\n",
    "    .filterBounds(ee.Geometry.Point(-120.083, 37.850))\n",
    "    .filterDate(\"2013-09-15\", \"2013-09-27\")\n",
    "    .sort(\"CLOUD_COVER\")\n",
    "    .first()\n",
    ")\n",
    "\n",
    "Map.centerObject(ee.Geometry.Point(-120.083, 37.850), 11)\n",
    "\n",
    "rgbParams = {\"bands\": [\"B4\", \"B3\", \"B2\"], \"min\": 0, \"max\": 0.3}\n",
    "Map.addLayer(burnImage, rgbParams, \"True-Color Burn Image\")\n",
    "\n",
    "# Calculate BAI.\n",
    "bai = burnImage.expression(\n",
    "    \"1.0 / ((0.1 - RED)**2 + (0.06 - NIR)**2)\",\n",
    "    {\n",
    "        \"NIR\": burnImage.select(\"B5\"),\n",
    "        \"RED\": burnImage.select(\"B4\"),\n",
    "    },\n",
    ")\n",
    "\n",
    "# Display the BAI image.\n",
    "burnPalette = [\"green\", \"blue\", \"yellow\", \"red\"]\n",
    "Map.addLayer(bai, {\"min\": 0, \"max\": 400, \"palette\": burnPalette}, \"BAI\")\n",
    "\n",
    "#  -----------------------------------------------------------------------\n",
    "#  CHECKPOINT\n",
    "#  -----------------------------------------------------------------------"
   ]
  },
  {
   "cell_type": "markdown",
   "metadata": {},
   "source": [
    "## Display the interactive map"
   ]
  },
  {
   "cell_type": "code",
   "execution_count": null,
   "metadata": {},
   "outputs": [],
   "source": [
    "Map"
   ]
  }
 ],
 "metadata": {
  "anaconda-cloud": {},
  "kernelspec": {
   "display_name": "Python 3",
   "language": "python",
   "name": "python3"
  },
  "language_info": {
   "codemirror_mode": {
    "name": "ipython",
    "version": 3
   },
   "file_extension": ".py",
   "mimetype": "text/x-python",
   "name": "python",
   "nbconvert_exporter": "python",
   "pygments_lexer": "ipython3",
   "version": "3.6.1"
  }
 },
 "nbformat": 4,
 "nbformat_minor": 4
}
