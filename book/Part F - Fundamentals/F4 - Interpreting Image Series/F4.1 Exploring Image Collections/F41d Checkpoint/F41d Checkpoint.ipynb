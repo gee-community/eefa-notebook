{
 "cells": [
  {
   "cell_type": "markdown",
   "metadata": {},
   "source": [
    "## Import libraries"
   ]
  },
  {
   "cell_type": "code",
   "execution_count": null,
   "metadata": {},
   "outputs": [],
   "source": [
    "import ee\n",
    "import geemap"
   ]
  },
  {
   "cell_type": "markdown",
   "metadata": {},
   "source": [
    "## Create an interactive map"
   ]
  },
  {
   "cell_type": "code",
   "execution_count": null,
   "metadata": {},
   "outputs": [],
   "source": [
    "Map = geemap.Map(center=[40, -100], zoom=4)"
   ]
  },
  {
   "cell_type": "markdown",
   "metadata": {},
   "source": [
    "## Add Earth Engine Python script"
   ]
  },
  {
   "cell_type": "code",
   "execution_count": null,
   "metadata": {},
   "outputs": [],
   "source": [
    "# Add Earth Engine dataset\n",
    "image = ee.Image(\"USGS/SRTMGL1_003\")\n",
    "\n",
    "#  ~~~~~~~~~~~~~~~~~~~~~~~~~~~~~~~~~~~~~~~~~~~~~~~~~~~~~~~~~~~~~~~~~~~~~~~\n",
    "#  Chapter:      F4.1 Exploring Image Collections\n",
    "#  Checkpoint:   F41d\n",
    "#  Author:       Gennadii Donchyts\n",
    "#  ~~~~~~~~~~~~~~~~~~~~~~~~~~~~~~~~~~~~~~~~~~~~~~~~~~~~~~~~~~~~~~~~~~~~~~~\n",
    "\n",
    "# Define a region of interest as a point in Lisbon, Portugal.\n",
    "lisbonPoint = ee.Geometry.Point(-9.179473, 38.763948)\n",
    "\n",
    "# Center the map at that point.\n",
    "Map.centerObject(lisbonPoint, 16)\n",
    "\n",
    "# filter the large ImageCollection to be just images from 2020\n",
    "# around Lisbon. From each image, select True-color bands to draw\n",
    "filteredIC = (\n",
    "    ee.ImageCollection(\"LANDSAT/LC08/C02/T1_TOA\")\n",
    "    .filterDate(\"2020-01-01\", \"2021-01-01\")\n",
    "    .filterBounds(lisbonPoint)\n",
    "    .select([\"B6\", \"B5\", \"B4\"])\n",
    ")\n",
    "\n",
    "# Add the filtered ImageCollection so that we can inspect values\n",
    "# via the Inspector tool\n",
    "Map.addLayer(filteredIC, {}, \"TOA image collection\")\n",
    "\n",
    "# Construct a chart using values queried from image collection.\n",
    "chart = ui.Chart.image.series(\n",
    "    {\n",
    "        \"imageCollection\": filteredIC,\n",
    "        \"region\": lisbonPoint,\n",
    "        \"reducer\": ee.Reducer.first(),\n",
    "        \"scale\": 10,\n",
    "    }\n",
    ")\n",
    "\n",
    "# Show the chart in the Console.\n",
    "print(chart)\n",
    "\n",
    "#  -----------------------------------------------------------------------\n",
    "#  CHECKPOINT\n",
    "#  -----------------------------------------------------------------------\n",
    "\n",
    "# compute and show the number of observations in an image collection\n",
    "count = (\n",
    "    ee.ImageCollection(\"LANDSAT/LC08/C02/T1_TOA\")\n",
    "    .filterDate(\"2020-01-01\", \"2021-01-01\")\n",
    "    .select([\"B6\"])\n",
    "    .count()\n",
    ")\n",
    "\n",
    "# add white background and switch to HYBRID basemap\n",
    "Map.addLayer(ee.Image(1), {\"palette\": [\"white\"]}, \"white\", True, 0.5)\n",
    "Map.setOptions(\"HYBRID\")\n",
    "\n",
    "# show image count\n",
    "Map.addLayer(\n",
    "    count,\n",
    "    {\n",
    "        \"min\": 0,\n",
    "        \"max\": 50,\n",
    "        \"palette\": [\"d7191c\", \"fdae61\", \"ffffbf\", \"a6d96a\", \"1a9641\"],\n",
    "    },\n",
    "    \"landsat 8 image count (2020)\",\n",
    ")\n",
    "\n",
    "# Center the map at that point.\n",
    "Map.centerObject(lisbonPoint, 5)\n",
    "\n",
    "#  -----------------------------------------------------------------------\n",
    "#  CHECKPOINT\n",
    "#  -----------------------------------------------------------------------\n",
    "\n",
    "# Zoom to an informative scale for the code that follows.\n",
    "Map.centerObject(lisbonPoint, 10)\n",
    "\n",
    "# Add a mean composite image.\n",
    "meanFilteredIC = filteredIC.reduce(ee.Reducer.mean())\n",
    "Map.addLayer(meanFilteredIC, {}, \"Mean values within image collection\")\n",
    "\n",
    "# Add a median composite image.\n",
    "medianFilteredIC = filteredIC.reduce(ee.Reducer.median())\n",
    "Map.addLayer(medianFilteredIC, {}, \"Median values within image collection\")\n",
    "\n",
    "#  -----------------------------------------------------------------------\n",
    "#  CHECKPOINT\n",
    "#  -----------------------------------------------------------------------\n",
    "\n",
    "# compute a single 30% percentile\n",
    "p30 = filteredIC.reduce(ee.Reducer.percentile([30]))\n",
    "\n",
    "Map.addLayer(p30, {\"min\": 0.05, \"max\": 0.35}, \"30%\")\n",
    "\n",
    "percentiles = [0, 10, 20, 30, 40, 50, 60, 70, 80]\n",
    "\n",
    "# let's compute percentile images and add them as separate layers\n",
    "\n",
    "\n",
    "def func_sax(p):\n",
    "    image = filteredIC.reduce(ee.Reducer.percentile([p]))\n",
    "    Map.addLayer(image, {\"min\": 0.05, \"max\": 0.35}, p + \"%\")\n",
    "\n",
    "\n",
    "percentiles.map(func_sax)\n",
    "\n",
    "\n",
    "#  -----------------------------------------------------------------------\n",
    "#  CHECKPOINT\n",
    "#  -----------------------------------------------------------------------"
   ]
  },
  {
   "cell_type": "markdown",
   "metadata": {},
   "source": [
    "## Display the interactive map"
   ]
  },
  {
   "cell_type": "code",
   "execution_count": null,
   "metadata": {},
   "outputs": [],
   "source": [
    "Map"
   ]
  }
 ],
 "metadata": {
  "anaconda-cloud": {},
  "kernelspec": {
   "display_name": "Python 3",
   "language": "python",
   "name": "python3"
  },
  "language_info": {
   "codemirror_mode": {
    "name": "ipython",
    "version": 3
   },
   "file_extension": ".py",
   "mimetype": "text/x-python",
   "name": "python",
   "nbconvert_exporter": "python",
   "pygments_lexer": "ipython3",
   "version": "3.6.1"
  }
 },
 "nbformat": 4,
 "nbformat_minor": 4
}
