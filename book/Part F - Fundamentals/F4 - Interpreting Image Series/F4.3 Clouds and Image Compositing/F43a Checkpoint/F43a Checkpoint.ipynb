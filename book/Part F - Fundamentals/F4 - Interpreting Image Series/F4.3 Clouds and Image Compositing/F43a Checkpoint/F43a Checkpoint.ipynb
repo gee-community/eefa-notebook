{
 "cells": [
  {
   "cell_type": "markdown",
   "metadata": {},
   "source": [
    "## Import libraries"
   ]
  },
  {
   "cell_type": "code",
   "execution_count": null,
   "metadata": {},
   "outputs": [],
   "source": [
    "import ee\n",
    "import geemap"
   ]
  },
  {
   "cell_type": "markdown",
   "metadata": {},
   "source": [
    "## Create an interactive map"
   ]
  },
  {
   "cell_type": "code",
   "execution_count": null,
   "metadata": {},
   "outputs": [],
   "source": [
    "Map = geemap.Map(center=[40, -100], zoom=4)"
   ]
  },
  {
   "cell_type": "markdown",
   "metadata": {},
   "source": [
    "## Add Earth Engine Python script"
   ]
  },
  {
   "cell_type": "code",
   "execution_count": null,
   "metadata": {},
   "outputs": [],
   "source": [
    "# Add Earth Engine dataset\n",
    "image = ee.Image(\"USGS/SRTMGL1_003\")\n",
    "\n",
    "#  ~~~~~~~~~~~~~~~~~~~~~~~~~~~~~~~~~~~~~~~~~~~~~~~~~~~~~~~~~~~~~~~~~~~~~~~\n",
    "#  Chapter:      F4.3 Clouds and Image Compositing\n",
    "#  Checkpoint:   F43a\n",
    "#  Authors:      Txomin Hermosilla, Saverio Francini, Andréa P. Nicolau,\n",
    "#                Michael A. Wulder, Joanne C. White, Nicholas C. Coops,\n",
    "#                Gherardo Chirici\n",
    "#  ~~~~~~~~~~~~~~~~~~~~~~~~~~~~~~~~~~~~~~~~~~~~~~~~~~~~~~~~~~~~~~~~~~~~~~~\n",
    "\n",
    "# ---------- Section 1 -----------------\n",
    "\n",
    "# Define the AOI.\n",
    "country = ee.FeatureCollection(\"USDOS/LSIB_SIMPLE/2017\").filter(\n",
    "    ee.Filter.equals(\"country_na\", \"Colombia\")\n",
    ")\n",
    "\n",
    "# Center the Map. The second parameter is zoom level.\n",
    "Map.centerObject(country, 5)\n",
    "\n",
    "# Define time variables.\n",
    "startDate = \"2019-01-01\"\n",
    "endDate = \"2019-12-31\"\n",
    "\n",
    "# Load and filter the Landsat 8 collection.\n",
    "landsat8 = (\n",
    "    ee.ImageCollection(\"LANDSAT/LC08/C02/T1_L2\")\n",
    "    .filterBounds(country)\n",
    "    .filterDate(startDate, endDate)\n",
    ")\n",
    "\n",
    "\n",
    "# Apply scaling factors.\n",
    "def applyScaleFactors(image):\n",
    "    opticalBands = image.select(\"SR_B.\").multiply(0.0000275).add(-0.2)\n",
    "    thermalBands = image.select(\"ST_B.*\").multiply(0.00341802).add(149.0)\n",
    "    return image.addBands(opticalBands, None, True).addBands(thermalBands, None, True)\n",
    "\n",
    "\n",
    "landsat8 = landsat8.map(applyScaleFactors)\n",
    "\n",
    "# Create composite.\n",
    "composite = landsat8.median().clip(country)\n",
    "\n",
    "visParams = {\"bands\": [\"SR_B4\", \"SR_B3\", \"SR_B2\"], \"min\": 0, \"max\": 0.2}\n",
    "Map.addLayer(composite, visParams, \"L8 Composite\")\n",
    "\n",
    "# Filter by the CLOUD_COVER property.\n",
    "landsat8FiltClouds = (\n",
    "    landsat8.filterBounds(country)\n",
    "    .filterDate(startDate, endDate)\n",
    "    .filter(ee.Filter.lessThan(\"CLOUD_COVER\", 50))\n",
    ")\n",
    "\n",
    "# Create a composite from the filtered imagery.\n",
    "compositeFiltClouds = landsat8FiltClouds.median().clip(country)\n",
    "\n",
    "Map.addLayer(compositeFiltClouds, visParams, \"L8 Composite cloud filter\")\n",
    "\n",
    "# Print size of collections, for comparison.\n",
    "print(\"Size landsat8 collection\", landsat8.size())\n",
    "print(\"Size landsat8FiltClouds collection\", landsat8FiltClouds.size())\n",
    "\n",
    "\n",
    "# Define the cloud mask function.\n",
    "def maskSrClouds(image):\n",
    "    # Bit 0 - Fill\n",
    "    # Bit 1 - Dilated Cloud\n",
    "    # Bit 2 - Cirrus\n",
    "    # Bit 3 - Cloud\n",
    "    # Bit 4 - Cloud Shadow\n",
    "    qaMask = image.select(\"QA_PIXEL\").bitwiseAnd(parseInt(\"11111\", 2)).eq(0)\n",
    "    saturationMask = image.select(\"QA_RADSAT\").eq(0)\n",
    "\n",
    "    return image.updateMask(qaMask).updateMask(saturationMask)\n",
    "\n",
    "\n",
    "# Apply the cloud mask to the collection.\n",
    "landsat8FiltMasked = landsat8FiltClouds.map(maskSrClouds)\n",
    "\n",
    "# Create a composite.\n",
    "landsat8compositeMasked = landsat8FiltMasked.median().clip(country)\n",
    "\n",
    "Map.addLayer(landsat8compositeMasked, visParams, \"L8 composite masked\")\n",
    "\n",
    "#  -----------------------------------------------------------------------\n",
    "#  CHECKPOINT\n",
    "#  -----------------------------------------------------------------------"
   ]
  },
  {
   "cell_type": "markdown",
   "metadata": {},
   "source": [
    "## Display the interactive map"
   ]
  },
  {
   "cell_type": "code",
   "execution_count": null,
   "metadata": {},
   "outputs": [],
   "source": [
    "Map"
   ]
  }
 ],
 "metadata": {
  "anaconda-cloud": {},
  "kernelspec": {
   "display_name": "Python 3",
   "language": "python",
   "name": "python3"
  },
  "language_info": {
   "codemirror_mode": {
    "name": "ipython",
    "version": 3
   },
   "file_extension": ".py",
   "mimetype": "text/x-python",
   "name": "python",
   "nbconvert_exporter": "python",
   "pygments_lexer": "ipython3",
   "version": "3.6.1"
  }
 },
 "nbformat": 4,
 "nbformat_minor": 4
}
