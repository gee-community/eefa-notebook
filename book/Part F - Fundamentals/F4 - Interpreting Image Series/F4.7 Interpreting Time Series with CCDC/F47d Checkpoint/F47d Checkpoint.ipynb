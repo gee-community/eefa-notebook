{
 "cells": [
  {
   "cell_type": "markdown",
   "metadata": {},
   "source": [
    "## Import libraries"
   ]
  },
  {
   "cell_type": "code",
   "execution_count": null,
   "metadata": {},
   "outputs": [],
   "source": [
    "import ee\n",
    "import geemap"
   ]
  },
  {
   "cell_type": "markdown",
   "metadata": {},
   "source": [
    "## Create an interactive map"
   ]
  },
  {
   "cell_type": "code",
   "execution_count": null,
   "metadata": {},
   "outputs": [],
   "source": [
    "Map = geemap.Map(center=[40, -100], zoom=4)"
   ]
  },
  {
   "cell_type": "markdown",
   "metadata": {},
   "source": [
    "## Add Earth Engine Python script"
   ]
  },
  {
   "cell_type": "code",
   "execution_count": null,
   "metadata": {},
   "outputs": [],
   "source": [
    "# Add Earth Engine dataset\n",
    "image = ee.Image(\"USGS/SRTMGL1_003\")\n",
    "\n",
    "#  ~~~~~~~~~~~~~~~~~~~~~~~~~~~~~~~~~~~~~~~~~~~~~~~~~~~~~~~~~~~~~~~~~~~~~~~~~~~~~~~\n",
    "#  Chapter:      F4.7 Interpreting Time Series with CCDC\n",
    "#  Checkpoint:   F47d\n",
    "#  Authors:      Paulo Arévalo, Pontus Olofsson\n",
    "#  ~~~~~~~~~~~~~~~~~~~~~~~~~~~~~~~~~~~~~~~~~~~~~~~~~~~~~~~~~~~~~~~~~~~~~~~~~~~~~~~\n",
    "\n",
    "palettes = require('users/gena/packages:palettes')\n",
    "\n",
    "resultsPath =\n",
    "    'projects/gee-book/assets/F4-7/Rondonia_example_small'\n",
    "ccdResults = ee.Image(resultsPath)\n",
    "Map.centerObject(ccdResults, 10)\n",
    "print(ccdResults)\n",
    "\n",
    "# Display segment start and end times.\n",
    "start = ccdResults.select('tStart')\n",
    "end = ccdResults.select('tEnd')\n",
    "Map.addLayer(start, {\n",
    "    'min': 1999,\n",
    "    'max': 2001\n",
    "}, 'Segment start')\n",
    "Map.addLayer(end, {\n",
    "    'min': 2010,\n",
    "    'max': 2020\n",
    "}, 'Segment end')\n",
    "\n",
    "# Find the segment that intersects a given date.\n",
    "targetDate = 2005.5\n",
    "selectSegment = start.lte(targetDate).And(end.gt(targetDate))\n",
    "Map.addLayer(selectSegment, {}, 'Identified segment')\n",
    "\n",
    "# Get all coefs in the SWIR1 band.\n",
    "SWIR1Coefs = ccdResults.select('SWIR1_coefs')\n",
    "Map.addLayer(SWIR1Coefs, {}, 'SWIR1 coefs')\n",
    "\n",
    "# Select only those for the segment that we identified previously.\n",
    "sliceStart = selectSegment.arrayArgmax().arrayFlatten([\n",
    "    ['index']\n",
    "])\n",
    "sliceEnd = sliceStart.add(1)\n",
    "selectedCoefs = SWIR1Coefs.arraySlice(0, sliceStart, sliceEnd)\n",
    "Map.addLayer(selectedCoefs, {}, 'Selected SWIR1 coefs')\n",
    "\n",
    "# Retrieve only the intercept coefficient.\n",
    "intercept = selectedCoefs.arraySlice(1, 0, 1).arrayProject([1])\n",
    "intVisParams = {\n",
    "    'palette': palettes.matplotlib.viridis[7],\n",
    "    'min': -6,\n",
    "    'max': 6\n",
    "}\n",
    "Map.addLayer(intercept.arrayFlatten([\n",
    "    ['INTP']\n",
    "]), intVisParams, 'INTP_SWIR1')\n",
    "\n",
    "#  -----------------------------------------------------------------------\n",
    "#  CHECKPOINT\n",
    "#  -----------------------------------------------------------------------\n"
   ]
  },
  {
   "cell_type": "markdown",
   "metadata": {},
   "source": [
    "## Display the interactive map"
   ]
  },
  {
   "cell_type": "code",
   "execution_count": null,
   "metadata": {},
   "outputs": [],
   "source": [
    "Map"
   ]
  }
 ],
 "metadata": {
  "anaconda-cloud": {},
  "kernelspec": {
   "display_name": "Python 3",
   "language": "python",
   "name": "python3"
  },
  "language_info": {
   "codemirror_mode": {
    "name": "ipython",
    "version": 3
   },
   "file_extension": ".py",
   "mimetype": "text/x-python",
   "name": "python",
   "nbconvert_exporter": "python",
   "pygments_lexer": "ipython3",
   "version": "3.6.1"
  }
 },
 "nbformat": 4,
 "nbformat_minor": 4
}
