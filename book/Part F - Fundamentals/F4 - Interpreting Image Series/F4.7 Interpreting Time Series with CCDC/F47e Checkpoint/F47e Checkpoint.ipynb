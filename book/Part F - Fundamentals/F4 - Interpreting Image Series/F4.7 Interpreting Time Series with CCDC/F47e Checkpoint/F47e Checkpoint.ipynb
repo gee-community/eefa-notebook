{
 "cells": [
  {
   "cell_type": "markdown",
   "metadata": {},
   "source": [
    "## Import libraries"
   ]
  },
  {
   "cell_type": "code",
   "execution_count": null,
   "metadata": {},
   "outputs": [],
   "source": [
    "import ee\n",
    "import geemap"
   ]
  },
  {
   "cell_type": "markdown",
   "metadata": {},
   "source": [
    "## Create an interactive map"
   ]
  },
  {
   "cell_type": "code",
   "execution_count": null,
   "metadata": {},
   "outputs": [],
   "source": [
    "Map = geemap.Map(center=[40, -100], zoom=4)"
   ]
  },
  {
   "cell_type": "markdown",
   "metadata": {},
   "source": [
    "## Add Earth Engine Python script"
   ]
  },
  {
   "cell_type": "code",
   "execution_count": null,
   "metadata": {},
   "outputs": [],
   "source": [
    "# Add Earth Engine dataset\n",
    "image = ee.Image(\"USGS/SRTMGL1_003\")\n",
    "\n",
    "#  ~~~~~~~~~~~~~~~~~~~~~~~~~~~~~~~~~~~~~~~~~~~~~~~~~~~~~~~~~~~~~~~~~~~~~~~~~~~~~~~\n",
    "#  Chapter:      F4.7 Interpreting Time Series with CCDC\n",
    "#  Checkpoint:   F47e\n",
    "#  Authors:      Paulo Arévalo, Pontus Olofsson\n",
    "#  ~~~~~~~~~~~~~~~~~~~~~~~~~~~~~~~~~~~~~~~~~~~~~~~~~~~~~~~~~~~~~~~~~~~~~~~~~~~~~~~\n",
    "\n",
    "# Load the required libraries.\n",
    "palettes = require('users/gena/packages:palettes')\n",
    "utils = require(\n",
    "    'users/parevalo_bu/gee-ccdc-tools:ccdcUtilities/api')\n",
    "\n",
    "# Load the results.\n",
    "resultsPath =\n",
    "    'projects/gee-book/assets/F4-7/Rondonia_example_small'\n",
    "ccdResults = ee.Image(resultsPath)\n",
    "Map.centerObject(ccdResults, 10)\n",
    "\n",
    "# Convert a date into fractional years.\n",
    "inputDate = '2005-09-25'\n",
    "dateParams = {\n",
    "    'inputFormat': 3,\n",
    "    'inputDate': inputDate,\n",
    "    'outputFormat': 1\n",
    "}\n",
    "formattedDate = utils.Dates.convertDate(dateParams)\n",
    "\n",
    "# Band names originally used as inputs to the CCD algorithm.\n",
    "BANDS = ['BLUE', 'GREEN', 'RED', 'NIR', 'SWIR1', 'SWIR2']\n",
    "\n",
    "# Names for the time segments to retrieve.\n",
    "SEGS = ['S1', 'S2', 'S3', 'S4', 'S5', 'S6', 'S7', 'S8', 'S9',\n",
    "    'S10'\n",
    "]\n",
    "\n",
    "# Transform CCD results into a multiband image.\n",
    "ccdImage = utils.CCDC.buildCcdImage(ccdResults, SEGS.length,\n",
    "    BANDS)\n",
    "print(ccdImage)\n",
    "\n",
    "# Define bands to select.\n",
    "SELECT_BANDS = ['RED', 'GREEN', 'BLUE', 'NIR']\n",
    "\n",
    "# Define coefficients to select.\n",
    "# This list contains all possible coefficients, and the RMSE\n",
    "SELECT_COEFS = ['INTP', 'SLP', 'RMSE']\n",
    "\n",
    "# Obtain coefficients.\n",
    "coefs = utils.CCDC.getMultiCoefs(\n",
    "    ccdImage, formattedDate, SELECT_BANDS, SELECT_COEFS, True,\n",
    "    SEGS, 'after')\n",
    "print(coefs)\n",
    "\n",
    "# Show a single coefficient.\n",
    "slpVisParams = {\n",
    "    'palette': palettes.matplotlib.viridis[7],\n",
    "    'min': -0.0005,\n",
    "    'max': 0.005\n",
    "}\n",
    "Map.addLayer(coefs.select('RED_SLP'), slpVisParams,\n",
    "    'RED SLOPE 2005-09-25')\n",
    "\n",
    "rmseVisParams = {\n",
    "    'palette': palettes.matplotlib.viridis[7],\n",
    "    'min': 0,\n",
    "    'max': 0.1\n",
    "}\n",
    "Map.addLayer(coefs.select('NIR_RMSE'), rmseVisParams,\n",
    "    'NIR RMSE 2005-09-25')\n",
    "\n",
    "# Show an RGB with three coefficients.\n",
    "rgbVisParams = {\n",
    "    'bands': ['RED_INTP', 'GREEN_INTP', 'BLUE_INTP'],\n",
    "    'min': 0,\n",
    "    'max': 0.1\n",
    "}\n",
    "Map.addLayer(coefs, rgbVisParams, 'RGB 2005-09-25')\n",
    "\n",
    "#  -----------------------------------------------------------------------\n",
    "#  CHECKPOINT\n",
    "#  -----------------------------------------------------------------------\n"
   ]
  },
  {
   "cell_type": "markdown",
   "metadata": {},
   "source": [
    "## Display the interactive map"
   ]
  },
  {
   "cell_type": "code",
   "execution_count": null,
   "metadata": {},
   "outputs": [],
   "source": [
    "Map"
   ]
  }
 ],
 "metadata": {
  "anaconda-cloud": {},
  "kernelspec": {
   "display_name": "Python 3",
   "language": "python",
   "name": "python3"
  },
  "language_info": {
   "codemirror_mode": {
    "name": "ipython",
    "version": 3
   },
   "file_extension": ".py",
   "mimetype": "text/x-python",
   "name": "python",
   "nbconvert_exporter": "python",
   "pygments_lexer": "ipython3",
   "version": "3.6.1"
  }
 },
 "nbformat": 4,
 "nbformat_minor": 4
}
