{
 "cells": [
  {
   "cell_type": "markdown",
   "metadata": {},
   "source": [
    "## Import libraries"
   ]
  },
  {
   "cell_type": "code",
   "execution_count": null,
   "metadata": {},
   "outputs": [],
   "source": [
    "import ee\n",
    "import geemap"
   ]
  },
  {
   "cell_type": "markdown",
   "metadata": {},
   "source": [
    "## Create an interactive map"
   ]
  },
  {
   "cell_type": "code",
   "execution_count": null,
   "metadata": {},
   "outputs": [],
   "source": [
    "Map = geemap.Map(center=[40, -100], zoom=4)"
   ]
  },
  {
   "cell_type": "markdown",
   "metadata": {},
   "source": [
    "## Add Earth Engine Python script"
   ]
  },
  {
   "cell_type": "code",
   "execution_count": null,
   "metadata": {},
   "outputs": [],
   "source": [
    "# Add Earth Engine dataset\n",
    "image = ee.Image(\"USGS/SRTMGL1_003\")\n",
    "\n",
    "#  ~~~~~~~~~~~~~~~~~~~~~~~~~~~~~~~~~~~~~~~~~~~~~~~~~~~~~~~~~~~~~~~~~~~~~~~~~~~~~~~\n",
    "#  Chapter:      F5.1 Raster/Vector Conversions\n",
    "#  Checkpoint:   F51e\n",
    "#  Authors:      Keiko Nomura, Samuel Bowers\n",
    "#  ~~~~~~~~~~~~~~~~~~~~~~~~~~~~~~~~~~~~~~~~~~~~~~~~~~~~~~~~~~~~~~~~~~~~~~~~~~~~~~~\n",
    "\n",
    "#-------------#\n",
    "# Section 2.2 #\n",
    "#-------------#\n",
    "\n",
    "# Load required datasets.\n",
    "gfc = ee.Image('UMD/hansen/global_forest_change_2020_v1_8')\n",
    "wdpa = ee.FeatureCollection('WCMC/WDPA/current/polygons')\n",
    "\n",
    "# Select a single protected area.\n",
    "protectedArea = wdpa.filter(ee.Filter.equals('NAME', 'La Paya'))\n",
    "\n",
    "# Maximum distance in meters is set in the brackets.\n",
    "distance = protectedArea.distance(1000000)\n",
    "\n",
    "Map.addLayer(distance, {\n",
    "    'min': 0,\n",
    "    'max': 20000,\n",
    "    'palette': ['white', 'grey', 'black'],\n",
    "    'opacity': 0.6\n",
    "}, 'Distance')\n",
    "\n",
    "Map.centerObject(protectedArea)\n",
    "\n",
    "# Produce a raster of inside/outside the protected area.\n",
    "\n",
    "def func_azl(feat):\n",
    "    return feat.set('protected', 1)\n",
    "\n",
    "protectedAreaRaster = protectedArea.map(func_azl\n",
    ").reduceToImage(['protected'], ee.Reducer.first())\n",
    "\n",
    ").reduceToImage(['protected'], ee.Reducer.first())\n",
    "\n",
    "Map.addLayer(distance.updateMask(protectedAreaRaster), {\n",
    "    'min': 0,\n",
    "    'max': 20000\n",
    "}, 'Distance inside protected area')\n",
    "\n",
    "Map.addLayer(distance.updateMask(protectedAreaRaster.unmask() \\\n",
    ".Not()), {\n",
    "    'min': 0,\n",
    "    'max': 20000\n",
    "}, 'Distance outside protected area')\n",
    "\n",
    "distanceZones = ee.Image(0) \\\n",
    "    .where(distance.gt(0), 1) \\\n",
    "    .where(distance.gt(1000), 2) \\\n",
    "    .where(distance.gt(3000), 3) \\\n",
    "    .updateMask(distance.lte(5000))\n",
    "\n",
    "Map.addLayer(distanceZones, {}, 'Distance zones')\n",
    "\n",
    "deforestation = gfc.select('loss')\n",
    "deforestation1km = deforestation.updateMask(distanceZones.eq(1))\n",
    "deforestation3km = deforestation.updateMask(distanceZones.lte(2))\n",
    "deforestation5km = deforestation.updateMask(distanceZones.lte(3))\n",
    "\n",
    "Map.addLayer(deforestation1km, {\n",
    "    'min': 0,\n",
    "    'max': 1\n",
    "}, 'Deforestation within a 1km buffer')\n",
    "Map.addLayer(deforestation3km, {\n",
    "    'min': 0,\n",
    "    'max': 1,\n",
    "    'opacity': 0.5\n",
    "}, 'Deforestation within a 3km buffer')\n",
    "Map.addLayer(deforestation5km, {\n",
    "    'min': 0,\n",
    "    'max': 1,\n",
    "    'opacity': 0.5\n",
    "}, 'Deforestation within a 5km buffer')\n",
    "\n",
    "deforestation1kmOutside = deforestation1km \\\n",
    "    .updateMask(protectedAreaRaster.unmask().Not())\n",
    "\n",
    "# Get the value of each pixel in square meters\n",
    "# and divide by 10000 to convert to hectares.\n",
    "deforestation1kmOutsideArea = deforestation1kmOutside.eq(1) \\\n",
    "    .multiply(ee.Image.pixelArea()).divide(10000)\n",
    "\n",
    "# We need to set a larger geometry than the protected area\n",
    "# for the geometry parameter in reduceRegion().\n",
    "deforestationEstimate = deforestation1kmOutsideArea \\\n",
    "    .reduceRegion({\n",
    "        'reducer': ee.Reducer.sum(),\n",
    "        'geometry': protectedArea.geometry().buffer(1000),\n",
    "        'scale': deforestation.projection().nominalScale()\n",
    "    })\n",
    "\n",
    "print('Deforestation within a 1km buffer outside the protected area (ha)',\n",
    "    deforestationEstimate)\n",
    "\n",
    "#  -----------------------------------------------------------------------\n",
    "#  CHECKPOINT\n",
    "#  -----------------------------------------------------------------------"
   ]
  },
  {
   "cell_type": "markdown",
   "metadata": {},
   "source": [
    "## Display the interactive map"
   ]
  },
  {
   "cell_type": "code",
   "execution_count": null,
   "metadata": {},
   "outputs": [],
   "source": [
    "Map"
   ]
  }
 ],
 "metadata": {
  "anaconda-cloud": {},
  "kernelspec": {
   "display_name": "Python 3",
   "language": "python",
   "name": "python3"
  },
  "language_info": {
   "codemirror_mode": {
    "name": "ipython",
    "version": 3
   },
   "file_extension": ".py",
   "mimetype": "text/x-python",
   "name": "python",
   "nbconvert_exporter": "python",
   "pygments_lexer": "ipython3",
   "version": "3.6.1"
  }
 },
 "nbformat": 4,
 "nbformat_minor": 4
}
