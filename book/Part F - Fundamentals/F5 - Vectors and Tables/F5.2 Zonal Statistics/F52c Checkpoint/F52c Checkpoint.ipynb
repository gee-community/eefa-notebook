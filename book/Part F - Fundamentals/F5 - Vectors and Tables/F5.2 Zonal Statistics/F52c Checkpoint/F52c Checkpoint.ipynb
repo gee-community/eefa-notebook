{
 "cells": [
  {
   "cell_type": "markdown",
   "metadata": {},
   "source": [
    "## Import libraries"
   ]
  },
  {
   "cell_type": "code",
   "execution_count": null,
   "metadata": {},
   "outputs": [],
   "source": [
    "import ee\n",
    "import geemap"
   ]
  },
  {
   "cell_type": "markdown",
   "metadata": {},
   "source": [
    "## Create an interactive map"
   ]
  },
  {
   "cell_type": "code",
   "execution_count": null,
   "metadata": {},
   "outputs": [],
   "source": [
    "Map = geemap.Map(center=[40, -100], zoom=4)"
   ]
  },
  {
   "cell_type": "markdown",
   "metadata": {},
   "source": [
    "## Add Earth Engine Python script"
   ]
  },
  {
   "cell_type": "code",
   "execution_count": null,
   "metadata": {},
   "outputs": [],
   "source": [
    "# Add Earth Engine dataset\n",
    "image = ee.Image(\"USGS/SRTMGL1_003\")\n",
    "\n",
    "#  ~~~~~~~~~~~~~~~~~~~~~~~~~~~~~~~~~~~~~~~~~~~~~~~~~~~~~~~~~~~~~~~~~~~~~~~~~~~~~~~\n",
    "#  Chapter:      F5.2 Zonal Statistics\n",
    "#  Checkpoint:   F52c\n",
    "#  Authors:      Sara Winsemius and Justin Braaten\n",
    "#  ~~~~~~~~~~~~~~~~~~~~~~~~~~~~~~~~~~~~~~~~~~~~~~~~~~~~~~~~~~~~~~~~~~~~~~~~~~~~~~~\n",
    "\n",
    "# Copy properties to computed images\n",
    "\n",
    "# Define a Landsat image.\n",
    "img = ee.ImageCollection('LANDSAT/LC08/C02/T1_L2').first()\n",
    "\n",
    "# Print its properties.\n",
    "print('All image properties', img.propertyNames())\n",
    "\n",
    "# Subset the reflectance bands and unscale them.\n",
    "computedImg = img.select('SR_B.').multiply(0.0000275).add(-0.2)\n",
    "\n",
    "# Print the unscaled image's properties.\n",
    "print('Lost original image properties', computedImg.propertyNames())\n",
    "\n",
    "# Subset the reflectance bands and unscale them, keeping selected\n",
    "# source properties.\n",
    "computedImg = img.select('SR_B.').multiply(0.0000275).add(-0.2) \\\n",
    "    .copyProperties(img, ['system:time_start', 'LANDSAT_PRODUCT_ID'])\n",
    "\n",
    "# Print the unscaled image's properties.\n",
    "print('Selected image properties retained', computedImg \\\n",
    ".propertyNames())\n",
    "\n",
    "# Understanding which pixels are included in polygon statistics\n",
    "\n",
    "# Define polygon geometry.\n",
    "geometry = ee.Geometry.Polygon(\n",
    "    [\n",
    "        [\n",
    "            [-118.6019835717645, 37.079867782687884],\n",
    "            [-118.6019835717645, 37.07838698844939],\n",
    "            [-118.60036351751951, 37.07838698844939],\n",
    "            [-118.60036351751951, 37.079867782687884]\n",
    "        ]\n",
    "    ], None, False)\n",
    "\n",
    "# Import the MERIT global elevation dataset.\n",
    "elev = ee.Image('MERIT/DEM/v1_0_3')\n",
    "\n",
    "# Define desired scale and crs for region reduction (for image display too).\n",
    "proj = {\n",
    "    'scale': 90,\n",
    "    'crs': 'EPSG:5070'\n",
    "}\n",
    "\n",
    "# A count reducer will return how many pixel centers are overlapped by the\n",
    "# polygon region.\n",
    "count = elev.select(0).reduceRegion({\n",
    "    'reducer': ee.Reducer.count(),\n",
    "    'geometry': geometry,\n",
    "    'scale': proj.scale,\n",
    "    'crs': proj.crs\n",
    "})\n",
    "print('n pixels in the reduction', count.get('dem'))\n",
    "\n",
    "# Make a feature collection of pixel center points for those that are\n",
    "# included in the reduction.\n",
    "pixels = ee.Image.pixelLonLat().reduceRegion({\n",
    "    'reducer': ee.Reducer.toCollection(['lon', 'lat']),\n",
    "    'geometry': geometry,\n",
    "    'scale': proj.scale,\n",
    "    'crs': proj.crs\n",
    "})\n",
    "pixelsFc = ee.FeatureCollection(pixels.get('features')).map(\n",
    "    def function(f):\n",
    "        return f.setGeometry(ee.Geometry.Point([f.get('lon'), f \\\n",
    "            .get('lat')\n",
    "        ]))\n",
    "    )\n",
    "\n",
    "# Display layers on the map.\n",
    "Map.centerObject(geometry, 18)\n",
    "Map.addLayer(\n",
    "    elev.reproject({\n",
    "        'crs': proj.crs,\n",
    "        'scale': proj.scale\n",
    "    }),\n",
    "    {\n",
    "        'min': 2500,\n",
    "        'max': 3000,\n",
    "        'palette': ['blue', 'white', 'red']\n",
    "    }, 'Image')\n",
    "Map.addLayer(geometry, {\n",
    "    'color': 'white'\n",
    "}, 'Geometry')\n",
    "Map.addLayer(pixelsFc, {\n",
    "    'color': 'purple'\n",
    "}, 'Pixels in reduction')\n",
    "\n",
    "\n",
    "\n",
    "#  -----------------------------------------------------------------------\n",
    "#  CHECKPOINT\n",
    "#  -----------------------------------------------------------------------\n",
    "\n",
    "\n",
    "\n"
   ]
  },
  {
   "cell_type": "markdown",
   "metadata": {},
   "source": [
    "## Display the interactive map"
   ]
  },
  {
   "cell_type": "code",
   "execution_count": null,
   "metadata": {},
   "outputs": [],
   "source": [
    "Map"
   ]
  }
 ],
 "metadata": {
  "anaconda-cloud": {},
  "kernelspec": {
   "display_name": "Python 3",
   "language": "python",
   "name": "python3"
  },
  "language_info": {
   "codemirror_mode": {
    "name": "ipython",
    "version": 3
   },
   "file_extension": ".py",
   "mimetype": "text/x-python",
   "name": "python",
   "nbconvert_exporter": "python",
   "pygments_lexer": "ipython3",
   "version": "3.6.1"
  }
 },
 "nbformat": 4,
 "nbformat_minor": 4
}
