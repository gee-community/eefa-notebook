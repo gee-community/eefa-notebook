{
 "cells": [
  {
   "cell_type": "markdown",
   "metadata": {},
   "source": [
    "## Import libraries"
   ]
  },
  {
   "cell_type": "code",
   "execution_count": null,
   "metadata": {},
   "outputs": [],
   "source": [
    "import ee\n",
    "import geemap"
   ]
  },
  {
   "cell_type": "markdown",
   "metadata": {},
   "source": [
    "## Create an interactive map"
   ]
  },
  {
   "cell_type": "code",
   "execution_count": null,
   "metadata": {},
   "outputs": [],
   "source": [
    "Map = geemap.Map(center=[40, -100], zoom=4)"
   ]
  },
  {
   "cell_type": "markdown",
   "metadata": {},
   "source": [
    "## Add Earth Engine Python script"
   ]
  },
  {
   "cell_type": "code",
   "execution_count": null,
   "metadata": {},
   "outputs": [],
   "source": [
    "# Add Earth Engine dataset\n",
    "image = ee.Image(\"USGS/SRTMGL1_003\")\n",
    "\n",
    "#  ~~~~~~~~~~~~~~~~~~~~~~~~~~~~~~~~~~~~~~~~~~~~~~~~~~~~~~~~~~~~~~~~~~~~~~~\n",
    "#  Chapter:      F1.1 Exploring images\n",
    "#  Checkpoint:   F11c\n",
    "#  Author:       Jeff Howarth\n",
    "#  ~~~~~~~~~~~~~~~~~~~~~~~~~~~~~~~~~~~~~~~~~~~~~~~~~~~~~~~~~~~~~~~~~~~~~~~\n",
    "\n",
    "# Load an image from its Earth Engine ID.\n",
    "first_image = ee.Image(\"LANDSAT/LT05/C02/T1_L2/LT05_118038_20000606\")\n",
    "\n",
    "# Inspect the image object in the Console.\n",
    "print(first_image)\n",
    "\n",
    "# Display band 1 of the image as the first map layer.\n",
    "Map.addLayer(\n",
    "    first_image,  #  dataset to display\n",
    "    {\n",
    "        \"bands\": [\"SR_B1\"],  #  band to display\n",
    "        \"min\": 8000,  #  display range\n",
    "        \"max\": 17000,\n",
    "    },\n",
    "    \"Layer 1\",  #  name to show in Layer Manager\n",
    ")\n",
    "\n",
    "# Display band 2 as the second map layer.\n",
    "Map.addLayer(\n",
    "    first_image,\n",
    "    {\"bands\": [\"SR_B2\"], \"min\": 8000, \"max\": 17000},\n",
    "    \"Layer 2\",\n",
    "    0,  #  shown\n",
    "    1,  #  opacity\n",
    ")\n",
    "\n",
    "# Display band 3 as the third map layer.\n",
    "Map.addLayer(\n",
    "    first_image,\n",
    "    {\"bands\": [\"SR_B3\"], \"min\": 8000, \"max\": 17000},\n",
    "    \"Layer 3\",\n",
    "    1,  #  shown\n",
    "    0,  #  opacity\n",
    ")\n",
    "\n",
    "#  -----------------------------------------------------------------------\n",
    "#  CHECKPOINT\n",
    "#  -----------------------------------------------------------------------\n",
    "\n",
    "# Add a natural color layer by using the first three sensor bands for RGB.\n",
    "Map.addLayer(\n",
    "    first_image,\n",
    "    {\"bands\": [\"SR_B3\", \"SR_B2\", \"SR_B1\"], \"min\": 8000, \"max\": 17000},\n",
    "    \"Natural Color\",\n",
    ")\n",
    "\n",
    "# Add a NIR False-color layer using NIR, red, green sensor bands for RGB.\n",
    "Map.addLayer(\n",
    "    first_image,\n",
    "    {\"bands\": [\"SR_B4\", \"SR_B3\", \"SR_B2\"], \"min\": 8000, \"max\": 17000},\n",
    "    \"False Color\",\n",
    ")\n",
    "\n",
    "# Add a SWIR False-color layer using SWIR, NIR, green sensor bands for RGB.\n",
    "Map.addLayer(\n",
    "    first_image,\n",
    "    {\"bands\": [\"SR_B5\", \"SR_B4\", \"SR_B2\"], \"min\": 8000, \"max\": 17000},\n",
    "    \"Short wave False color\",\n",
    ")\n",
    "\n",
    "#  -----------------------------------------------------------------------\n",
    "#  CHECKPOINT\n",
    "#  -----------------------------------------------------------------------\n",
    "\n",
    "# Load a 1993 nighttime lights dataset from its Earth Engine ID.\n",
    "lights93 = ee.Image(\"NOAA/DMSP-OLS/NIGHTTIME_LIGHTS/F101993\")\n",
    "\n",
    "# Print image metadata to the Console.\n",
    "print(\"Nighttime lights\", lights93)\n",
    "\n",
    "# Display the 'stable_lights' band as a map layer.\n",
    "Map.addLayer(lights93, {\"bands\": [\"stable_lights\"], \"min\": 0, \"max\": 63}, \"Lights\")\n",
    "\n",
    "# Construct an image of stable lights for 2003.\n",
    "lights03 = (\n",
    "    ee.Image(\"NOAA/DMSP-OLS/NIGHTTIME_LIGHTS/F152003\")\n",
    "    .select(\"stable_lights\")\n",
    "    .rename(\"2003\")\n",
    ")\n",
    "\n",
    "# Construct an image of stable lights for 2013.\n",
    "lights13 = (\n",
    "    ee.Image(\"NOAA/DMSP-OLS/NIGHTTIME_LIGHTS/F182013\")\n",
    "    .select(\"stable_lights\")\n",
    "    .rename(\"2013\")\n",
    ")\n",
    "\n",
    "# Construct an image with three bands,\n",
    "# where each band represents stable lights for one year.\n",
    "\n",
    "changeImage = lights13.addBands(lights03).addBands(\n",
    "    lights93.select(\"stable_lights\").rename(\"1993\")\n",
    ")\n",
    "\n",
    "# Print image metadata to the Console.\n",
    "print(\"change image\", changeImage)\n",
    "\n",
    "# Add an RGB composite layer to the Map.\n",
    "Map.addLayer(changeImage, {\"min\": 0, \"max\": 63}, \"Change composite\")\n",
    "\n",
    "#  -----------------------------------------------------------------------\n",
    "#  CHECKPOINT\n",
    "#  -----------------------------------------------------------------------"
   ]
  },
  {
   "cell_type": "markdown",
   "metadata": {},
   "source": [
    "## Display the interactive map"
   ]
  },
  {
   "cell_type": "code",
   "execution_count": null,
   "metadata": {},
   "outputs": [],
   "source": [
    "Map"
   ]
  }
 ],
 "metadata": {
  "anaconda-cloud": {},
  "kernelspec": {
   "display_name": "Python 3",
   "language": "python",
   "name": "python3"
  },
  "language_info": {
   "codemirror_mode": {
    "name": "ipython",
    "version": 3
   },
   "file_extension": ".py",
   "mimetype": "text/x-python",
   "name": "python",
   "nbconvert_exporter": "python",
   "pygments_lexer": "ipython3",
   "version": "3.6.1"
  }
 },
 "nbformat": 4,
 "nbformat_minor": 4
}
