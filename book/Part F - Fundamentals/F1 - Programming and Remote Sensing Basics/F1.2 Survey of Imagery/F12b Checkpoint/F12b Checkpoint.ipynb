{
 "cells": [
  {
   "cell_type": "markdown",
   "metadata": {},
   "source": [
    "## Import libraries"
   ]
  },
  {
   "cell_type": "code",
   "execution_count": null,
   "metadata": {},
   "outputs": [],
   "source": [
    "import ee\n",
    "import geemap"
   ]
  },
  {
   "cell_type": "markdown",
   "metadata": {},
   "source": [
    "## Create an interactive map"
   ]
  },
  {
   "cell_type": "code",
   "execution_count": null,
   "metadata": {},
   "outputs": [],
   "source": [
    "Map = geemap.Map(center=[40, -100], zoom=4)"
   ]
  },
  {
   "cell_type": "markdown",
   "metadata": {},
   "source": [
    "## Add Earth Engine Python script"
   ]
  },
  {
   "cell_type": "code",
   "execution_count": null,
   "metadata": {},
   "outputs": [],
   "source": [
    "# Add Earth Engine dataset\n",
    "image = ee.Image(\"USGS/SRTMGL1_003\")\n",
    "\n",
    "#  ~~~~~~~~~~~~~~~~~~~~~~~~~~~~~~~~~~~~~~~~~~~~~~~~~~~~~~~~~~~~~~~~~~~~~~~\n",
    "#  Chapter:      F1.2 Survey of Raster Datasets\n",
    "#  Checkpoint:   F12b\n",
    "#  Authors:      Andréa, Karen, Nick Clinton, David Saah\n",
    "#  ~~~~~~~~~~~~~~~~~~~~~~~~~~~~~~~~~~~~~~~~~~~~~~~~~~~~~~~~~~~~~~~~~~~~~~~\n",
    "\n",
    "\n",
    "##/\n",
    "# View an Image Collection\n",
    "##/\n",
    "\n",
    "# Import the Landsat 8 Raw Collection.\n",
    "landsat8 = ee.ImageCollection(\"LANDSAT/LC08/C02/T1\")\n",
    "\n",
    "# Print the size of the Landsat 8 dataset.\n",
    "print(\"The size of the Landsat 8 image collection is:\", landsat8.size())\n",
    "\n",
    "# Try to print the image collection.\n",
    "# WARNING! Running the print code immediately below produces an error because\n",
    "# the Console can not print more than 5000 elements.\n",
    "# print(landsat8)\n",
    "\n",
    "# Add the Landsat 8 dataset to the map as a mosaic. The collection is\n",
    "# already chronologically sorted, so the most recent pixel is displayed.\n",
    "# Map.addLayer(landsat8,\n",
    "#     {\n",
    "#         bands: ['B4', 'B3', 'B2'],\n",
    "#         min: 5000,\n",
    "#         max: 15000\n",
    "#     },\n",
    "#     'Landsat 8 Image Collection')\n",
    "\n",
    "#  -----------------------------------------------------------------------\n",
    "#  CHECKPOINT\n",
    "#  -----------------------------------------------------------------------\n",
    "\n",
    "##/\n",
    "# Filter an Image Collection\n",
    "##/\n",
    "\n",
    "# Filter the collection by date.\n",
    "landsatWinter = landsat8.filterDate(\"2020-12-01\", \"2021-03-01\")\n",
    "\n",
    "Map.addLayer(\n",
    "    landsatWinter,\n",
    "    {\"bands\": [\"B4\", \"B3\", \"B2\"], \"min\": 5000, \"max\": 15000},\n",
    "    \"Winter Landsat 8\",\n",
    ")\n",
    "\n",
    "print(\"The size of the Winter Landsat 8 image collection is:\", landsatWinter.size())\n",
    "\n",
    "# Create an Earth Engine Point object.\n",
    "pointMN = ee.Geometry.Point([-93.79, 45.05])\n",
    "\n",
    "# Filter the collection by location using the point.\n",
    "landsatMN = landsatWinter.filterBounds(pointMN)\n",
    "Map.addLayer(\n",
    "    landsatMN, {\"bands\": [\"B4\", \"B3\", \"B2\"], \"min\": 5000, \"max\": 15000}, \"MN Landsat 8\"\n",
    ")\n",
    "\n",
    "# Add the point to the map to see where it is.\n",
    "Map.addLayer(pointMN, {}, \"Point MN\")\n",
    "\n",
    "print(\n",
    "    \"The size of the Minneapolis Winter Landsat 8 image collection is: \",\n",
    "    landsatMN.size(),\n",
    ")\n",
    "\n",
    "# Select the first image in the filtered collection.\n",
    "landsatFirst = landsatMN.first()\n",
    "\n",
    "# Display the first image in the filtered collection.\n",
    "Map.centerObject(landsatFirst, 7)\n",
    "Map.addLayer(\n",
    "    landsatFirst,\n",
    "    {\"bands\": [\"B4\", \"B3\", \"B2\"], \"min\": 5000, \"max\": 15000},\n",
    "    \"First Landsat 8\",\n",
    ")\n",
    "\n",
    "#  -----------------------------------------------------------------------\n",
    "#  CHECKPOINT\n",
    "#  -----------------------------------------------------------------------"
   ]
  },
  {
   "cell_type": "markdown",
   "metadata": {},
   "source": [
    "## Display the interactive map"
   ]
  },
  {
   "cell_type": "code",
   "execution_count": null,
   "metadata": {},
   "outputs": [],
   "source": [
    "Map"
   ]
  }
 ],
 "metadata": {
  "anaconda-cloud": {},
  "kernelspec": {
   "display_name": "Python 3",
   "language": "python",
   "name": "python3"
  },
  "language_info": {
   "codemirror_mode": {
    "name": "ipython",
    "version": 3
   },
   "file_extension": ".py",
   "mimetype": "text/x-python",
   "name": "python",
   "nbconvert_exporter": "python",
   "pygments_lexer": "ipython3",
   "version": "3.6.1"
  }
 },
 "nbformat": 4,
 "nbformat_minor": 4
}
