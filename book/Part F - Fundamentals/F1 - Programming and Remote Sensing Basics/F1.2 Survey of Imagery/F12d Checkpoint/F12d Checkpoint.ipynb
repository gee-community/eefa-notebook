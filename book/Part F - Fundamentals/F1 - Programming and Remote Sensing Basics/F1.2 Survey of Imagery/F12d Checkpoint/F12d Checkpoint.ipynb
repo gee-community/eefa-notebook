{
 "cells": [
  {
   "cell_type": "markdown",
   "metadata": {},
   "source": [
    "## Import libraries"
   ]
  },
  {
   "cell_type": "code",
   "execution_count": null,
   "metadata": {},
   "outputs": [],
   "source": [
    "import ee\n",
    "import geemap"
   ]
  },
  {
   "cell_type": "markdown",
   "metadata": {},
   "source": [
    "## Create an interactive map"
   ]
  },
  {
   "cell_type": "code",
   "execution_count": null,
   "metadata": {},
   "outputs": [],
   "source": [
    "Map = geemap.Map(center=[40, -100], zoom=4)"
   ]
  },
  {
   "cell_type": "markdown",
   "metadata": {},
   "source": [
    "## Add Earth Engine Python script"
   ]
  },
  {
   "cell_type": "code",
   "execution_count": null,
   "metadata": {},
   "outputs": [],
   "source": [
    "# Add Earth Engine dataset\n",
    "image = ee.Image(\"USGS/SRTMGL1_003\")\n",
    "\n",
    "#  ~~~~~~~~~~~~~~~~~~~~~~~~~~~~~~~~~~~~~~~~~~~~~~~~~~~~~~~~~~~~~~~~~~~~~~~\n",
    "#  Chapter:      F1.2 Survey of Raster Datasets\n",
    "#  Checkpoint:   F12d\n",
    "#  Authors:      Andréa, Karen, Nick Clinton, David Saah\n",
    "#  ~~~~~~~~~~~~~~~~~~~~~~~~~~~~~~~~~~~~~~~~~~~~~~~~~~~~~~~~~~~~~~~~~~~~~~~\n",
    "\n",
    "##/\n",
    "# Collections of single images - Landsat 8 Surface Reflectance\n",
    "##/\n",
    "\n",
    "# Create and Earth Engine Point object over San Francisco.\n",
    "pointSF = ee.Geometry.Point([-122.44, 37.76])\n",
    "\n",
    "# Import the Landsat 8 Surface Reflectance collection.\n",
    "landsat8SR = ee.ImageCollection(\"LANDSAT/LC08/C02/T1_L2\")\n",
    "\n",
    "# Filter the collection and select the first image.\n",
    "landsat8SRimage = (\n",
    "    landsat8SR.filterDate(\"2014-03-18\", \"2014-03-19\").filterBounds(pointSF).first()\n",
    ")\n",
    "\n",
    "\n",
    "print(\"Landsat 8 Surface Reflectance image\", landsat8SRimage)\n",
    "\n",
    "# Center map to the first image.\n",
    "Map.centerObject(landsat8SRimage, 8)\n",
    "\n",
    "# Add first image to the map.\n",
    "Map.addLayer(\n",
    "    landsat8SRimage,\n",
    "    {\"bands\": [\"SR_B4\", \"SR_B3\", \"SR_B2\"], \"min\": 7000, \"max\": 13000},\n",
    "    \"Landsat 8 SR\",\n",
    ")\n",
    "\n",
    "#  -----------------------------------------------------------------------\n",
    "#  CHECKPOINT\n",
    "#  -----------------------------------------------------------------------\n",
    "\n",
    "##/\n",
    "# Pre-made composites\n",
    "##/\n",
    "\n",
    "# Import a MODIS dataset of daily BRDF-corrected reflectance.\n",
    "modisDaily = ee.ImageCollection(\"MODIS/006/MCD43A4\")\n",
    "\n",
    "# Filter the dataset to a recent date.\n",
    "modisDailyRecent = modisDaily.filterDate(\"2021-11-01\")\n",
    "\n",
    "# Add the dataset to the map.\n",
    "modisVis = {\n",
    "    \"bands\": [\n",
    "        \"Nadir_Reflectance_Band1\",\n",
    "        \"Nadir_Reflectance_Band4\",\n",
    "        \"Nadir_Reflectance_Band3\",\n",
    "    ],\n",
    "    \"min\": 0,\n",
    "    \"max\": 4000,\n",
    "}\n",
    "Map.addLayer(modisDailyRecent, modisVis, \"MODIS Daily Composite\")\n",
    "\n",
    "\n",
    "# Import the MODIS monthly burned areas dataset.\n",
    "modisMonthly = ee.ImageCollection(\"MODIS/006/MCD64A1\")\n",
    "\n",
    "# Filter the dataset to a recent month during fire season.\n",
    "modisMonthlyRecent = modisMonthly.filterDate(\"2021-08-01\")\n",
    "\n",
    "# Add the dataset to the map.\n",
    "Map.addLayer(modisMonthlyRecent, {}, \"MODIS Monthly Burn\")\n",
    "\n",
    "#  -----------------------------------------------------------------------\n",
    "#  CHECKPOINT\n",
    "#  -----------------------------------------------------------------------"
   ]
  },
  {
   "cell_type": "markdown",
   "metadata": {},
   "source": [
    "## Display the interactive map"
   ]
  },
  {
   "cell_type": "code",
   "execution_count": null,
   "metadata": {},
   "outputs": [],
   "source": [
    "Map"
   ]
  }
 ],
 "metadata": {
  "anaconda-cloud": {},
  "kernelspec": {
   "display_name": "Python 3",
   "language": "python",
   "name": "python3"
  },
  "language_info": {
   "codemirror_mode": {
    "name": "ipython",
    "version": 3
   },
   "file_extension": ".py",
   "mimetype": "text/x-python",
   "name": "python",
   "nbconvert_exporter": "python",
   "pygments_lexer": "ipython3",
   "version": "3.6.1"
  }
 },
 "nbformat": 4,
 "nbformat_minor": 4
}
