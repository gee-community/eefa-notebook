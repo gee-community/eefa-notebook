{
 "cells": [
  {
   "cell_type": "markdown",
   "metadata": {},
   "source": [
    "## Import libraries"
   ]
  },
  {
   "cell_type": "code",
   "execution_count": null,
   "metadata": {},
   "outputs": [],
   "source": [
    "import ee\n",
    "import geemap"
   ]
  },
  {
   "cell_type": "markdown",
   "metadata": {},
   "source": [
    "## Create an interactive map"
   ]
  },
  {
   "cell_type": "code",
   "execution_count": null,
   "metadata": {},
   "outputs": [],
   "source": [
    "Map = geemap.Map(center=[40, -100], zoom=4)"
   ]
  },
  {
   "cell_type": "markdown",
   "metadata": {},
   "source": [
    "## Add Earth Engine Python script"
   ]
  },
  {
   "cell_type": "code",
   "execution_count": null,
   "metadata": {},
   "outputs": [],
   "source": [
    "# Add Earth Engine dataset\n",
    "image = ee.Image(\"USGS/SRTMGL1_003\")\n",
    "\n",
    "#  ~~~~~~~~~~~~~~~~~~~~~~~~~~~~~~~~~~~~~~~~~~~~~~~~~~~~~~~~~~~~~~~~~~~~~~~\n",
    "#  Chapter:      F1.2 Survey of Raster Datasets\n",
    "#  Checkpoint:   F12f\n",
    "#  Authors:      Andréa, Karen, Nick Clinton, David Saah\n",
    "#  ~~~~~~~~~~~~~~~~~~~~~~~~~~~~~~~~~~~~~~~~~~~~~~~~~~~~~~~~~~~~~~~~~~~~~~~\n",
    "\n",
    "##/\n",
    "# Pre-classified Land Use Land Cover\n",
    "##/\n",
    "\n",
    "# Import the ESA WorldCover dataset.\n",
    "worldCover = ee.ImageCollection(\"ESA/WorldCover/v100\").first()\n",
    "\n",
    "# Center the Map.\n",
    "Map.centerObject(worldCover, 3)\n",
    "\n",
    "# Add the worldCover layer to the map.\n",
    "Map.addLayer(worldCover, {\"bands\": [\"Map\"]}, \"WorldCover\")\n",
    "\n",
    "# Import the Hansen Global Forest Change dataset.\n",
    "globalForest = ee.Image(\"UMD/hansen/global_forest_change_2020_v1_8\")\n",
    "\n",
    "# Create a visualization for tree cover in 2000.\n",
    "treeCoverViz = {\n",
    "    \"bands\": [\"treecover2000\"],\n",
    "    \"min\": 0,\n",
    "    \"max\": 100,\n",
    "    \"palette\": [\"black\", \"green\"],\n",
    "}\n",
    "\n",
    "# Add the 2000 tree cover image to the map.\n",
    "Map.addLayer(globalForest, treeCoverViz, \"Hansen 2000 Tree Cover\")\n",
    "\n",
    "# Create a visualization for the year of tree loss over the past 20 years.\n",
    "treeLossYearViz = {\n",
    "    \"bands\": [\"lossyear\"],\n",
    "    \"min\": 0,\n",
    "    \"max\": 20,\n",
    "    \"palette\": [\"yellow\", \"red\"],\n",
    "}\n",
    "\n",
    "# Add the 2000-2020 tree cover loss image to the map.\n",
    "Map.addLayer(globalForest, treeLossYearViz, \"2000-2020 Year of Loss\")\n",
    "\n",
    "#  -----------------------------------------------------------------------\n",
    "#  CHECKPOINT\n",
    "#  -----------------------------------------------------------------------"
   ]
  },
  {
   "cell_type": "markdown",
   "metadata": {},
   "source": [
    "## Display the interactive map"
   ]
  },
  {
   "cell_type": "code",
   "execution_count": null,
   "metadata": {},
   "outputs": [],
   "source": [
    "Map"
   ]
  }
 ],
 "metadata": {
  "anaconda-cloud": {},
  "kernelspec": {
   "display_name": "Python 3",
   "language": "python",
   "name": "python3"
  },
  "language_info": {
   "codemirror_mode": {
    "name": "ipython",
    "version": 3
   },
   "file_extension": ".py",
   "mimetype": "text/x-python",
   "name": "python",
   "nbconvert_exporter": "python",
   "pygments_lexer": "ipython3",
   "version": "3.6.1"
  }
 },
 "nbformat": 4,
 "nbformat_minor": 4
}
