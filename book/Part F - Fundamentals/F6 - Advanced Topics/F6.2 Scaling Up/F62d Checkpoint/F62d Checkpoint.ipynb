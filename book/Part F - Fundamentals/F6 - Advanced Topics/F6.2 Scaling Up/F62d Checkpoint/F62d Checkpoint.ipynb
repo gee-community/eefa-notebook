{
 "cells": [
  {
   "cell_type": "markdown",
   "metadata": {},
   "source": [
    "## Import libraries"
   ]
  },
  {
   "cell_type": "code",
   "execution_count": null,
   "metadata": {},
   "outputs": [],
   "source": [
    "import ee\n",
    "import geemap"
   ]
  },
  {
   "cell_type": "markdown",
   "metadata": {},
   "source": [
    "## Create an interactive map"
   ]
  },
  {
   "cell_type": "code",
   "execution_count": null,
   "metadata": {},
   "outputs": [],
   "source": [
    "Map = geemap.Map(center=[40, -100], zoom=4)"
   ]
  },
  {
   "cell_type": "markdown",
   "metadata": {},
   "source": [
    "## Add Earth Engine Python script"
   ]
  },
  {
   "cell_type": "code",
   "execution_count": null,
   "metadata": {},
   "outputs": [],
   "source": [
    "# Add Earth Engine dataset\n",
    "image = ee.Image(\"USGS/SRTMGL1_003\")\n",
    "\n",
    "#  ~~~~~~~~~~~~~~~~~~~~~~~~~~~~~~~~~~~~~~~~~~~~~~~~~~~~~~~~~~~~~~~~~~~~~~~~~~~~~~~\n",
    "#  Chapter:      F6.2 Scaling Up in Earth Engine\n",
    "#  Checkpoint:   F62d\n",
    "#  Authors:      Jillian M. Deines, Stefania Di Tommaso, Nicholas Clinton, Noel Gorelick\n",
    "#  ~~~~~~~~~~~~~~~~~~~~~~~~~~~~~~~~~~~~~~~~~~~~~~~~~~~~~~~~~~~~~~~~~~~~~~~~~~~~~~~\n",
    "\n",
    "# Specify helper functions.\n",
    "s2mask_tools = require(\n",
    "    \"projects/gee-edu/book:Part F - Fundamentals/F6 - Advanced Topics/F6.2 Scaling Up/modules/s2cloudmask.js\"\n",
    ")\n",
    "\n",
    "# Set the Region of Interest: Washington, USA.\n",
    "roi = ee.FeatureCollection(\"TIGER/2018/States\").filter(\n",
    "    ee.Filter.equals(\"NAME\", \"Washington\")\n",
    ")\n",
    "\n",
    "# Specify grid size in projection, x and y units (based on projection).\n",
    "projection = \"EPSG:4326\"\n",
    "dx = 2.5\n",
    "dy = 1.5\n",
    "\n",
    "# Dates over which to create a median composite.\n",
    "start = ee.Date(\"2019-03-01\")\n",
    "end = ee.Date(\"2019-09-01\")\n",
    "\n",
    "# Make grid and visualize.\n",
    "proj = ee.Projection(projection).scale(dx, dy)\n",
    "grid = roi.geometry().coveringGrid(proj)\n",
    "\n",
    "Map.addLayer(roi, {}, \"roi\")\n",
    "Map.addLayer(grid, {}, \"grid\")\n",
    "\n",
    "# Export info.\n",
    "assetCollection = \"path/to/your/asset/s2_composite_WA\"\n",
    "imageBaseName = \"S2_median_\"\n",
    "\n",
    "# Get a list based on grid number.\n",
    "gridSize = grid.size().getInfo()\n",
    "gridList = grid.toList(gridSize)\n",
    "\n",
    "# In each grid cell, export a composite\n",
    "for i in range(0, gridSize, 1):\n",
    "\n",
    "    # Extract grid polygon and filter S2 datasets for this region.\n",
    "    gridCell = ee.Feature(gridList.get(i)).geometry()\n",
    "\n",
    "    s2Sr = (\n",
    "        ee.ImageCollection(\"COPERNICUS/S2_SR\")\n",
    "        .filterDate(start, end)\n",
    "        .filterBounds(gridCell)\n",
    "        .select([\"B2\", \"B3\", \"B4\", \"B5\"])\n",
    "    )\n",
    "\n",
    "    s2 = (\n",
    "        ee.ImageCollection(\"COPERNICUS/S2\")\n",
    "        .filterDate(start, end)\n",
    "        .filterBounds(gridCell)\n",
    "        .select([\"B7\", \"B8\", \"B8A\", \"B10\"])\n",
    "    )\n",
    "\n",
    "    s2c = (\n",
    "        ee.ImageCollection(\"COPERNICUS/S2_CLOUD_PROBABILITY\")\n",
    "        .filterDate(start, end)\n",
    "        .filterBounds(gridCell)\n",
    "    )\n",
    "\n",
    "    # Apply the cloud mask.\n",
    "    withCloudProbability = s2mask_tools.indexJoin(s2Sr, s2c, \"cloud_probability\")\n",
    "    withS2L1C = s2mask_tools.indexJoin(withCloudProbability, s2, \"l1c\")\n",
    "    masked = ee.ImageCollection(withS2L1C.map(s2mask_tools.maskImage))\n",
    "\n",
    "    # Generate a median composite and export.\n",
    "    median = masked.reduce(ee.Reducer.median(), 8)\n",
    "\n",
    "    # Export.\n",
    "    imagename = imageBaseName + \"tile\" + i\n",
    "    Export.image.toAsset(\n",
    "        {\n",
    "            \"image\": median,\n",
    "            \"description\": imagename,\n",
    "            \"assetId\": assetCollection + \"/\" + imagename,\n",
    "            \"scale\": 10,\n",
    "            \"region\": gridCell,\n",
    "            \"maxPixels\": 1e13,\n",
    "        }\n",
    "    )\n",
    "\n",
    "\n",
    "#  -----------------------------------------------------------------------\n",
    "#  CHECKPOINT\n",
    "#  -----------------------------------------------------------------------"
   ]
  },
  {
   "cell_type": "markdown",
   "metadata": {},
   "source": [
    "## Display the interactive map"
   ]
  },
  {
   "cell_type": "code",
   "execution_count": null,
   "metadata": {},
   "outputs": [],
   "source": [
    "Map"
   ]
  }
 ],
 "metadata": {
  "anaconda-cloud": {},
  "kernelspec": {
   "display_name": "Python 3",
   "language": "python",
   "name": "python3"
  },
  "language_info": {
   "codemirror_mode": {
    "name": "ipython",
    "version": 3
   },
   "file_extension": ".py",
   "mimetype": "text/x-python",
   "name": "python",
   "nbconvert_exporter": "python",
   "pygments_lexer": "ipython3",
   "version": "3.6.1"
  }
 },
 "nbformat": 4,
 "nbformat_minor": 4
}
