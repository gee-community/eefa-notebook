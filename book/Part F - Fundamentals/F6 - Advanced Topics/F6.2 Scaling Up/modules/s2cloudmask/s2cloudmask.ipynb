{
 "cells": [
  {
   "cell_type": "markdown",
   "metadata": {},
   "source": [
    "## Import libraries"
   ]
  },
  {
   "cell_type": "code",
   "execution_count": null,
   "metadata": {},
   "outputs": [],
   "source": [
    "import ee\n",
    "import geemap"
   ]
  },
  {
   "cell_type": "markdown",
   "metadata": {},
   "source": [
    "## Create an interactive map"
   ]
  },
  {
   "cell_type": "code",
   "execution_count": null,
   "metadata": {},
   "outputs": [],
   "source": [
    "Map = geemap.Map(center=[40, -100], zoom=4)"
   ]
  },
  {
   "cell_type": "markdown",
   "metadata": {},
   "source": [
    "## Add Earth Engine Python script"
   ]
  },
  {
   "cell_type": "code",
   "execution_count": null,
   "metadata": {},
   "outputs": [],
   "source": [
    "# Add Earth Engine dataset\n",
    "image = ee.Image(\"USGS/SRTMGL1_003\")\n",
    "\n",
    "# Functions for implementing a Sentinel II cloud mask.\n",
    "\n",
    "# Join two collections on their 'system:index' property.\n",
    "# The propertyName parameter is the name of the property\n",
    "# that references the joined image.\n",
    "def indexJoin(collectionA, collectionB, propertyName):\n",
    "  joined = ee.ImageCollection(ee.Join.saveFirst(propertyName).apply({\n",
    "    'primary': collectionA,\n",
    "    'secondary': collectionB,\n",
    "    'condition': ee.Filter.equals({\n",
    "      'leftField': 'system:index',\n",
    "      'rightField': 'system:index'})\n",
    "  }))\n",
    "  # Merge the bands of the joined image.\n",
    "\n",
    "def func_oxa(image):\n",
    "    return image.addBands(ee.Image(image.get(propertyName)))\n",
    "\n",
    "  return joined.map(func_oxa)\n",
    "\n",
    "\n",
    "\n",
    "\n",
    "\n",
    "# Aggressively mask clouds and shadows.\n",
    "def maskImage(image):\n",
    "  # Compute the cloud displacement index from the L1C bands.\n",
    "  cdi = ee.Algorithms.Sentinel2.CDI(image)\n",
    "  s2c = image.select('probability')\n",
    "  cirrus = image.select('B10').multiply(0.0001)\n",
    "\n",
    "  # Assume low-to-mid atmospheric clouds to be pixels where probability\n",
    "  # is greater than 65%, and CDI is less than -0.5. For higher atmosphere\n",
    "  # cirrus clouds, assume the cirrus band is greater than 0.01.\n",
    "  # The final cloud mask is one or both of these conditions.\n",
    "  isCloud = s2c.gt(65).And(cdi.lt(-0.5)).Or(cirrus.gt(0.01))\n",
    "\n",
    "  # Reproject is required to perform spatial operations at 20m scale.\n",
    "  # 20m scale is for speed, and assumes clouds don't require 10m precision.\n",
    "  isCloud = isCloud.focal_min(3).focal_max(16)\n",
    "  isCloud = isCloud.reproject({'crs': cdi.projection(), 'scale': 20})\n",
    "\n",
    "  # Project shadows from clouds we found in the last step. This assumes we're working in\n",
    "  # a UTM projection.\n",
    "  shadowAzimuth = ee.Number(90) \\\n",
    "      .subtract(ee.Number(image.get('MEAN_SOLAR_AZIMUTH_ANGLE')))\n",
    "\n",
    "  # With the following reproject, the shadows are projected 5km.\n",
    "  isCloud = isCloud.directionalDistanceTransform(shadowAzimuth, 50)\n",
    "  isCloud = isCloud.reproject({'crs': cdi.projection(), 'scale': 100})\n",
    "\n",
    "  isCloud = isCloud.select('distance').mask()\n",
    "  return image.select('B2', 'B3', 'B4').updateMask(isCloud.Not())\n",
    "\n",
    "\n",
    "exports.maskImage = maskImage\n",
    "exports.indexJoin = indexJoin\n",
    "\n",
    "# LGTM (nclinton)"
   ]
  },
  {
   "cell_type": "markdown",
   "metadata": {},
   "source": [
    "## Display the interactive map"
   ]
  },
  {
   "cell_type": "code",
   "execution_count": null,
   "metadata": {},
   "outputs": [],
   "source": [
    "Map"
   ]
  }
 ],
 "metadata": {
  "anaconda-cloud": {},
  "kernelspec": {
   "display_name": "Python 3",
   "language": "python",
   "name": "python3"
  },
  "language_info": {
   "codemirror_mode": {
    "name": "ipython",
    "version": 3
   },
   "file_extension": ".py",
   "mimetype": "text/x-python",
   "name": "python",
   "nbconvert_exporter": "python",
   "pygments_lexer": "ipython3",
   "version": "3.6.1"
  }
 },
 "nbformat": 4,
 "nbformat_minor": 4
}
