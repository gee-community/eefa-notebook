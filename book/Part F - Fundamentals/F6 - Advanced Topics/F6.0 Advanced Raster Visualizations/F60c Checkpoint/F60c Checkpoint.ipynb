{
 "cells": [
  {
   "cell_type": "markdown",
   "metadata": {},
   "source": [
    "## Import libraries"
   ]
  },
  {
   "cell_type": "code",
   "execution_count": null,
   "metadata": {},
   "outputs": [],
   "source": [
    "import ee\n",
    "import geemap"
   ]
  },
  {
   "cell_type": "markdown",
   "metadata": {},
   "source": [
    "## Create an interactive map"
   ]
  },
  {
   "cell_type": "code",
   "execution_count": null,
   "metadata": {},
   "outputs": [],
   "source": [
    "Map = geemap.Map(center=[40, -100], zoom=4)"
   ]
  },
  {
   "cell_type": "markdown",
   "metadata": {},
   "source": [
    "## Add Earth Engine Python script"
   ]
  },
  {
   "cell_type": "code",
   "execution_count": null,
   "metadata": {},
   "outputs": [],
   "source": [
    "# Add Earth Engine dataset\n",
    "image = ee.Image(\"USGS/SRTMGL1_003\")\n",
    "\n",
    "#  ~~~~~~~~~~~~~~~~~~~~~~~~~~~~~~~~~~~~~~~~~~~~~~~~~~~~~~~~~~~~~~~~~~~~~~~~~~~~~~~\n",
    "#  Chapter:      F6.0 Advanced Raster Visualization\n",
    "#  Checkpoint:   F60c\n",
    "#  Authors:      Gennadii Donchyts, Fedor Baart\n",
    "#  ~~~~~~~~~~~~~~~~~~~~~~~~~~~~~~~~~~~~~~~~~~~~~~~~~~~~~~~~~~~~~~~~~~~~~~~~~~~~~~~\n",
    "\n",
    "# Advanced remapping using NLCD.\n",
    "# Import NLCD.\n",
    "nlcd = ee.ImageCollection(\"USGS/NLCD_RELEASES/2016_REL\")\n",
    "\n",
    "# Use Filter to select the 2016 dataset.\n",
    "nlcd2016 = nlcd.filter(ee.Filter.eq(\"system:index\", \"2016\")).first()\n",
    "\n",
    "# Select the land cover band.\n",
    "landcover = nlcd2016.select(\"landcover\")\n",
    "\n",
    "# Map the NLCD land cover.\n",
    "Map.addLayer(landcover, None, \"NLCD Landcover\")\n",
    "\n",
    "\n",
    "# Now suppose we want to change the color palette.\n",
    "newPalette = [\n",
    "    \"466b9f\",\n",
    "    \"d1def8\",\n",
    "    \"dec5c5\",\n",
    "    \"ab0000\",\n",
    "    \"ab0000\",\n",
    "    \"ab0000\",\n",
    "    \"b3ac9f\",\n",
    "    \"68ab5f\",\n",
    "    \"1c5f2c\",\n",
    "    \"b5c58f\",\n",
    "    \"af963c\",\n",
    "    \"ccb879\",\n",
    "    \"dfdfc2\",\n",
    "    \"d1d182\",\n",
    "    \"a3cc51\",\n",
    "    \"82ba9e\",\n",
    "    \"dcd939\",\n",
    "    \"ab6c28\",\n",
    "    \"b8d9eb\",\n",
    "    \"6c9fb8\",\n",
    "]\n",
    "\n",
    "# Try mapping with the new color palette.\n",
    "Map.addLayer(landcover, {\"palette\": newPalette}, \"NLCD New Palette\")\n",
    "\n",
    "# Extract the class values and save them as a list.\n",
    "values = ee.List(landcover.get(\"landcover_class_values\"))\n",
    "\n",
    "# Print the class values to console.\n",
    "print(\"raw class values\", values)\n",
    "\n",
    "# Determine the maximum index value\n",
    "maxIndex = values.size().subtract(1)\n",
    "\n",
    "# Create a new index for the remap\n",
    "indexes = ee.List.sequence(0, maxIndex)\n",
    "\n",
    "# Print the updated class values to console.\n",
    "print(\"updated class values\", indexes)\n",
    "\n",
    "# Remap NLCD and display it in the map.\n",
    "colorized = landcover.remap(values, indexes).visualize(\n",
    "    **{\"min\": 0, \"max\": maxIndex, \"palette\": newPalette}\n",
    ")\n",
    "Map.addLayer(colorized, {}, \"NLCD Remapped Colors\")\n",
    "\n",
    "#  -----------------------------------------------------------------------\n",
    "#  CHECKPOINT\n",
    "#  -----------------------------------------------------------------------"
   ]
  },
  {
   "cell_type": "markdown",
   "metadata": {},
   "source": [
    "## Display the interactive map"
   ]
  },
  {
   "cell_type": "code",
   "execution_count": null,
   "metadata": {},
   "outputs": [],
   "source": [
    "Map"
   ]
  }
 ],
 "metadata": {
  "anaconda-cloud": {},
  "kernelspec": {
   "display_name": "Python 3",
   "language": "python",
   "name": "python3"
  },
  "language_info": {
   "codemirror_mode": {
    "name": "ipython",
    "version": 3
   },
   "file_extension": ".py",
   "mimetype": "text/x-python",
   "name": "python",
   "nbconvert_exporter": "python",
   "pygments_lexer": "ipython3",
   "version": "3.6.1"
  }
 },
 "nbformat": 4,
 "nbformat_minor": 4
}
