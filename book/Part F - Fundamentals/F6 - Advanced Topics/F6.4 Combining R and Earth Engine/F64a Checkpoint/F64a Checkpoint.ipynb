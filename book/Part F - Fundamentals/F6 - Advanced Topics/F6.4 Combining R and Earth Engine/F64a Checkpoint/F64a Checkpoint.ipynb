{
 "cells": [
  {
   "cell_type": "markdown",
   "metadata": {},
   "source": [
    "## Import libraries"
   ]
  },
  {
   "cell_type": "code",
   "execution_count": null,
   "metadata": {},
   "outputs": [],
   "source": [
    "import ee\n",
    "import geemap"
   ]
  },
  {
   "cell_type": "markdown",
   "metadata": {},
   "source": [
    "## Create an interactive map"
   ]
  },
  {
   "cell_type": "code",
   "execution_count": null,
   "metadata": {},
   "outputs": [],
   "source": [
    "Map = geemap.Map(center=[40, -100], zoom=4)"
   ]
  },
  {
   "cell_type": "markdown",
   "metadata": {},
   "source": [
    "## Add Earth Engine Python script"
   ]
  },
  {
   "cell_type": "code",
   "execution_count": null,
   "metadata": {},
   "outputs": [],
   "source": [
    "# Add Earth Engine dataset\n",
    "image = ee.Image(\"USGS/SRTMGL1_003\")\n",
    "\n",
    "#  ~~~~~~~~~~~~~~~~~~~~~~~~~~~~~~~~~~~~~~~~~~~~~~~~~~~~~~~~~~~~~~~~~~~~~~~\n",
    "#  Chapter:      F6.4 Combining R and Earth Engine\n",
    "#  Checkpoint:   F64a\n",
    "#  Authors:      Cesar Aybar, David Montero, Antony Barja, Fernando Herrera, Andrea Gonzales, and Wendy Espinoza\n",
    "#  ~~~~~~~~~~~~~~~~~~~~~~~~~~~~~~~~~~~~~~~~~~~~~~~~~~~~~~~~~~~~~~~~~~~~~~~\n",
    "\n",
    "'Comment from Ellen':\n",
    "If possible,  perhaps put this into a checkpoint? Also,  one option (if links are allowed in that), 'to refer to the link': 'https':#r-spatial.github.io/rgee/reference/ee_install_set_pyenv.html\n",
    "Installation is always tricky.\n",
    "'Till today I am still having issue with the Anaconda install in Windows' :).\n",
    "\n",
    "Installing rgee can be challenging, since it has dependencies in both R and Python. Thanks to the fantastic work of CRAN managing R packages, installation in R should not be a problem. Nevertheless, some difficulties can appear when users try to connect both languages. If you are a new Python user, we recommend using the built-in ee_install function. In Rstudio, press Ctrl + Enter (or just Enter on macOS) to execute the code line by line.\n",
    "\n",
    "library(rgee)\n",
    "'rgee':'':ee_install()\n",
    "\n",
    "\n",
    "'The ee_install function will set up everything for you. In short, it performs the following tasks': (1) Creating a Python environment, (2) creating an environment variable, EARTHENGINE_PYTHON, that stores your Python interpreter path (which will help rgee know where to look the next time you log in), and (3) installing the dependencies in the previously created environment. Alternatively, users who want to use their own Python environment could run, instead of ee_install, one of the following options, depending on their operating system.\n",
    "\n",
    "# IMPORTANT: Change 'py_path' argument according to your own Python PATH\n",
    "## For Anaconda users - Windows OS\n",
    "## Anaconda users must run \"where anaconda\" in the console.\n",
    "win_py_path = paste0(\n",
    "    \"C:/Users/UNICORN/AppData/Local/Programs/Python/\",\n",
    "    \"Python37/python.exe\"\n",
    ")\n",
    "ee_install_set_pyenv(\n",
    "  py_path = win_py_path,\n",
    "  py_env = NULL # Change it for your own Python ENV\n",
    ")\n",
    "\n",
    "## For Anaconda users - MacOS users\n",
    "## Anaconda users must run \"where anaconda\" in the console.\n",
    "ee_install_set_pyenv(\n",
    "  py_path = \"/Users/UNICORN/opt/anaconda3/bin/python\",\n",
    "  py_env = NULL # Change it for your own Python ENV\n",
    ")\n",
    "\n",
    "## For Miniconda users - Windows OS\n",
    "win_py_path = paste0(\n",
    "    \"C:/Users/UNICORN/AppData/Local/r-miniconda/envs/rgee/\",\n",
    "    \"python.exe\"\n",
    ")\n",
    "ee_install_set_pyenv(\n",
    "  py_path = win_py_path,\n",
    "  py_env = \"rgee\" # Change it for your own Python ENV\n",
    ")\n",
    "\n",
    "## For Miniconda users - Linux/MacOS users\n",
    "unix_py_path = paste0(\n",
    "    \"/home/UNICORN/.local/share/r-miniconda/envs/\",\n",
    "    \"rgee/bin/python3\"\n",
    ")\n",
    "ee_install_set_pyenv(\n",
    "  py_path = unix_py_path,\n",
    "  py_env = \"rgee\" # Change it for your own Python ENV\n",
    ")\n",
    "\n",
    "## For virtualenv users - Linux/MacOS users\n",
    "ee_install_set_pyenv(\n",
    "  py_path = \"/home/UNICORN/.virtualenvs/rgee/bin/python\",\n",
    "  py_env = \"rgee\" # Change it for your own Python ENV\n",
    ")\n",
    "\n",
    "## For Python root user - Linux/MacOS users\n",
    "ee_install_set_pyenv(\n",
    "  py_path = \"/usr/bin/python3\",\n",
    "  py_env = NULL,\n",
    "  Renviron = \"global\" # Save ENV variables in the global .Renv file\n",
    ")\n",
    "\n",
    "ee_install_set_pyenv(\n",
    "  py_path = \"/usr/bin/python3\",\n",
    "  py_env = NULL,\n",
    "  Renviron = \"local\" # Save ENV variables in a local .Renv file\n",
    ")\n",
    "\n",
    "\n",
    "'Regardless of whether you are using ee_install or ee_install_set_pyenv, this only needs to be run once. Also, take into account that the Python PATH you set must have installed the rgee Python dependencies. The use of Miniconda/Anaconda is mandatory for Windows users; Linux and MacOS users could instead use virtualenv. After setting up your Python environment, you can use the function below to check the status of rgee. If you find any issue in the installation procedure, consider opening an issue at https':#github.com/r-spatial/rgee/issues/.\n",
    "\n",
    "ee_check() # Check non-R dependencies\n",
    "\n",
    "\n",
    "\n",
    "\n",
    "Enter the link below into your browser to see how your code should look at this point\n",
    "\n",
    "'https':#github.com/giswqs/earthengine-apps\n",
    "\n",
    "\n",
    "'Note from Ellen below': \"Congratulations! You have successfully deployed the Earth Engine App on Heroku. \"\n",
    " 'Does not work although I followed the instructions':'). https':#docs.google.com/document/d/197jvxxajqEfCHbuw_2EcxHAv83Pjka36/edit?usp=sharing&ouid=101065852418423274055&rtpof=True&sd=True\n",
    "Author will have to test. I can test it if desired. Others are also welcome to test this.\n",
    "Was tested and closed by author in beginning of March. Feel bad that is happening right now.\n",
    "@jeffcardille@gmail.com\n",
    "Show less\n",
    "Hi, I am also tagging  Quisheng @qwu18@utk.edu here.  Perhaps this got missed due to the editing comments. Hi Qiusheng, I ran into an issue here. Can you please check once more please? Thanks.\n",
    "\n",
    "\n",
    "#  -----------------------------------------------------------------------\n",
    "#  CHECKPOINT\n",
    "#  -----------------------------------------------------------------------\n",
    "\n"
   ]
  },
  {
   "cell_type": "markdown",
   "metadata": {},
   "source": [
    "## Display the interactive map"
   ]
  },
  {
   "cell_type": "code",
   "execution_count": null,
   "metadata": {},
   "outputs": [],
   "source": [
    "Map"
   ]
  }
 ],
 "metadata": {
  "anaconda-cloud": {},
  "kernelspec": {
   "display_name": "Python 3",
   "language": "python",
   "name": "python3"
  },
  "language_info": {
   "codemirror_mode": {
    "name": "ipython",
    "version": 3
   },
   "file_extension": ".py",
   "mimetype": "text/x-python",
   "name": "python",
   "nbconvert_exporter": "python",
   "pygments_lexer": "ipython3",
   "version": "3.6.1"
  }
 },
 "nbformat": 4,
 "nbformat_minor": 4
}
