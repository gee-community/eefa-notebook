{
 "cells": [
  {
   "cell_type": "markdown",
   "metadata": {},
   "source": [
    "## Import libraries"
   ]
  },
  {
   "cell_type": "code",
   "execution_count": null,
   "metadata": {},
   "outputs": [],
   "source": [
    "import ee\n",
    "import geemap"
   ]
  },
  {
   "cell_type": "markdown",
   "metadata": {},
   "source": [
    "## Create an interactive map"
   ]
  },
  {
   "cell_type": "code",
   "execution_count": null,
   "metadata": {},
   "outputs": [],
   "source": [
    "Map = geemap.Map(center=[40, -100], zoom=4)"
   ]
  },
  {
   "cell_type": "markdown",
   "metadata": {},
   "source": [
    "## Add Earth Engine Python script"
   ]
  },
  {
   "cell_type": "code",
   "execution_count": null,
   "metadata": {},
   "outputs": [],
   "source": [
    "# Add Earth Engine dataset\n",
    "image = ee.Image(\"USGS/SRTMGL1_003\")\n",
    "\n",
    "#  ~~~~~~~~~~~~~~~~~~~~~~~~~~~~~~~~~~~~~~~~~~~~~~~~~~~~~~~~~~~~~~~~~~~~~~~\n",
    "#  Chapter:      A1.6 Health Applications\n",
    "#  Checkpoint:   A16a\n",
    "#  Author:       Dawn Nekorchuk\n",
    "#  ~~~~~~~~~~~~~~~~~~~~~~~~~~~~~~~~~~~~~~~~~~~~~~~~~~~~~~~~~~~~~~~~~~~~~~~\n",
    "\n",
    "# Section 1: Data Import\n",
    "woredas = ee.FeatureCollection(\"projects/gee-book/assets/A1-6/amhara_woreda_20170207\")\n",
    "# Create region outer boundary to filter products on.\n",
    "amhara = woredas.geometry().bounds()\n",
    "gpm = ee.ImageCollection(\"NASA/GPM_L3/IMERG_V06\")\n",
    "LSTTerra8 = ee.ImageCollection(\"MODIS/061/MOD11A2\").filterDate(\"2001-06-26\", Date.now())\n",
    "brdfReflect = ee.ImageCollection(\"MODIS/006/MCD43A4\")\n",
    "brdfQa = ee.ImageCollection(\"MODIS/006/MCD43A2\")\n",
    "\n",
    "# Visualize woredas with black borders and no fill.\n",
    "# Create an empty image into which to paint the features, cast to byte.\n",
    "empty = ee.Image().byte()\n",
    "# Paint all the polygon edges with the same number and width.\n",
    "outline = empty.paint({\"featureCollection\": woredas, \"color\": 1, \"width\": 1})\n",
    "# Add woreda boundaries to the map.\n",
    "Map.setCenter(38, 11.5, 7)\n",
    "Map.addLayer(outline, {\"palette\": \"000000\"}, \"Woredas\")\n",
    "\n",
    "# -----------------------------------------------------------------------\n",
    "# CHECKPOINT\n",
    "# -----------------------------------------------------------------------"
   ]
  },
  {
   "cell_type": "markdown",
   "metadata": {},
   "source": [
    "## Display the interactive map"
   ]
  },
  {
   "cell_type": "code",
   "execution_count": null,
   "metadata": {},
   "outputs": [],
   "source": [
    "Map"
   ]
  }
 ],
 "metadata": {
  "anaconda-cloud": {},
  "kernelspec": {
   "display_name": "Python 3",
   "language": "python",
   "name": "python3"
  },
  "language_info": {
   "codemirror_mode": {
    "name": "ipython",
    "version": 3
   },
   "file_extension": ".py",
   "mimetype": "text/x-python",
   "name": "python",
   "nbconvert_exporter": "python",
   "pygments_lexer": "ipython3",
   "version": "3.6.1"
  }
 },
 "nbformat": 4,
 "nbformat_minor": 4
}
