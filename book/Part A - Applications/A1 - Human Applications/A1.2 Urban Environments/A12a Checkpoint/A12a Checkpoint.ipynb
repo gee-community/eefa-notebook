{
 "cells": [
  {
   "cell_type": "markdown",
   "metadata": {},
   "source": [
    "## Import libraries"
   ]
  },
  {
   "cell_type": "code",
   "execution_count": null,
   "metadata": {},
   "outputs": [],
   "source": [
    "import ee\n",
    "import geemap"
   ]
  },
  {
   "cell_type": "markdown",
   "metadata": {},
   "source": [
    "## Create an interactive map"
   ]
  },
  {
   "cell_type": "code",
   "execution_count": null,
   "metadata": {},
   "outputs": [],
   "source": [
    "Map = geemap.Map(center=[40, -100], zoom=4)"
   ]
  },
  {
   "cell_type": "markdown",
   "metadata": {},
   "source": [
    "## Add Earth Engine Python script"
   ]
  },
  {
   "cell_type": "code",
   "execution_count": null,
   "metadata": {},
   "outputs": [],
   "source": [
    "# Add Earth Engine dataset\n",
    "image = ee.Image(\"USGS/SRTMGL1_003\")\n",
    "\n",
    "#*** Start of imports. If edited, may not auto-convert in the playground. ***#\n",
    "geometry =\n",
    "\n",
    "    # displayProperties: [\n",
    "      {\n",
    "        \"type\": \"rectangle\"\n",
    "      }\n",
    "    ] #\n",
    "    ee.Geometry.Polygon(\n",
    "        [[[77.65634552256087, 13.221993749480964],\n",
    "          [77.65634552256087, 13.170852478759896],\n",
    "          [77.75041595713118, 13.170852478759896],\n",
    "          [77.75041595713118, 13.221993749480964]]], None, False),\n",
    "    L8 = ee.ImageCollection(\"LANDSAT/LC08/C02/T1_L2\")\n",
    "#**** End of imports. If edited, may not auto-convert in the playground. ****#\n",
    "#  ~~~~~~~~~~~~~~~~~~~~~~~~~~~~~~~~~~~~~~~~~~~~~~~~~~~~~~~~~~~~~~~~~~~~~~~\n",
    "#  Chapter:      A1.2 Urban Environments\n",
    "#  Checkpoint:   A12a\n",
    "#  Authors:      Michelle Stuhlmacher and Ran Goldblatt\n",
    "#  ~~~~~~~~~~~~~~~~~~~~~~~~~~~~~~~~~~~~~~~~~~~~~~~~~~~~~~~~~~~~~~~~~~~~~~~\n",
    "Map.centerObject(geometry)\n",
    "\n",
    "# Filter collection.\n",
    "collection = L8 \\\n",
    "    .filterBounds(geometry) \\\n",
    "    .filterDate('2010-01-01', '2020-12-31') \\\n",
    "    .filter(ee.Filter.lte('CLOUD_COVER_LAND', 3))\n",
    "\n",
    "# Define GIF visualization arguments.\n",
    "gifParams = {\n",
    "    'bands': ['SR_B4', 'SR_B3', 'SR_B2'],\n",
    "    'min': 0.07 * 65536,\n",
    "    'max': 0.3 * 65536,\n",
    "    'region': geometry,\n",
    "    'framesPerSecond': 15,\n",
    "    format: 'gif'\n",
    "}\n",
    "\n",
    "# Render the GIF animation in the console.\n",
    "print(ui.Thumbnail(collection, gifParams))\n",
    "\n",
    "# -----------------------------------------------------------------------\n",
    "# CHECKPOINT\n",
    "# -----------------------------------------------------------------------"
   ]
  },
  {
   "cell_type": "markdown",
   "metadata": {},
   "source": [
    "## Display the interactive map"
   ]
  },
  {
   "cell_type": "code",
   "execution_count": null,
   "metadata": {},
   "outputs": [],
   "source": [
    "Map"
   ]
  }
 ],
 "metadata": {
  "anaconda-cloud": {},
  "kernelspec": {
   "display_name": "Python 3",
   "language": "python",
   "name": "python3"
  },
  "language_info": {
   "codemirror_mode": {
    "name": "ipython",
    "version": 3
   },
   "file_extension": ".py",
   "mimetype": "text/x-python",
   "name": "python",
   "nbconvert_exporter": "python",
   "pygments_lexer": "ipython3",
   "version": "3.6.1"
  }
 },
 "nbformat": 4,
 "nbformat_minor": 4
}
