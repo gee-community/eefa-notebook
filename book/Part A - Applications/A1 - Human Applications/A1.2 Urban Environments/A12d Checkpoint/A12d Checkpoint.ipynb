{
 "cells": [
  {
   "cell_type": "markdown",
   "metadata": {},
   "source": [
    "## Import libraries"
   ]
  },
  {
   "cell_type": "code",
   "execution_count": null,
   "metadata": {},
   "outputs": [],
   "source": [
    "import ee\n",
    "import geemap"
   ]
  },
  {
   "cell_type": "markdown",
   "metadata": {},
   "source": [
    "## Create an interactive map"
   ]
  },
  {
   "cell_type": "code",
   "execution_count": null,
   "metadata": {},
   "outputs": [],
   "source": [
    "Map = geemap.Map(center=[40, -100], zoom=4)"
   ]
  },
  {
   "cell_type": "markdown",
   "metadata": {},
   "source": [
    "## Add Earth Engine Python script"
   ]
  },
  {
   "cell_type": "code",
   "execution_count": null,
   "metadata": {},
   "outputs": [],
   "source": [
    "# Add Earth Engine dataset\n",
    "image = ee.Image(\"USGS/SRTMGL1_003\")\n",
    "\n",
    "# *** Start of imports. If edited, may not auto-convert in the playground. ***#\n",
    "NLCD = ee.ImageCollection(\"USGS/NLCD_RELEASES/2019_REL/NLCD\")\n",
    "# **** End of imports. If edited, may not auto-convert in the playground. ****#\n",
    "#  ~~~~~~~~~~~~~~~~~~~~~~~~~~~~~~~~~~~~~~~~~~~~~~~~~~~~~~~~~~~~~~~~~~~~~~~\n",
    "#  Chapter:      A1.2 Urban Environments\n",
    "#  Checkpoint:   A12d\n",
    "#  Authors:      Michelle Stuhlmacher and Ran Goldblatt\n",
    "#  ~~~~~~~~~~~~~~~~~~~~~~~~~~~~~~~~~~~~~~~~~~~~~~~~~~~~~~~~~~~~~~~~~~~~~~~\n",
    "\n",
    "# NLCD (Chicago)\n",
    "# Center over Chicago.\n",
    "Map.setCenter(-87.6324, 41.8799, 10)\n",
    "\n",
    "# Select the land cover band.\n",
    "NLCD_lc = NLCD.select(\"landcover\")\n",
    "\n",
    "# Filter NLCD collection to 2016.\n",
    "NLCD_2016 = NLCD_lc.filter(ee.Filter.eq(\"system:index\", \"2016\")).first()\n",
    "Map.addLayer(NLCD_2016, {}, \"NLCD 2016\")\n",
    "\n",
    "# Calculate the total area of the 'Developed high intensity' class (24) in Chicago.\n",
    "Chicago = ee.FeatureCollection(\"projects/gee-book/assets/A1-2/Chicago\")\n",
    "\n",
    "# Clip classification to Chicago\n",
    "NLCD_2016_chi = NLCD_2016.clip(Chicago)\n",
    "\n",
    "# Set class 24 pixels to 1 and mask the rest.\n",
    "NLCD_2016_chi_24 = NLCD_2016_chi.eq(24).selfMask()\n",
    "Map.addLayer(NLCD_2016_chi_24, {}, \"Chicago developed high intensity\")\n",
    "\n",
    "# Area calculation.\n",
    "areaDev = (\n",
    "    NLCD_2016_chi_24.multiply(ee.Image.pixelArea())\n",
    "    .reduceRegion(\n",
    "        {\"reducer\": ee.Reducer.sum(), \"geometry\": Chicago.geometry(), \"scale\": 30}\n",
    "    )\n",
    "    .get(\"landcover\")\n",
    ")\n",
    "print(areaDev)\n",
    "\n",
    "# -----------------------------------------------------------------------\n",
    "# CHECKPOINT\n",
    "# -----------------------------------------------------------------------"
   ]
  },
  {
   "cell_type": "markdown",
   "metadata": {},
   "source": [
    "## Display the interactive map"
   ]
  },
  {
   "cell_type": "code",
   "execution_count": null,
   "metadata": {},
   "outputs": [],
   "source": [
    "Map"
   ]
  }
 ],
 "metadata": {
  "anaconda-cloud": {},
  "kernelspec": {
   "display_name": "Python 3",
   "language": "python",
   "name": "python3"
  },
  "language_info": {
   "codemirror_mode": {
    "name": "ipython",
    "version": 3
   },
   "file_extension": ".py",
   "mimetype": "text/x-python",
   "name": "python",
   "nbconvert_exporter": "python",
   "pygments_lexer": "ipython3",
   "version": "3.6.1"
  }
 },
 "nbformat": 4,
 "nbformat_minor": 4
}
