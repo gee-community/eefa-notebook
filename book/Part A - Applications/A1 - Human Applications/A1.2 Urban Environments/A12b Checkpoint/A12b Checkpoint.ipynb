{
 "cells": [
  {
   "cell_type": "markdown",
   "metadata": {},
   "source": [
    "## Import libraries"
   ]
  },
  {
   "cell_type": "code",
   "execution_count": null,
   "metadata": {},
   "outputs": [],
   "source": [
    "import ee\n",
    "import geemap"
   ]
  },
  {
   "cell_type": "markdown",
   "metadata": {},
   "source": [
    "## Create an interactive map"
   ]
  },
  {
   "cell_type": "code",
   "execution_count": null,
   "metadata": {},
   "outputs": [],
   "source": [
    "Map = geemap.Map(center=[40, -100], zoom=4)"
   ]
  },
  {
   "cell_type": "markdown",
   "metadata": {},
   "source": [
    "## Add Earth Engine Python script"
   ]
  },
  {
   "cell_type": "code",
   "execution_count": null,
   "metadata": {},
   "outputs": [],
   "source": [
    "# Add Earth Engine dataset\n",
    "image = ee.Image(\"USGS/SRTMGL1_003\")\n",
    "\n",
    "# *** Start of imports. If edited, may not auto-convert in the playground. ***#\n",
    "MODIS = ee.ImageCollection(\"MODIS/006/MCD12Q1\")\n",
    "# **** End of imports. If edited, may not auto-convert in the playground. ****#\n",
    "#  ~~~~~~~~~~~~~~~~~~~~~~~~~~~~~~~~~~~~~~~~~~~~~~~~~~~~~~~~~~~~~~~~~~~~~~~\n",
    "#  Chapter:      A1.2 Urban Environments\n",
    "#  Checkpoint:   A12b\n",
    "#  Authors:      Michelle Stuhlmacher and Ran Goldblatt\n",
    "#  ~~~~~~~~~~~~~~~~~~~~~~~~~~~~~~~~~~~~~~~~~~~~~~~~~~~~~~~~~~~~~~~~~~~~~~~\n",
    "\n",
    "# MODIS (Accra)\n",
    "# Center over Accra.\n",
    "Map.setCenter(-0.2264, 5.5801, 10)\n",
    "\n",
    "# Visualize the full classification.\n",
    "MODIS_lc = MODIS.select(\"LC_Type1\")\n",
    "igbpLandCoverVis = {\n",
    "    \"min\": 1.0,\n",
    "    \"max\": 17.0,\n",
    "    \"palette\": [\n",
    "        \"05450a\",\n",
    "        \"086a10\",\n",
    "        \"54a708\",\n",
    "        \"78d203\",\n",
    "        \"009900\",\n",
    "        \"c6b044\",\n",
    "        \"dcd159\",\n",
    "        \"dade48\",\n",
    "        \"fbff13\",\n",
    "        \"b6ff05\",\n",
    "        \"27ff87\",\n",
    "        \"c24f44\",\n",
    "        \"a5a5a5\",\n",
    "        \"ff6d4c\",\n",
    "        \"69fff8\",\n",
    "        \"f9ffa4\",\n",
    "        \"1c0dff\",\n",
    "    ],\n",
    "}\n",
    "Map.addLayer(MODIS_lc, igbpLandCoverVis, \"IGBP Land Cover\")\n",
    "\n",
    "# Visualize the urban extent in 2001 and 2019.\n",
    "# 2019\n",
    "MODIS_2019 = MODIS_lc.filterDate(ee.Date(\"2019-01-01\"))\n",
    "\n",
    "M_urb_2019 = MODIS_2019.mosaic().eq(13)\n",
    "Map.addLayer(M_urb_2019.mask(M_urb_2019), {\"palette\": \"FF0000\"}, \"MODIS Urban 2019\")\n",
    "\n",
    "MODIS_2001 = MODIS_lc.filterDate(ee.Date(\"2001-01-01\"))\n",
    "M_urb_2001 = MODIS_2001.mosaic().eq(13)\n",
    "Map.addLayer(M_urb_2001.mask(M_urb_2001), {\"palette\": \"a5a5a5\"}, \"MODIS Urban 2001\")\n",
    "\n",
    "# -----------------------------------------------------------------------\n",
    "# CHECKPOINT\n",
    "# -----------------------------------------------------------------------"
   ]
  },
  {
   "cell_type": "markdown",
   "metadata": {},
   "source": [
    "## Display the interactive map"
   ]
  },
  {
   "cell_type": "code",
   "execution_count": null,
   "metadata": {},
   "outputs": [],
   "source": [
    "Map"
   ]
  }
 ],
 "metadata": {
  "anaconda-cloud": {},
  "kernelspec": {
   "display_name": "Python 3",
   "language": "python",
   "name": "python3"
  },
  "language_info": {
   "codemirror_mode": {
    "name": "ipython",
    "version": 3
   },
   "file_extension": ".py",
   "mimetype": "text/x-python",
   "name": "python",
   "nbconvert_exporter": "python",
   "pygments_lexer": "ipython3",
   "version": "3.6.1"
  }
 },
 "nbformat": 4,
 "nbformat_minor": 4
}
