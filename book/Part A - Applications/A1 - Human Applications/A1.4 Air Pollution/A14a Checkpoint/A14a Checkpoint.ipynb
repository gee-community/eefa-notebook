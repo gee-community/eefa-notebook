{
 "cells": [
  {
   "cell_type": "markdown",
   "metadata": {},
   "source": [
    "## Import libraries"
   ]
  },
  {
   "cell_type": "code",
   "execution_count": null,
   "metadata": {},
   "outputs": [],
   "source": [
    "import ee\n",
    "import geemap"
   ]
  },
  {
   "cell_type": "markdown",
   "metadata": {},
   "source": [
    "## Create an interactive map"
   ]
  },
  {
   "cell_type": "code",
   "execution_count": null,
   "metadata": {},
   "outputs": [],
   "source": [
    "Map = geemap.Map(center=[40, -100], zoom=4)"
   ]
  },
  {
   "cell_type": "markdown",
   "metadata": {},
   "source": [
    "## Add Earth Engine Python script"
   ]
  },
  {
   "cell_type": "code",
   "execution_count": null,
   "metadata": {},
   "outputs": [],
   "source": [
    "# Add Earth Engine dataset\n",
    "image = ee.Image(\"USGS/SRTMGL1_003\")\n",
    "\n",
    "#*** Start of imports. If edited, may not auto-convert in the playground. ***#\n",
    "geometry =\n",
    "\n",
    "    # shown: False #\n",
    "    ee.Geometry.Point([114.26732477622326, 30.57603159263821])\n",
    "#**** End of imports. If edited, may not auto-convert in the playground. ****#\n",
    "#  ~~~~~~~~~~~~~~~~~~~~~~~~~~~~~~~~~~~~~~~~~~~~~~~~~~~~~~~~~~~~~~~~~~~~~~~\n",
    "#  Chapter:      A1.4 Air Pollution and Population Exposures\n",
    "#  Checkpoint:   A14a\n",
    "#  Authors:      Zander Venter and Sourangsu Chowdhury\n",
    "#  ~~~~~~~~~~~~~~~~~~~~~~~~~~~~~~~~~~~~~~~~~~~~~~~~~~~~~~~~~~~~~~~~~~~~~~~\n",
    "\n",
    "#\n",
    " # Section 1: data import and cleaning\n",
    " #\n",
    "\n",
    "# Import a global dataset of administrative units level 1.\n",
    "adminUnits = ee.FeatureCollection(\n",
    "    'FAO/GAUL_SIMPLIFIED_500m/2015/level1')\n",
    "\n",
    "# Filter for the administrative unit that intersects\n",
    "# the geometry located at the top of this script.\n",
    "adminSelect = adminUnits.filterBounds(geometry)\n",
    "\n",
    "# Center the map on this area.\n",
    "Map.centerObject(adminSelect, 8)\n",
    "\n",
    "# Make the base map HYBRID.\n",
    "Map.setOptions('HYBRID')\n",
    "\n",
    "# Add it to the map to make sure you have what you want.\n",
    "Map.addLayer(adminSelect, {}, 'selected admin unit')\n",
    "\n",
    "# Import the population count data from Gridded Population of the World Version 4.\n",
    "population = ee.ImageCollection(\n",
    "        'CIESIN/GPWv411/GPW_Population_Count') \\\n",
    "    .filter(ee.Filter.calendarRange(2020, 2020, 'year')) \\\n",
    "    .mean()\n",
    "\n",
    "# Clip it to your area of interest (only necessary for visualization purposes).\n",
    "populationClipped = population.clipToCollection(adminSelect)\n",
    "\n",
    "# Add it to the map to see the population distribution.\n",
    "popVis = {\n",
    "    'min': 0,\n",
    "    'max': 4000,\n",
    "    'palette': ['black', 'yellow', 'white'],\n",
    "    'opacity': 0.55\n",
    "}\n",
    "Map.addLayer(populationClipped, popVis, 'population count')\n",
    "\n",
    "# Import the Sentinel-5P NO2 offline product.\n",
    "no2Raw = ee.ImageCollection('COPERNICUS/S5P/OFFL/L3_NO2')\n",
    "\n",
    "# Define function to exclude cloudy pixels.\n",
    "def maskClouds(image):\n",
    "    # Get the cloud fraction band of the image.\n",
    "    cf = image.select('cloud_fraction')\n",
    "    # Create a mask using 0.3 threshold.\n",
    "    mask = cf.lte(0.3); # You can play around with this value.\n",
    "    # Return a masked image.\n",
    "    return image.updateMask(mask).copyProperties(image)\n",
    "\n",
    "\n",
    "# Clean and filter the Sentinel-5P NO2 offline product.\n",
    "no2 = no2Raw \\\n",
    "    .filterBounds(adminSelect) \\\n",
    "    .map(maskClouds) \\\n",
    "    .select('tropospheric_NO2_column_number_density')\n",
    "\n",
    "# Create a median composite for March 2021\n",
    "no2Median = no2.filterDate('2021-03-01', '2021-04-01').median()\n",
    "\n",
    "# Clip it to your area of interest (only necessary for visualization purposes).\n",
    "no2MedianClipped = no2Median.clipToCollection(adminSelect)\n",
    "\n",
    "# Visualize the median NO2.\n",
    "no2Viz = {\n",
    "    'min': 0,\n",
    "    'max': 0.00015,\n",
    "    'palette': ['black', 'blue', 'purple', 'cyan', 'green',\n",
    "        'yellow', 'red'\n",
    "    ]\n",
    "}\n",
    "Map.addLayer(no2MedianClipped, no2Viz, 'median no2 Mar 2021')\n",
    "\n",
    "#  -----------------------------------------------------------------------\n",
    "#  CHECKPOINT\n",
    "#  -----------------------------------------------------------------------"
   ]
  },
  {
   "cell_type": "markdown",
   "metadata": {},
   "source": [
    "## Display the interactive map"
   ]
  },
  {
   "cell_type": "code",
   "execution_count": null,
   "metadata": {},
   "outputs": [],
   "source": [
    "Map"
   ]
  }
 ],
 "metadata": {
  "anaconda-cloud": {},
  "kernelspec": {
   "display_name": "Python 3",
   "language": "python",
   "name": "python3"
  },
  "language_info": {
   "codemirror_mode": {
    "name": "ipython",
    "version": 3
   },
   "file_extension": ".py",
   "mimetype": "text/x-python",
   "name": "python",
   "nbconvert_exporter": "python",
   "pygments_lexer": "ipython3",
   "version": "3.6.1"
  }
 },
 "nbformat": 4,
 "nbformat_minor": 4
}
