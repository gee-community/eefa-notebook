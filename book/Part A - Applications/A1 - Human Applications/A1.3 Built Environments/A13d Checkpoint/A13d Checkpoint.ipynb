{
 "cells": [
  {
   "cell_type": "markdown",
   "metadata": {},
   "source": [
    "## Import libraries"
   ]
  },
  {
   "cell_type": "code",
   "execution_count": null,
   "metadata": {},
   "outputs": [],
   "source": [
    "import ee\n",
    "import geemap"
   ]
  },
  {
   "cell_type": "markdown",
   "metadata": {},
   "source": [
    "## Create an interactive map"
   ]
  },
  {
   "cell_type": "code",
   "execution_count": null,
   "metadata": {},
   "outputs": [],
   "source": [
    "Map = geemap.Map(center=[40, -100], zoom=4)"
   ]
  },
  {
   "cell_type": "markdown",
   "metadata": {},
   "source": [
    "## Add Earth Engine Python script"
   ]
  },
  {
   "cell_type": "code",
   "execution_count": null,
   "metadata": {},
   "outputs": [],
   "source": [
    "# Add Earth Engine dataset\n",
    "image = ee.Image(\"USGS/SRTMGL1_003\")\n",
    "\n",
    "#  ~~~~~~~~~~~~~~~~~~~~~~~~~~~~~~~~~~~~~~~~~~~~~~~~~~~~~~~~~~~~~~~~~~~~~~~\n",
    "#  Chapter:      A1.3 Built Environments\n",
    "#  Checkpoint:   A13d\n",
    "#  Author:       Erin Trochim\n",
    "#  ~~~~~~~~~~~~~~~~~~~~~~~~~~~~~~~~~~~~~~~~~~~~~~~~~~~~~~~~~~~~~~~~~~~~~~~\n",
    "\n",
    "# Import roads data.\n",
    "grip4_africa = ee.FeatureCollection(\n",
    "        'projects/sat-io/open-datasets/GRIP4/Africa'),\n",
    "    grip4_europe = ee.FeatureCollection(\n",
    "        'projects/sat-io/open-datasets/GRIP4/Europe'),\n",
    "    grip4_north_america = ee.FeatureCollection(\n",
    "        'projects/sat-io/open-datasets/GRIP4/North-America')\n",
    "\n",
    "# Add a function to add line length in km.\n",
    "def addLength(feature):\n",
    "    return feature.set({\n",
    "        'lengthKm': feature.length().divide(1000)\n",
    "    }); # km\n",
    "\n",
    "\n",
    "# Calculate line lengths for all roads in Africa.\n",
    "grip4_africaLength = grip4_africa.map(addLength)\n",
    "\n",
    "# Convert the roads to raster.\n",
    "empty = ee.Image().float()\n",
    "\n",
    "grip4_africaRaster = empty.paint({\n",
    "    'featureCollection': grip4_africaLength,\n",
    "    'color': 'lengthKm'\n",
    "})\n",
    "\n",
    "# Import simplified countries.\n",
    "countries = ee.FeatureCollection('USDOS/LSIB_SIMPLE/2017')\n",
    "\n",
    "# Filter to Africa.\n",
    "Africa = countries.filter(ee.Filter.eq('wld_rgn', 'Africa'))\n",
    "\n",
    "# Import global power transmission lines.\n",
    "transmission = ee.FeatureCollection(\n",
    "    'projects/sat-io/open-datasets/predictive-global-power-system/distribution-transmission-lines'\n",
    ")\n",
    "\n",
    "# Filter transmission lines to Africa.\n",
    "transmissionAfrica = transmission.filterBounds(Africa)\n",
    "\n",
    "# Calculate line lengths for all transmission lines in Africa.\n",
    "transmissionAfricaLength = transmissionAfrica.map(addLength)\n",
    "\n",
    "# Convert the transmission lines to raster.\n",
    "transmissionAfricaRaster = empty.paint({\n",
    "    'featureCollection': transmissionAfricaLength,\n",
    "    'color': 'lengthKm'\n",
    "})\n",
    "\n",
    "#  -----------------------------------------------------------------------\n",
    "#  CHECKPOINT\n",
    "#  -----------------------------------------------------------------------"
   ]
  },
  {
   "cell_type": "markdown",
   "metadata": {},
   "source": [
    "## Display the interactive map"
   ]
  },
  {
   "cell_type": "code",
   "execution_count": null,
   "metadata": {},
   "outputs": [],
   "source": [
    "Map"
   ]
  }
 ],
 "metadata": {
  "anaconda-cloud": {},
  "kernelspec": {
   "display_name": "Python 3",
   "language": "python",
   "name": "python3"
  },
  "language_info": {
   "codemirror_mode": {
    "name": "ipython",
    "version": 3
   },
   "file_extension": ".py",
   "mimetype": "text/x-python",
   "name": "python",
   "nbconvert_exporter": "python",
   "pygments_lexer": "ipython3",
   "version": "3.6.1"
  }
 },
 "nbformat": 4,
 "nbformat_minor": 4
}
