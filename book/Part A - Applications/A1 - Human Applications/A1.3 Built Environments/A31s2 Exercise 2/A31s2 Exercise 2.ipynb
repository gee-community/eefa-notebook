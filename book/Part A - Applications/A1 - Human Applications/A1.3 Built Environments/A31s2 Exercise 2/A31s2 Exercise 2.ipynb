{
 "cells": [
  {
   "cell_type": "markdown",
   "metadata": {},
   "source": [
    "## Import libraries"
   ]
  },
  {
   "cell_type": "code",
   "execution_count": null,
   "metadata": {},
   "outputs": [],
   "source": [
    "import ee\n",
    "import geemap"
   ]
  },
  {
   "cell_type": "markdown",
   "metadata": {},
   "source": [
    "## Create an interactive map"
   ]
  },
  {
   "cell_type": "code",
   "execution_count": null,
   "metadata": {},
   "outputs": [],
   "source": [
    "Map = geemap.Map(center=[40, -100], zoom=4)"
   ]
  },
  {
   "cell_type": "markdown",
   "metadata": {},
   "source": [
    "## Add Earth Engine Python script"
   ]
  },
  {
   "cell_type": "code",
   "execution_count": null,
   "metadata": {},
   "outputs": [],
   "source": [
    "# Add Earth Engine dataset\n",
    "image = ee.Image(\"USGS/SRTMGL1_003\")\n",
    "\n",
    "# Import roads.\n",
    "grip4_africa = ee.FeatureCollection(\"projects/sat-io/open-datasets/GRIP4/Africa\")\n",
    "grip4_europe = ee.FeatureCollection(\"projects/sat-io/open-datasets/GRIP4/Europe\")\n",
    "grip4_north_america = ee.FeatureCollection(\n",
    "    \"projects/sat-io/open-datasets/GRIP4/North-America\"\n",
    ")\n",
    "\n",
    "\n",
    "# Function to add line length in km\n",
    "def addLength(feature):\n",
    "    return feature.set({\"lengthKm\": feature.length().divide(1000)})  # km\n",
    "\n",
    "\n",
    "# Calculate line lengths for all roads in Africa\n",
    "grip4_africaLength = grip4_africa.map(addLength)\n",
    "\n",
    "# Convert to roads to raster\n",
    "empty = ee.Image().float()\n",
    "\n",
    "grip4_africaRaster = empty.paint(\n",
    "    {\"featureCollection\": grip4_africaLength, \"color\": \"lengthKm\"}\n",
    ")\n",
    "\n",
    "# Import simplified countries\n",
    "countries = ee.FeatureCollection(\"USDOS/LSIB_SIMPLE/2017\")\n",
    "\n",
    "# Filter to Africa\n",
    "Africa = countries.filter(ee.Filter.eq(\"wld_rgn\", \"Africa\"))\n",
    "\n",
    "# Import global power transmission lines\n",
    "transmission = ee.FeatureCollection(\n",
    "    \"projects/sat-io/open-datasets/predictive-global-power-system/distribution-transmission-lines\"\n",
    ")\n",
    "\n",
    "# Filter transmission lines to Africa\n",
    "transmissionAfrica = transmission.filterBounds(Africa)\n",
    "\n",
    "# Calculate line lengths for all transmission lines in Africa\n",
    "transmissionAfricaLength = transmissionAfrica.map(addLength)\n",
    "\n",
    "# Convert to transmission lines to raster\n",
    "transmissionAfricaRaster = empty.paint(\n",
    "    {\"featureCollection\": transmissionAfricaLength, \"color\": \"lengthKm\"}\n",
    ")\n",
    "\n",
    "# Add roads and transmission lines together into one image\n",
    "# Clip to Africa feature collection\n",
    "stack = (\n",
    "    grip4_africaRaster.addBands(transmissionAfricaRaster)\n",
    "    .rename([\"roads\", \"transmission\"])\n",
    "    .clipToCollection(Africa)\n",
    ")\n",
    "\n",
    "# Calculate spatial statistics: local Geary's C\n",
    "# Create a list of weights for a 9x9 kernel.\n",
    "list = [1, 1, 1, 1, 1, 1, 1, 1, 1]\n",
    "\n",
    "# The center of the kernel is zero.\n",
    "centerList = [1, 1, 1, 1, 0, 1, 1, 1, 1]\n",
    "\n",
    "# Assemble a list of lists: the 9x9 kernel weights as a 2-D matrix.\n",
    "lists = [list, list, list, list, centerList, list, list, list, list]\n",
    "\n",
    "# Create the kernel from the weights.\n",
    "# Non-zero weights represent the spatial neighborhood.\n",
    "kernel = ee.Kernel.fixed(9, 9, lists, -4, -4, False)\n",
    "\n",
    "# Use the max among bands as the input.\n",
    "maxBands = stack.reduce(ee.Reducer.max())\n",
    "\n",
    "# Convert the neighborhood into multiple bands.\n",
    "neighs = maxBands.neighborhoodToBands(kernel)\n",
    "\n",
    "# Compute local Geary's C, a measure of spatial association\n",
    "# – 0 indicates perfect positive autocorrelation/clustered\n",
    "# – 1 indicates no autocorrelation/random\n",
    "# – 2 indicates perfect negative autocorrelation/dispersed\n",
    "gearys = (\n",
    "    maxBands.subtract(neighs).pow(2).reduce(ee.Reducer.sum()).divide(math.pow(9, 2))\n",
    ")\n",
    "\n",
    "# Convert to a -/+1 scale by: calculating C* = 1 – C\n",
    "# – 1 indicates perfect positive autocorrelation/clustered\n",
    "# – 0 indicates no autocorrelation/random\n",
    "# – -1 indicates perfect negative autocorrelation/dispersed\n",
    "gearysStar = ee.Image(1).subtract(gearys)\n",
    "\n",
    "# Import palettes\n",
    "palettes = require(\"users/gena/packages:palettes\")\n",
    "\n",
    "# Create custom palette, blue is negative while red is positive autocorrelation/clustered\n",
    "palette = palettes.colorbrewer.Spectral[7].reverse()\n",
    "\n",
    "# Normalize the image and add it to the map.\n",
    "visParams = {\"min\": -1, \"max\": 1, \"palette\": palette}\n",
    "\n",
    "# Import custom basemap\n",
    "basemap = require(\"users/erintrochim/GEE_workshops:backgroundMaps\")\n",
    "\n",
    "# Add basemap\n",
    "basemap.addCustomBasemap(\"BlackAndWhite\")\n",
    "\n",
    "# Display\n",
    "Map.setCenter(3.6, 32.5, 11)\n",
    "Map.addLayer(gearysStar.focalMax(1), visParams, \"local Gearys C*\")\n",
    "\n",
    "# LGTM (nclinton)"
   ]
  },
  {
   "cell_type": "markdown",
   "metadata": {},
   "source": [
    "## Display the interactive map"
   ]
  },
  {
   "cell_type": "code",
   "execution_count": null,
   "metadata": {},
   "outputs": [],
   "source": [
    "Map"
   ]
  }
 ],
 "metadata": {
  "anaconda-cloud": {},
  "kernelspec": {
   "display_name": "Python 3",
   "language": "python",
   "name": "python3"
  },
  "language_info": {
   "codemirror_mode": {
    "name": "ipython",
    "version": 3
   },
   "file_extension": ".py",
   "mimetype": "text/x-python",
   "name": "python",
   "nbconvert_exporter": "python",
   "pygments_lexer": "ipython3",
   "version": "3.6.1"
  }
 },
 "nbformat": 4,
 "nbformat_minor": 4
}
