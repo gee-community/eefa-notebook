{
 "cells": [
  {
   "cell_type": "markdown",
   "metadata": {},
   "source": [
    "## Import libraries"
   ]
  },
  {
   "cell_type": "code",
   "execution_count": null,
   "metadata": {},
   "outputs": [],
   "source": [
    "import ee\n",
    "import geemap"
   ]
  },
  {
   "cell_type": "markdown",
   "metadata": {},
   "source": [
    "## Create an interactive map"
   ]
  },
  {
   "cell_type": "code",
   "execution_count": null,
   "metadata": {},
   "outputs": [],
   "source": [
    "Map = geemap.Map(center=[40, -100], zoom=4)"
   ]
  },
  {
   "cell_type": "markdown",
   "metadata": {},
   "source": [
    "## Add Earth Engine Python script"
   ]
  },
  {
   "cell_type": "code",
   "execution_count": null,
   "metadata": {},
   "outputs": [],
   "source": [
    "# Add Earth Engine dataset\n",
    "image = ee.Image(\"USGS/SRTMGL1_003\")\n",
    "\n",
    "#\n",
    "'Author': Sofia Ermida (sofia.ermida@ipma.pt; @ermida_sofia)\n",
    "\n",
    "This code is free and open.\n",
    "By using this code and any data derived with it,\n",
    "you agree to cite the following reference\n",
    "'in any publications derived from them':\n",
    "Ermida, S.L., Soares, P., Mantas, V., Göttsche, F.-M., Trigo, I.F., 2020.\n",
    "    Google Earth Engine open-source code for Land Surface Temperature estimation from the Landsat series.\n",
    "    'Remote Sensing, 12 (9), 1471; https':#doi.Org/10.3390/rs12091471\n",
    "\n",
    "this function computes the Fraction of Vegetation Cover from NDVI\n",
    "the compute_NDVI.js function must be called before this one\n",
    "\n",
    "'to call this function use':\n",
    "\n",
    "FVCfun = require('users/sofiaermida/landsat_smw_lst:modules/compute_FVC.js')\n",
    "ImagewithFVC = FVCfun.addBand(landsat)(image)\n",
    "or\n",
    "collectionwithFVC = ImageCollection.map(FVCfun.addBand(landsat))\n",
    "\n",
    "'USES':\n",
    "    - SMW_coefficients.js\n",
    "\n",
    "'INPUTS':\n",
    "        '- landsat': <string>\n",
    "                  the Landsat satellite id\n",
    "                  'valid inputs': 'L4', 'L5', 'L7' and 'L8'\n",
    "        '- image': <ee.Image>\n",
    "                image for which to calculate the FVC\n",
    "'OUTPUTS':\n",
    "        - <ee.Image>\n",
    "          'the input image with 1 new band':\n",
    "          'FVC': fraction of vegetation cover\n",
    "#\n",
    "def exports.addBand(landsat):\n",
    "  def wrap(image):\n",
    "\n",
    "    ndvi = image.select('NDVI')\n",
    "\n",
    "    # Compute FVC\n",
    "    fvc = image.expression('((ndvi-ndvi_bg)/(ndvi_vg - ndvi_bg))**2',\n",
    "      {'ndvi':ndvi,'ndvi_bg':0.2,'ndvi_vg':0.86})\n",
    "    fvc = fvc.where(fvc.lt(0.0),0.0)\n",
    "    fvc = fvc.where(fvc.gt(1.0),1.0)\n",
    "\n",
    "    return image.addBands(fvc.rename('FVC'))\n",
    "\n",
    "  return wrap\n"
   ]
  },
  {
   "cell_type": "markdown",
   "metadata": {},
   "source": [
    "## Display the interactive map"
   ]
  },
  {
   "cell_type": "code",
   "execution_count": null,
   "metadata": {},
   "outputs": [],
   "source": [
    "Map"
   ]
  }
 ],
 "metadata": {
  "anaconda-cloud": {},
  "kernelspec": {
   "display_name": "Python 3",
   "language": "python",
   "name": "python3"
  },
  "language_info": {
   "codemirror_mode": {
    "name": "ipython",
    "version": 3
   },
   "file_extension": ".py",
   "mimetype": "text/x-python",
   "name": "python",
   "nbconvert_exporter": "python",
   "pygments_lexer": "ipython3",
   "version": "3.6.1"
  }
 },
 "nbformat": 4,
 "nbformat_minor": 4
}
