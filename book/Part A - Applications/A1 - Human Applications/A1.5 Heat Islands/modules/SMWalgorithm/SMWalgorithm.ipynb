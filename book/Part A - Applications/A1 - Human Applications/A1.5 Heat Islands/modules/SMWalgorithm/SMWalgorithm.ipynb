{
 "cells": [
  {
   "cell_type": "markdown",
   "metadata": {},
   "source": [
    "## Import libraries"
   ]
  },
  {
   "cell_type": "code",
   "execution_count": null,
   "metadata": {},
   "outputs": [],
   "source": [
    "import ee\n",
    "import geemap"
   ]
  },
  {
   "cell_type": "markdown",
   "metadata": {},
   "source": [
    "## Create an interactive map"
   ]
  },
  {
   "cell_type": "code",
   "execution_count": null,
   "metadata": {},
   "outputs": [],
   "source": [
    "Map = geemap.Map(center=[40, -100], zoom=4)"
   ]
  },
  {
   "cell_type": "markdown",
   "metadata": {},
   "source": [
    "## Add Earth Engine Python script"
   ]
  },
  {
   "cell_type": "code",
   "execution_count": null,
   "metadata": {},
   "outputs": [],
   "source": [
    "# Add Earth Engine dataset\n",
    "image = ee.Image(\"USGS/SRTMGL1_003\")\n",
    "\n",
    "#\n",
    "'Author': Sofia Ermida (sofia.ermida@ipma.pt; @ermida_sofia)\n",
    "\n",
    "This code is free and open.\n",
    "By using this code and any data derived with it,\n",
    "you agree to cite the following reference\n",
    "'in any publications derived from them':\n",
    "Ermida, S.L., Soares, P., Mantas, V., Göttsche, F.-M., Trigo, I.F., 2020.\n",
    "    Google Earth Engine open-source code for Land Surface Temperature estimation from the Landsat series.\n",
    "    'Remote Sensing, 12 (9), 1471; https':#doi.Org/10.3390/rs12091471\n",
    "\n",
    "This function applies the Stastical Mono-Window algorithm to compute the LST\n",
    "\n",
    "'to call this function use':\n",
    "\n",
    "LSTfun = require('users/sofiaermida/landsat_smw_lst:modules/SMWalgorithm.js')\n",
    "ImagewithLST = LSTfun.addBand(landsat)(image)\n",
    "or\n",
    "collectionwithLST = ImageCollection.map(LSTfun.addBand(landsat))\n",
    "\n",
    "'USES':\n",
    "    - SMW_coefficients.js\n",
    "\n",
    "'INPUTS':\n",
    "        '- landsat': <string>\n",
    "                  the Landsat satellite id\n",
    "                  'valid inputs': 'L4', 'L5', 'L7' and 'L8'\n",
    "        '- image': <ee.Image>\n",
    "                image for which to calculate the LSTy\n",
    "'OUTPUTS':\n",
    "        - <ee.Image>\n",
    "          'the input image with 1 new band':\n",
    "          'LST': land surface temperature\n",
    "#\n",
    "\n",
    "\n",
    "# coefficients for the Statistical Mono-Window Algorithm\n",
    "SMWcoef = require('users/sofiaermida/landsat_smw_lst:modules/SMW_coefficients.js')\n",
    "\n",
    "# Function to create a lookup between two columns in a\n",
    "# feature collection\n",
    "def get_lookup_table(fc, prop_1, prop_2):\n",
    "  reducer = ee.Reducer.toList().repeat(2)\n",
    "  lookup = fc.reduceColumns(reducer, [prop_1, prop_2])\n",
    "  return ee.List(lookup.get('list'))\n",
    "\n",
    "\n",
    "\n",
    "def exports.addBand(landsat):\n",
    "\n",
    "  def wrap(image):\n",
    "\n",
    "    # Select algorithm coefficients\n",
    "    coeff_SMW = ee.FeatureCollection(ee.Algorithms.If(landsat==='L4',SMWcoef.coeff_SMW_L4,\n",
    "                                        ee.Algorithms.If(landsat==='L5',SMWcoef.coeff_SMW_L5,\n",
    "                                        ee.Algorithms.If(landsat==='L7',SMWcoef.coeff_SMW_L7,\n",
    "                                        SMWcoef.coeff_SMW_L8))))\n",
    "\n",
    "    # Create lookups for the algorithm coefficients\n",
    "    A_lookup = get_lookup_table(coeff_SMW, 'TPWpos', 'A')\n",
    "    B_lookup = get_lookup_table(coeff_SMW, 'TPWpos', 'B')\n",
    "    C_lookup = get_lookup_table(coeff_SMW, 'TPWpos', 'C')\n",
    "\n",
    "    # Map coefficients to the image using the TPW bin position\n",
    "    A_img = image.remap(A_lookup.get(0), A_lookup.get(1),0.0,'TPWpos').resample('bilinear')\n",
    "    B_img = image.remap(B_lookup.get(0), B_lookup.get(1),0.0,'TPWpos').resample('bilinear')\n",
    "    C_img = image.remap(C_lookup.get(0), C_lookup.get(1),0.0,'TPWpos').resample('bilinear')\n",
    "\n",
    "    # select TIR band\n",
    "    tir = ee.String(ee.Algorithms.If(landsat==='L8','B10',\n",
    "                        ee.Algorithms.If(landsat==='L7','B6_VCID_1',\n",
    "                        'B6')))\n",
    "    # compute the LST\n",
    "    lst = image.expression(\n",
    "      'A*Tb1/em1 + B/em1 + C',\n",
    "         {'A': A_img,\n",
    "          'B': B_img,\n",
    "          'C': C_img,\n",
    "          'em1': image.select('EM'),\n",
    "          'Tb1': image.select(tir)\n",
    "         }).updateMask(image.select('TPW').lt(0).Not())\n",
    "\n",
    "\n",
    "    return image.addBands(lst.rename('LST'))\n",
    "  \n",
    "  return wrap\n"
   ]
  },
  {
   "cell_type": "markdown",
   "metadata": {},
   "source": [
    "## Display the interactive map"
   ]
  },
  {
   "cell_type": "code",
   "execution_count": null,
   "metadata": {},
   "outputs": [],
   "source": [
    "Map"
   ]
  }
 ],
 "metadata": {
  "anaconda-cloud": {},
  "kernelspec": {
   "display_name": "Python 3",
   "language": "python",
   "name": "python3"
  },
  "language_info": {
   "codemirror_mode": {
    "name": "ipython",
    "version": 3
   },
   "file_extension": ".py",
   "mimetype": "text/x-python",
   "name": "python",
   "nbconvert_exporter": "python",
   "pygments_lexer": "ipython3",
   "version": "3.6.1"
  }
 },
 "nbformat": 4,
 "nbformat_minor": 4
}
