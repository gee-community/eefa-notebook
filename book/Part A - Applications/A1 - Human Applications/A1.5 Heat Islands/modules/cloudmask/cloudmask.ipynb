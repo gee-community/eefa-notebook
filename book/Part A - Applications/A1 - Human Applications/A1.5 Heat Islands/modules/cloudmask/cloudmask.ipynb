{
 "cells": [
  {
   "cell_type": "markdown",
   "metadata": {},
   "source": [
    "## Import libraries"
   ]
  },
  {
   "cell_type": "code",
   "execution_count": null,
   "metadata": {},
   "outputs": [],
   "source": [
    "import ee\n",
    "import geemap"
   ]
  },
  {
   "cell_type": "markdown",
   "metadata": {},
   "source": [
    "## Create an interactive map"
   ]
  },
  {
   "cell_type": "code",
   "execution_count": null,
   "metadata": {},
   "outputs": [],
   "source": [
    "Map = geemap.Map(center=[40, -100], zoom=4)"
   ]
  },
  {
   "cell_type": "markdown",
   "metadata": {},
   "source": [
    "## Add Earth Engine Python script"
   ]
  },
  {
   "cell_type": "code",
   "execution_count": null,
   "metadata": {},
   "outputs": [],
   "source": [
    "# Add Earth Engine dataset\n",
    "image = ee.Image(\"USGS/SRTMGL1_003\")\n",
    "\n",
    "#\n",
    "'Author': Sofia Ermida (sofia.ermida@ipma.pt; @ermida_sofia)\n",
    "\n",
    "this function mask clouds and cloud shadow using the Quality band\n",
    "\n",
    "'to call this function use':\n",
    "\n",
    "cloudmask = require('users/sofiaermida/landsat_smw_lst:modules/cloudmask.js')\n",
    "TOAImageMasked = cloudmask.toa(image)\n",
    "SRImageMasked = cloudmask.sr(image)\n",
    "or\n",
    "TOAcollectionMasked = ImageCollection.map(cloudmask.toa)\n",
    "SRcollectionMasked = ImageCollection.map(cloudmask.sr)\n",
    "\n",
    "\n",
    "'INPUTS':\n",
    "        '- image': <ee.Image>\n",
    "                image for which clouds are masked\n",
    "'OUTPUTS':\n",
    "        - <ee.Image>\n",
    "          the input image with updated mask\n",
    "\n",
    "  '11-07-2022': update to use collection 2\n",
    "#\n",
    "\n",
    "# cloudmask for TOA data\n",
    "def exports.toa(image):\n",
    "  qa = image.select('QA_PIXEL')\n",
    "  mask = qa.bitwiseAnd(1 << 3)\n",
    "  return image.updateMask(mask.Not())\n",
    "\n",
    "\n",
    "# cloudmask for SR data\n",
    "def exports.sr(image):\n",
    "  qa = image.select('QA_PIXEL')\n",
    "  mask = qa.bitwiseAnd(1 << 3) \\\n",
    "    .Or(qa.bitwiseAnd(1 << 4))\n",
    "  return image.updateMask(mask.Not())\n",
    "\n",
    "\n",
    "# COLLECTION 1\n",
    "# cloudmask for TOA data\n",
    "def exports.toa(image):\n",
    "  qa = image.select('BQA')\n",
    "  mask = qa.bitwiseAnd(1 << 4).eq(0)\n",
    "  return image.updateMask(mask)\n",
    "\n",
    "\n",
    "# cloudmask for SR data\n",
    "def exports.sr(image):\n",
    "  qa = image.select('pixel_qa')\n",
    "  mask = qa.bitwiseAnd(1 << 3) \\\n",
    "    .Or(qa.bitwiseAnd(1 << 5))\n",
    "  return image.updateMask(mask.Not())\n",
    "\n",
    "#"
   ]
  },
  {
   "cell_type": "markdown",
   "metadata": {},
   "source": [
    "## Display the interactive map"
   ]
  },
  {
   "cell_type": "code",
   "execution_count": null,
   "metadata": {},
   "outputs": [],
   "source": [
    "Map"
   ]
  }
 ],
 "metadata": {
  "anaconda-cloud": {},
  "kernelspec": {
   "display_name": "Python 3",
   "language": "python",
   "name": "python3"
  },
  "language_info": {
   "codemirror_mode": {
    "name": "ipython",
    "version": 3
   },
   "file_extension": ".py",
   "mimetype": "text/x-python",
   "name": "python",
   "nbconvert_exporter": "python",
   "pygments_lexer": "ipython3",
   "version": "3.6.1"
  }
 },
 "nbformat": 4,
 "nbformat_minor": 4
}
