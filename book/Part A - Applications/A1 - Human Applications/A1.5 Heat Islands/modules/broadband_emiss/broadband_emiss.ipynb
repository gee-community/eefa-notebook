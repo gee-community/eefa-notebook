{
 "cells": [
  {
   "cell_type": "markdown",
   "metadata": {},
   "source": [
    "## Import libraries"
   ]
  },
  {
   "cell_type": "code",
   "execution_count": null,
   "metadata": {},
   "outputs": [],
   "source": [
    "import ee\n",
    "import geemap"
   ]
  },
  {
   "cell_type": "markdown",
   "metadata": {},
   "source": [
    "## Create an interactive map"
   ]
  },
  {
   "cell_type": "code",
   "execution_count": null,
   "metadata": {},
   "outputs": [],
   "source": [
    "Map = geemap.Map(center=[40, -100], zoom=4)"
   ]
  },
  {
   "cell_type": "markdown",
   "metadata": {},
   "source": [
    "## Add Earth Engine Python script"
   ]
  },
  {
   "cell_type": "code",
   "execution_count": null,
   "metadata": {},
   "outputs": [],
   "source": [
    "# Add Earth Engine dataset\n",
    "image = ee.Image(\"USGS/SRTMGL1_003\")\n",
    "\n",
    "#\n",
    "'Author': Sofia Ermida (sofia.ermida@ipma.pt; @ermida_sofia)\n",
    "\n",
    "This code is free and open.\n",
    "By using this code and any data derived with it,\n",
    "you agree to cite the following reference\n",
    "'in any publications derived from them':\n",
    "Ermida, S.L., Soares, P., Mantas, V., Göttsche, F.-M., Trigo, I.F., 2020.\n",
    "    Google Earth Engine open-source code for Land Surface Temperature estimation from the Landsat series.\n",
    "    'Remote Sensing, 12 (9), 1471; https':#doi.Org/10.3390/rs12091471\n",
    "Malakar, N.K., Hulley, G.C., Hook, S.J., Laraby, K., Cook, M., Schott, J.R., 2018.\n",
    "    'An Operational Land Surface Temperature Product for Landsat Thermal Data': Methodology\n",
    "    and Validation. IEEE Trans. Geosci. Remote Sens. 56, 5717–5735.\n",
    "    'https':#doi.Org/10.1109/TGRS.2018.2824828\n",
    "\n",
    "This function computes broad-band emissivity from ASTER GED\n",
    "\n",
    "'to call this function use':\n",
    "\n",
    "BBEfun = require('users/sofiaermida/landsat_smw_lst:modules/broadband_emiss.js')\n",
    "ImagewithBBE = BBEfun.addBand(dynamic)(image)\n",
    "or\n",
    "collectionwithBBE = ImageCollection.map(BBEfun.addBand(dynamic))\n",
    "\n",
    "'USES':\n",
    "    - ASTER_bare_emiss.js\n",
    "\n",
    "'INPUTS':\n",
    "        '- dynamic': <boolean>\n",
    "                  'True': use vegetation cover correction\n",
    "                  'False': use original ASTER GED emissivity\n",
    "        '- image': <ee.Image>\n",
    "                  an image is required to clip the ASTER data\n",
    "                  to the image geometry; using the full ASTER image\n",
    "                  compromises the performance\n",
    "'OUTPUTS':\n",
    "        - <ee.Image>\n",
    "          'the input image with 1 new band':\n",
    "          'BBE': broad-band emissivity\n",
    "#\n",
    "\n",
    "\n",
    "\n",
    "ASTERGED = require('users/sofiaermida/landsat_smw_lst:modules/ASTER_bare_emiss.js')\n",
    "\n",
    "def exports.addBand(dynamic):\n",
    "  def wrap(image):\n",
    "\n",
    "    # get ASTER emissivity\n",
    "    aster = ee.Image(\"NASA/ASTER_GED/AG100_003\") \\\n",
    "      .clip(image.geometry())\n",
    "\n",
    "    orig = aster.select('emissivity_band10').multiply(0.001)\n",
    "    dynam = image.expression('fvc*0.99+(1-fvc)*em_bare',{\n",
    "      'fvc':image.select('FVC'),\n",
    "      'em_bare':ASTERGED.emiss_bare_band10(image)})\n",
    "    em10 = ee.Image(ee.Algorithms.If(dynamic,dynam,orig))\n",
    "\n",
    "    orig = aster.select('emissivity_band11').multiply(0.001)\n",
    "    dynam = image.expression('fvc*0.99+(1-fvc)*em_bare',{\n",
    "      'fvc':image.select('FVC'),\n",
    "      'em_bare':ASTERGED.emiss_bare_band11(image)})\n",
    "    em11 = ee.Image(ee.Algorithms.If(dynamic,dynam,orig))\n",
    "\n",
    "    orig = aster.select('emissivity_band12').multiply(0.001)\n",
    "    dynam = image.expression('fvc*0.99+(1-fvc)*em_bare',{\n",
    "      'fvc':image.select('FVC'),\n",
    "      'em_bare':ASTERGED.emiss_bare_band12(image)})\n",
    "    em12 = ee.Image(ee.Algorithms.If(dynamic,dynam,orig))\n",
    "\n",
    "    orig = aster.select('emissivity_band13').multiply(0.001)\n",
    "    dynam = image.expression('fvc*0.99+(1-fvc)*em_bare',{\n",
    "      'fvc':image.select('FVC'),\n",
    "      'em_bare':ASTERGED.emiss_bare_band13(image)})\n",
    "    em13 = ee.Image(ee.Algorithms.If(dynamic,dynam,orig))\n",
    "\n",
    "    orig = aster.select('emissivity_band14').multiply(0.001)\n",
    "    dynam = image.expression('fvc*0.99+(1-fvc)*em_bare',{\n",
    "      'fvc':image.select('FVC'),\n",
    "      'em_bare':ASTERGED.emiss_bare_band14(image)})\n",
    "    em14 = ee.Image(ee.Algorithms.If(dynamic,dynam,orig))\n",
    "\n",
    "\n",
    "    bbe = image.expression('0.128 + 0.014*em10 + 0.145*em11 + 0.241*em12 + 0.467*em13 + 0.004*em14',\n",
    "      {'em10':em10,'em11':em11,'em12':em12,'em13':em13,'em14':em14})\n",
    "\n",
    "    return image.addBands(bbe.rename('BBE'))\n",
    "\n",
    "  return wrap\n"
   ]
  },
  {
   "cell_type": "markdown",
   "metadata": {},
   "source": [
    "## Display the interactive map"
   ]
  },
  {
   "cell_type": "code",
   "execution_count": null,
   "metadata": {},
   "outputs": [],
   "source": [
    "Map"
   ]
  }
 ],
 "metadata": {
  "anaconda-cloud": {},
  "kernelspec": {
   "display_name": "Python 3",
   "language": "python",
   "name": "python3"
  },
  "language_info": {
   "codemirror_mode": {
    "name": "ipython",
    "version": 3
   },
   "file_extension": ".py",
   "mimetype": "text/x-python",
   "name": "python",
   "nbconvert_exporter": "python",
   "pygments_lexer": "ipython3",
   "version": "3.6.1"
  }
 },
 "nbformat": 4,
 "nbformat_minor": 4
}
