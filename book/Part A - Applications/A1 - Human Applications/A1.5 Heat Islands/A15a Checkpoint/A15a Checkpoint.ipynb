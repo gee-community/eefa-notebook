{
 "cells": [
  {
   "cell_type": "markdown",
   "metadata": {},
   "source": [
    "## Import libraries"
   ]
  },
  {
   "cell_type": "code",
   "execution_count": null,
   "metadata": {},
   "outputs": [],
   "source": [
    "import ee\n",
    "import geemap"
   ]
  },
  {
   "cell_type": "markdown",
   "metadata": {},
   "source": [
    "## Create an interactive map"
   ]
  },
  {
   "cell_type": "code",
   "execution_count": null,
   "metadata": {},
   "outputs": [],
   "source": [
    "Map = geemap.Map(center=[40, -100], zoom=4)"
   ]
  },
  {
   "cell_type": "markdown",
   "metadata": {},
   "source": [
    "## Add Earth Engine Python script"
   ]
  },
  {
   "cell_type": "code",
   "execution_count": null,
   "metadata": {},
   "outputs": [],
   "source": [
    "# Add Earth Engine dataset\n",
    "image = ee.Image(\"USGS/SRTMGL1_003\")\n",
    "\n",
    "#  ~~~~~~~~~~~~~~~~~~~~~~~~~~~~~~~~~~~~~~~~~~~~~~~~~~~~~~~~~~~~~~~~~~~~~~~\n",
    "#  Chapter:      A1.5 Heat Islands\n",
    "#  Checkpoint:   A15a\n",
    "#  Author:       TC Chakraborty\n",
    "#  ~~~~~~~~~~~~~~~~~~~~~~~~~~~~~~~~~~~~~~~~~~~~~~~~~~~~~~~~~~~~~~~~~~~~~~~\n",
    "\n",
    "# Load feature collection of New Haven's census tracts from user assets.\n",
    "regionInt = ee.FeatureCollection(\"projects/gee-book/assets/A1-5/TC_NewHaven\")\n",
    "\n",
    "# Get dissolved feature collection using an error margin of 50 meters.\n",
    "regionInt = regionInt.union(50)\n",
    "\n",
    "# Set map center and zoom level (Zoom level varies from 1 to 20).\n",
    "Map.setCenter(-72.9, 41.3, 12)\n",
    "\n",
    "# Add layer to map.\n",
    "Map.addLayer(regionInt, {}, \"New Haven boundary\")\n",
    "\n",
    "# Load MODIS image collection from the Earth Engine data catalog.\n",
    "modisLst = ee.ImageCollection(\"MODIS/006/MYD11A2\")\n",
    "\n",
    "# Select the band of interest (in this case: Daytime LST).\n",
    "landSurfTemperature = modisLst.select(\"LST_Day_1km\")\n",
    "\n",
    "# Create a summer filter.\n",
    "sumFilter = ee.Filter.dayOfYear(152, 243)\n",
    "\n",
    "# Filter the date range of interest using a date filter.\n",
    "lstDateInt = landSurfTemperature.filterDate(\"2014-01-01\", \"2019-01-01\").filter(\n",
    "    sumFilter\n",
    ")\n",
    "\n",
    "# Take pixel-wise mean of all the images in the collection.\n",
    "lstMean = lstDateInt.mean()\n",
    "\n",
    "# Multiply each pixel by scaling factor to get the LST values.\n",
    "lstFinal = lstMean.multiply(0.02)\n",
    "\n",
    "# Generate a water mask.\n",
    "water = ee.Image(\"JRC/GSW1_0/GlobalSurfaceWater\").select(\"occurrence\")\n",
    "notWater = water.mask().Not()\n",
    "\n",
    "# Clip data to region of interest, convert to degree Celsius, and mask water pixels.\n",
    "lstNewHaven = lstFinal.clip(regionInt).subtract(273.15).updateMask(notWater)\n",
    "\n",
    "# Add layer to map.\n",
    "Map.addLayer(\n",
    "    lstNewHaven,\n",
    "    {\"palette\": [\"blue\", \"white\", \"red\"], \"min\": 25, \"max\": 38},\n",
    "    \"LST_MODIS\",\n",
    ")\n",
    "\n",
    "#  -----------------------------------------------------------------------\n",
    "#  CHECKPOINT\n",
    "#  -----------------------------------------------------------------------"
   ]
  },
  {
   "cell_type": "markdown",
   "metadata": {},
   "source": [
    "## Display the interactive map"
   ]
  },
  {
   "cell_type": "code",
   "execution_count": null,
   "metadata": {},
   "outputs": [],
   "source": [
    "Map"
   ]
  }
 ],
 "metadata": {
  "anaconda-cloud": {},
  "kernelspec": {
   "display_name": "Python 3",
   "language": "python",
   "name": "python3"
  },
  "language_info": {
   "codemirror_mode": {
    "name": "ipython",
    "version": 3
   },
   "file_extension": ".py",
   "mimetype": "text/x-python",
   "name": "python",
   "nbconvert_exporter": "python",
   "pygments_lexer": "ipython3",
   "version": "3.6.1"
  }
 },
 "nbformat": 4,
 "nbformat_minor": 4
}
