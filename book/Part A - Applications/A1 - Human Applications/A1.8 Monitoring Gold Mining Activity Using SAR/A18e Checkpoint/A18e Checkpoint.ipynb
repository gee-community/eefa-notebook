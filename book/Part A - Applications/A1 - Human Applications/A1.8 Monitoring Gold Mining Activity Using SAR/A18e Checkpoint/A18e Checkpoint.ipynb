{
 "cells": [
  {
   "cell_type": "markdown",
   "metadata": {},
   "source": [
    "## Import libraries"
   ]
  },
  {
   "cell_type": "code",
   "execution_count": null,
   "metadata": {},
   "outputs": [],
   "source": [
    "import ee\n",
    "import geemap"
   ]
  },
  {
   "cell_type": "markdown",
   "metadata": {},
   "source": [
    "## Create an interactive map"
   ]
  },
  {
   "cell_type": "code",
   "execution_count": null,
   "metadata": {},
   "outputs": [],
   "source": [
    "Map = geemap.Map(center=[40, -100], zoom=4)"
   ]
  },
  {
   "cell_type": "markdown",
   "metadata": {},
   "source": [
    "## Add Earth Engine Python script"
   ]
  },
  {
   "cell_type": "code",
   "execution_count": null,
   "metadata": {},
   "outputs": [],
   "source": [
    "# Add Earth Engine dataset\n",
    "image = ee.Image(\"USGS/SRTMGL1_003\")\n",
    "\n",
    "#  ~~~~~~~~~~~~~~~~~~~~~~~~~~~~~~~~~~~~~~~~~~~~~~~~~~~~~~~~~~~~~~~~~~~~~~~~~~~~\n",
    "#  Chapter:      A1.6 Monitoring Gold Mining Activity using SAR\n",
    "#  Checkpoint:   A16e\n",
    "#  Authors:      Lucio Villa, Sidney Novoa, Milagros Becerra,\n",
    "#                Andréa Puzzi Nicolau, Karen Dyson, Karis Tenneson, John Dilger\n",
    "#  ~~~~~~~~~~~~~~~~~~~~~~~~~~~~~~~~~~~~~~~~~~~~~~~~~~~~~~~~~~~~~~~~~~~~~~~~~~~~\n",
    "\n",
    "###########################\n",
    "# / Section Four\n",
    "###########################\n",
    "\n",
    "# Define the area of study.\n",
    "aoi = ee.FeatureCollection(\"projects/gee-book/assets/A1-8/mdd\")\n",
    "\n",
    "# Center the map.\n",
    "Map.centerObject(aoi, 10)\n",
    "\n",
    "# Create an empty image.\n",
    "empty = ee.Image().byte()\n",
    "\n",
    "# Convert the area of study to an EE image object so we can visualize\n",
    "# only the boundary.\n",
    "aoiOutline = empty.paint({\"featureCollection\": aoi, \"color\": 1, \"width\": 2})\n",
    "\n",
    "# Select the satellite basemap view.\n",
    "Map.setOptions(\"SATELLITE\")\n",
    "\n",
    "# Add the area of study boundary to the map.\n",
    "Map.addLayer(aoiOutline, {\"palette\": \"red\"}, \"Area of Study\")\n",
    "\n",
    "# Import the smap result from section 3.\n",
    "changeDetect = ee.Image(\"projects/gee-book/assets/A1-8/smap\")\n",
    "\n",
    "# Visualization parameters.\n",
    "countDates = 30\n",
    "jet = [\"black\", \"blue\", \"cyan\", \"yellow\", \"red\"]\n",
    "vis = {\"min\": 0, \"max\": countDates, \"palette\": jet}\n",
    "\n",
    "# Add results to the map.\n",
    "Map.addLayer(changeDetect, vis, \"Change Map Unfiltered\")\n",
    "\n",
    "# Digital Elevation Model SRTM.\n",
    "# https:#developers.google.com/earth-engine/datasets/catalog/USGS_SRTMGL1_003\n",
    "srtm = ee.Image(\"USGS/SRTMGL1_003\").clip(aoi)\n",
    "slope = ee.Terrain.slope(srtm)\n",
    "srtmVis = {\"min\": 0, \"max\": 1000, \"palette\": [\"black\", \"blue\", \"cyan\", \"yellow\", \"red\"]}\n",
    "Map.addLayer(srtm, srtmVis, \"SRTM Elevation\")\n",
    "slopeVis = {\"min\": 0, \"max\": 15, \"palette\": [\"black\", \"blue\", \"cyan\", \"yellow\", \"red\"]}\n",
    "Map.addLayer(slope, slopeVis, \"SRTM Slope\")\n",
    "\n",
    "# Hansen Global Forest Change v1.8 (2000-2020)\n",
    "# https:#developers.google.com/earth-engine/datasets/catalog/UMD_hansen_global_forest_change_2020_v1_8\n",
    "gfc = ee.Image(\"UMD/hansen/global_forest_change_2020_v1_8\").clip(aoi)\n",
    "forest2020 = (\n",
    "    gfc.select(\"treecover2000\").gt(0).updateMask(gfc.select(\"loss\").neq(1)).selfMask()\n",
    ")\n",
    "Map.addLayer(\n",
    "    forest2020, {\"min\": 0, \"max\": 1, \"palette\": [\"black\", \"green\"]}, \"Forest cover 2020\"\n",
    ")\n",
    "\n",
    "# JRC Yearly Water Classification History, v1.3 (Updated until Dec 2020).\n",
    "# https:#developers.google.com/earth-engine/datasets/catalog/JRC_GSW1_3_GlobalSurfaceWater\n",
    "waterJRC = ee.Image(\"JRC/GSW1_3/GlobalSurfaceWater\").select(\"max_extent\")\n",
    "waterVis = {\"min\": 0, \"max\": 1, \"palette\": [\"blue\", \"black\"]}\n",
    "Map.addLayer(waterJRC.eq(0), waterVis, \"Water Bodies until 2020\")\n",
    "\n",
    "# Apply filters through masks.\n",
    "alertsFiltered = (\n",
    "    changeDetect.updateMask(srtm.lt(1000))\n",
    "    .updateMask(slope.lt(15))\n",
    "    .updateMask(forest2020.eq(1))\n",
    "    .updateMask(waterJRC.eq(0))\n",
    "    .selfMask()\n",
    ")\n",
    "\n",
    "# Add filtered results to the map.\n",
    "Map.addLayer(\n",
    "    alertsFiltered,\n",
    "    {\"min\": 0, \"max\": countDates, \"palette\": jet},\n",
    "    \"Change Map Filtered\",\n",
    "    1,\n",
    ")\n",
    "\n",
    "\n",
    "# Function to filter small patches and isolated pixels.\n",
    "def filterMinPatchs(alerts0, minArea0, maxSize0):\n",
    "    pixelCount = alerts0.gt(0).connectedPixelCount(maxSize0)\n",
    "    minPixelCount = ee.Image(minArea0).divide(ee.Image.pixelArea())\n",
    "    return alerts0.updateMask(pixelCount.gte(minPixelCount))\n",
    "\n",
    "\n",
    "# Apply the function and visualize the filtered results.\n",
    "alertsFiltMinPatchs = filterMinPatchs(alertsFiltered, 10000, 200)\n",
    "\n",
    "Map.addLayer(alertsFiltMinPatchs, vis, \"Alerts Filtered - Minimum Patches\")\n",
    "\n",
    "# Export filtered results to the Drive.\n",
    "Export.image.toDrive(\n",
    "    {\n",
    "        \"image\": alertsFiltMinPatchs,\n",
    "        \"description\": \"alertsFiltered\",\n",
    "        \"folder\": \"alertsFiltered\",\n",
    "        \"region\": aoi,\n",
    "        \"scale\": 10,\n",
    "    }\n",
    ")\n",
    "\n",
    "# -----------------------------------------------------------------------\n",
    "# CHECKPOINT\n",
    "# -----------------------------------------------------------------------"
   ]
  },
  {
   "cell_type": "markdown",
   "metadata": {},
   "source": [
    "## Display the interactive map"
   ]
  },
  {
   "cell_type": "code",
   "execution_count": null,
   "metadata": {},
   "outputs": [],
   "source": [
    "Map"
   ]
  }
 ],
 "metadata": {
  "anaconda-cloud": {},
  "kernelspec": {
   "display_name": "Python 3",
   "language": "python",
   "name": "python3"
  },
  "language_info": {
   "codemirror_mode": {
    "name": "ipython",
    "version": 3
   },
   "file_extension": ".py",
   "mimetype": "text/x-python",
   "name": "python",
   "nbconvert_exporter": "python",
   "pygments_lexer": "ipython3",
   "version": "3.6.1"
  }
 },
 "nbformat": 4,
 "nbformat_minor": 4
}
