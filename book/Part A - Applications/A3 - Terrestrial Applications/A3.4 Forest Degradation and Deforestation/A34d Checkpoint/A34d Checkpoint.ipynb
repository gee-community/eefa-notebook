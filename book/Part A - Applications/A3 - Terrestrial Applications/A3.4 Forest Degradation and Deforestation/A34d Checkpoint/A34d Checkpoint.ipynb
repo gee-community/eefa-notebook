{
 "cells": [
  {
   "cell_type": "markdown",
   "metadata": {},
   "source": [
    "## Import libraries"
   ]
  },
  {
   "cell_type": "code",
   "execution_count": null,
   "metadata": {},
   "outputs": [],
   "source": [
    "import ee\n",
    "import geemap"
   ]
  },
  {
   "cell_type": "markdown",
   "metadata": {},
   "source": [
    "## Create an interactive map"
   ]
  },
  {
   "cell_type": "code",
   "execution_count": null,
   "metadata": {},
   "outputs": [],
   "source": [
    "Map = geemap.Map(center=[40, -100], zoom=4)"
   ]
  },
  {
   "cell_type": "markdown",
   "metadata": {},
   "source": [
    "## Add Earth Engine Python script"
   ]
  },
  {
   "cell_type": "code",
   "execution_count": null,
   "metadata": {},
   "outputs": [],
   "source": [
    "# Add Earth Engine dataset\n",
    "image = ee.Image(\"USGS/SRTMGL1_003\")\n",
    "\n",
    "#  ~~~~~~~~~~~~~~~~~~~~~~~~~~~~~~~~~~~~~~~~~~~~~~~~~~~~~~~~~~~~~~~~~~~~~~~\n",
    "#  Chapter:      A3.4 Forest Degradation and Deforestation\n",
    "#  Checkpoint:   A34d\n",
    "#  Author:       Carlos Souza Jr., Karis Tenneson, John Dilger,\n",
    "#                Crystal Wespestad, Eric Bullock\n",
    "#  ~~~~~~~~~~~~~~~~~~~~~~~~~~~~~~~~~~~~~~~~~~~~~~~~~~~~~~~~~~~~~~~~~~~~~~~\n",
    "\n",
    "api = require(\"users/bullocke/coded:CODED/api\")\n",
    "utils = require(\"projects/GLANCE:ccdcUtilities/api\")\n",
    "\n",
    "# ------------------------------------------------------------------------\n",
    "# CHECKPOINT\n",
    "# ------------------------------------------------------------------------\n",
    "\n",
    "# We will use the geometry of the image from the previous section as\n",
    "# the study area.\n",
    "studyArea = ee.Image(\"LANDSAT/LT05/C02/T1_L2/LT05_226068_19840411\").geometry()\n",
    "\n",
    "# Get cloud masked (Fmask) Landsat imagery.\n",
    "landsat = (\n",
    "    utils.Inputs.getLandsat()\n",
    "    .filterBounds(studyArea)\n",
    "    .filterDate(\"1984-01-01\", \"2021-01-01\")\n",
    ")\n",
    "\n",
    "# Make a forest mask\n",
    "gfwImage = ee.Image(\"UMD/hansen/global_forest_change_2019_v1_7\")\n",
    "\n",
    "# Get areas of forest cover above the threshold\n",
    "treeCover = 40\n",
    "forestMask = gfwImage.select(\"treecover2000\").gte(treeCover).rename(\"landcover\")\n",
    "\n",
    "samples = ee.FeatureCollection(\n",
    "    \"projects/gee-book/assets/A3-4/sample_with_pred_hansen_2010\"\n",
    ")\n",
    "\n",
    "minObservations = 4\n",
    "chiSquareProbability = 0.97\n",
    "training = samples\n",
    "forestValue = 1\n",
    "startYear = 1990\n",
    "endYear = 2020\n",
    "classBands = [\"NDFI\", \"GV\", \"Shade\", \"NPV\", \"Soil\"]\n",
    "prepTraining = False\n",
    "\n",
    "# ---------------- CODED parameters\n",
    "codedParams = {\n",
    "    \"minObservations\": minObservations,\n",
    "    \"chiSquareProbability\": chiSquareProbability,\n",
    "    \"training\": training,\n",
    "    \"studyArea\": studyArea,\n",
    "    forestValue: forestValue,\n",
    "    forestMask: forestMask,\n",
    "    \"classBands\": classBands,\n",
    "    \"collection\": landsat,\n",
    "    \"startYear\": startYear,\n",
    "    \"endYear\": endYear,\n",
    "    \"prepTraining\": prepTraining,\n",
    "}\n",
    "\n",
    "# -------------- Run CODED\n",
    "results = api.ChangeDetection.coded(codedParams)\n",
    "print(results)\n",
    "\n",
    "# ------------------------------------------------------------------------\n",
    "# CHECKPOINT\n",
    "# ------------------------------------------------------------------------"
   ]
  },
  {
   "cell_type": "markdown",
   "metadata": {},
   "source": [
    "## Display the interactive map"
   ]
  },
  {
   "cell_type": "code",
   "execution_count": null,
   "metadata": {},
   "outputs": [],
   "source": [
    "Map"
   ]
  }
 ],
 "metadata": {
  "anaconda-cloud": {},
  "kernelspec": {
   "display_name": "Python 3",
   "language": "python",
   "name": "python3"
  },
  "language_info": {
   "codemirror_mode": {
    "name": "ipython",
    "version": 3
   },
   "file_extension": ".py",
   "mimetype": "text/x-python",
   "name": "python",
   "nbconvert_exporter": "python",
   "pygments_lexer": "ipython3",
   "version": "3.6.1"
  }
 },
 "nbformat": 4,
 "nbformat_minor": 4
}
