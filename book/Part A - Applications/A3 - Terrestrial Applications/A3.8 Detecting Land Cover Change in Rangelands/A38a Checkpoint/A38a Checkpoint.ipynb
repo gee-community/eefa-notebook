{
 "cells": [
  {
   "cell_type": "markdown",
   "metadata": {},
   "source": [
    "## Import libraries"
   ]
  },
  {
   "cell_type": "code",
   "execution_count": null,
   "metadata": {},
   "outputs": [],
   "source": [
    "import ee\n",
    "import geemap"
   ]
  },
  {
   "cell_type": "markdown",
   "metadata": {},
   "source": [
    "## Create an interactive map"
   ]
  },
  {
   "cell_type": "code",
   "execution_count": null,
   "metadata": {},
   "outputs": [],
   "source": [
    "Map = geemap.Map(center=[40, -100], zoom=4)"
   ]
  },
  {
   "cell_type": "markdown",
   "metadata": {},
   "source": [
    "## Add Earth Engine Python script"
   ]
  },
  {
   "cell_type": "code",
   "execution_count": null,
   "metadata": {},
   "outputs": [],
   "source": [
    "# Add Earth Engine dataset\n",
    "image = ee.Image(\"USGS/SRTMGL1_003\")\n",
    "\n",
    "#  ~~~~~~~~~~~~~~~~~~~~~~~~~~~~~~~~~~~~~~~~~~~~~~~~~~~~~~~~~~~~~~~~~~~~~~~\n",
    "#  Chapter:      A3.8 Detecting Land Cover Change in Rangelands\n",
    "#  Checkpoint:   A38a\n",
    "#  Authors:      Ginger Allington, Natalie Kreitzer\n",
    "#  ~~~~~~~~~~~~~~~~~~~~~~~~~~~~~~~~~~~~~~~~~~~~~~~~~~~~~~~~~~~~~~~~~~~~~~~\n",
    "\n",
    "# Load the shapefile asset for the AOI as a Feature Collection\n",
    "aoi = ee.FeatureCollection(\n",
    "    'projects/gee-book/assets/A3-8/GEE_Ch_AOI')\n",
    "Map.centerObject(aoi, 11)\n",
    "Map.addLayer(aoi, {}, 'Subset of Naiman Banner')\n",
    "\n",
    "# Filter the MODIS Collection\n",
    "MODIS_LC = ee.ImageCollection('MODIS/006/MCD12Q1').select(\n",
    "    'LC_Type1')\n",
    "\n",
    "# Function to clip an image from the collection and set the year\n",
    "def clipCol(img):\n",
    "    date = ee.String(img.get('system:index'))\n",
    "    date = date.slice(0, 4)\n",
    "    return img.select('LC_Type1').clip(aoi) # .clip(aoi) \\\n",
    "        .set('year', date)\n",
    "\n",
    "\n",
    "# Generate images for diff years you want to compare\n",
    "modis01 = MODIS_LC.filterDate('2001-01-01', '2002-01-01').map(\n",
    "    clipCol)\n",
    "modis09 = MODIS_LC.filterDate('2009-01-01', '2010-01-01').map(\n",
    "    clipCol)\n",
    "modis16 = MODIS_LC.filterDate('2016-01-01', '2017-01-01').map(\n",
    "    clipCol)\n",
    "# Create an Image for each of the years\n",
    "modis01 = modis01.first()\n",
    "modis09 = modis09.first()\n",
    "modis16 = modis16.first()\n",
    "\n",
    "Map.addLayer(modis01.randomVisualizer(), {}, 'modis 2001', False)\n",
    "Map.addLayer(modis09.randomVisualizer(), {}, 'modis 2009', False)\n",
    "Map.addLayer(modis16.randomVisualizer(), {}, 'modis 2016', False)\n",
    "\n",
    "# Add and clip the WorldCover data\n",
    "wCov = ee.ImageCollection('ESA/WorldCover/v100').first()\n",
    "landcover20 = wCov.clip(aoi)\n",
    "Map.addLayer(landcover20, {}, 'Landcover 2020')\n",
    "\n",
    "# -----------------------------------------------------------------------\n",
    "# CHECKPOINT\n",
    "# -----------------------------------------------------------------------"
   ]
  },
  {
   "cell_type": "markdown",
   "metadata": {},
   "source": [
    "## Display the interactive map"
   ]
  },
  {
   "cell_type": "code",
   "execution_count": null,
   "metadata": {},
   "outputs": [],
   "source": [
    "Map"
   ]
  }
 ],
 "metadata": {
  "anaconda-cloud": {},
  "kernelspec": {
   "display_name": "Python 3",
   "language": "python",
   "name": "python3"
  },
  "language_info": {
   "codemirror_mode": {
    "name": "ipython",
    "version": 3
   },
   "file_extension": ".py",
   "mimetype": "text/x-python",
   "name": "python",
   "nbconvert_exporter": "python",
   "pygments_lexer": "ipython3",
   "version": "3.6.1"
  }
 },
 "nbformat": 4,
 "nbformat_minor": 4
}
