{
 "cells": [
  {
   "cell_type": "markdown",
   "metadata": {},
   "source": [
    "## Import libraries"
   ]
  },
  {
   "cell_type": "code",
   "execution_count": null,
   "metadata": {},
   "outputs": [],
   "source": [
    "import ee\n",
    "import geemap"
   ]
  },
  {
   "cell_type": "markdown",
   "metadata": {},
   "source": [
    "## Create an interactive map"
   ]
  },
  {
   "cell_type": "code",
   "execution_count": null,
   "metadata": {},
   "outputs": [],
   "source": [
    "Map = geemap.Map(center=[40, -100], zoom=4)"
   ]
  },
  {
   "cell_type": "markdown",
   "metadata": {},
   "source": [
    "## Add Earth Engine Python script"
   ]
  },
  {
   "cell_type": "code",
   "execution_count": null,
   "metadata": {},
   "outputs": [],
   "source": [
    "# Add Earth Engine dataset\n",
    "image = ee.Image(\"USGS/SRTMGL1_003\")\n",
    "\n",
    "\n",
    "# Function to calculate predicted ndvi and residuals from precipitation.\n",
    "def calcPredNdviAndResiduals(img1):\n",
    "    predNDVI = (\n",
    "        img1.select(\"scale\")\n",
    "        .multiply(img1.select(\"precipitation\"))\n",
    "        .add(img1.select(\"offset\"))\n",
    "        .rename(\"predictedNDVI\")\n",
    "    )\n",
    "    img1 = img1.addBands([predNDVI])\n",
    "    residual = (\n",
    "        img1.select(\"predictedNDVI\")\n",
    "        .subtract(img1.select(\"greenness\"))\n",
    "        .multiply(-1)\n",
    "        .toFloat()\n",
    "        .rename(\"residual\")\n",
    "    )\n",
    "    return img1.addBands([residual])\n",
    "\n",
    "\n",
    "# Prepares Collection to be run in LandTrendr subsetting Residual and Greenness.\n",
    "def compileresidualColl(image):\n",
    "    return image.select([\"residual\", \"greenness\"])\n",
    "\n",
    "\n",
    "# Combine Precipitation and Greenness Lists into Image Collection\n",
    "def createResidColl(greenColl, precipColl, aoi):\n",
    "\n",
    "    # set some params\n",
    "    startYear_Num = 1985\n",
    "    endYear_Num = 2019\n",
    "    numYears = endYear_Num - startYear_Num\n",
    "    startMonth = \"-01-01\"\n",
    "    endMonth = \"-12-31\"\n",
    "\n",
    "    # ----  HERE WE USE LISTS TO COMBINE the two Image Collections :\n",
    "    # Send GreennessColl to List to prepare integration of precip data.\n",
    "    greenestList = greenColl.toList(numYears + 1, 0)\n",
    "    precipList = precipColl.toList(numYears + 1, 0)\n",
    "\n",
    "    # Add precipitation band to greenest pixel composites.\n",
    "    greenestWprecipList = ee.List([])\n",
    "    for i in range(0, numYears, 1):\n",
    "        greenestThisYear = ee.Image(greenestList.get(i))\n",
    "        greenestThisYear = greenestThisYear.addBands(precipList.get(i))\n",
    "        greenestWprecipList = greenestWprecipList.add(greenestThisYear)\n",
    "\n",
    "    # Create New Image Collection of Precip and Greenest NDVI per Pixel per Year.\n",
    "    greenestWprecip = ee.ImageCollection(greenestWprecipList)\n",
    "\n",
    "    def aoi_clip(image):\n",
    "        return image.clip(aoi)\n",
    "\n",
    "    # Clips Images in Collection\n",
    "    greenestWprecipColl = greenestWprecip.map(aoi_clip)\n",
    "\n",
    "    # ----------- Regress Precipitation and Greenness per Year per AOI\n",
    "\n",
    "    # Precipitation vs ndvi regression.\n",
    "    linearFit = greenestWprecipColl.select([\"precipitation\", \"greenness\"]).reduce(\n",
    "        ee.Reducer.linearFit()\n",
    "    )\n",
    "\n",
    "    # Function to add a list of scale and offset from 'linearFit' to collection.\n",
    "    def addRegression2Collection(img):\n",
    "        scale = linearFit.select(\"scale\")\n",
    "        offset = linearFit.select(\"offset\")\n",
    "        return img.addBands([scale, offset])\n",
    "\n",
    "    # Add scale and offset as bands in greenestWprecipList collection.\n",
    "    greenestWprecipColl = greenestWprecipColl.map(addRegression2Collection)\n",
    "\n",
    "    # Calculate predicted ndvi and residuals.\n",
    "    greenestWprecipColl = greenestWprecipColl.map(calcPredNdviAndResiduals)\n",
    "    print(greenestWprecipColl, \"see all bands in here now\")\n",
    "    # FYI, this Image Collection now contains the following bands for each year:\n",
    "    # greeness\n",
    "    # precipitation\n",
    "    # scale\n",
    "    # offset\n",
    "    # predicted NDVI\n",
    "    # residual\n",
    "\n",
    "    # Maps compileresidualColl.\n",
    "    residualColl = greenestWprecipColl.map(compileresidualColl)\n",
    "\n",
    "    return residualColl\n",
    "\n",
    "\n",
    "exports.createResidColl = createResidColl\n",
    "\n",
    "# LGTM (nclinton)"
   ]
  },
  {
   "cell_type": "markdown",
   "metadata": {},
   "source": [
    "## Display the interactive map"
   ]
  },
  {
   "cell_type": "code",
   "execution_count": null,
   "metadata": {},
   "outputs": [],
   "source": [
    "Map"
   ]
  }
 ],
 "metadata": {
  "anaconda-cloud": {},
  "kernelspec": {
   "display_name": "Python 3",
   "language": "python",
   "name": "python3"
  },
  "language_info": {
   "codemirror_mode": {
    "name": "ipython",
    "version": 3
   },
   "file_extension": ".py",
   "mimetype": "text/x-python",
   "name": "python",
   "nbconvert_exporter": "python",
   "pygments_lexer": "ipython3",
   "version": "3.6.1"
  }
 },
 "nbformat": 4,
 "nbformat_minor": 4
}
