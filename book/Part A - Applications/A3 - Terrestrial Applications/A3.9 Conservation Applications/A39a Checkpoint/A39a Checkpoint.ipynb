{
 "cells": [
  {
   "cell_type": "markdown",
   "metadata": {},
   "source": [
    "## Import libraries"
   ]
  },
  {
   "cell_type": "code",
   "execution_count": null,
   "metadata": {},
   "outputs": [],
   "source": [
    "import ee\n",
    "import geemap"
   ]
  },
  {
   "cell_type": "markdown",
   "metadata": {},
   "source": [
    "## Create an interactive map"
   ]
  },
  {
   "cell_type": "code",
   "execution_count": null,
   "metadata": {},
   "outputs": [],
   "source": [
    "Map = geemap.Map(center=[40, -100], zoom=4)"
   ]
  },
  {
   "cell_type": "markdown",
   "metadata": {},
   "source": [
    "## Add Earth Engine Python script"
   ]
  },
  {
   "cell_type": "code",
   "execution_count": null,
   "metadata": {},
   "outputs": [],
   "source": [
    "# Add Earth Engine dataset\n",
    "image = ee.Image(\"USGS/SRTMGL1_003\")\n",
    "\n",
    "#  ~~~~~~~~~~~~~~~~~~~~~~~~~~~~~~~~~~~~~~~~~~~~~~~~~~~~~~~~~~~~~~~~~~~~~~~\n",
    "#  Chapter:      Chapter A3.9 Conservation Applications - Assessing the\n",
    "#                spatial relationship between burned area and precipitation\n",
    "#  Checkpoint:   A39a\n",
    "#  Authors:      Harriet Branson, Chelsea Smith\n",
    "#  ~~~~~~~~~~~~~~~~~~~~~~~~~~~~~~~~~~~~~~~~~~~~~~~~~~~~~~~~~~~~~~~~~~~~~~~\n",
    "\n",
    "# ** Upload the area of interest ** #\n",
    "AOI = ee.Geometry.Polygon([\n",
    "    [\n",
    "        [37.72, -11.22],\n",
    "        [38.49, -11.22],\n",
    "        [38.49, -12.29],\n",
    "        [37.72, -12.29]\n",
    "    ]\n",
    "])\n",
    "Map.centerObject(AOI, 9)\n",
    "Map.addLayer(AOI, {\n",
    "    'color': 'white'\n",
    "}, 'Area of interest')\n",
    "\n",
    "# ** MODIS Monthly Burn Area ** #\n",
    "\n",
    "# Load in the MODIS Monthly Burned Area dataset.\n",
    "dataset = ee.ImageCollection('MODIS/006/MCD64A1') \\\n",
    "    .filter(ee.Filter.date('2010-01-01', '2021-12-31'))\n",
    "\n",
    "# Select the BurnDate band from the images in the collection.\n",
    "MODIS_BurnDate = dataset.select('BurnDate')\n",
    "\n",
    "# A function that will calculate the area of pixels in each image by date.\n",
    "def addArea(img):\n",
    "    area = ee.Image.pixelArea() \\\n",
    "        .updateMask(\n",
    "            img\n",
    "        ) # Limit area calculation to areas that have burned data. \\\n",
    "        .divide(1e6) \\\n",
    "        .clip(AOI) \\\n",
    "        .reduceRegion({\n",
    "            'reducer': ee.Reducer.sum(),\n",
    "            'geometry': AOI,\n",
    "            'scale': 500,\n",
    "            'bestEffort': True\n",
    "        }).getNumber(\n",
    "            'area'\n",
    "        ); # Retrieve area from the reduce region calculation.\n",
    "    # Add a new band to each image in the collection named area.\n",
    "    return img.addBands(ee.Image(area).rename('area'))\n",
    "\n",
    "\n",
    "# Apply function on image collection.\n",
    "burnDateArea = MODIS_BurnDate.map(addArea)\n",
    "\n",
    "# Select only the area band as we are using system time for date.\n",
    "burnedArea = burnDateArea.select('area')\n",
    "\n",
    "# Create a chart that shows the total burned area over time.\n",
    "burnedAreaChart =\n",
    "    ui.Chart.image \\\n",
    "    .series({\n",
    "        'imageCollection': burnedArea, # Our image collection.\n",
    "        'region': AOI,\n",
    "        'reducer': ee.Reducer.mean(),\n",
    "        'scale': 500,\n",
    "        'xProperty': 'system:time_start' # time\n",
    "    }) \\\n",
    "    .setSeriesNames(['Area']) \\\n",
    "    .setOptions({\n",
    "        'title': 'Total monthly area burned in AOI',\n",
    "        'hAxis': {\n",
    "            'title': 'Date', # The x axis label.\n",
    "            format: 'YYYY', # Years only for date format.\n",
    "            'gridlines': {\n",
    "                'count': 12\n",
    "            },\n",
    "            'titleTextStyle': {\n",
    "                'italic': False,\n",
    "                'bold': True\n",
    "            }\n",
    "        },\n",
    "        'vAxis': {\n",
    "            'title': 'Total burned area (km²)', # The y-axis label\n",
    "            'maxValue': 2250, # The bounds for y-axis\n",
    "            'minValue': 0,\n",
    "            'titleTextStyle': {\n",
    "                'italic': False,\n",
    "                'bold': True\n",
    "            }\n",
    "        },\n",
    "        'lineWidth': 1.5,\n",
    "        'colors': ['d74b46'], # The line color\n",
    "    })\n",
    "print(burnedAreaChart)\n",
    "\n",
    "# -----------------------------------------------------------------------\n",
    "# CHECKPOINT\n",
    "# -----------------------------------------------------------------------"
   ]
  },
  {
   "cell_type": "markdown",
   "metadata": {},
   "source": [
    "## Display the interactive map"
   ]
  },
  {
   "cell_type": "code",
   "execution_count": null,
   "metadata": {},
   "outputs": [],
   "source": [
    "Map"
   ]
  }
 ],
 "metadata": {
  "anaconda-cloud": {},
  "kernelspec": {
   "display_name": "Python 3",
   "language": "python",
   "name": "python3"
  },
  "language_info": {
   "codemirror_mode": {
    "name": "ipython",
    "version": 3
   },
   "file_extension": ".py",
   "mimetype": "text/x-python",
   "name": "python",
   "nbconvert_exporter": "python",
   "pygments_lexer": "ipython3",
   "version": "3.6.1"
  }
 },
 "nbformat": 4,
 "nbformat_minor": 4
}
