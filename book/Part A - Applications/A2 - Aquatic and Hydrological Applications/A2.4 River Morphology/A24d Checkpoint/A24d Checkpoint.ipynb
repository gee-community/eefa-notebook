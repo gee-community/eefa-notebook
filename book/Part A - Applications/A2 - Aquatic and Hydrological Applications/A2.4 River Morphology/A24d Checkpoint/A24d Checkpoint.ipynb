{
 "cells": [
  {
   "cell_type": "markdown",
   "metadata": {},
   "source": [
    "## Import libraries"
   ]
  },
  {
   "cell_type": "code",
   "execution_count": null,
   "metadata": {},
   "outputs": [],
   "source": [
    "import ee\n",
    "import geemap"
   ]
  },
  {
   "cell_type": "markdown",
   "metadata": {},
   "source": [
    "## Create an interactive map"
   ]
  },
  {
   "cell_type": "code",
   "execution_count": null,
   "metadata": {},
   "outputs": [],
   "source": [
    "Map = geemap.Map(center=[40, -100], zoom=4)"
   ]
  },
  {
   "cell_type": "markdown",
   "metadata": {},
   "source": [
    "## Add Earth Engine Python script"
   ]
  },
  {
   "cell_type": "code",
   "execution_count": null,
   "metadata": {},
   "outputs": [],
   "source": [
    "# Add Earth Engine dataset\n",
    "image = ee.Image(\"USGS/SRTMGL1_003\")\n",
    "\n",
    "#  ~~~~~~~~~~~~~~~~~~~~~~~~~~~~~~~~~~~~~~~~~~~~~~~~~~~~~~~~~~~~~~~~~~~~~~~~~~~~~\n",
    "#  Chapter:      A2.4 River Morphology\n",
    "#  Checkpoint:   A24d\n",
    "#  Authors:      Xiao Yang, Theodore Langhorst, Tamlin M. Pavelsky\n",
    "#  ~~~~~~~~~~~~~~~~~~~~~~~~~~~~~~~~~~~~~~~~~~~~~~~~~~~~~~~~~~~~~~~~~~~~~~~~~~~~~\n",
    "\n",
    "# Include the helper function getUTMProj introduced at the beginning\n",
    "# of the chapter in Code Checkpoint A24a.\n",
    "def getUTMProj(lon, lat):\n",
    "    # Given longitude and latitude in decimal degrees,\n",
    "    # return EPSG string for the corresponding UTM projection. See:\n",
    "    # https:#apollomapping.com/blog/gtm-finding-a-utm-zone-number-easily\n",
    "    # https:#sis.apache.Org/faq.html\n",
    "    utmCode = ee.Number(lon).add(180).divide(6).ceil().int()\n",
    "    output = ee.Algorithms.If({\n",
    "        'condition': ee.Number(lat).gte(0),\n",
    "        'TrueCase': ee.String('EPSG:326').cat(utmCode \\\n",
    "            .format('%02d')),\n",
    "        'FalseCase': ee.String('EPSG:327').cat(utmCode \\\n",
    "            .format('%02d'))\n",
    "    })\n",
    "    return (output)\n",
    "\n",
    "\n",
    "# IMPORT AND VISUALIZE SURFACE WATER MASK\n",
    "# Surface water occurrence dataset from the JRC (Pekel et al., 2016).\n",
    "jrcYearly = ee.ImageCollection('JRC/GSW1_3/YearlyHistory')\n",
    "poi = ee.Geometry.LineString([\n",
    "    [110.77450764660864, 30.954167027937988],\n",
    "    [110.77158940320044, 30.950633845897112]\n",
    "])\n",
    "\n",
    "rwcFunction = require(\n",
    "    'users/eeProject/RivWidthCloudPaper:rwc_watermask.js')\n",
    "\n",
    "# Function to identify the nearest river width to a given location.\n",
    "def GetNearestClGen(poi):\n",
    "    def temp(widths):\n",
    "\n",
    "def func_kck(f):\n",
    "            return f.set('dist2cl', f.distance(poi,\n",
    "                30))\n",
    "\n",
    "        widths = widths.map(func_kck)\n",
    "\n",
    "\n",
    "\n",
    "\n",
    "\n",
    "        return ee.Feature(widths.sort('dist2cl', True) \\\n",
    "            .first())\n",
    "    \n",
    "    return temp\n",
    "\n",
    "getNearestCl = GetNearestClGen(poi)\n",
    "\n",
    "# Multitemporal width extraction.\n",
    "polygon = poi.buffer(2000)\n",
    "coords = poi.centroid().coordinates()\n",
    "lon = coords.get(0)\n",
    "lat = coords.get(1)\n",
    "crs = getUTMProj(lon, lat)\n",
    "scale = ee.Number(30)\n",
    "\n",
    "\n",
    "def func_qhz(i):\n",
    "    watermask = i.gte(2).unmask(0)\n",
    "\n",
    "    watermask = ee.Image(watermask.rename(['waterMask']) \\\n",
    "        .setMulti({\n",
    "            'crs': crs,\n",
    "            'scale': scale,\n",
    "            'image_id': i.getNumber('year')\n",
    "        }))\n",
    "    rwc = rwcFunction.rwGen_waterMask(2000, 333, 300,\n",
    "        polygon)\n",
    "    widths = rwc(watermask) \\\n",
    "        .filter(ee.Filter.eq('endsInWater', 0)) \\\n",
    "        .filter(ee.Filter.eq('endsOverEdge', 0))\n",
    "\n",
    "    return ee.Algorithms.If(widths.size(), getNearestCl(\n",
    "        widths), None)\n",
    "\n",
    "multiwidths = ee.FeatureCollection(jrcYearly.map(func_qhz\n",
    ", True))\n",
    "\n",
    "\n",
    "\n",
    "\n",
    "\n",
    "\n",
    "\n",
    "\n",
    "\n",
    "\n",
    "\n",
    "\n",
    "\n",
    "\n",
    "\n",
    "\n",
    ", True))\n",
    "\n",
    "widthTs = ui.Chart.feature.byFeature(multiwidths, 'image_id', [\n",
    "        'width'\n",
    "    ]) \\\n",
    "    .setOptions({\n",
    "        'hAxis': {\n",
    "            'title': 'Year',\n",
    "            format: '####'\n",
    "        },\n",
    "        'vAxis': {\n",
    "            'title': 'Width (meter)'\n",
    "        },\n",
    "        'title': 'River width time series upstream of the Three Gorges Dam'\n",
    "    })\n",
    "print(widthTs)\n",
    "\n",
    "Map.centerObject(polygon)\n",
    "Map.addLayer(polygon, {}, 'area of width calculation')\n",
    "\n",
    "# ------------------------------------------------------------------------------\n",
    "# CHECKPOINT\n",
    "# ------------------------------------------------------------------------------"
   ]
  },
  {
   "cell_type": "markdown",
   "metadata": {},
   "source": [
    "## Display the interactive map"
   ]
  },
  {
   "cell_type": "code",
   "execution_count": null,
   "metadata": {},
   "outputs": [],
   "source": [
    "Map"
   ]
  }
 ],
 "metadata": {
  "anaconda-cloud": {},
  "kernelspec": {
   "display_name": "Python 3",
   "language": "python",
   "name": "python3"
  },
  "language_info": {
   "codemirror_mode": {
    "name": "ipython",
    "version": 3
   },
   "file_extension": ".py",
   "mimetype": "text/x-python",
   "name": "python",
   "nbconvert_exporter": "python",
   "pygments_lexer": "ipython3",
   "version": "3.6.1"
  }
 },
 "nbformat": 4,
 "nbformat_minor": 4
}
