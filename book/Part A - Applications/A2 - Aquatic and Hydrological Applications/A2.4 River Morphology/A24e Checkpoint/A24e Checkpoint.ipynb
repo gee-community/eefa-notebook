{
 "cells": [
  {
   "cell_type": "markdown",
   "metadata": {},
   "source": [
    "## Import libraries"
   ]
  },
  {
   "cell_type": "code",
   "execution_count": null,
   "metadata": {},
   "outputs": [],
   "source": [
    "import ee\n",
    "import geemap"
   ]
  },
  {
   "cell_type": "markdown",
   "metadata": {},
   "source": [
    "## Create an interactive map"
   ]
  },
  {
   "cell_type": "code",
   "execution_count": null,
   "metadata": {},
   "outputs": [],
   "source": [
    "Map = geemap.Map(center=[40, -100], zoom=4)"
   ]
  },
  {
   "cell_type": "markdown",
   "metadata": {},
   "source": [
    "## Add Earth Engine Python script"
   ]
  },
  {
   "cell_type": "code",
   "execution_count": null,
   "metadata": {},
   "outputs": [],
   "source": [
    "# Add Earth Engine dataset\n",
    "image = ee.Image(\"USGS/SRTMGL1_003\")\n",
    "\n",
    "#*** Start of imports. If edited, may not auto-convert in the playground. ***#\n",
    "jrcYearly = ee.ImageCollection(\"JRC/GSW1_3/YearlyHistory\"),\n",
    "    aoi =\n",
    "\n",
    "    # shown: False #\n",
    "    # displayProperties: [\n",
    "      {\n",
    "        \"type\": \"rectangle\"\n",
    "      }\n",
    "    ] #\n",
    "    ee.Geometry.Polygon(\n",
    "        [[[-66.75498758257174, -11.090110301403685],\n",
    "          [-66.75498758257174, -11.258517279582335],\n",
    "          [-66.56650339067721, -11.258517279582335],\n",
    "          [-66.56650339067721, -11.090110301403685]]], None, False),\n",
    "    sword = ee.FeatureCollection(\"projects/gee-book/assets/A2-4/SWORD\")\n",
    "#**** End of imports. If edited, may not auto-convert in the playground. ****#\n",
    "#  ~~~~~~~~~~~~~~~~~~~~~~~~~~~~~~~~~~~~~~~~~~~~~~~~~~~~~~~~~~~~~~~~~~~~~~~~~~~~~\n",
    "#  Chapter:      A2.4 River Morphology\n",
    "#  Checkpoint:   A24e\n",
    "#  Authors:      Xiao Yang, Theodore Langhorst, Tamlin M. Pavelsky\n",
    "#  ~~~~~~~~~~~~~~~~~~~~~~~~~~~~~~~~~~~~~~~~~~~~~~~~~~~~~~~~~~~~~~~~~~~~~~~~~~~~~\n",
    "\n",
    "def getUTMProj(lon, lat):\n",
    "    # Given longitude and latitude in decimal degrees,\n",
    "    # return EPSG string for the corresponding UTM projection. See:\n",
    "    # https:#apollomapping.com/blog/gtm-finding-a-utm-zone-number-easily\n",
    "    # https:#sis.apache.Org/faq.html\n",
    "    utmCode = ee.Number(lon).add(180).divide(6).ceil().int()\n",
    "    output = ee.Algorithms.If({\n",
    "        'condition': ee.Number(lat).gte(0),\n",
    "        'TrueCase': ee.String('EPSG:326').cat(utmCode \\\n",
    "            .format('%02d')),\n",
    "        'FalseCase': ee.String('EPSG:327').cat(utmCode \\\n",
    "            .format('%02d'))\n",
    "    })\n",
    "    return (output)\n",
    "\n",
    "\n",
    "coords = aoi.centroid(30).coordinates()\n",
    "lon = coords.get(0)\n",
    "lat = coords.get(1)\n",
    "crs = getUTMProj(lon, lat)\n",
    "scale = 30\n",
    "\n",
    "def rpj(image):\n",
    "    return image.reproject({\n",
    "        'crs': crs,\n",
    "        'scale': scale\n",
    "    })\n",
    "\n",
    "\n",
    "distanceKernel = ee.Kernel.euclidean({\n",
    "    'radius': 30,\n",
    "    'units': 'meters',\n",
    "    'magnitude': 0.5\n",
    "})\n",
    "\n",
    "def makeChannelmask(year):\n",
    "    watermask = jrcYearly.filter(ee.Filter.eq('year', year)) \\\n",
    "        .first() \\\n",
    "        .gte(2).unmask() \\\n",
    "        .focal_max().focal_min() \\\n",
    "        .rename('watermask')\n",
    "\n",
    "    barPolys = watermask.Not().selfMask() \\\n",
    "        .reduceToVectors({\n",
    "            'geometry': aoi,\n",
    "            'scale': 30,\n",
    "            'eightConnected': False\n",
    "        }) \\\n",
    "        .filter(ee.Filter.lte('count', 1E4)); \n",
    "\n",
    "    filled = watermask.paint(barPolys, 1).rename('filled')\n",
    "\n",
    "    costmap = filled.Not().cumulativeCost({\n",
    "        'source': watermask.And(ee.Image().toByte().paint(\n",
    "            sword, 1)),\n",
    "        'maxDistance': 5E3,\n",
    "        'geodeticDistance': False\n",
    "    }).rename('costmap')\n",
    "\n",
    "    rivermask = costmap.eq(0).rename('rivermask')\n",
    "    channelmask = rivermask.And(watermask).rename(\n",
    "        'channelmask')\n",
    "\n",
    "    bankMask = channelmask.focal_max(1).neq(channelmask) \\\n",
    "        .rename('bankMask')\n",
    "    bankDistance = channelmask.Not().cumulativeCost({\n",
    "        'source': channelmask,\n",
    "        'maxDistance': 1E2,\n",
    "        'geodeticDistance': False\n",
    "    })\n",
    "    bankAspect = ee.Terrain.aspect(bankDistance).mask(\n",
    "        bankMask).rename('bankAspect')\n",
    "\n",
    "    bankLength = bankMask.convolve(distanceKernel) \\\n",
    "        .mask(bankMask).rename('bankLength')\n",
    "\n",
    "    return ee.Image.cat([\n",
    "            watermask, channelmask, rivermask, bankMask,\n",
    "            bankAspect, bankLength\n",
    "        ]).set('year', year) \\\n",
    "        .clip(aoi)\n",
    "\n",
    "\n",
    "# ------------------------------------------------------------------------------\n",
    "# CHECKPOINT\n",
    "# ------------------------------------------------------------------------------"
   ]
  },
  {
   "cell_type": "markdown",
   "metadata": {},
   "source": [
    "## Display the interactive map"
   ]
  },
  {
   "cell_type": "code",
   "execution_count": null,
   "metadata": {},
   "outputs": [],
   "source": [
    "Map"
   ]
  }
 ],
 "metadata": {
  "anaconda-cloud": {},
  "kernelspec": {
   "display_name": "Python 3",
   "language": "python",
   "name": "python3"
  },
  "language_info": {
   "codemirror_mode": {
    "name": "ipython",
    "version": 3
   },
   "file_extension": ".py",
   "mimetype": "text/x-python",
   "name": "python",
   "nbconvert_exporter": "python",
   "pygments_lexer": "ipython3",
   "version": "3.6.1"
  }
 },
 "nbformat": 4,
 "nbformat_minor": 4
}
