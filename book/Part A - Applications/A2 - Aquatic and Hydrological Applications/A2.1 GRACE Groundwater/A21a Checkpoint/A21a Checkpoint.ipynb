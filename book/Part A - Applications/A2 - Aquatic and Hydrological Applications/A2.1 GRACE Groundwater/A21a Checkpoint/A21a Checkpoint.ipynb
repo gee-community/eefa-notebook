{
 "cells": [
  {
   "cell_type": "markdown",
   "metadata": {},
   "source": [
    "## Import libraries"
   ]
  },
  {
   "cell_type": "code",
   "execution_count": null,
   "metadata": {},
   "outputs": [],
   "source": [
    "import ee\n",
    "import geemap"
   ]
  },
  {
   "cell_type": "markdown",
   "metadata": {},
   "source": [
    "## Create an interactive map"
   ]
  },
  {
   "cell_type": "code",
   "execution_count": null,
   "metadata": {},
   "outputs": [],
   "source": [
    "Map = geemap.Map(center=[40, -100], zoom=4)"
   ]
  },
  {
   "cell_type": "markdown",
   "metadata": {},
   "source": [
    "## Add Earth Engine Python script"
   ]
  },
  {
   "cell_type": "code",
   "execution_count": null,
   "metadata": {},
   "outputs": [],
   "source": [
    "# Add Earth Engine dataset\n",
    "image = ee.Image(\"USGS/SRTMGL1_003\")\n",
    "\n",
    "#  ~~~~~~~~~~~~~~~~~~~~~~~~~~~~~~~~~~~~~~~~~~~~~~~~~~~~~~~~~~~~~~~~~~~~~~~\n",
    "#  Chapter:      A2.1 Groundwater Monitoring with GRACE\n",
    "#  Checkpoint:   A21a\n",
    "#  Authors:      A.J. Purdy, J.S. Famiglietti\n",
    "#  ~~~~~~~~~~~~~~~~~~~~~~~~~~~~~~~~~~~~~~~~~~~~~~~~~~~~~~~~~~~~~~~~~~~~~~~\n",
    "\n",
    "# Import Basins.\n",
    "basins = ee.FeatureCollection(\"USGS/WBD/2017/HUC04\")\n",
    "\n",
    "# Extract the 3 HUC 04 basins for the Central Valley.\n",
    "codes = [\"1802\", \"1803\", \"1804\"]\n",
    "basin = basins.filter(ee.Filter.inList(\"huc4\", codes))\n",
    "\n",
    "# Add the basin to the map to show the extent of our analysis.\n",
    "Map.centerObject(basin, 6)\n",
    "Map.addLayer(basin, {\"color\": \"green\"}, \"Central Valley Basins\", True, 0.5)\n",
    "\n",
    "landcover = (\n",
    "    ee.ImageCollection(\"USDA/NASS/CDL\")\n",
    "    .filter(ee.Filter.date(\"2019-01-01\", \"2019-12-31\"))\n",
    "    .select(\"cultivated\")\n",
    ")\n",
    "\n",
    "Map.addLayer(landcover.first().clip(basin), {}, \"Cropland\", True, 0.5)\n",
    "\n",
    "# This table was generated using the index from the CDEC website\n",
    "res = ee.FeatureCollection(\"projects/gee-book/assets/A2-1/ca_reservoirs_index\")\n",
    "# Filter reservoir locations by the Central Valley geometry\n",
    "res_cv = res.filterBounds(basin)\n",
    "Map.addLayer(res_cv, {\"color\": \"blue\"}, \"Reservoirs\")\n",
    "\n",
    "# -----------------------------------------------------------------------\n",
    "# CHECKPOINT\n",
    "# -----------------------------------------------------------------------"
   ]
  },
  {
   "cell_type": "markdown",
   "metadata": {},
   "source": [
    "## Display the interactive map"
   ]
  },
  {
   "cell_type": "code",
   "execution_count": null,
   "metadata": {},
   "outputs": [],
   "source": [
    "Map"
   ]
  }
 ],
 "metadata": {
  "anaconda-cloud": {},
  "kernelspec": {
   "display_name": "Python 3",
   "language": "python",
   "name": "python3"
  },
  "language_info": {
   "codemirror_mode": {
    "name": "ipython",
    "version": 3
   },
   "file_extension": ".py",
   "mimetype": "text/x-python",
   "name": "python",
   "nbconvert_exporter": "python",
   "pygments_lexer": "ipython3",
   "version": "3.6.1"
  }
 },
 "nbformat": 4,
 "nbformat_minor": 4
}
