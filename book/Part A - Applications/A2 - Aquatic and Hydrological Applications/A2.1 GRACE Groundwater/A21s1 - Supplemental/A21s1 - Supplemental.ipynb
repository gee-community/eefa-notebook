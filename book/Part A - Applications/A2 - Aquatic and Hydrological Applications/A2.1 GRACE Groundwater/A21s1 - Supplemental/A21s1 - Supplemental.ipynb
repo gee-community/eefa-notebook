{
 "cells": [
  {
   "cell_type": "markdown",
   "metadata": {},
   "source": [
    "## Import libraries"
   ]
  },
  {
   "cell_type": "code",
   "execution_count": null,
   "metadata": {},
   "outputs": [],
   "source": [
    "import ee\n",
    "import geemap"
   ]
  },
  {
   "cell_type": "markdown",
   "metadata": {},
   "source": [
    "## Create an interactive map"
   ]
  },
  {
   "cell_type": "code",
   "execution_count": null,
   "metadata": {},
   "outputs": [],
   "source": [
    "Map = geemap.Map(center=[40, -100], zoom=4)"
   ]
  },
  {
   "cell_type": "markdown",
   "metadata": {},
   "source": [
    "## Add Earth Engine Python script"
   ]
  },
  {
   "cell_type": "code",
   "execution_count": null,
   "metadata": {},
   "outputs": [],
   "source": [
    "# Add Earth Engine dataset\n",
    "image = ee.Image(\"USGS/SRTMGL1_003\")\n",
    "\n",
    "#  ~~~~~~~~~~~~~~~~~~~~~~~~~~~~~~~~~~~~~~~~~~~~~~~~~~~~~~~~~~~~~~~~~~~~~~~\n",
    "#  Chapter:      A2.1 Groundwater Monitoring with GRACE\n",
    "#  Section:      Section 3 (A21s1 - Supplemental)\n",
    "#  Authors:      A.J. Purdy, J.S. Famiglietti\n",
    "#  ~~~~~~~~~~~~~~~~~~~~~~~~~~~~~~~~~~~~~~~~~~~~~~~~~~~~~~~~~~~~~~~~~~~~~~~\n",
    "\n",
    "# The basins feature is being used to subset GLDAS geographically\n",
    "# The first 7 lines are set for California.\n",
    "# A user will need to adjust the basin to reflect another region\n",
    "basins = ee.FeatureCollection(\"USGS/WBD/2017/HUC04\")\n",
    "# Extract the 3 HUC 04 basins for the Central Valley.\n",
    "codes = [\"1802\", \"1803\", \"1804\"]\n",
    "basin = basins.filter(ee.Filter.inList(\"huc4\", codes))\n",
    "\n",
    "# Set start / end year.\n",
    "yrStart = 2003\n",
    "yrEnd = 2016\n",
    "years = ee.List.sequence(yrStart, yrEnd)\n",
    "\n",
    "# The varBand variable is set to evaluated Snow Water Equivalent.\n",
    "# Need to adjust to export Soil Moisture (SM_inst)\n",
    "varBand = \"SWE_inst\"\n",
    "\n",
    "waterstorage = (\n",
    "    ee.ImageCollection(\"NASA/GLDAS/V021/NOAH/G025/T3H\")\n",
    "    .select(varBand)\n",
    "    .filterDate(\n",
    "        {\"start\": ee.Date.fromYMD(yrStart, 1, 1), \"end\": ee.Date.fromYMD(yrEnd, 12, 1)}\n",
    "    )\n",
    ")\n",
    "waterstorage_mean = waterstorage.select(varBand).mean()\n",
    "print(waterstorage_mean)\n",
    "\n",
    "y = 2003\n",
    "date = ee.Date.fromYMD(y, 1, 1)\n",
    "\n",
    "waterstorageIC = ee.Image(\n",
    "    ee.ImageCollection(\"NASA/GLDAS/V021/NOAH/G025/T3H\")\n",
    "    .select(varBand)\n",
    "    .filter(ee.Filter.calendarRange(y, y, \"year\"))\n",
    "    .mean()\n",
    ")\n",
    "print(waterstorageIC)\n",
    "\n",
    "waterstorage_out = ee.Image(\n",
    "    waterstorageIC.subtract(waterstorage_mean)\n",
    "    .set(\"year\", y)\n",
    "    .set(\"system:time_start\", date)\n",
    ")\n",
    "print(waterstorage_out)\n",
    "\n",
    "# Change the assetId & description below to reflect the variable being exported.\n",
    "# These should be changed to reflect SM, SWE, Can etc.\n",
    "\n",
    "Export.image.toAsset(\n",
    "    {\n",
    "        \"image\": waterstorage_out,\n",
    "        \"description\": \"swe2003\",\n",
    "        \"assetId\": \"swe2003\",\n",
    "        \"region\": basin,\n",
    "        \"scale\": 10000,\n",
    "        \"maxPixels\": 1e13,\n",
    "    }\n",
    ")"
   ]
  },
  {
   "cell_type": "markdown",
   "metadata": {},
   "source": [
    "## Display the interactive map"
   ]
  },
  {
   "cell_type": "code",
   "execution_count": null,
   "metadata": {},
   "outputs": [],
   "source": [
    "Map"
   ]
  }
 ],
 "metadata": {
  "anaconda-cloud": {},
  "kernelspec": {
   "display_name": "Python 3",
   "language": "python",
   "name": "python3"
  },
  "language_info": {
   "codemirror_mode": {
    "name": "ipython",
    "version": 3
   },
   "file_extension": ".py",
   "mimetype": "text/x-python",
   "name": "python",
   "nbconvert_exporter": "python",
   "pygments_lexer": "ipython3",
   "version": "3.6.1"
  }
 },
 "nbformat": 4,
 "nbformat_minor": 4
}
