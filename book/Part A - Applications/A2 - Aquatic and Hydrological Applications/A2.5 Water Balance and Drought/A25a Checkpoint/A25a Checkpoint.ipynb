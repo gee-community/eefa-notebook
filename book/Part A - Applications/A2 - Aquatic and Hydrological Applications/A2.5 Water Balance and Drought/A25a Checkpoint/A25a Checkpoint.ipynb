{
 "cells": [
  {
   "cell_type": "markdown",
   "metadata": {},
   "source": [
    "## Import libraries"
   ]
  },
  {
   "cell_type": "code",
   "execution_count": null,
   "metadata": {},
   "outputs": [],
   "source": [
    "import ee\n",
    "import geemap"
   ]
  },
  {
   "cell_type": "markdown",
   "metadata": {},
   "source": [
    "## Create an interactive map"
   ]
  },
  {
   "cell_type": "code",
   "execution_count": null,
   "metadata": {},
   "outputs": [],
   "source": [
    "Map = geemap.Map(center=[40, -100], zoom=4)"
   ]
  },
  {
   "cell_type": "markdown",
   "metadata": {},
   "source": [
    "## Add Earth Engine Python script"
   ]
  },
  {
   "cell_type": "code",
   "execution_count": null,
   "metadata": {},
   "outputs": [],
   "source": [
    "# Add Earth Engine dataset\n",
    "image = ee.Image(\"USGS/SRTMGL1_003\")\n",
    "\n",
    "#  ~~~~~~~~~~~~~~~~~~~~~~~~~~~~~~~~~~~~~~~~~~~~~~~~~~~~~~~~~~~~~~~~~~~~~~~~~~~~~~~~~~\n",
    "#  Chapter:      A2.5 Water Balance and Drought\n",
    "#  Checkpoint:   A25a\n",
    "#  Authors:      Ate Poortinga, Quyen Nguyen, Nyein Soe Thwal, Andréa Puzzi Nicolau\n",
    "#  ~~~~~~~~~~~~~~~~~~~~~~~~~~~~~~~~~~~~~~~~~~~~~~~~~~~~~~~~~~~~~~~~~~~~~~~~~~~~~~~~~~\n",
    "\n",
    "# Import the Lower Mekong boundary.\n",
    "mekongBasin = ee.FeatureCollection(\n",
    "    'projects/gee-book/assets/A2-5/lowerMekongBasin')\n",
    "\n",
    "# Center the map.\n",
    "Map.centerObject(mekongBasin, 5)\n",
    "\n",
    "# Add the Lower Mekong Basin boundary to the map.\n",
    "Map.addLayer(mekongBasin, {}, 'Lower Mekong basin')\n",
    "\n",
    "# Set start and end years.\n",
    "startYear = 2010\n",
    "endYear = 2020\n",
    "\n",
    "# Create two date objects for start and end years.\n",
    "startDate = ee.Date.fromYMD(startYear, 1, 1)\n",
    "endDate = ee.Date.fromYMD(endYear + 1, 1, 1)\n",
    "\n",
    "# Make a list with years.\n",
    "years = ee.List.sequence(startYear, endYear)\n",
    "\n",
    "# Make a list with months.\n",
    "months = ee.List.sequence(1, 12)\n",
    "\n",
    "# Import the CHIRPS dataset.\n",
    "CHIRPS = ee.ImageCollection('UCSB-CHG/CHIRPS/PENTAD')\n",
    "\n",
    "# Filter for the relevant time period.\n",
    "CHIRPS = CHIRPS.filterDate(startDate, endDate)\n",
    "\n",
    "# We apply a nested loop where we first map over\n",
    "# the relevant years and then map over the relevant\n",
    "# months. The function returns an image with the total (sum)\n",
    "# rainfall for each month. A flatten is applied to convert a\n",
    "# feature collection of features into a single feature collection.\n",
    "monthlyPrecip = ee.ImageCollection.fromImages(\n",
    "\n",
    "def func_bgd(y):\n",
    "        return months.map(function(m) {\n",
    "            w = CHIRPS.filter(ee.Filter \\\n",
    "                    .calendarRange(y, y, 'year')) \\\n",
    "                .filter(ee.Filter.calendarRange(m, m,\n",
    "                    'month')) \\\n",
    "                .sum()\n",
    "            return w.set('year', y) \\\n",
    "                .set('month', m) \\\n",
    "                .set('system:time_start', ee.Date \\\n",
    "                    .fromYMD(y, m, 1))\n",
    "\n",
    "        })\n",
    "\n",
    "    years.map(func_bgd\n",
    ").flatten()\n",
    "\n",
    "\n",
    "\n",
    "\n",
    "\n",
    "\n",
    "\n",
    "\n",
    "\n",
    "\n",
    "\n",
    "\n",
    ").flatten()\n",
    ")\n",
    "\n",
    "# Add the layer with monthly mean. Note that we clip for the Mekong river basin.\n",
    "precipVis = {\n",
    "    'min': 0,\n",
    "    'max': 250,\n",
    "    'palette': 'white, blue, darkblue, red, purple'\n",
    "}\n",
    "\n",
    "Map.addLayer(monthlyPrecip.mean().clip(mekongBasin),\n",
    "    precipVis,\n",
    "    '2015 precipitation')\n",
    "\n",
    "# Set the title and axis labels for the chart.\n",
    "title = {\n",
    "    'title': 'Monthly precipitation',\n",
    "    'hAxis': {\n",
    "        'title': 'Time'\n",
    "    },\n",
    "    'vAxis': {\n",
    "        'title': 'Precipitation (mm)'\n",
    "    },\n",
    "}\n",
    "\n",
    "# Plot the chart using the Mekong boundary.\n",
    "chartMonthly = ui.Chart.image.seriesByRegion({\n",
    "        'imageCollection': monthlyPrecip,\n",
    "        'regions': mekongBasin.geometry(),\n",
    "        'reducer': ee.Reducer.mean(),\n",
    "        'band': 'precipitation',\n",
    "        'scale': 5000,\n",
    "        'xProperty': 'system:time_start'\n",
    "    }).setSeriesNames(['P']) \\\n",
    "    .setOptions(title) \\\n",
    "    .setChartType('ColumnChart')\n",
    "\n",
    "# Print the chart.\n",
    "print(chartMonthly)\n",
    "\n",
    "# -----------------------------------------------------------------------------------\n",
    "# CHECKPOINT\n",
    "# -----------------------------------------------------------------------------------"
   ]
  },
  {
   "cell_type": "markdown",
   "metadata": {},
   "source": [
    "## Display the interactive map"
   ]
  },
  {
   "cell_type": "code",
   "execution_count": null,
   "metadata": {},
   "outputs": [],
   "source": [
    "Map"
   ]
  }
 ],
 "metadata": {
  "anaconda-cloud": {},
  "kernelspec": {
   "display_name": "Python 3",
   "language": "python",
   "name": "python3"
  },
  "language_info": {
   "codemirror_mode": {
    "name": "ipython",
    "version": 3
   },
   "file_extension": ".py",
   "mimetype": "text/x-python",
   "name": "python",
   "nbconvert_exporter": "python",
   "pygments_lexer": "ipython3",
   "version": "3.6.1"
  }
 },
 "nbformat": 4,
 "nbformat_minor": 4
}
