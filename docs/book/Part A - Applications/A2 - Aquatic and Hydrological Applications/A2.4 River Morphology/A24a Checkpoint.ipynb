{
 "cells": [
  {
   "cell_type": "markdown",
   "metadata": {},
   "source": [
    "## Import libraries"
   ]
  },
  {
   "cell_type": "code",
   "execution_count": null,
   "metadata": {},
   "outputs": [],
   "source": [
    "import ee\n",
    "import geemap"
   ]
  },
  {
   "cell_type": "markdown",
   "metadata": {},
   "source": [
    "## Create an interactive map"
   ]
  },
  {
   "cell_type": "code",
   "execution_count": null,
   "metadata": {},
   "outputs": [],
   "source": [
    "Map = geemap.Map(center=[40, -100], zoom=4)"
   ]
  },
  {
   "cell_type": "markdown",
   "metadata": {},
   "source": [
    "## Add Earth Engine Python script"
   ]
  },
  {
   "cell_type": "code",
   "execution_count": null,
   "metadata": {},
   "outputs": [],
   "source": [
    "# Add Earth Engine dataset\n",
    "image = ee.Image(\"USGS/SRTMGL1_003\")\n",
    "\n",
    "#*** Start of imports. If edited, may not auto-convert in the playground. ***#\n",
    "aoi =\n",
    "\n",
    "    # shown: False #\n",
    "    # displayProperties: [\n",
    "      {\n",
    "        \"type\": \"rectangle\"\n",
    "      }\n",
    "    ] #\n",
    "    ee.Geometry.Polygon(\n",
    "        [[[-67.18414102495456, -11.09095257894929],\n",
    "          [-67.18414102495456, -11.402427204567534],\n",
    "          [-66.57886300981784, -11.402427204567534],\n",
    "          [-66.57886300981784, -11.09095257894929]]], None, False),\n",
    "    sword = ee.FeatureCollection(\"projects/gee-book/assets/A2-4/SWORD\")\n",
    "#**** End of imports. If edited, may not auto-convert in the playground. ****#\n",
    "#  ~~~~~~~~~~~~~~~~~~~~~~~~~~~~~~~~~~~~~~~~~~~~~~~~~~~~~~~~~~~~~~~~~~~~~~~~~~~~~\n",
    "#  Chapter:      A2.4 River Morphology\n",
    "#  Checkpoint:   A24a\n",
    "#  Authors:      Xiao Yang, Theodore Langhorst, Tamlin M. Pavelsky\n",
    "#  ~~~~~~~~~~~~~~~~~~~~~~~~~~~~~~~~~~~~~~~~~~~~~~~~~~~~~~~~~~~~~~~~~~~~~~~~~~~~~\n",
    "# THIS SCRIPT IS DESIGNED AS A TUTORIAL TO SHOWCASE USING GOOGLE EARTH ENGINE TO ANALYSE\n",
    "# RIVER PLANVIEW GEOMETRIES AND MORPHOLOGICAL DYNAMICS. THE ANALYSIS IS BUILT ON EXISTING\n",
    "# MONTHLY WATER CLASSIFICATIONS DATASETS AVAILABLE IN GOOGLE EARTH ENGINE. BY SHOWING\n",
    "# PREPROCESSING STEPS LIKE HOW TO IDENTIFY RIVERS FROM OTHER TYPES OF WATER BODIES, AND HOW\n",
    "# TO USE MULTI TEMPORAL WATER LAYERS TO EXTRACT DYNAMICAL CHANGES IN RIVER MORPHOLOGY, IT PROVIDES\n",
    "# A GUIDE TO EXTRACT INFORMATIONS ON RIVERS USING GOOGLE EARTH ENGINE.\n",
    "\n",
    "# ==========================================================\n",
    "\n",
    "def getUTMProj(lon, lat):\n",
    "    # given longitude and latitude (in degree decimals) return EPSG string for the\n",
    "    # corresponding UTM projection\n",
    "    # see https:#apollomapping.com/blog/gtm-finding-a-utm-zone-number-easily and\n",
    "    # https:#sis.apache.Org/faq.html\n",
    "    utmCode = ee.Number(lon).add(180).divide(6).ceil().int()\n",
    "    output = ee.Algorithms.If(ee.Number(lat).gte(0),\n",
    "        ee.String('EPSG:326').cat(utmCode.format('%02d')),\n",
    "        ee.String('EPSG:327').cat(utmCode.format('%02d')))\n",
    "    return (output)\n",
    "\n",
    "\n",
    "coords = aoi.centroid(30).coordinates()\n",
    "lon = coords.get(0)\n",
    "lat = coords.get(1)\n",
    "crs = getUTMProj(lon, lat)\n",
    "scale = ee.Number(30)\n",
    "\n",
    "def rpj(image):\n",
    "    return image.reproject({\n",
    "        'crs': crs,\n",
    "        'scale': scale\n",
    "    })\n",
    "\n",
    "\n",
    "# ------------------------------------------------------------------------------\n",
    "# CHECKPOINT\n",
    "# ------------------------------------------------------------------------------"
   ]
  },
  {
   "cell_type": "markdown",
   "metadata": {},
   "source": [
    "## Display the interactive map"
   ]
  },
  {
   "cell_type": "code",
   "execution_count": null,
   "metadata": {},
   "outputs": [],
   "source": [
    "Map"
   ]
  }
 ],
 "metadata": {
  "anaconda-cloud": {},
  "kernelspec": {
   "display_name": "Python 3",
   "language": "python",
   "name": "python3"
  },
  "language_info": {
   "codemirror_mode": {
    "name": "ipython",
    "version": 3
   },
   "file_extension": ".py",
   "mimetype": "text/x-python",
   "name": "python",
   "nbconvert_exporter": "python",
   "pygments_lexer": "ipython3",
   "version": "3.6.1"
  }
 },
 "nbformat": 4,
 "nbformat_minor": 4
}
