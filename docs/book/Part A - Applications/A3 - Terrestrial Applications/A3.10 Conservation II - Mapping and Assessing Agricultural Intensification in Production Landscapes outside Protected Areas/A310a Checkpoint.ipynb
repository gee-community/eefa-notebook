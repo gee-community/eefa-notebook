{
 "cells": [
  {
   "cell_type": "markdown",
   "metadata": {},
   "source": [
    "## Import libraries"
   ]
  },
  {
   "cell_type": "code",
   "execution_count": null,
   "metadata": {},
   "outputs": [],
   "source": [
    "import ee\n",
    "import geemap"
   ]
  },
  {
   "cell_type": "markdown",
   "metadata": {},
   "source": [
    "## Create an interactive map"
   ]
  },
  {
   "cell_type": "code",
   "execution_count": null,
   "metadata": {},
   "outputs": [],
   "source": [
    "Map = geemap.Map(center=[40, -100], zoom=4)"
   ]
  },
  {
   "cell_type": "markdown",
   "metadata": {},
   "source": [
    "## Add Earth Engine Python script"
   ]
  },
  {
   "cell_type": "code",
   "execution_count": null,
   "metadata": {},
   "outputs": [],
   "source": [
    "# Add Earth Engine dataset\n",
    "image = ee.Image(\"USGS/SRTMGL1_003\")\n",
    "\n",
    "#  ~~~~~~~~~~~~~~~~~~~~~~~~~~~~~~~~~~~~~~~~~~~~~~~~~~~~~~~~~~~~~~~~~~~~~~~\n",
    "#  Chapter:      Chapter A3.10 Conservation II - Assessing Agricultural\n",
    "#                Intensification Near Protected Areas\n",
    "#  Checkpoint:   A310a\n",
    "#  Authors:      Pradeep Koulgi, MD Madhusudan\n",
    "#  ~~~~~~~~~~~~~~~~~~~~~~~~~~~~~~~~~~~~~~~~~~~~~~~~~~~~~~~~~~~~~~~~~~~~~~~\n",
    "\n",
    "# 1. Parameters to function calls\n",
    "\n",
    "# 1.1. Annual dry season max NDVI calculation\n",
    "modis_veg = ee.ImageCollection(\"MODIS/006/MOD13Q1\")\n",
    "ndviBandName = \"NDVI\"\n",
    "ndviValuesScaling = 0.0001\n",
    "modisVegScale = 250\n",
    "# meters\n",
    "maxNDVIBandname = \"max_dryseason_ndvi\"\n",
    "yearTimestampBandname = \"year\"\n",
    "years = ee.List.sequence(2000, 2021, 1)\n",
    "drySeasonStart_doy = 1\n",
    "drySeasonEnd_doy = 90\n",
    "\n",
    "# 1.2. Boundaries of Protected Areas of interest\n",
    "paBoundaries = ee.FeatureCollection(\"projects/gee-book/assets/A3-10/IndiaMainlandPAs\")\n",
    "boundaryBufferWidth = 5000\n",
    "# meters\n",
    "bufferingMaxError = 30\n",
    "# meters\n",
    "# Choose PAs in only the western states\n",
    "western_states = [\n",
    "    \"Rajasthan\",\n",
    "    \"Gujarat\",\n",
    "    \"Madhya Pradesh\",\n",
    "    \"Maharashtra\",\n",
    "    \"Goa\",\n",
    "    \"Karnataka\",\n",
    "    \"Kerala\",\n",
    "]\n",
    "western_pas = paBoundaries.filter(ee.Filter.inList(\"STATE\", western_states))\n",
    "\n",
    "# 1.3. Regression analysis\n",
    "regressionReducer = ee.Reducer.sensSlope()\n",
    "regressionX = yearTimestampBandname\n",
    "regressionY = maxNDVIBandname\n",
    "\n",
    "# 1.4. Surface water layer to mask water pixels from assessment\n",
    "# Selects pixels where water has ever been detected between 1984 and 2021\n",
    "surfaceWaterExtent = ee.Image(\"JRC/GSW1_3/GlobalSurfaceWater\").select(\"max_extent\")\n",
    "\n",
    "# 1.5. Average annual precipitation layer\n",
    "rainfall = ee.Image(\"WORLDCLIM/V1/BIO\").select(\"bio12\")\n",
    "\n",
    "# 1.6. Visualization parameters\n",
    "regressionResultVisParams = {\n",
    "    \"min\": -3,\n",
    "    \"max\": 3,\n",
    "    \"palette\": [\"ff8202\", \"ffffff\", \"356e02\"],\n",
    "}\n",
    "regressionSummaryChartingOptions = {\n",
    "    \"title\": \"Yearly change in dry-season vegetation greenness \"\n",
    "    + \"in PA buffers in relation to average annual rainfall\",\n",
    "    \"hAxis\": {\"title\": \"Annual Precipitation\"},\n",
    "    \"vAxis\": {\n",
    "        \"title\": \"Median % yearly change in vegetation greenness \" + \"in 5 km buffer\"\n",
    "    },\n",
    "    \"series\": {\"0\": {\"visibleInLegend\": False}},\n",
    "}\n",
    "\n",
    "# -----------------------------------------------------------------------\n",
    "# CHECKPOINT\n",
    "# -----------------------------------------------------------------------"
   ]
  },
  {
   "cell_type": "markdown",
   "metadata": {},
   "source": [
    "## Display the interactive map"
   ]
  },
  {
   "cell_type": "code",
   "execution_count": null,
   "metadata": {},
   "outputs": [],
   "source": [
    "Map"
   ]
  }
 ],
 "metadata": {
  "anaconda-cloud": {},
  "kernelspec": {
   "display_name": "Python 3",
   "language": "python",
   "name": "python3"
  },
  "language_info": {
   "codemirror_mode": {
    "name": "ipython",
    "version": 3
   },
   "file_extension": ".py",
   "mimetype": "text/x-python",
   "name": "python",
   "nbconvert_exporter": "python",
   "pygments_lexer": "ipython3",
   "version": "3.6.1"
  }
 },
 "nbformat": 4,
 "nbformat_minor": 4
}
