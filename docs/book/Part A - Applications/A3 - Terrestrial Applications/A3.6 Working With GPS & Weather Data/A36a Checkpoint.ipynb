{
 "cells": [
  {
   "cell_type": "markdown",
   "metadata": {},
   "source": [
    "## Import libraries"
   ]
  },
  {
   "cell_type": "code",
   "execution_count": null,
   "metadata": {},
   "outputs": [],
   "source": [
    "import ee\n",
    "import geemap"
   ]
  },
  {
   "cell_type": "markdown",
   "metadata": {},
   "source": [
    "## Create an interactive map"
   ]
  },
  {
   "cell_type": "code",
   "execution_count": null,
   "metadata": {},
   "outputs": [],
   "source": [
    "Map = geemap.Map(center=[40, -100], zoom=4)"
   ]
  },
  {
   "cell_type": "markdown",
   "metadata": {},
   "source": [
    "## Add Earth Engine Python script"
   ]
  },
  {
   "cell_type": "code",
   "execution_count": null,
   "metadata": {},
   "outputs": [],
   "source": [
    "# Add Earth Engine dataset\n",
    "image = ee.Image(\"USGS/SRTMGL1_003\")\n",
    "\n",
    "#*** Start of imports. If edited, may not auto-convert in the playground. ***#\n",
    "geometry =\n",
    "\n",
    "    # displayProperties: [\n",
    "      {\n",
    "        \"type\": \"rectangle\"\n",
    "      }\n",
    "    ] #\n",
    "    ee.Geometry.Polygon(\n",
    "        [[[-112.1088347655006, 38.522463862329126],\n",
    "          [-112.1088347655006, 38.22315763773188],\n",
    "          [-111.91520073229748, 38.22315763773188],\n",
    "          [-111.91520073229748, 38.522463862329126]]], None, False)\n",
    "#**** End of imports. If edited, may not auto-convert in the playground. ****#\n",
    "#  ~~~~~~~~~~~~~~~~~~~~~~~~~~~~~~~~~~~~~~~~~~~~~~~~~~~~~~~~~~~~~~~~~~~~~~~\n",
    "#  Chapter:      A3.6 Working With GPS and Weather Data\n",
    "#  Checkpoint:   A36a\n",
    "#  Authors:      Peder Engelstad, Daniel Carver, Nicholas E. Young\n",
    "#  ~~~~~~~~~~~~~~~~~~~~~~~~~~~~~~~~~~~~~~~~~~~~~~~~~~~~~~~~~~~~~~~~~~~~~~~\n",
    "\n",
    "# Import the data and add it to the map and print.\n",
    "cougarF53 = ee.FeatureCollection(\n",
    "    'projects/gee-book/assets/A3-6/cougarF53')\n",
    "\n",
    "Map.centerObject(cougarF53, 10)\n",
    "\n",
    "Map.addLayer(cougarF53, {}, 'cougar presence data')\n",
    "\n",
    "print(cougarF53, 'cougar data')\n",
    "\n",
    "# Call in image collection and filter.\n",
    "Daymet = ee.ImageCollection('NASA/ORNL/DAYMET_V4') \\\n",
    "    .filterDate('2014-02-11', '2014-11-02') \\\n",
    "    .filterBounds(geometry)\n",
    "\n",
    "def func_zwz(image):\n",
    "        return image.clip(geometry) \\\n",
    "    .map(func_zwz)\n",
    "\n",
    "\n",
    "\n",
    "\n",
    "print(Daymet, 'Daymet')\n",
    "\n",
    "\n",
    "# Convert to a multiband image.\n",
    "DaymetImage = Daymet.toBands()\n",
    "\n",
    "print(DaymetImage, 'DaymetImage')\n",
    "\n",
    "# Call the sample regions function.\n",
    "samples = DaymetImage.sampleRegions({\n",
    "    'collection': cougarF53,\n",
    "    'properties': ['id'],\n",
    "    'scale': 1000\n",
    "})\n",
    "\n",
    "print(samples, 'samples')\n",
    "\n",
    "# -----------------------------------------------------------------------\n",
    "# CHECKPOINT\n",
    "# -----------------------------------------------------------------------"
   ]
  },
  {
   "cell_type": "markdown",
   "metadata": {},
   "source": [
    "## Display the interactive map"
   ]
  },
  {
   "cell_type": "code",
   "execution_count": null,
   "metadata": {},
   "outputs": [],
   "source": [
    "Map"
   ]
  }
 ],
 "metadata": {
  "anaconda-cloud": {},
  "kernelspec": {
   "display_name": "Python 3",
   "language": "python",
   "name": "python3"
  },
  "language_info": {
   "codemirror_mode": {
    "name": "ipython",
    "version": 3
   },
   "file_extension": ".py",
   "mimetype": "text/x-python",
   "name": "python",
   "nbconvert_exporter": "python",
   "pygments_lexer": "ipython3",
   "version": "3.6.1"
  }
 },
 "nbformat": 4,
 "nbformat_minor": 4
}
