{
 "cells": [
  {
   "cell_type": "markdown",
   "metadata": {},
   "source": [
    "## Import libraries"
   ]
  },
  {
   "cell_type": "code",
   "execution_count": null,
   "metadata": {},
   "outputs": [],
   "source": [
    "import ee\n",
    "import geemap"
   ]
  },
  {
   "cell_type": "markdown",
   "metadata": {},
   "source": [
    "## Create an interactive map"
   ]
  },
  {
   "cell_type": "code",
   "execution_count": null,
   "metadata": {},
   "outputs": [],
   "source": [
    "Map = geemap.Map(center=[40, -100], zoom=4)"
   ]
  },
  {
   "cell_type": "markdown",
   "metadata": {},
   "source": [
    "## Add Earth Engine Python script"
   ]
  },
  {
   "cell_type": "code",
   "execution_count": null,
   "metadata": {},
   "outputs": [],
   "source": [
    "# Add Earth Engine dataset\n",
    "image = ee.Image(\"USGS/SRTMGL1_003\")\n",
    "\n",
    "#  ~~~~~~~~~~~~~~~~~~~~~~~~~~~~~~~~~~~~~~~~~~~~~~~~~~~~~~~~~~~~~~~~~~~~~~~\n",
    "#  Chapter:      A3.5 Deforestation Viewed from Multiple Sensors\n",
    "#  Checkpoint:   A35b\n",
    "#  Author:       Xiaojing Tang\n",
    "#  ~~~~~~~~~~~~~~~~~~~~~~~~~~~~~~~~~~~~~~~~~~~~~~~~~~~~~~~~~~~~~~~~~~~~~~~\n",
    "\n",
    "testArea = ee.Geometry.Polygon(\n",
    "    [\n",
    "        [\n",
    "            [-66.73156878460787, -8.662236005089952],\n",
    "            [-66.73156878460787, -8.916025640576244],\n",
    "            [-66.44867083538912, -8.916025640576244],\n",
    "            [-66.44867083538912, -8.662236005089952],\n",
    "        ]\n",
    "    ]\n",
    ")\n",
    "\n",
    "Map.centerObject(testArea)\n",
    "\n",
    "# Start and end of the training and monitoring period.\n",
    "trainPeriod = ee.Dictionary({\"start\": \"2017-01-01\", \"end\": \"2020-01-01\"})\n",
    "monitorPeriod = ee.Dictionary({\"start\": \"2020-01-01\", \"end\": \"2021-01-01\"})\n",
    "\n",
    "# Near-real-time monitoring parameters.\n",
    "nrtParam = {\"z\": 2, \"m\": 5, \"n\": 4}\n",
    "\n",
    "# Sensor specific parameters.\n",
    "lstParam = {\"band\": \"NDFI\", \"minRMSE\": 0.05, \"strikeOnly\": False}\n",
    "s2Param = {\"band\": \"NDFI\", \"minRMSE\": 0.05, \"strikeOnly\": False}\n",
    "s1Param = {\"band\": \"VV\", \"minRMSE\": 0.01, \"strikeOnly\": True}\n",
    "\n",
    "# ------------------------------------------------------------------------\n",
    "# CHECKPOINT\n",
    "# ------------------------------------------------------------------------"
   ]
  },
  {
   "cell_type": "markdown",
   "metadata": {},
   "source": [
    "## Display the interactive map"
   ]
  },
  {
   "cell_type": "code",
   "execution_count": null,
   "metadata": {},
   "outputs": [],
   "source": [
    "Map"
   ]
  }
 ],
 "metadata": {
  "anaconda-cloud": {},
  "kernelspec": {
   "display_name": "Python 3",
   "language": "python",
   "name": "python3"
  },
  "language_info": {
   "codemirror_mode": {
    "name": "ipython",
    "version": 3
   },
   "file_extension": ".py",
   "mimetype": "text/x-python",
   "name": "python",
   "nbconvert_exporter": "python",
   "pygments_lexer": "ipython3",
   "version": "3.6.1"
  }
 },
 "nbformat": 4,
 "nbformat_minor": 4
}
