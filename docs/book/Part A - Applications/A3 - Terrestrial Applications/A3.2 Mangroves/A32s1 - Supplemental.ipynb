{
 "cells": [
  {
   "cell_type": "markdown",
   "metadata": {},
   "source": [
    "## Import libraries"
   ]
  },
  {
   "cell_type": "code",
   "execution_count": null,
   "metadata": {},
   "outputs": [],
   "source": [
    "import ee\n",
    "import geemap"
   ]
  },
  {
   "cell_type": "markdown",
   "metadata": {},
   "source": [
    "## Create an interactive map"
   ]
  },
  {
   "cell_type": "code",
   "execution_count": null,
   "metadata": {},
   "outputs": [],
   "source": [
    "Map = geemap.Map(center=[40, -100], zoom=4)"
   ]
  },
  {
   "cell_type": "markdown",
   "metadata": {},
   "source": [
    "## Add Earth Engine Python script"
   ]
  },
  {
   "cell_type": "code",
   "execution_count": null,
   "metadata": {},
   "outputs": [],
   "source": [
    "# Add Earth Engine dataset\n",
    "image = ee.Image(\"USGS/SRTMGL1_003\")\n",
    "\n",
    "#  ~~~~~~~~~~~~~~~~~~~~~~~~~~~~~~~~~~~~~~~~~~~~~~~~~~~~~~~~~~~~~~~~~~~~~~~\n",
    "#  Chapter:      A3.2 Mangroves\n",
    "#  Section:      Synthesis (Assignment 2)\n",
    "#  Author:       Aurélie Shapiro\n",
    "#  ~~~~~~~~~~~~~~~~~~~~~~~~~~~~~~~~~~~~~~~~~~~~~~~~~~~~~~~~~~~~~~~~~~~~~~~\n",
    "\n",
    "# Index functions - many sources for Sentinel-2 are here:\n",
    "# https:#www.indexdatabase.de/db/s-single.php?id=96\n",
    "\n",
    "# Various NDVI calculations.\n",
    "NDVI = S2.normalizedDifference([\"nir\", \"red\"]).rename(\"NDVI\")\n",
    "NDVI_red = S2.normalizedDifference([\"red\", \"green\"]).rename([\"NDVI_red\"])\n",
    "NDVI_re1 = S2.normalizedDifference([\"nir\", \"redEdge1\"]).rename(\"NDVI_re1\")\n",
    "NDVI_re2 = S2.normalizedDifference([\"nir\", \"redEdge2\"]).rename(\"NDVI_re2\")\n",
    "NDVI_re3 = S2.normalizedDifference([\"nir\", \"redEdge3\"]).rename(\"NDVI_re3\")\n",
    "#  NDYI: Yellowness index\n",
    "NDYI = S2.normalizedDifference([\"green\", \"blue\"]).rename(\"NDYI\")\n",
    "#  MNDWI: Modified Normalized Difference Wetness Index\n",
    "MNDWI = S2.normalizedDifference([\"green\", \"swir1\"]).rename(\"MNDWI\")\n",
    "#  MNDWI: Normalized Difference Wetness Index\n",
    "NDWI = S2.normalizedDifference([\"blue\", \"red\"]).rename([\"NDWI\"])\n",
    "#  MNDWI: Normalized Difference Blue/Nir Index\n",
    "NDBN = S2.normalizedDifference([\"blue\", \"nir\"]).rename([\"NDBN\"])\n",
    "SAVI = (\n",
    "    S2.select(\"nir\")\n",
    "    .subtract(S2.select(\"red\"))\n",
    "    .multiply(1.5)\n",
    "    .divide(S2.select(\"nir\").add(S2.select(\"red\").add(0.5)))\n",
    ")\n",
    "OSAVI = (\n",
    "    S2.select(\"red\")\n",
    "    .subtract(S2.select(\"nir\"))\n",
    "    .divide((S2.select(\"red\")).add(S2.select(\"nir\")).add(0.16))\n",
    "    .rename([\"OSAVI\"])\n",
    ")\n",
    "LSWI = S2.normalizedDifference([\"red\", \"nir\"]).rename([\"LSWI\"])\n",
    "\n",
    "ratio_swir1_nir = S2.expression(\n",
    "    \"swir1/(nir+0.1)\", {\"swir1\": S2.select(\"swir1\"), \"nir\": S2.select(\"nir\")}\n",
    ").rename(\"ratio_swir1_nir_wet\")\n",
    "\n",
    "# ratio_red_swir1\n",
    "ratio_red_swir1 = S2.expression(\n",
    "    \"red/(swir1+0.1)\", {\"red\": S2.select(\"red\"), \"swir1\": S2.select(\"swir1\")}\n",
    ").rename(\"ratio_red_swir1_wet\")\n",
    "\n",
    "# FDI Forest Discrimination Index from Wang et al., 2018\n",
    "FDI = S2.expression(\n",
    "    \"nir-(red+green)\",\n",
    "    {\"nir\": S2.select(\"nir\"), \"red\": S2.select(\"red\"), \"green\": S2.select(\"green\")},\n",
    ").rename(\"FDI_wet\")\n",
    "\n",
    "# Tasseled cap wetness.\n",
    "wetTC = S2.expression(\n",
    "    \"(0.1509 * BLUE) + (0.1973 * GREEN) + (0.3279 * RED) + \"\n",
    "    + \"(3406 * NIR) - (0.7112 * SWIR) - (0.4572 * SWIR2)\",\n",
    "    {\n",
    "        \"BLUE\": S2.select(\"blue\"),\n",
    "        \"GREEN\": S2.select(\"green\"),\n",
    "        \"RED\": S2.select(\"red\"),\n",
    "        \"NIR\": S2.select(\"nir\"),\n",
    "        \"SWIR\": S2.select(\"swir1\"),\n",
    "        \"SWIR2\": S2.select(\"swir2\"),\n",
    "    },\n",
    ").rename(\"wetTC\")\n",
    "\n",
    "# Tasseled cap greenness.\n",
    "greenTC = S2.expression(\n",
    "    \"(-0.2848 * BLUE) - (0.2435 * GREEN) - (0.5436 * RED) + \"\n",
    "    + \"(0.7243 * NIR) + (0.084011 * NIR) - (0.1800 * SWIR)\",\n",
    "    {\n",
    "        \"BLUE\": S2.select(\"blue\"),\n",
    "        \"GREEN\": S2.select(\"green\"),\n",
    "        \"RED\": S2.select(\"red\"),\n",
    "        \"NIR\": S2.select(\"nir\"),\n",
    "        \"SWIR\": S2.select(\"swir1\"),\n",
    "        \"SWIR2\": S2.select(\"swir2\"),\n",
    "    },\n",
    ").rename(\"greenTC\")\n",
    "\n",
    "# Stack all bands together\n",
    "data_stack = (\n",
    "    S2.addBands(ratio_swir1_nir)\n",
    "    .addBands(ratio_red_swir1)\n",
    "    .addBands(FDI)\n",
    "    .addBands(NDVI)\n",
    "    .addBands(NDVI_red)\n",
    "    .addBands(NDVI_re1)\n",
    "    .addBands(NDVI_re2)\n",
    "    .addBands(NDVI_re3)\n",
    "    .addBands(NDYI)\n",
    "    .addBands(MNDWI)\n",
    "    .addBands(NDWI)\n",
    "    .addBands(MNDWI)\n",
    "    .addBands(SAVI)\n",
    "    .addBands(OSAVI)\n",
    "    .addBands(wetTC)\n",
    "    .addBands(greenTC)\n",
    "    .addBands(LSWI)\n",
    "    .addBands(wetS1)\n",
    "    .addBands(wetS1)\n",
    ")\n",
    "\n",
    "print(data_stack, \"data stack\")"
   ]
  },
  {
   "cell_type": "markdown",
   "metadata": {},
   "source": [
    "## Display the interactive map"
   ]
  },
  {
   "cell_type": "code",
   "execution_count": null,
   "metadata": {},
   "outputs": [],
   "source": [
    "Map"
   ]
  }
 ],
 "metadata": {
  "anaconda-cloud": {},
  "kernelspec": {
   "display_name": "Python 3",
   "language": "python",
   "name": "python3"
  },
  "language_info": {
   "codemirror_mode": {
    "name": "ipython",
    "version": 3
   },
   "file_extension": ".py",
   "mimetype": "text/x-python",
   "name": "python",
   "nbconvert_exporter": "python",
   "pygments_lexer": "ipython3",
   "version": "3.6.1"
  }
 },
 "nbformat": 4,
 "nbformat_minor": 4
}
