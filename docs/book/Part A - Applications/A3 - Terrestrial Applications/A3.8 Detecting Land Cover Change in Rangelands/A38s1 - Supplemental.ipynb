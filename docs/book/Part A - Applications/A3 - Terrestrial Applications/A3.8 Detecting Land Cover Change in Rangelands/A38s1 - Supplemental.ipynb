{
 "cells": [
  {
   "cell_type": "markdown",
   "metadata": {},
   "source": [
    "## Import libraries"
   ]
  },
  {
   "cell_type": "code",
   "execution_count": null,
   "metadata": {},
   "outputs": [],
   "source": [
    "import ee\n",
    "import geemap"
   ]
  },
  {
   "cell_type": "markdown",
   "metadata": {},
   "source": [
    "## Create an interactive map"
   ]
  },
  {
   "cell_type": "code",
   "execution_count": null,
   "metadata": {},
   "outputs": [],
   "source": [
    "Map = geemap.Map(center=[40, -100], zoom=4)"
   ]
  },
  {
   "cell_type": "markdown",
   "metadata": {},
   "source": [
    "## Add Earth Engine Python script"
   ]
  },
  {
   "cell_type": "code",
   "execution_count": null,
   "metadata": {},
   "outputs": [],
   "source": [
    "# Add Earth Engine dataset\n",
    "image = ee.Image(\"USGS/SRTMGL1_003\")\n",
    "\n",
    "#  ~~~~~~~~~~~~~~~~~~~~~~~~~~~~~~~~~~~~~~~~~~~~~~~~~~~~~~~~~~~~~~~~~~~~~~~\n",
    "#  Chapter:      A3.8 Detecting Land Cover Change in Rangelands\n",
    "#  Section:      Section 3 (A38s1 - Supplemental)\n",
    "#  Authors:      G.R.H. Allington, N. Kreitzer\n",
    "#  ~~~~~~~~~~~~~~~~~~~~~~~~~~~~~~~~~~~~~~~~~~~~~~~~~~~~~~~~~~~~~~~~~~~~~~~\n",
    "\n",
    "# This code chunk demonstrates how to generate an Image Collection from\n",
    "# a multi-band Image. In this case each band in the Image represents a year.\n",
    "\n",
    "# Load the shapefile asset for the AOI as a Feature Collection.\n",
    "aoi = ee.FeatureCollection(\n",
    "    'projects/gee-book/assets/A3-8/GEE_Ch_AOI')\n",
    "# Load the multi-band Image of fitted residual greenness values.\n",
    "fittedStack = ee.Image('projects/gee-book/assets/A3-8/FR_stack')\n",
    "\n",
    "startYear_Num = 1985\n",
    "endYear_Num   = 2019\n",
    "numYears = endYear_Num - startYear_Num\n",
    "startMonth = '-01-01'\n",
    "endMonth = '-12-31'\n",
    "\n",
    "# Convert the multi-band Image to a List\n",
    "\n",
    "fittedStackList = ee.List([])\n",
    "  for year in range(startYear_Num, , 1):\n",
    "  selBand = (fittedStack.select('fittedResidual_' + year.toString()).rename('FR'))\n",
    "  selImg = ee.Image(selBand)\n",
    "  nextYear = year + 1\n",
    "  system_time_start = ee.Date(year.toString() + startMonth).millis()\n",
    "  system_time_end = ee.Date(nextYear.toString() + startMonth).millis()\n",
    "  system_index = year - startYear_Num + 1\n",
    "  selImg = selImg \\\n",
    "      .set('year', year) \\\n",
    "      .set('system:time_start', system_time_start) \\\n",
    "      .set('system:time_end', system_time_end) \\\n",
    "      .set('system:index', system_index.toString())\n",
    "  fittedStackList = fittedStackList.add(selImg)\n",
    "\n",
    "\n",
    "\n",
    "fittedresidColl = ee.ImageCollection(fittedStackList)\n",
    "\n",
    "# You will need to export this to an Asset if you want to call it in a separate script."
   ]
  },
  {
   "cell_type": "markdown",
   "metadata": {},
   "source": [
    "## Display the interactive map"
   ]
  },
  {
   "cell_type": "code",
   "execution_count": null,
   "metadata": {},
   "outputs": [],
   "source": [
    "Map"
   ]
  }
 ],
 "metadata": {
  "anaconda-cloud": {},
  "kernelspec": {
   "display_name": "Python 3",
   "language": "python",
   "name": "python3"
  },
  "language_info": {
   "codemirror_mode": {
    "name": "ipython",
    "version": 3
   },
   "file_extension": ".py",
   "mimetype": "text/x-python",
   "name": "python",
   "nbconvert_exporter": "python",
   "pygments_lexer": "ipython3",
   "version": "3.6.1"
  }
 },
 "nbformat": 4,
 "nbformat_minor": 4
}
