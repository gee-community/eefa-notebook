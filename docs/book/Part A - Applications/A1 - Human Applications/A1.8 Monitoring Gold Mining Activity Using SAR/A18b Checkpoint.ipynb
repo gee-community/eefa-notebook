{
 "cells": [
  {
   "cell_type": "markdown",
   "metadata": {},
   "source": [
    "## Import libraries"
   ]
  },
  {
   "cell_type": "code",
   "execution_count": null,
   "metadata": {},
   "outputs": [],
   "source": [
    "import ee\n",
    "import geemap"
   ]
  },
  {
   "cell_type": "markdown",
   "metadata": {},
   "source": [
    "## Create an interactive map"
   ]
  },
  {
   "cell_type": "code",
   "execution_count": null,
   "metadata": {},
   "outputs": [],
   "source": [
    "Map = geemap.Map(center=[40, -100], zoom=4)"
   ]
  },
  {
   "cell_type": "markdown",
   "metadata": {},
   "source": [
    "## Add Earth Engine Python script"
   ]
  },
  {
   "cell_type": "code",
   "execution_count": null,
   "metadata": {},
   "outputs": [],
   "source": [
    "# Add Earth Engine dataset\n",
    "image = ee.Image(\"USGS/SRTMGL1_003\")\n",
    "\n",
    "#  ~~~~~~~~~~~~~~~~~~~~~~~~~~~~~~~~~~~~~~~~~~~~~~~~~~~~~~~~~~~~~~~~~~~~~~~~~~~~\n",
    "#  Chapter:      A1.8 Monitoring Gold Mining Activity using SAR\n",
    "#  Checkpoint:   A18b\n",
    "#  Authors:      Lucio Villa, Sidney Novoa, Milagros Becerra,\n",
    "#                Andréa Puzzi Nicolau, Karen Dyson, Karis Tenneson, John Dilger\n",
    "#  ~~~~~~~~~~~~~~~~~~~~~~~~~~~~~~~~~~~~~~~~~~~~~~~~~~~~~~~~~~~~~~~~~~~~~~~~~~~~\n",
    "\n",
    "###########################\n",
    "# / Section Two\n",
    "###########################\n",
    "\n",
    "# Define the area of study.\n",
    "aoi = ee.FeatureCollection(\"projects/gee-book/assets/A1-8/mdd\")\n",
    "\n",
    "# Center the map at the aoi.\n",
    "Map.centerObject(aoi, 9)\n",
    "\n",
    "# Create an empty image.\n",
    "empty = ee.Image().byte()\n",
    "\n",
    "# Convert the area of study to an EE image object\n",
    "# so we can visualize only the boundary.\n",
    "aoiOutline = empty.paint({\"featureCollection\": aoi, \"color\": 1, \"width\": 2})\n",
    "\n",
    "# Select the satellite basemap view.\n",
    "Map.setOptions(\"SATELLITE\")\n",
    "\n",
    "# Add the area of study boundary to the map.\n",
    "Map.addLayer(aoiOutline, {\"palette\": \"red\"}, \"Area of Study\")\n",
    "\n",
    "\n",
    "# Function to mask the SAR images acquired with an incidence angle\n",
    "# lower equal than 31 and greater equal than 45 degrees.\n",
    "def maskAngle(image):\n",
    "    angleMask = image.select(\"angle\")\n",
    "    return image.updateMask(angleMask.gte(31).And(angleMask.lte(45)))\n",
    "\n",
    "\n",
    "# Function to get the SAR Collection.\n",
    "def getCollection(dates, roi, orbitPass0):\n",
    "    sarCollFloat = (\n",
    "        ee.ImageCollection(\"COPERNICUS/S1_GRD_FLOAT\")\n",
    "        .filterBounds(roi)\n",
    "        .filterDate(dates[0], dates[1])\n",
    "        .filter(ee.Filter.eq(\"orbitProperties_pass\", orbitPass0))\n",
    "    )\n",
    "    return sarCollFloat.map(maskAngle).select([\"VV\", \"VH\"])\n",
    "\n",
    "\n",
    "# Define variables: the period of time and the orbitpass.\n",
    "listOfDates = [\"2021-01-01\", \"2022-01-01\"]\n",
    "orbitPass = \"DESCENDING\"\n",
    "\n",
    "# Apply the function to get the SAR Collection.\n",
    "sarImageColl = getCollection(listOfDates, aoi, orbitPass)\n",
    "print(\"SAR Image Collection\", sarImageColl)\n",
    "\n",
    "# -----------------------------------------------------------------------\n",
    "# CHECKPOINT\n",
    "# -----------------------------------------------------------------------"
   ]
  },
  {
   "cell_type": "markdown",
   "metadata": {},
   "source": [
    "## Display the interactive map"
   ]
  },
  {
   "cell_type": "code",
   "execution_count": null,
   "metadata": {},
   "outputs": [],
   "source": [
    "Map"
   ]
  }
 ],
 "metadata": {
  "anaconda-cloud": {},
  "kernelspec": {
   "display_name": "Python 3",
   "language": "python",
   "name": "python3"
  },
  "language_info": {
   "codemirror_mode": {
    "name": "ipython",
    "version": 3
   },
   "file_extension": ".py",
   "mimetype": "text/x-python",
   "name": "python",
   "nbconvert_exporter": "python",
   "pygments_lexer": "ipython3",
   "version": "3.6.1"
  }
 },
 "nbformat": 4,
 "nbformat_minor": 4
}
