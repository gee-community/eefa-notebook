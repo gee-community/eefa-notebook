{
 "cells": [
  {
   "cell_type": "markdown",
   "metadata": {},
   "source": [
    "## Import libraries"
   ]
  },
  {
   "cell_type": "code",
   "execution_count": null,
   "metadata": {},
   "outputs": [],
   "source": [
    "import ee\n",
    "import geemap"
   ]
  },
  {
   "cell_type": "markdown",
   "metadata": {},
   "source": [
    "## Create an interactive map"
   ]
  },
  {
   "cell_type": "code",
   "execution_count": null,
   "metadata": {},
   "outputs": [],
   "source": [
    "Map = geemap.Map(center=[40, -100], zoom=4)"
   ]
  },
  {
   "cell_type": "markdown",
   "metadata": {},
   "source": [
    "## Add Earth Engine Python script"
   ]
  },
  {
   "cell_type": "code",
   "execution_count": null,
   "metadata": {},
   "outputs": [],
   "source": [
    "# Add Earth Engine dataset\n",
    "image = ee.Image(\"USGS/SRTMGL1_003\")\n",
    "\n",
    "#  ~~~~~~~~~~~~~~~~~~~~~~~~~~~~~~~~~~~~~~~~~~~~~~~~~~~~~~~~~~~~~~~~~~~~~~~\n",
    "#  Chapter:      A1.3 Built Environments\n",
    "#  Checkpoint:   A13f\n",
    "#  Author:       Erin Trochim\n",
    "#  ~~~~~~~~~~~~~~~~~~~~~~~~~~~~~~~~~~~~~~~~~~~~~~~~~~~~~~~~~~~~~~~~~~~~~~~\n",
    "\n",
    "# Import Tsinghua FROM-GLC Year of Change to Impervious Surface\n",
    "impervious = ee.Image('Tsinghua/FROM-GLC/GAIA/v10')\n",
    "\n",
    "# Use the change year values found in the band.\n",
    "# The change year values is described here:\n",
    "# https:#developers.google.com/earth-engine/datasets/catalog/Tsinghua_FROM-GLC_GAIA_v10#bands\n",
    "# Select only those areas which were impervious by 2000.\n",
    "impervious2000 = impervious.gte(19)\n",
    "\n",
    "# Select only those areas which were impervious by 2018.\n",
    "impervious2018 = impervious.gte(1)\n",
    "\n",
    "Map.setCenter(-98.688, 39.134, 5)\n",
    "\n",
    "# Display the images.\n",
    "Map.addLayer(\n",
    "    impervious2000.selfMask(),\n",
    "    {\n",
    "        'min': 0,\n",
    "        'max': 1,\n",
    "        'palette': ['014352', '856F96']\n",
    "    },\n",
    "    'Impervious Surface 2000')\n",
    "\n",
    "Map.addLayer(\n",
    "    impervious2018.selfMask(),\n",
    "    {\n",
    "        'min': 0,\n",
    "        'max': 1,\n",
    "        'palette': ['014352', '1A492C']\n",
    "    },\n",
    "    'Impervious Surface 2018')\n",
    "\n",
    "# Calculate the difference between impervious areas in 2000 and 2018.\n",
    "imperviousDiff = impervious2018.subtract(impervious2000)\n",
    "\n",
    "Map.addLayer(\n",
    "    imperviousDiff.selfMask(),\n",
    "    {\n",
    "        'min': 0,\n",
    "        'max': 1,\n",
    "        'palette': ['014352', 'FFBF00']\n",
    "    },\n",
    "    'Impervious Surface Diff 2000-18')\n",
    "\n",
    "# Import the Global Flood Database v1 (2000-2018).\n",
    "gfd = ee.ImageCollection('GLOBAL_FLOOD_DB/MODIS_EVENTS/V1')\n",
    "\n",
    "# Map all floods to generate the satellite-observed historical flood plain.\n",
    "gfdFloodedSum = gfd.select('flooded').sum()\n",
    "\n",
    "# Mask out areas of permanent water.\n",
    "gfdFloodedSumNoWater = gfdFloodedSum.updateMask(gfd.select(\n",
    "    'jrc_perm_water').sum().lt(1))\n",
    "\n",
    "durationPalette = ['C3EFFE', '1341E8', '051CB0', '001133']\n",
    "\n",
    "Map.addLayer(\n",
    "    gfdFloodedSumNoWater.selfMask(),\n",
    "    {\n",
    "        'min': 0,\n",
    "        'max': 10,\n",
    "        'palette': durationPalette\n",
    "    },\n",
    "    'GFD Satellite Observed Flood Plain')\n",
    "\n",
    "# Mask areas in the impervious difference image that are not in flood plains.\n",
    "imperviousDiffFloods = imperviousDiff \\\n",
    "    .updateMask(gfdFloodedSumNoWater.gte(1))\n",
    "\n",
    "# Which state has built the most area in the flood plains?\n",
    "# Import FAO countries with first level administrative units.\n",
    "countries = ee.FeatureCollection('FAO/GAUL/2015/level1')\n",
    "\n",
    "# Filter to the United States.\n",
    "unitedStates = countries.filter(ee.Filter.eq('ADM0_NAME',\n",
    "    'United States of America'))\n",
    "\n",
    "# Calculate the image area.\n",
    "areaImage = imperviousDiffFloods.multiply(ee.Image.pixelArea())\n",
    "\n",
    "# Sum the area image for each state.\n",
    "unitedStatesImperviousDiffFlood = areaImage.reduceRegions({\n",
    "        'collection': unitedStates,\n",
    "        'reducer': ee.Reducer.sum(),\n",
    "        'scale': 100,\n",
    "    }) # Sort descending. \\\n",
    "    .sort('sum', False) \\\n",
    "    .limit(5)\n",
    "\n",
    "# Print state statistics for change in impervious area in flood plain.\n",
    "print('Impervious-flood change statistics for states in US',\n",
    "    unitedStatesImperviousDiffFlood)\n",
    "\n",
    "#  -----------------------------------------------------------------------\n",
    "#  CHECKPOINT\n",
    "#  -----------------------------------------------------------------------"
   ]
  },
  {
   "cell_type": "markdown",
   "metadata": {},
   "source": [
    "## Display the interactive map"
   ]
  },
  {
   "cell_type": "code",
   "execution_count": null,
   "metadata": {},
   "outputs": [],
   "source": [
    "Map"
   ]
  }
 ],
 "metadata": {
  "anaconda-cloud": {},
  "kernelspec": {
   "display_name": "Python 3",
   "language": "python",
   "name": "python3"
  },
  "language_info": {
   "codemirror_mode": {
    "name": "ipython",
    "version": 3
   },
   "file_extension": ".py",
   "mimetype": "text/x-python",
   "name": "python",
   "nbconvert_exporter": "python",
   "pygments_lexer": "ipython3",
   "version": "3.6.1"
  }
 },
 "nbformat": 4,
 "nbformat_minor": 4
}
