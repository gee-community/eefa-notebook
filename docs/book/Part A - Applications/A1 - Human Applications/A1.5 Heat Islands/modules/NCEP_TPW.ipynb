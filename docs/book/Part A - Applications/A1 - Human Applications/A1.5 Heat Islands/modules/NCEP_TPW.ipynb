{
 "cells": [
  {
   "cell_type": "markdown",
   "metadata": {},
   "source": [
    "## Import libraries"
   ]
  },
  {
   "cell_type": "code",
   "execution_count": null,
   "metadata": {},
   "outputs": [],
   "source": [
    "import ee\n",
    "import geemap"
   ]
  },
  {
   "cell_type": "markdown",
   "metadata": {},
   "source": [
    "## Create an interactive map"
   ]
  },
  {
   "cell_type": "code",
   "execution_count": null,
   "metadata": {},
   "outputs": [],
   "source": [
    "Map = geemap.Map(center=[40, -100], zoom=4)"
   ]
  },
  {
   "cell_type": "markdown",
   "metadata": {},
   "source": [
    "## Add Earth Engine Python script"
   ]
  },
  {
   "cell_type": "code",
   "execution_count": null,
   "metadata": {},
   "outputs": [],
   "source": [
    "# Add Earth Engine dataset\n",
    "image = ee.Image(\"USGS/SRTMGL1_003\")\n",
    "\n",
    "#\n",
    "'Author': Sofia Ermida (sofia.ermida@ipma.pt; @ermida_sofia)\n",
    "\n",
    "This code is free and open.\n",
    "By using this code and any data derived with it,\n",
    "you agree to cite the following reference\n",
    "'in any publications derived from them':\n",
    "Ermida, S.L., Soares, P., Mantas, V., Göttsche, F.-M., Trigo, I.F., 2020.\n",
    "    Google Earth Engine open-source code for Land Surface Temperature estimation from the Landsat series.\n",
    "    'Remote Sensing, 12 (9), 1471; https':#doi.Org/10.3390/rs12091471\n",
    "\n",
    "this function matches the atmospheric water vapour data\n",
    "from NCEP reanalysis to each Landsat image\n",
    "tpw values are interpolated from the 6-hourly model times to the image time\n",
    "\n",
    "'to call this function use':\n",
    "\n",
    "NCEP_TPW = require('users/sofiaermida/landsat_smw_lst:modules/NCEP_TPW.js')\n",
    "ImagewithTPW = NCEP_TPW.addBand(image)\n",
    "or\n",
    "collectionwithPTW = ImageCollection.map(NCEP_TPW.addBand)\n",
    "\n",
    "'INPUTS':\n",
    "        '- image': <ee.Image>\n",
    "                image for which to interpolate the TPW data\n",
    "                needs the 'system:time_start' image property\n",
    "'OUTPUTS':\n",
    "        - <ee.Image>\n",
    "          'the input image with 3 new bands':\n",
    "          'TPW': total precipitable water values\n",
    "          'TPWpos': index for the LUT of SMW algorithm coefficients\n",
    "\n",
    "  '10.12.2020': typo correction in the tpw inperpolation expression\n",
    "    (thanks to Jiacheng Zhao for reporting this issue)\n",
    "#\n",
    "\n",
    "def exports.addBand(image):\n",
    "\n",
    "  # first select the day of interest\n",
    "  date = ee.Date(image.get('system:time_start'))\n",
    "  year = ee.Number.parse(date.format('yyyy'))\n",
    "  month = ee.Number.parse(date.format('MM'))\n",
    "  day = ee.Number.parse(date.format('dd'))\n",
    "  date1 = ee.Date.fromYMD(year,month,day)\n",
    "  date2 = date1.advance(1,'days')\n",
    "\n",
    "  # function compute the time difference from landsat image\n",
    "  def datedist(image):\n",
    "    return image.set('DateDist',\n",
    "      ee.Number(image.get('system:time_start')) \\\n",
    "      .subtract(date.millis()).abs())\n",
    "  \n",
    "\n",
    "  # load atmospheric data collection\n",
    "  TPWcollection = ee.ImageCollection('NCEP_RE/surface_wv') \\\n",
    "                  .filter(ee.Filter.date(date1.format('yyyy-MM-dd'), date2.format('yyyy-MM-dd'))) \\\n",
    "                  .map(datedist)\n",
    "\n",
    "  # select the two closest model times\n",
    "    closest = (TPWcollection.sort('DateDist')).toList(2)\n",
    "\n",
    "  # check if there is atmospheric data in the wanted day\n",
    "  # if not creates a TPW image with non-realistic values\n",
    "  # these are then masked in the SMWalgorithm function (prevents errors)\n",
    "  tpw1 = ee.Image(ee.Algorithms.If(closest.size().eq(0), ee.Image.constant(-999.0),\n",
    "                      ee.Image(closest.get(0)).select('pr_wtr') ))\n",
    "  tpw2 = ee.Image(ee.Algorithms.If(closest.size().eq(0), ee.Image.constant(-999.0),\n",
    "                        ee.Algorithms.If(closest.size().eq(1), tpw1,\n",
    "                        ee.Image(closest.get(1)).select('pr_wtr') )))\n",
    "\n",
    "  time1 = ee.Number(ee.Algorithms.If(closest.size().eq(0), 1.0,\n",
    "                        ee.Number(tpw1.get('DateDist')).divide(ee.Number(21600000)) ))\n",
    "  time2 = ee.Number(ee.Algorithms.If(closest.size().lt(2), 0.0,\n",
    "                        ee.Number(tpw2.get('DateDist')).divide(ee.Number(21600000)) ))\n",
    "\n",
    "  tpw = tpw1.expression('tpw1*time2+tpw2*time1',\n",
    "                            {'tpw1':tpw1,\n",
    "                            'time1':time1,\n",
    "                            'tpw2':tpw2,\n",
    "                            'time2':time2\n",
    "                            }).clip(image.geometry())\n",
    "\n",
    "  # SMW coefficients are binned by TPW values\n",
    "  # find the bin of each TPW value\n",
    "  pos = tpw.expression(\n",
    "    \"value = (TPW>0 && TPW<=6) ? 0\" + \\\n",
    "    \": (TPW>6 && TPW<=12) ? 1\" + \\\n",
    "    \": (TPW>12 && TPW<=18) ? 2\" + \\\n",
    "    \": (TPW>18 && TPW<=24) ? 3\" + \\\n",
    "    \": (TPW>24 && TPW<=30) ? 4\" + \\\n",
    "    \": (TPW>30 && TPW<=36) ? 5\" + \\\n",
    "    \": (TPW>36 && TPW<=42) ? 6\" + \\\n",
    "    \": (TPW>42 && TPW<=48) ? 7\" + \\\n",
    "    \": (TPW>48 && TPW<=54) ? 8\" + \\\n",
    "    \": (TPW>54) ? 9\" + \\\n",
    "    \": 0\",{'TPW': tpw}) \\\n",
    "    .clip(image.geometry())\n",
    "\n",
    "  # add tpw to image as a band\n",
    "  withTPW = (image.addBands(tpw.rename('TPW'),['TPW'])).addBands(pos.rename('TPWpos'),['TPWpos'])\n",
    "\n",
    "  return withTPW\n"
   ]
  },
  {
   "cell_type": "markdown",
   "metadata": {},
   "source": [
    "## Display the interactive map"
   ]
  },
  {
   "cell_type": "code",
   "execution_count": null,
   "metadata": {},
   "outputs": [],
   "source": [
    "Map"
   ]
  }
 ],
 "metadata": {
  "anaconda-cloud": {},
  "kernelspec": {
   "display_name": "Python 3",
   "language": "python",
   "name": "python3"
  },
  "language_info": {
   "codemirror_mode": {
    "name": "ipython",
    "version": 3
   },
   "file_extension": ".py",
   "mimetype": "text/x-python",
   "name": "python",
   "nbconvert_exporter": "python",
   "pygments_lexer": "ipython3",
   "version": "3.6.1"
  }
 },
 "nbformat": 4,
 "nbformat_minor": 4
}
