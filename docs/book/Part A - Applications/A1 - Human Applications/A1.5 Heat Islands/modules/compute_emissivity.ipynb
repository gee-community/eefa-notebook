{
 "cells": [
  {
   "cell_type": "markdown",
   "metadata": {},
   "source": [
    "## Import libraries"
   ]
  },
  {
   "cell_type": "code",
   "execution_count": null,
   "metadata": {},
   "outputs": [],
   "source": [
    "import ee\n",
    "import geemap"
   ]
  },
  {
   "cell_type": "markdown",
   "metadata": {},
   "source": [
    "## Create an interactive map"
   ]
  },
  {
   "cell_type": "code",
   "execution_count": null,
   "metadata": {},
   "outputs": [],
   "source": [
    "Map = geemap.Map(center=[40, -100], zoom=4)"
   ]
  },
  {
   "cell_type": "markdown",
   "metadata": {},
   "source": [
    "## Add Earth Engine Python script"
   ]
  },
  {
   "cell_type": "code",
   "execution_count": null,
   "metadata": {},
   "outputs": [],
   "source": [
    "# Add Earth Engine dataset\n",
    "image = ee.Image(\"USGS/SRTMGL1_003\")\n",
    "\n",
    "#\n",
    "'Author': Sofia Ermida (sofia.ermida@ipma.pt; @ermida_sofia)\n",
    "\n",
    "This code is free and open.\n",
    "By using this code and any data derived with it,\n",
    "you agree to cite the following reference\n",
    "'in any publications derived from them':\n",
    "Ermida, S.L., Soares, P., Mantas, V., Göttsche, F.-M., Trigo, I.F., 2020.\n",
    "    Google Earth Engine open-source code for Land Surface Temperature estimation from the Landsat series.\n",
    "    'Remote Sensing, 12 (9), 1471; https':#doi.Org/10.3390/rs12091471\n",
    "\n",
    "this function computes surface emissivity for Landsat\n",
    "'requires values of FVC': compute_FVC.js\n",
    "\n",
    "'ref': Malakar, N.K., Hulley, G.C., Hook, S.J., Laraby, K., Cook, M., Schott, J.R., 2018.\n",
    "    'An Operational Land Surface Temperature Product for Landsat Thermal Data': Methodology\n",
    "    and Validation. IEEE Trans. Geosci. Remote Sens. 56, 5717–5735.\n",
    "    'https':#doi.Org/10.1109/TGRS.2018.2824828\n",
    "\n",
    "'to call this function use':\n",
    "\n",
    "EMfun = require('users/sofiaermida/landsat_smw_lst:modules/compute_emissivity.js')\n",
    "ImagewithEM = EMfun.addBand(landsat)(image)\n",
    "or\n",
    "collectionwithEM = ImageCollection.map(EMfun.addBand(landsat))\n",
    "\n",
    "'USES':\n",
    "    - ASTER_bare_emiss.js\n",
    "\n",
    "'INPUTS':\n",
    "        '- landsat': <string>\n",
    "                  the Landsat satellite id\n",
    "                  'valid inputs': 'L4', 'L5', 'L7' and 'L8'\n",
    "        '- use_ndvi': <boolean>\n",
    "                if True, NDVI values are used to obtain a\n",
    "                dynamic emissivity; if False, emissivity is\n",
    "                obtained directly from ASTER\n",
    "        '- image': <ee.Image>\n",
    "                image for which to calculate the emissivity\n",
    "'OUTPUTS':\n",
    "        - <ee.Image>\n",
    "          'the input image with 1 new band':\n",
    "          'EM': surface emissivity of TIR band\n",
    "\n",
    "  '11-07-2022': update to prescribe emissivity of snow and water surfaces\n",
    "#\n",
    "\n",
    "ASTERGED = require('users/sofiaermida/landsat_smw_lst:modules/ASTER_bare_emiss.js')\n",
    "\n",
    "# this function computes the emissivity of the\n",
    "# Landsat TIR band using ASTER and FVC\n",
    "def exports.addBand(landsat, use_ndvi):\n",
    "  def wrap(image):\n",
    "\n",
    "    c13 = ee.Number(ee.Algorithms.If(landsat==='L4',0.3222,\n",
    "                            ee.Algorithms.If(landsat==='L5',-0.0723,\n",
    "                            ee.Algorithms.If(landsat==='L7',0.2147,\n",
    "                            0.6820))))\n",
    "    c14 = ee.Number(ee.Algorithms.If(landsat==='L4',0.6498,\n",
    "                            ee.Algorithms.If(landsat==='L5',1.0521,\n",
    "                            ee.Algorithms.If(landsat==='L7',0.7789,\n",
    "                            0.2578))))\n",
    "    c = ee.Number(ee.Algorithms.If(landsat==='L4',0.0272,\n",
    "                            ee.Algorithms.If(landsat==='L5',0.0195,\n",
    "                            ee.Algorithms.If(landsat==='L7',0.0059,\n",
    "                            0.0584))))\n",
    "\n",
    "    # get ASTER emissivity\n",
    "    # convolve to Landsat band\n",
    "    emiss_bare = image.expression('c13*EM13 + c14*EM14 + c',{\n",
    "      'EM13':ASTERGED.emiss_bare_band13(image),\n",
    "      'EM14':ASTERGED.emiss_bare_band14(image),\n",
    "      'c13':ee.Image(c13),\n",
    "      'c14':ee.Image(c14),\n",
    "      'c':ee.Image(c)\n",
    "      })\n",
    "\n",
    "    # compute the dynamic emissivity for Landsat\n",
    "    EMd = image.expression('fvc*0.99+(1-fvc)*em_bare',\n",
    "      {'fvc':image.select('FVC'),'em_bare':emiss_bare})\n",
    "\n",
    "    # compute emissivity directly from ASTER\n",
    "    # without vegetation correction\n",
    "    # get ASTER emissivity\n",
    "    aster = ee.Image(\"NASA/ASTER_GED/AG100_003\") \\\n",
    "      .clip(image.geometry())\n",
    "    EM0 = image.expression('c13*EM13 + c14*EM14 + c',{\n",
    "      'EM13':aster.select('emissivity_band13').multiply(0.001),\n",
    "      'EM14':aster.select('emissivity_band14').multiply(0.001),\n",
    "      'c13':ee.Image(c13),\n",
    "      'c14':ee.Image(c14),\n",
    "      'c':ee.Image(c)\n",
    "      })\n",
    "\n",
    "    # select which emissivity to output based on user selection\n",
    "    EM = ee.Image(ee.Algorithms.If(use_ndvi,EMd,EM0))\n",
    "\n",
    "    # prescribe emissivity of water bodies\n",
    "    qa = image.select('QA_PIXEL')\n",
    "    EM = EM.where(qa.bitwiseAnd(1 << 7),0.99)\n",
    "    # prescribe emissivity of snow/ice bodies\n",
    "    EM = EM.where(qa.bitwiseAnd(1 << 5),0.989)\n",
    "\n",
    "    return image.addBands(EM.rename('EM'))\n",
    "\n",
    "  return wrap\n"
   ]
  },
  {
   "cell_type": "markdown",
   "metadata": {},
   "source": [
    "## Display the interactive map"
   ]
  },
  {
   "cell_type": "code",
   "execution_count": null,
   "metadata": {},
   "outputs": [],
   "source": [
    "Map"
   ]
  }
 ],
 "metadata": {
  "anaconda-cloud": {},
  "kernelspec": {
   "display_name": "Python 3",
   "language": "python",
   "name": "python3"
  },
  "language_info": {
   "codemirror_mode": {
    "name": "ipython",
    "version": 3
   },
   "file_extension": ".py",
   "mimetype": "text/x-python",
   "name": "python",
   "nbconvert_exporter": "python",
   "pygments_lexer": "ipython3",
   "version": "3.6.1"
  }
 },
 "nbformat": 4,
 "nbformat_minor": 4
}
