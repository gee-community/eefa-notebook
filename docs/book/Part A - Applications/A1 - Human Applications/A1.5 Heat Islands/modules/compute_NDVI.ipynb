{
 "cells": [
  {
   "cell_type": "markdown",
   "metadata": {},
   "source": [
    "## Import libraries"
   ]
  },
  {
   "cell_type": "code",
   "execution_count": null,
   "metadata": {},
   "outputs": [],
   "source": [
    "import ee\n",
    "import geemap"
   ]
  },
  {
   "cell_type": "markdown",
   "metadata": {},
   "source": [
    "## Create an interactive map"
   ]
  },
  {
   "cell_type": "code",
   "execution_count": null,
   "metadata": {},
   "outputs": [],
   "source": [
    "Map = geemap.Map(center=[40, -100], zoom=4)"
   ]
  },
  {
   "cell_type": "markdown",
   "metadata": {},
   "source": [
    "## Add Earth Engine Python script"
   ]
  },
  {
   "cell_type": "code",
   "execution_count": null,
   "metadata": {},
   "outputs": [],
   "source": [
    "# Add Earth Engine dataset\n",
    "image = ee.Image(\"USGS/SRTMGL1_003\")\n",
    "\n",
    "#\n",
    "'Author': Sofia Ermida (sofia.ermida@ipma.pt; @ermida_sofia)\n",
    "\n",
    "this function computes NDVI values for Landsat\n",
    "\n",
    "\n",
    "'to call this function use':\n",
    "\n",
    "NDVIfun = require('users/sofiaermida/landsat_smw_lst:modules/compute_NDVI.js')\n",
    "ImagewithNDVI = NDVIfun.addBand(landsat)(image)\n",
    "or\n",
    "collectionwithNDVI = ImageCollection.map(NDVIfun.addBand(landsat))\n",
    "\n",
    "'INPUTS':\n",
    "        '- landsat': <string>\n",
    "                  the Landsat satellite id\n",
    "                  'valid inputs': 'L4', 'L5', 'L7' and 'L8'\n",
    "        '- image': <ee.Image>\n",
    "                image for which to calculate the NDVI\n",
    "'OUTPUTS':\n",
    "        - <ee.Image>\n",
    "          'the input image with 1 new band':\n",
    "          'NDVI': normalized difference vegetation index\n",
    "\n",
    "  '11-07-2022': update to use Collection 2 Level 2 Surface Reflectance data\n",
    "#\n",
    "\n",
    "def exports.addBand(landsat):\n",
    "  def wrap(image):\n",
    "\n",
    "    # choose bands\n",
    "    nir = ee.String(ee.Algorithms.If(landsat==='L8','SR_B5','SR_B4'))\n",
    "    red = ee.String(ee.Algorithms.If(landsat==='L8','SR_B4','SR_B3'))\n",
    "\n",
    "    # compute NDVI\n",
    "    return image.addBands(image.expression('(nir-red)/(nir+red)',{\n",
    "      'nir':image.select(nir).multiply(0.0000275).add(-0.2),\n",
    "      'red':image.select(red).multiply(0.0000275).add(-0.2)\n",
    "    }).rename('NDVI'))\n",
    "\n",
    "  return wrap\n",
    "\n",
    "\n",
    "# COLLECTION 1\n",
    "def exports.addBand(landsat):\n",
    "  def wrap(image):\n",
    "\n",
    "    # choose bands\n",
    "    nir = ee.String(ee.Algorithms.If(landsat==='L8','B5','B4'))\n",
    "    red = ee.String(ee.Algorithms.If(landsat==='L8','B4','B3'))\n",
    "\n",
    "    # compute NDVI\n",
    "    return image.addBands(image.expression('(nir-red)/(nir+red)',{\n",
    "      'nir':image.select(nir).multiply(0.0001),\n",
    "      'red':image.select(red).multiply(0.0001)\n",
    "    }).rename('NDVI'))\n",
    "\n",
    "  return wrap\n",
    "\n",
    "#"
   ]
  },
  {
   "cell_type": "markdown",
   "metadata": {},
   "source": [
    "## Display the interactive map"
   ]
  },
  {
   "cell_type": "code",
   "execution_count": null,
   "metadata": {},
   "outputs": [],
   "source": [
    "Map"
   ]
  }
 ],
 "metadata": {
  "anaconda-cloud": {},
  "kernelspec": {
   "display_name": "Python 3",
   "language": "python",
   "name": "python3"
  },
  "language_info": {
   "codemirror_mode": {
    "name": "ipython",
    "version": 3
   },
   "file_extension": ".py",
   "mimetype": "text/x-python",
   "name": "python",
   "nbconvert_exporter": "python",
   "pygments_lexer": "ipython3",
   "version": "3.6.1"
  }
 },
 "nbformat": 4,
 "nbformat_minor": 4
}
