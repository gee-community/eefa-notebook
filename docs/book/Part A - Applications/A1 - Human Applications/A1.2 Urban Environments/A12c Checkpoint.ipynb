{
 "cells": [
  {
   "cell_type": "markdown",
   "metadata": {},
   "source": [
    "## Import libraries"
   ]
  },
  {
   "cell_type": "code",
   "execution_count": null,
   "metadata": {},
   "outputs": [],
   "source": [
    "import ee\n",
    "import geemap"
   ]
  },
  {
   "cell_type": "markdown",
   "metadata": {},
   "source": [
    "## Create an interactive map"
   ]
  },
  {
   "cell_type": "code",
   "execution_count": null,
   "metadata": {},
   "outputs": [],
   "source": [
    "Map = geemap.Map(center=[40, -100], zoom=4)"
   ]
  },
  {
   "cell_type": "markdown",
   "metadata": {},
   "source": [
    "## Add Earth Engine Python script"
   ]
  },
  {
   "cell_type": "code",
   "execution_count": null,
   "metadata": {},
   "outputs": [],
   "source": [
    "# Add Earth Engine dataset\n",
    "image = ee.Image(\"USGS/SRTMGL1_003\")\n",
    "\n",
    "# *** Start of imports. If edited, may not auto-convert in the playground. ***#\n",
    "CORINE = ee.ImageCollection(\"COPERNICUS/CORINE/V20/100m\")\n",
    "# **** End of imports. If edited, may not auto-convert in the playground. ****#\n",
    "#  ~~~~~~~~~~~~~~~~~~~~~~~~~~~~~~~~~~~~~~~~~~~~~~~~~~~~~~~~~~~~~~~~~~~~~~~\n",
    "#  Chapter:      A1.2 Urban Environments\n",
    "#  Checkpoint:   A12c\n",
    "#  Authors:      Michelle Stuhlmacher and Ran Goldblatt\n",
    "#  ~~~~~~~~~~~~~~~~~~~~~~~~~~~~~~~~~~~~~~~~~~~~~~~~~~~~~~~~~~~~~~~~~~~~~~~\n",
    "\n",
    "# CORINE (London)\n",
    "# Center over London\n",
    "Map.setCenter(-0.1795, 51.4931, 10)\n",
    "\n",
    "# Visualize the urban extent in 2000 and 2018.\n",
    "# 2018 (2017-2018)\n",
    "CORINE_2018 = CORINE.select(\"landcover\").filterDate(ee.Date(\"2017-01-01\"))\n",
    "\n",
    "C_urb_2018 = CORINE_2018.mosaic().lte(133)\n",
    "# Select urban areas\n",
    "Map.addLayer(C_urb_2018.mask(C_urb_2018), {\"palette\": \"FF0000\"}, \"CORINE Urban 2018\")\n",
    "\n",
    "# 2000 (1999-2001)\n",
    "CORINE_2000 = CORINE.select(\"landcover\").filterDate(ee.Date(\"1999-01-01\"))\n",
    "C_urb_2000 = CORINE_2000.mosaic().lte(133)\n",
    "# Select urban areas\n",
    "Map.addLayer(C_urb_2000.mask(C_urb_2000), {\"palette\": \"a5a5a5\"}, \"CORINE Urban 2000\")\n",
    "\n",
    "# -----------------------------------------------------------------------\n",
    "# CHECKPOINT\n",
    "# -----------------------------------------------------------------------"
   ]
  },
  {
   "cell_type": "markdown",
   "metadata": {},
   "source": [
    "## Display the interactive map"
   ]
  },
  {
   "cell_type": "code",
   "execution_count": null,
   "metadata": {},
   "outputs": [],
   "source": [
    "Map"
   ]
  }
 ],
 "metadata": {
  "anaconda-cloud": {},
  "kernelspec": {
   "display_name": "Python 3",
   "language": "python",
   "name": "python3"
  },
  "language_info": {
   "codemirror_mode": {
    "name": "ipython",
    "version": 3
   },
   "file_extension": ".py",
   "mimetype": "text/x-python",
   "name": "python",
   "nbconvert_exporter": "python",
   "pygments_lexer": "ipython3",
   "version": "3.6.1"
  }
 },
 "nbformat": 4,
 "nbformat_minor": 4
}
