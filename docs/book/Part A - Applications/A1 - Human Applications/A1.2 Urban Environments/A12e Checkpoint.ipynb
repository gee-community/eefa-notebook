{
 "cells": [
  {
   "cell_type": "markdown",
   "metadata": {},
   "source": [
    "## Import libraries"
   ]
  },
  {
   "cell_type": "code",
   "execution_count": null,
   "metadata": {},
   "outputs": [],
   "source": [
    "import ee\n",
    "import geemap"
   ]
  },
  {
   "cell_type": "markdown",
   "metadata": {},
   "source": [
    "## Create an interactive map"
   ]
  },
  {
   "cell_type": "code",
   "execution_count": null,
   "metadata": {},
   "outputs": [],
   "source": [
    "Map = geemap.Map(center=[40, -100], zoom=4)"
   ]
  },
  {
   "cell_type": "markdown",
   "metadata": {},
   "source": [
    "## Add Earth Engine Python script"
   ]
  },
  {
   "cell_type": "code",
   "execution_count": null,
   "metadata": {},
   "outputs": [],
   "source": [
    "# Add Earth Engine dataset\n",
    "image = ee.Image(\"USGS/SRTMGL1_003\")\n",
    "\n",
    "# *** Start of imports. If edited, may not auto-convert in the playground. ***#\n",
    "L7 = ee.ImageCollection(\"LANDSAT/LE07/C02/T1_L2\")\n",
    "# **** End of imports. If edited, may not auto-convert in the playground. ****#\n",
    "#  ~~~~~~~~~~~~~~~~~~~~~~~~~~~~~~~~~~~~~~~~~~~~~~~~~~~~~~~~~~~~~~~~~~~~~~~\n",
    "#  Chapter:      A1.2 Urban Environments\n",
    "#  Checkpoint:   A12e\n",
    "#  Authors:      Michelle Stuhlmacher and Ran Goldblatt\n",
    "#  ~~~~~~~~~~~~~~~~~~~~~~~~~~~~~~~~~~~~~~~~~~~~~~~~~~~~~~~~~~~~~~~~~~~~~~~\n",
    "\n",
    "\n",
    "# Surface reflectance function from example:\n",
    "def maskL457sr(image):\n",
    "    qaMask = image.select(\"QA_PIXEL\").bitwiseAnd(parseInt(\"11111\", 2)).eq(0)\n",
    "    saturationMask = image.select(\"QA_RADSAT\").eq(0)\n",
    "\n",
    "    # Apply the scaling factors to the appropriate bands.\n",
    "    opticalBands = image.select(\"SR_B.\").multiply(0.0000275).add(-0.2)\n",
    "    thermalBand = image.select(\"ST_B6\").multiply(0.00341802).add(149.0)\n",
    "\n",
    "    # Replace the original bands with the scaled ones and apply the masks.\n",
    "    return (\n",
    "        image.addBands(opticalBands, None, True)\n",
    "        .addBands(thermalBand, None, True)\n",
    "        .updateMask(qaMask)\n",
    "        .updateMask(saturationMask)\n",
    "    )\n",
    "\n",
    "\n",
    "# Map the function over one year of data.\n",
    "collection = L7.filterDate(\"2020-01-01\", \"2021-01-01\").map(maskL457sr)\n",
    "landsat7_2020 = collection.median()\n",
    "\n",
    "Map.addLayer(\n",
    "    landsat7_2020,\n",
    "    {\"bands\": [\"SR_B3\", \"SR_B2\", \"SR_B1\"], \"min\": 0, \"max\": 0.3},\n",
    "    \"landsat 7, 2020\",\n",
    ")\n",
    "\n",
    "# -----------------------------------------------------------------------\n",
    "# CHECKPOINT\n",
    "# -----------------------------------------------------------------------"
   ]
  },
  {
   "cell_type": "markdown",
   "metadata": {},
   "source": [
    "## Display the interactive map"
   ]
  },
  {
   "cell_type": "code",
   "execution_count": null,
   "metadata": {},
   "outputs": [],
   "source": [
    "Map"
   ]
  }
 ],
 "metadata": {
  "anaconda-cloud": {},
  "kernelspec": {
   "display_name": "Python 3",
   "language": "python",
   "name": "python3"
  },
  "language_info": {
   "codemirror_mode": {
    "name": "ipython",
    "version": 3
   },
   "file_extension": ".py",
   "mimetype": "text/x-python",
   "name": "python",
   "nbconvert_exporter": "python",
   "pygments_lexer": "ipython3",
   "version": "3.6.1"
  }
 },
 "nbformat": 4,
 "nbformat_minor": 4
}
