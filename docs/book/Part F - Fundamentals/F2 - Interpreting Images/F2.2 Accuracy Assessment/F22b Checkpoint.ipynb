{
 "cells": [
  {
   "cell_type": "markdown",
   "metadata": {},
   "source": [
    "## Import libraries"
   ]
  },
  {
   "cell_type": "code",
   "execution_count": null,
   "metadata": {},
   "outputs": [],
   "source": [
    "import ee\n",
    "import geemap"
   ]
  },
  {
   "cell_type": "markdown",
   "metadata": {},
   "source": [
    "## Create an interactive map"
   ]
  },
  {
   "cell_type": "code",
   "execution_count": null,
   "metadata": {},
   "outputs": [],
   "source": [
    "Map = geemap.Map(center=[40, -100], zoom=4)"
   ]
  },
  {
   "cell_type": "markdown",
   "metadata": {},
   "source": [
    "## Add Earth Engine Python script"
   ]
  },
  {
   "cell_type": "code",
   "execution_count": null,
   "metadata": {},
   "outputs": [],
   "source": [
    "# Add Earth Engine dataset\n",
    "image = ee.Image(\"USGS/SRTMGL1_003\")\n",
    "\n",
    "#  ~~~~~~~~~~~~~~~~~~~~~~~~~~~~~~~~~~~~~~~~~~~~~~~~~~~~~~~~~~~~~~~~~~~~~~~\n",
    "#  Chapter:      F2.2 Accuracy Assessment: Quantifying Classification Quality\n",
    "#  Checkpoint:   F22b\n",
    "#  Authors:      Andréa Puzzi Nicolau, Karen Dyson, David Saah, Nicholas Clinton\n",
    "#  ~~~~~~~~~~~~~~~~~~~~~~~~~~~~~~~~~~~~~~~~~~~~~~~~~~~~~~~~~~~~~~~~~~~~~~~\n",
    "\n",
    "# Import the reference dataset.\n",
    "data = ee.FeatureCollection(\"projects/gee-book/assets/F2-2/milan_data\")\n",
    "\n",
    "# Define the prediction bands.\n",
    "predictionBands = [\n",
    "    \"SR_B1\",\n",
    "    \"SR_B2\",\n",
    "    \"SR_B3\",\n",
    "    \"SR_B4\",\n",
    "    \"SR_B5\",\n",
    "    \"SR_B6\",\n",
    "    \"SR_B7\",\n",
    "    \"ST_B10\",\n",
    "    \"ndvi\",\n",
    "    \"ndwi\",\n",
    "]\n",
    "\n",
    "# Split the dataset into training and testing sets.\n",
    "trainingTesting = data.randomColumn()\n",
    "trainingSet = trainingTesting.filter(ee.Filter.lessThan(\"random\", 0.8))\n",
    "testingSet = trainingTesting.filter(ee.Filter.greaterThanOrEquals(\"random\", 0.8))\n",
    "\n",
    "# Train the Random Forest Classifier with the trainingSet.\n",
    "RFclassifier = ee.Classifier.smileRandomForest(50).train(\n",
    "    {\n",
    "        \"features\": trainingSet,\n",
    "        \"classProperty\": \"class\",\n",
    "        \"inputProperties\": predictionBands,\n",
    "    }\n",
    ")\n",
    "\n",
    "# Now, to test the classification (verify model's accuracy),\n",
    "# we classify the testingSet and get a confusion matrix.\n",
    "confusionMatrix = testingSet.classify(RFclassifier).errorMatrix(\n",
    "    {\"actual\": \"class\", \"predicted\": \"classification\"}\n",
    ")\n",
    "\n",
    "# Print the results.\n",
    "print(\"Confusion matrix:\", confusionMatrix)\n",
    "print(\"Overall Accuracy:\", confusionMatrix.accuracy())\n",
    "print(\"Producers Accuracy:\", confusionMatrix.producersAccuracy())\n",
    "print(\"Consumers Accuracy:\", confusionMatrix.consumersAccuracy())\n",
    "print(\"Kappa:\", confusionMatrix.kappa())\n",
    "\n",
    "#  -----------------------------------------------------------------------\n",
    "#  CHECKPOINT\n",
    "#  -----------------------------------------------------------------------\n",
    "\n",
    "# Hyperparameter tuning.\n",
    "numTrees = ee.List.sequence(5, 100, 5)\n",
    "\n",
    "\n",
    "def func_ehk(t):\n",
    "    classifier = ee.Classifier.smileRandomForest(t).train(\n",
    "        {\n",
    "            \"features\": trainingSet,\n",
    "            \"classProperty\": \"class\",\n",
    "            \"inputProperties\": predictionBands,\n",
    "        }\n",
    "    )\n",
    "    return (\n",
    "        testingSet.classify(classifier)\n",
    "        .errorMatrix(\"class\", \"classification\")\n",
    "        .accuracy()\n",
    "    )\n",
    "\n",
    "\n",
    "accuracies = numTrees.map(func_ehk)\n",
    "\n",
    "\n",
    "print(\n",
    "    ui.Chart.array.values(\n",
    "        {\"array\": ee.Array(accuracies), \"axis\": 0, \"xLabels\": numTrees}\n",
    "    ).setOptions(\n",
    "        {\n",
    "            \"hAxis\": {\"title\": \"Number of trees\"},\n",
    "            \"vAxis\": {\"title\": \"Accuracy\"},\n",
    "            \"title\": \"Accuracy per number of trees\",\n",
    "        }\n",
    "    )\n",
    ")\n",
    "\n",
    "#  -----------------------------------------------------------------------\n",
    "#  CHECKPOINT\n",
    "#  -----------------------------------------------------------------------"
   ]
  },
  {
   "cell_type": "markdown",
   "metadata": {},
   "source": [
    "## Display the interactive map"
   ]
  },
  {
   "cell_type": "code",
   "execution_count": null,
   "metadata": {},
   "outputs": [],
   "source": [
    "Map"
   ]
  }
 ],
 "metadata": {
  "anaconda-cloud": {},
  "kernelspec": {
   "display_name": "Python 3",
   "language": "python",
   "name": "python3"
  },
  "language_info": {
   "codemirror_mode": {
    "name": "ipython",
    "version": 3
   },
   "file_extension": ".py",
   "mimetype": "text/x-python",
   "name": "python",
   "nbconvert_exporter": "python",
   "pygments_lexer": "ipython3",
   "version": "3.6.1"
  }
 },
 "nbformat": 4,
 "nbformat_minor": 4
}
