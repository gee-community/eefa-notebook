{
 "cells": [
  {
   "cell_type": "markdown",
   "metadata": {},
   "source": [
    "## Import libraries"
   ]
  },
  {
   "cell_type": "code",
   "execution_count": null,
   "metadata": {},
   "outputs": [],
   "source": [
    "import ee\n",
    "import geemap"
   ]
  },
  {
   "cell_type": "markdown",
   "metadata": {},
   "source": [
    "## Create an interactive map"
   ]
  },
  {
   "cell_type": "code",
   "execution_count": null,
   "metadata": {},
   "outputs": [],
   "source": [
    "Map = geemap.Map(center=[40, -100], zoom=4)"
   ]
  },
  {
   "cell_type": "markdown",
   "metadata": {},
   "source": [
    "## Add Earth Engine Python script"
   ]
  },
  {
   "cell_type": "code",
   "execution_count": null,
   "metadata": {},
   "outputs": [],
   "source": [
    "# Add Earth Engine dataset\n",
    "image = ee.Image(\"USGS/SRTMGL1_003\")\n",
    "\n",
    "#  ~~~~~~~~~~~~~~~~~~~~~~~~~~~~~~~~~~~~~~~~~~~~~~~~~~~~~~~~~~~~~~~~~~~~~~~~~~~~~~~~~\n",
    "#  Chapter:      F2.0 Image Manipulation: Bands, Arithmetic, Thresholds, and Masks\n",
    "#  Checkpoint:   F20b\n",
    "#  Authors:      Karen Dyson, Andrea Puzzi Nicolau, David Saah, and Nicholas Clinton\n",
    "#  ~~~~~~~~~~~~~~~~~~~~~~~~~~~~~~~~~~~~~~~~~~~~~~~~~~~~~~~~~~~~~~~~~~~~~~~~~~~~~~~~~\n",
    "\n",
    "# Create an NDVI image using Sentinel 2.\n",
    "seaPoint = ee.Geometry.Point(-122.2040, 47.6221)\n",
    "seaImage = (\n",
    "    ee.ImageCollection(\"COPERNICUS/S2\")\n",
    "    .filterBounds(seaPoint)\n",
    "    .filterDate(\"2020-08-15\", \"2020-10-01\")\n",
    "    .first()\n",
    ")\n",
    "\n",
    "seaNDVI = seaImage.normalizedDifference([\"B8\", \"B4\"])\n",
    "\n",
    "# And map it.\n",
    "Map.centerObject(seaPoint, 10)\n",
    "vegPalette = [\"red\", \"white\", \"green\"]\n",
    "Map.addLayer(seaNDVI, {\"min\": -1, \"max\": 1, \"palette\": vegPalette}, \"NDVI Seattle\")\n",
    "\n",
    "# Implement a threshold.\n",
    "seaVeg = seaNDVI.gt(0.5)\n",
    "\n",
    "# Map the threshold.\n",
    "Map.addLayer(\n",
    "    seaVeg, {\"min\": 0, \"max\": 1, \"palette\": [\"white\", \"green\"]}, \"Non-forest vs. Forest\"\n",
    ")\n",
    "\n",
    "# Implement .where.\n",
    "# Create a starting image with all values = 1.\n",
    "seaWhere = ee.Image(1).clip(seaNDVI.geometry())\n",
    "\n",
    "# Make all NDVI values less than -0.1 equal 0.\n",
    "seaWhere = seaWhere.where(seaNDVI.lte(-0.1), 0)\n",
    "\n",
    "# Make all NDVI values greater than 0.5 equal 2.\n",
    "seaWhere = seaWhere.where(seaNDVI.gte(0.5), 2)\n",
    "\n",
    "# Map our layer that has been divided into three classes.\n",
    "Map.addLayer(\n",
    "    seaWhere,\n",
    "    {\"min\": 0, \"max\": 2, \"palette\": [\"blue\", \"white\", \"green\"]},\n",
    "    \"Water, Non-forest, Forest\",\n",
    ")\n",
    "\n",
    "# Implement masking.\n",
    "# View the seaVeg layer's current mask.\n",
    "Map.centerObject(seaPoint, 9)\n",
    "Map.addLayer(seaVeg.mask(), {}, \"seaVeg Mask\")\n",
    "\n",
    "# Create a binary mask of non-forest.\n",
    "vegMask = seaVeg.eq(1)\n",
    "\n",
    "# Update the seaVeg mask with the non-forest mask.\n",
    "maskedVeg = seaVeg.updateMask(vegMask)\n",
    "\n",
    "# Map the updated Veg layer\n",
    "Map.addLayer(\n",
    "    maskedVeg, {\"min\": 0, \"max\": 1, \"palette\": [\"green\"]}, \"Masked Forest Layer\"\n",
    ")\n",
    "\n",
    "# Map the updated mask\n",
    "Map.addLayer(maskedVeg.mask(), {}, \"maskedVeg Mask\")\n",
    "\n",
    "# Implement remapping.\n",
    "# Remap the values from the seaWhere layer.\n",
    "seaRemap = seaWhere.remap([0, 1, 2], [9, 11, 10])  # Existing values.\n",
    "# Remapped values.\n",
    "\n",
    "Map.addLayer(\n",
    "    seaRemap,\n",
    "    {\"min\": 9, \"max\": 11, \"palette\": [\"blue\", \"green\", \"white\"]},\n",
    "    \"Remapped Values\",\n",
    ")\n",
    "\n",
    "#  -----------------------------------------------------------------------\n",
    "#  CHECKPOINT\n",
    "#  -----------------------------------------------------------------------"
   ]
  },
  {
   "cell_type": "markdown",
   "metadata": {},
   "source": [
    "## Display the interactive map"
   ]
  },
  {
   "cell_type": "code",
   "execution_count": null,
   "metadata": {},
   "outputs": [],
   "source": [
    "Map"
   ]
  }
 ],
 "metadata": {
  "anaconda-cloud": {},
  "kernelspec": {
   "display_name": "Python 3",
   "language": "python",
   "name": "python3"
  },
  "language_info": {
   "codemirror_mode": {
    "name": "ipython",
    "version": 3
   },
   "file_extension": ".py",
   "mimetype": "text/x-python",
   "name": "python",
   "nbconvert_exporter": "python",
   "pygments_lexer": "ipython3",
   "version": "3.6.1"
  }
 },
 "nbformat": 4,
 "nbformat_minor": 4
}
