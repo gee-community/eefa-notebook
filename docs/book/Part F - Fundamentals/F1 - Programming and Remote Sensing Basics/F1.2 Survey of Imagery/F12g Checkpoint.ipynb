{
 "cells": [
  {
   "cell_type": "markdown",
   "metadata": {},
   "source": [
    "## Import libraries"
   ]
  },
  {
   "cell_type": "code",
   "execution_count": null,
   "metadata": {},
   "outputs": [],
   "source": [
    "import ee\n",
    "import geemap"
   ]
  },
  {
   "cell_type": "markdown",
   "metadata": {},
   "source": [
    "## Create an interactive map"
   ]
  },
  {
   "cell_type": "code",
   "execution_count": null,
   "metadata": {},
   "outputs": [],
   "source": [
    "Map = geemap.Map(center=[40, -100], zoom=4)"
   ]
  },
  {
   "cell_type": "markdown",
   "metadata": {},
   "source": [
    "## Add Earth Engine Python script"
   ]
  },
  {
   "cell_type": "code",
   "execution_count": null,
   "metadata": {},
   "outputs": [],
   "source": [
    "# Add Earth Engine dataset\n",
    "image = ee.Image(\"USGS/SRTMGL1_003\")\n",
    "\n",
    "#  ~~~~~~~~~~~~~~~~~~~~~~~~~~~~~~~~~~~~~~~~~~~~~~~~~~~~~~~~~~~~~~~~~~~~~~~\n",
    "#  Chapter:      F1.2 Survey of Raster Datasets\n",
    "#  Checkpoint:   F12g\n",
    "#  Authors:      Andréa, Karen, Nick Clinton, David Saah\n",
    "#  ~~~~~~~~~~~~~~~~~~~~~~~~~~~~~~~~~~~~~~~~~~~~~~~~~~~~~~~~~~~~~~~~~~~~~~~\n",
    "\n",
    "##/\n",
    "# Other datasets\n",
    "##/\n",
    "\n",
    "# Import and filter a gridded population dataset.\n",
    "griddedPopulation = ee.ImageCollection(\"CIESIN/GPWv411/GPW_Population_Count\").first()\n",
    "\n",
    "# Predefined palette.\n",
    "populationPalette = [\"ffffe7\", \"86a192\", \"509791\", \"307296\", \"2c4484\", \"000066\"]\n",
    "\n",
    "# Center the Map.\n",
    "Map.centerObject(griddedPopulation, 3)\n",
    "\n",
    "# Add the population data to the map.\n",
    "Map.addLayer(\n",
    "    griddedPopulation,\n",
    "    {\"min\": 0, \"max\": 1200, \"palette\": populationPalette},\n",
    "    \"Gridded Population\",\n",
    ")\n",
    "\n",
    "# Import the NASA DEM Dataset.\n",
    "nasaDEM = ee.Image(\"NASA/NASADEM_HGT/001\")\n",
    "\n",
    "# Add the elevation layer to the map.\n",
    "Map.addLayer(nasaDEM, {\"bands\": [\"elevation\"], \"min\": 0, \"max\": 3000}, \"NASA DEM\")\n",
    "\n",
    "#  -----------------------------------------------------------------------\n",
    "#  CHECKPOINT\n",
    "#  -----------------------------------------------------------------------"
   ]
  },
  {
   "cell_type": "markdown",
   "metadata": {},
   "source": [
    "## Display the interactive map"
   ]
  },
  {
   "cell_type": "code",
   "execution_count": null,
   "metadata": {},
   "outputs": [],
   "source": [
    "Map"
   ]
  }
 ],
 "metadata": {
  "anaconda-cloud": {},
  "kernelspec": {
   "display_name": "Python 3",
   "language": "python",
   "name": "python3"
  },
  "language_info": {
   "codemirror_mode": {
    "name": "ipython",
    "version": 3
   },
   "file_extension": ".py",
   "mimetype": "text/x-python",
   "name": "python",
   "nbconvert_exporter": "python",
   "pygments_lexer": "ipython3",
   "version": "3.6.1"
  }
 },
 "nbformat": 4,
 "nbformat_minor": 4
}
