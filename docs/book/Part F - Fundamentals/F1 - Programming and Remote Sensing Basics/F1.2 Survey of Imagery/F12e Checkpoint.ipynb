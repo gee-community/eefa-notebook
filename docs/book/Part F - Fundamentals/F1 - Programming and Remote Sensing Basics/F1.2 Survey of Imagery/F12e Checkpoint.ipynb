{
 "cells": [
  {
   "cell_type": "markdown",
   "metadata": {},
   "source": [
    "## Import libraries"
   ]
  },
  {
   "cell_type": "code",
   "execution_count": null,
   "metadata": {},
   "outputs": [],
   "source": [
    "import ee\n",
    "import geemap"
   ]
  },
  {
   "cell_type": "markdown",
   "metadata": {},
   "source": [
    "## Create an interactive map"
   ]
  },
  {
   "cell_type": "code",
   "execution_count": null,
   "metadata": {},
   "outputs": [],
   "source": [
    "Map = geemap.Map(center=[40, -100], zoom=4)"
   ]
  },
  {
   "cell_type": "markdown",
   "metadata": {},
   "source": [
    "## Add Earth Engine Python script"
   ]
  },
  {
   "cell_type": "code",
   "execution_count": null,
   "metadata": {},
   "outputs": [],
   "source": [
    "# Add Earth Engine dataset\n",
    "image = ee.Image(\"USGS/SRTMGL1_003\")\n",
    "\n",
    "#  ~~~~~~~~~~~~~~~~~~~~~~~~~~~~~~~~~~~~~~~~~~~~~~~~~~~~~~~~~~~~~~~~~~~~~~~\n",
    "#  Chapter:      F1.2 Survey of Raster Datasets\n",
    "#  Checkpoint:   F12e\n",
    "#  Authors:      Andréa, Karen, Nick Clinton, David Saah\n",
    "#  ~~~~~~~~~~~~~~~~~~~~~~~~~~~~~~~~~~~~~~~~~~~~~~~~~~~~~~~~~~~~~~~~~~~~~~~\n",
    "\n",
    "##/\n",
    "# Other satellite products\n",
    "##/\n",
    "\n",
    "# Import a Sentinel-5 methane dataset.\n",
    "methane = ee.ImageCollection(\"COPERNICUS/S5P/OFFL/L3_CH4\")\n",
    "\n",
    "# Filter the methane dataset.\n",
    "methane2018 = (\n",
    "    methane.select(\"CH4_column_volume_mixing_ratio_dry_air\")\n",
    "    .filterDate(\"2018-11-28\", \"2018-11-29\")\n",
    "    .first()\n",
    ")\n",
    "\n",
    "# Make a visualization for the methane data.\n",
    "methaneVis = {\n",
    "    \"palette\": [\"black\", \"blue\", \"purple\", \"cyan\", \"green\", \"yellow\", \"red\"],\n",
    "    \"min\": 1770,\n",
    "    \"max\": 1920,\n",
    "}\n",
    "\n",
    "# Center the Map.\n",
    "Map.centerObject(methane2018, 3)\n",
    "\n",
    "# Add the methane dataset to the map.\n",
    "Map.addLayer(methane2018, methaneVis, \"Methane\")\n",
    "\n",
    "# Import the ERA5 Monthly dataset\n",
    "era5Monthly = ee.ImageCollection(\"ECMWF/ERA5/MONTHLY\")\n",
    "\n",
    "# Filter the dataset\n",
    "era5MonthlyTemp = (\n",
    "    era5Monthly.select(\"mean_2m_air_temperature\")\n",
    "    .filterDate(\"2018-01-01\", \"2018-01-31\")\n",
    "    .first()\n",
    ")\n",
    "\n",
    "# Add the ERA dataset to the map.\n",
    "Map.addLayer(\n",
    "    era5MonthlyTemp,\n",
    "    {\"palette\": [\"yellow\", \"red\"], \"min\": 260, \"max\": 320},\n",
    "    \"ERA5 Max Monthly Temp\",\n",
    ")\n",
    "\n",
    "#  -----------------------------------------------------------------------\n",
    "#  CHECKPOINT\n",
    "#  -----------------------------------------------------------------------"
   ]
  },
  {
   "cell_type": "markdown",
   "metadata": {},
   "source": [
    "## Display the interactive map"
   ]
  },
  {
   "cell_type": "code",
   "execution_count": null,
   "metadata": {},
   "outputs": [],
   "source": [
    "Map"
   ]
  }
 ],
 "metadata": {
  "anaconda-cloud": {},
  "kernelspec": {
   "display_name": "Python 3",
   "language": "python",
   "name": "python3"
  },
  "language_info": {
   "codemirror_mode": {
    "name": "ipython",
    "version": 3
   },
   "file_extension": ".py",
   "mimetype": "text/x-python",
   "name": "python",
   "nbconvert_exporter": "python",
   "pygments_lexer": "ipython3",
   "version": "3.6.1"
  }
 },
 "nbformat": 4,
 "nbformat_minor": 4
}
