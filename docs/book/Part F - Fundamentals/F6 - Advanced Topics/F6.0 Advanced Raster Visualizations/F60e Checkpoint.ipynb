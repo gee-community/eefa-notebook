{
 "cells": [
  {
   "cell_type": "markdown",
   "metadata": {},
   "source": [
    "## Import libraries"
   ]
  },
  {
   "cell_type": "code",
   "execution_count": null,
   "metadata": {},
   "outputs": [],
   "source": [
    "import ee\n",
    "import geemap"
   ]
  },
  {
   "cell_type": "markdown",
   "metadata": {},
   "source": [
    "## Create an interactive map"
   ]
  },
  {
   "cell_type": "code",
   "execution_count": null,
   "metadata": {},
   "outputs": [],
   "source": [
    "Map = geemap.Map(center=[40, -100], zoom=4)"
   ]
  },
  {
   "cell_type": "markdown",
   "metadata": {},
   "source": [
    "## Add Earth Engine Python script"
   ]
  },
  {
   "cell_type": "code",
   "execution_count": null,
   "metadata": {},
   "outputs": [],
   "source": [
    "# Add Earth Engine dataset\n",
    "image = ee.Image(\"USGS/SRTMGL1_003\")\n",
    "\n",
    "#  ~~~~~~~~~~~~~~~~~~~~~~~~~~~~~~~~~~~~~~~~~~~~~~~~~~~~~~~~~~~~~~~~~~~~~~~~~~~~~~~\n",
    "#  Chapter:      F6.0 Advanced Raster Visualization\n",
    "#  Checkpoint:   F60e\n",
    "#  Authors:      Gennadii Donchyts, Fedor Baart\n",
    "#  ~~~~~~~~~~~~~~~~~~~~~~~~~~~~~~~~~~~~~~~~~~~~~~~~~~~~~~~~~~~~~~~~~~~~~~~~~~~~~~~\n",
    "\n",
    "# *\n",
    "# Draws a string as a raster image at a given point.\n",
    "#\n",
    "# @param {string} str - string to draw\n",
    "# @param {ee.Geometry} point - location the the string will be drawn\n",
    "# @param {{string, Object}} options - optional properties used to style text\n",
    "#\n",
    "# The options dictionary may include one or more of the following:\n",
    "#     fontSize       - 16|18|24|32 - the size of the font (default: 16)\n",
    "#     fontType       - Arial|Consolas - the type of the font (default: Arial)\n",
    "#     alignX         - left|center|right (default: left)\n",
    "#     alignY         - top|center|bottom (default: top)\n",
    "#     textColor      - text color string (default: ffffff - white)\n",
    "#     textOpacity    - 0-1, opacity of the text (default: 0.9)\n",
    "#     textWidth      - width of the text (default: 1)\n",
    "#     outlineColor   - text outline color string (default: 000000 - black)\n",
    "#     outlineOpacity - 0-1, opacity of the text outline (default: 0.4)\n",
    "#     outlineWidth   - width of the text outlines (default: 0)\n",
    "#\n",
    "\n",
    "# Include the text package.\n",
    "text = require(\"users/gena/packages:text\")\n",
    "\n",
    "# Configure map (change center and map type).\n",
    "Map.setCenter(0, 0, 10)\n",
    "Map.setOptions(\"HYBRID\")\n",
    "\n",
    "# Draw text string and add to map.\n",
    "pt = Map.getCenter()\n",
    "scale = Map.getScale()\n",
    "image = text.draw(\"Hello World!\", pt, scale)\n",
    "\n",
    "#  -----------------------------------------------------------------------\n",
    "#  CHECKPOINT\n",
    "#  -----------------------------------------------------------------------\n",
    "\n",
    "image = text.draw(\n",
    "    \"Hello World!\",\n",
    "    pt,\n",
    "    scale,\n",
    "    {\n",
    "        \"fontSize\": 32,\n",
    "        \"fontType\": \"Consolas\",\n",
    "        \"textColor\": \"black\",\n",
    "        \"outlineColor\": \"white\",\n",
    "        \"outlineWidth\": 1,\n",
    "        \"outlineOpacity\": 0.8,\n",
    "    },\n",
    ")\n",
    "\n",
    "# Add the text image to the map.\n",
    "Map.addLayer(image)\n",
    "\n",
    "#  -----------------------------------------------------------------------\n",
    "#  CHECKPOINT\n",
    "#  -----------------------------------------------------------------------"
   ]
  },
  {
   "cell_type": "markdown",
   "metadata": {},
   "source": [
    "## Display the interactive map"
   ]
  },
  {
   "cell_type": "code",
   "execution_count": null,
   "metadata": {},
   "outputs": [],
   "source": [
    "Map"
   ]
  }
 ],
 "metadata": {
  "anaconda-cloud": {},
  "kernelspec": {
   "display_name": "Python 3",
   "language": "python",
   "name": "python3"
  },
  "language_info": {
   "codemirror_mode": {
    "name": "ipython",
    "version": 3
   },
   "file_extension": ".py",
   "mimetype": "text/x-python",
   "name": "python",
   "nbconvert_exporter": "python",
   "pygments_lexer": "ipython3",
   "version": "3.6.1"
  }
 },
 "nbformat": 4,
 "nbformat_minor": 4
}
