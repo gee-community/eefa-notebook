{
 "cells": [
  {
   "cell_type": "markdown",
   "metadata": {},
   "source": [
    "## Import libraries"
   ]
  },
  {
   "cell_type": "code",
   "execution_count": null,
   "metadata": {},
   "outputs": [],
   "source": [
    "import ee\n",
    "import geemap"
   ]
  },
  {
   "cell_type": "markdown",
   "metadata": {},
   "source": [
    "## Create an interactive map"
   ]
  },
  {
   "cell_type": "code",
   "execution_count": null,
   "metadata": {},
   "outputs": [],
   "source": [
    "Map = geemap.Map(center=[40, -100], zoom=4)"
   ]
  },
  {
   "cell_type": "markdown",
   "metadata": {},
   "source": [
    "## Add Earth Engine Python script"
   ]
  },
  {
   "cell_type": "code",
   "execution_count": null,
   "metadata": {},
   "outputs": [],
   "source": [
    "# Add Earth Engine dataset\n",
    "image = ee.Image(\"USGS/SRTMGL1_003\")\n",
    "\n",
    "#  ~~~~~~~~~~~~~~~~~~~~~~~~~~~~~~~~~~~~~~~~~~~~~~~~~~~~~~~~~~~~~~~~~~~~~~~~~~~~~~~\n",
    "#  Chapter:      F6.0 Advanced Raster Visualization\n",
    "#  Checkpoint:   F60j\n",
    "#  Authors:      Gennadii Donchyts, Fedor Baart\n",
    "#  ~~~~~~~~~~~~~~~~~~~~~~~~~~~~~~~~~~~~~~~~~~~~~~~~~~~~~~~~~~~~~~~~~~~~~~~~~~~~~~~\n",
    "\n",
    "dem = ee.Image('AHN/AHN2_05M_RUW')\n",
    "\n",
    "# Change map style to HYBRID and center map on the Netherlands\n",
    "Map.setOptions('HYBRID')\n",
    "Map.setCenter(4.4082, 52.1775, 18)\n",
    "\n",
    "# Visualize DEM using black-white color palette\n",
    "palette = ['black', 'white']\n",
    "demRGB = dem.visualize(**{\n",
    "    'min': -5,\n",
    "    'max': 5,\n",
    "    'palette': palette\n",
    "})\n",
    "Map.addLayer(demRGB, {}, 'DEM')\n",
    "\n",
    "utils = require('users/gena/packages:utils')\n",
    "\n",
    "weight =\n",
    "    0.4; # Weight of Hillshade vs RGB (0 - flat, 1 - hillshaded).\n",
    "exaggeration = 5; # Vertical exaggeration.\n",
    "azimuth = 315; # Sun azimuth.\n",
    "zenith = 20; # Sun elevation.\n",
    "brightness = -0.05; # 0 - default.\n",
    "contrast = 0.05; # 0 - default.\n",
    "saturation = 0.8; # 1 - default.\n",
    "castShadows = False\n",
    "\n",
    "rgb = utils.hillshadeRGB(\n",
    "    demRGB, dem, weight, exaggeration, azimuth, zenith,\n",
    "    contrast, brightness, saturation, castShadows)\n",
    "\n",
    "Map.addLayer(rgb, {}, 'DEM (no shadows)')\n",
    "\n",
    "castShadows = True\n",
    "\n",
    "rgb = utils.hillshadeRGB(\n",
    "    demRGB, dem, weight, exaggeration, azimuth, zenith,\n",
    "    contrast, brightness, saturation, castShadows)\n",
    "\n",
    "Map.addLayer(rgb, {}, 'DEM (with shadows)')\n",
    "\n",
    "palettes = require('users/gena/packages:palettes')\n",
    "palette = palettes.crameri.oleron[50]\n",
    "\n",
    "demRGB = dem.visualize(**{'min': -5, 'max': 5, 'palette': palette})\n",
    "\n",
    "castShadows = True\n",
    "\n",
    "rgb = utils.hillshadeRGB(\n",
    "  demRGB, dem, weight, exaggeration, azimuth, zenith,\n",
    "  contrast, brightness, saturation, castShadows)\n",
    "\n",
    "Map.addLayer(rgb, {}, 'DEM colormap')\n",
    "\n",
    "#  -----------------------------------------------------------------------\n",
    "#  CHECKPOINT\n",
    "#  -----------------------------------------------------------------------"
   ]
  },
  {
   "cell_type": "markdown",
   "metadata": {},
   "source": [
    "## Display the interactive map"
   ]
  },
  {
   "cell_type": "code",
   "execution_count": null,
   "metadata": {},
   "outputs": [],
   "source": [
    "Map"
   ]
  }
 ],
 "metadata": {
  "anaconda-cloud": {},
  "kernelspec": {
   "display_name": "Python 3",
   "language": "python",
   "name": "python3"
  },
  "language_info": {
   "codemirror_mode": {
    "name": "ipython",
    "version": 3
   },
   "file_extension": ".py",
   "mimetype": "text/x-python",
   "name": "python",
   "nbconvert_exporter": "python",
   "pygments_lexer": "ipython3",
   "version": "3.6.1"
  }
 },
 "nbformat": 4,
 "nbformat_minor": 4
}
