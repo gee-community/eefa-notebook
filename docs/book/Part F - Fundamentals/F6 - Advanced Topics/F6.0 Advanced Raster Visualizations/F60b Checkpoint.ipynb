{
 "cells": [
  {
   "cell_type": "markdown",
   "metadata": {},
   "source": [
    "## Import libraries"
   ]
  },
  {
   "cell_type": "code",
   "execution_count": null,
   "metadata": {},
   "outputs": [],
   "source": [
    "import ee\n",
    "import geemap"
   ]
  },
  {
   "cell_type": "markdown",
   "metadata": {},
   "source": [
    "## Create an interactive map"
   ]
  },
  {
   "cell_type": "code",
   "execution_count": null,
   "metadata": {},
   "outputs": [],
   "source": [
    "Map = geemap.Map(center=[40, -100], zoom=4)"
   ]
  },
  {
   "cell_type": "markdown",
   "metadata": {},
   "source": [
    "## Add Earth Engine Python script"
   ]
  },
  {
   "cell_type": "code",
   "execution_count": null,
   "metadata": {},
   "outputs": [],
   "source": [
    "# Add Earth Engine dataset\n",
    "image = ee.Image(\"USGS/SRTMGL1_003\")\n",
    "\n",
    "#  ~~~~~~~~~~~~~~~~~~~~~~~~~~~~~~~~~~~~~~~~~~~~~~~~~~~~~~~~~~~~~~~~~~~~~~~~~~~~~~~\n",
    "#  Chapter:      F6.0 Advanced Raster Visualization\n",
    "#  Checkpoint:   F60b\n",
    "#  Authors:      Gennadii Donchyts, Fedor Baart\n",
    "#  ~~~~~~~~~~~~~~~~~~~~~~~~~~~~~~~~~~~~~~~~~~~~~~~~~~~~~~~~~~~~~~~~~~~~~~~~~~~~~~~\n",
    "\n",
    "# An image of the Thwaites glacier.\n",
    "imageId =\n",
    "  'COPERNICUS/S1_GRD/S1B_EW_GRDM_1SSH_20211216T041925_20211216T042029_030045_03965B_AF0A'\n",
    "\n",
    "# Look it up and select the HH band.\n",
    "img = ee.Image(imageId).select('HH')\n",
    "\n",
    "# Use the palette library.\n",
    "palettes = require('users/gena/packages:palettes')\n",
    "\n",
    "# Access the ice palette.\n",
    "icePalette = palettes.cmocean.Ice[7]\n",
    "\n",
    "# Show it in the console.\n",
    "palettes.showPalette('Ice', icePalette)\n",
    "\n",
    "# Use  it to visualize the radar data.\n",
    "Map.addLayer(img, {\n",
    "    'palette': icePalette,\n",
    "    'min': -15,\n",
    "    'max': 1\n",
    "}, 'Sentinel-1 radar')\n",
    "\n",
    "# Zoom to the grounding line of the Thwaites Glacier.\n",
    "Map.centerObject(ee.Geometry.Point([-105.45882094907664, -\n",
    "    74.90419580705336\n",
    "]), 8)\n",
    "\n",
    "#  -----------------------------------------------------------------------\n",
    "#  CHECKPOINT\n",
    "#  -----------------------------------------------------------------------"
   ]
  },
  {
   "cell_type": "markdown",
   "metadata": {},
   "source": [
    "## Display the interactive map"
   ]
  },
  {
   "cell_type": "code",
   "execution_count": null,
   "metadata": {},
   "outputs": [],
   "source": [
    "Map"
   ]
  }
 ],
 "metadata": {
  "anaconda-cloud": {},
  "kernelspec": {
   "display_name": "Python 3",
   "language": "python",
   "name": "python3"
  },
  "language_info": {
   "codemirror_mode": {
    "name": "ipython",
    "version": 3
   },
   "file_extension": ".py",
   "mimetype": "text/x-python",
   "name": "python",
   "nbconvert_exporter": "python",
   "pygments_lexer": "ipython3",
   "version": "3.6.1"
  }
 },
 "nbformat": 4,
 "nbformat_minor": 4
}
