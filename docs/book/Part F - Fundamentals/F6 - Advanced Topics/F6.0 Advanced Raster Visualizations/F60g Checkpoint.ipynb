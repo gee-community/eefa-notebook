{
 "cells": [
  {
   "cell_type": "markdown",
   "metadata": {},
   "source": [
    "## Import libraries"
   ]
  },
  {
   "cell_type": "code",
   "execution_count": null,
   "metadata": {},
   "outputs": [],
   "source": [
    "import ee\n",
    "import geemap"
   ]
  },
  {
   "cell_type": "markdown",
   "metadata": {},
   "source": [
    "## Create an interactive map"
   ]
  },
  {
   "cell_type": "code",
   "execution_count": null,
   "metadata": {},
   "outputs": [],
   "source": [
    "Map = geemap.Map(center=[40, -100], zoom=4)"
   ]
  },
  {
   "cell_type": "markdown",
   "metadata": {},
   "source": [
    "## Add Earth Engine Python script"
   ]
  },
  {
   "cell_type": "code",
   "execution_count": null,
   "metadata": {},
   "outputs": [],
   "source": [
    "# Add Earth Engine dataset\n",
    "image = ee.Image(\"USGS/SRTMGL1_003\")\n",
    "\n",
    "#*** Start of imports. If edited, may not auto-convert in the playground. ***#\n",
    "geometry = ee.Geometry.MultiPoint()\n",
    "#**** End of imports. If edited, may not auto-convert in the playground. ****#\n",
    "#  ~~~~~~~~~~~~~~~~~~~~~~~~~~~~~~~~~~~~~~~~~~~~~~~~~~~~~~~~~~~~~~~~~~~~~~~~~~~~~~~\n",
    "#  Chapter:      F6.0 Advanced Raster Visualization\n",
    "#  Checkpoint:   F60g\n",
    "#  Authors:      Gennadii Donchyts, Fedor Baart\n",
    "#  ~~~~~~~~~~~~~~~~~~~~~~~~~~~~~~~~~~~~~~~~~~~~~~~~~~~~~~~~~~~~~~~~~~~~~~~~~~~~~~~\n",
    "\n",
    "# Include packages.\n",
    "palettes = require('users/gena/packages:palettes')\n",
    "text = require('users/gena/packages:text')\n",
    "\n",
    "point =  ee.Geometry.Point([-\n",
    "    106.15944300895228, -74.58262940096245\n",
    "])\n",
    "\n",
    "rect =\n",
    "    ee.Geometry.Polygon(\n",
    "        [\n",
    "            [\n",
    "                [-106.19789515738981, -74.56509549360152],\n",
    "                [-106.19789515738981, -74.78071448733921],\n",
    "                [-104.98115931754606, -74.78071448733921],\n",
    "                [-104.98115931754606, -74.56509549360152]\n",
    "            ]\n",
    "        ], None, False)\n",
    "\n",
    "# Lookup the ice palette.\n",
    "palette = palettes.cmocean.Ice[7]\n",
    "\n",
    "# Show it in the console.\n",
    "palettes.showPalette('Ice', palette)\n",
    "\n",
    "# Center map on geometry.\n",
    "Map.centerObject(point, 9)\n",
    "\n",
    "# Select S1 images for the Thwaites glacier.\n",
    "images = ee.ImageCollection('COPERNICUS/S1_GRD') \\\n",
    "    .filterBounds(rect) \\\n",
    "    .filterDate('2021-01-01', '2021-03-01') \\\n",
    "    .select('HH') \\\n",
    "    .filter(ee.Filter.isContained({\n",
    "        'leftValue': rect,\n",
    "        'rightField': '.geo'\n",
    "    })) \\\n",
    "    .sort('system:time_start')\n",
    "\n",
    "# Print number of images.\n",
    "print(images.size())\n",
    "\n",
    "#  -----------------------------------------------------------------------\n",
    "#  CHECKPOINT\n",
    "#  -----------------------------------------------------------------------"
   ]
  },
  {
   "cell_type": "markdown",
   "metadata": {},
   "source": [
    "## Display the interactive map"
   ]
  },
  {
   "cell_type": "code",
   "execution_count": null,
   "metadata": {},
   "outputs": [],
   "source": [
    "Map"
   ]
  }
 ],
 "metadata": {
  "anaconda-cloud": {},
  "kernelspec": {
   "display_name": "Python 3",
   "language": "python",
   "name": "python3"
  },
  "language_info": {
   "codemirror_mode": {
    "name": "ipython",
    "version": 3
   },
   "file_extension": ".py",
   "mimetype": "text/x-python",
   "name": "python",
   "nbconvert_exporter": "python",
   "pygments_lexer": "ipython3",
   "version": "3.6.1"
  }
 },
 "nbformat": 4,
 "nbformat_minor": 4
}
