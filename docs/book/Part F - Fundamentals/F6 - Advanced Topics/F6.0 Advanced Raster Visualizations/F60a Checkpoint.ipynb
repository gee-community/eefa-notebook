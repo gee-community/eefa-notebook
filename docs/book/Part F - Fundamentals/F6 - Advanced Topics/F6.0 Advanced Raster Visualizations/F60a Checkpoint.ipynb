{
 "cells": [
  {
   "cell_type": "markdown",
   "metadata": {},
   "source": [
    "## Import libraries"
   ]
  },
  {
   "cell_type": "code",
   "execution_count": null,
   "metadata": {},
   "outputs": [],
   "source": [
    "import ee\n",
    "import geemap"
   ]
  },
  {
   "cell_type": "markdown",
   "metadata": {},
   "source": [
    "## Create an interactive map"
   ]
  },
  {
   "cell_type": "code",
   "execution_count": null,
   "metadata": {},
   "outputs": [],
   "source": [
    "Map = geemap.Map(center=[40, -100], zoom=4)"
   ]
  },
  {
   "cell_type": "markdown",
   "metadata": {},
   "source": [
    "## Add Earth Engine Python script"
   ]
  },
  {
   "cell_type": "code",
   "execution_count": null,
   "metadata": {},
   "outputs": [],
   "source": [
    "# Add Earth Engine dataset\n",
    "image = ee.Image(\"USGS/SRTMGL1_003\")\n",
    "\n",
    "#  ~~~~~~~~~~~~~~~~~~~~~~~~~~~~~~~~~~~~~~~~~~~~~~~~~~~~~~~~~~~~~~~~~~~~~~~~~~~~~~~\n",
    "#  Chapter:      F6.0 Advanced Raster Visualization\n",
    "#  Checkpoint:   F60a\n",
    "#  Authors:      Gennadii Donchyts, Fedor Baart\n",
    "#  ~~~~~~~~~~~~~~~~~~~~~~~~~~~~~~~~~~~~~~~~~~~~~~~~~~~~~~~~~~~~~~~~~~~~~~~~~~~~~~~\n",
    "\n",
    "# Load the ERA5 reanalysis monthly means.\n",
    "era5 = ee.ImageCollection(\"ECMWF/ERA5_LAND/MONTHLY\")\n",
    "\n",
    "# Load the palettes package.\n",
    "palettes = require(\"users/gena/packages:palettes\")\n",
    "\n",
    "# Select temperature near ground.\n",
    "era5 = era5.select(\"temperature_2m\")\n",
    "\n",
    "# Choose a diverging colormap for anomalies.\n",
    "balancePalette = palettes.cmocean.Balance[7]\n",
    "threeColorPalette = [\"blue\", \"white\", \"red\"]\n",
    "\n",
    "# Show the palette in the Inspector window.\n",
    "palettes.showPalette(\"temperature anomaly\", balancePalette)\n",
    "palettes.showPalette(\"temperature anomaly\", threeColorPalette)\n",
    "\n",
    "# Select 2 time windows of 10 years.\n",
    "era5_1980 = era5.filterDate(\"1981-01-01\", \"1991-01-01\").mean()\n",
    "era5_2010 = era5.filterDate(\"2011-01-01\", \"2020-01-01\").mean()\n",
    "\n",
    "# Compute the temperature change.\n",
    "era5_diff = era5_2010.subtract(era5_1980)\n",
    "\n",
    "# Show it on the map.\n",
    "Map.addLayer(\n",
    "    era5_diff,\n",
    "    {\"palette\": threeColorPalette, \"min\": -2, \"max\": 2},\n",
    "    \"Blue White Red palette\",\n",
    ")\n",
    "\n",
    "Map.addLayer(\n",
    "    era5_diff, {\"palette\": balancePalette, \"min\": -2, \"max\": 2}, \"Balance palette\"\n",
    ")\n",
    "\n",
    "#  -----------------------------------------------------------------------\n",
    "#  CHECKPOINT\n",
    "#  -----------------------------------------------------------------------"
   ]
  },
  {
   "cell_type": "markdown",
   "metadata": {},
   "source": [
    "## Display the interactive map"
   ]
  },
  {
   "cell_type": "code",
   "execution_count": null,
   "metadata": {},
   "outputs": [],
   "source": [
    "Map"
   ]
  }
 ],
 "metadata": {
  "anaconda-cloud": {},
  "kernelspec": {
   "display_name": "Python 3",
   "language": "python",
   "name": "python3"
  },
  "language_info": {
   "codemirror_mode": {
    "name": "ipython",
    "version": 3
   },
   "file_extension": ".py",
   "mimetype": "text/x-python",
   "name": "python",
   "nbconvert_exporter": "python",
   "pygments_lexer": "ipython3",
   "version": "3.6.1"
  }
 },
 "nbformat": 4,
 "nbformat_minor": 4
}
