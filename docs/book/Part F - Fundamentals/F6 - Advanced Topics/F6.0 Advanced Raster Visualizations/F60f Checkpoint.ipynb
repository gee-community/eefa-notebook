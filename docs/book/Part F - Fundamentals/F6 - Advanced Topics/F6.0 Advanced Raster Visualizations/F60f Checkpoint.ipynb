{
 "cells": [
  {
   "cell_type": "markdown",
   "metadata": {},
   "source": [
    "## Import libraries"
   ]
  },
  {
   "cell_type": "code",
   "execution_count": null,
   "metadata": {},
   "outputs": [],
   "source": [
    "import ee\n",
    "import geemap"
   ]
  },
  {
   "cell_type": "markdown",
   "metadata": {},
   "source": [
    "## Create an interactive map"
   ]
  },
  {
   "cell_type": "code",
   "execution_count": null,
   "metadata": {},
   "outputs": [],
   "source": [
    "Map = geemap.Map(center=[40, -100], zoom=4)"
   ]
  },
  {
   "cell_type": "markdown",
   "metadata": {},
   "source": [
    "## Add Earth Engine Python script"
   ]
  },
  {
   "cell_type": "code",
   "execution_count": null,
   "metadata": {},
   "outputs": [],
   "source": [
    "# Add Earth Engine dataset\n",
    "image = ee.Image(\"USGS/SRTMGL1_003\")\n",
    "\n",
    "#  ~~~~~~~~~~~~~~~~~~~~~~~~~~~~~~~~~~~~~~~~~~~~~~~~~~~~~~~~~~~~~~~~~~~~~~~~~~~~~~~\n",
    "#  Chapter:      F6.0 Advanced Raster Visualization\n",
    "#  Checkpoint:   F60f\n",
    "#  Authors:      Gennadii Donchyts, Fedor Baart\n",
    "#  ~~~~~~~~~~~~~~~~~~~~~~~~~~~~~~~~~~~~~~~~~~~~~~~~~~~~~~~~~~~~~~~~~~~~~~~~~~~~~~~\n",
    "\n",
    "text = require('users/gena/packages:text')\n",
    "\n",
    "geometry = ee.Geometry.Polygon(\n",
    "    [\n",
    "        [\n",
    "            [-109.248, 43.3913],\n",
    "            [-109.248, 33.2689],\n",
    "            [-86.5283, 33.2689],\n",
    "            [-86.5283, 43.3913]\n",
    "        ]\n",
    "    ], None, False)\n",
    "\n",
    "Map.centerObject(geometry, 6)\n",
    "\n",
    "def annotate(image):\n",
    "    # Annotates an image by adding outline border and cloudiness\n",
    "    # Cloudiness is shown as a text string rendered at the image center.\n",
    "\n",
    "    # Add an edge around the image.\n",
    "    edge = ee.FeatureCollection([image]) \\\n",
    "        .style(**{\n",
    "            'color': 'cccc00cc',\n",
    "            'fillColor': '00000000'\n",
    "        })\n",
    "\n",
    "    # Draw cloudiness as text.\n",
    "    props = {\n",
    "        'textColor': '0000aa',\n",
    "        'outlineColor': 'ffffff',\n",
    "        'outlineWidth': 2,\n",
    "        'outlineOpacity': 0.6,\n",
    "        'fontSize': 24,\n",
    "        'fontType': 'Consolas'\n",
    "    }\n",
    "    center = image.geometry().centroid(1)\n",
    "    str = ee.Number(image.get('CLOUD_COVER')).format('%.2f')\n",
    "    scale = Map.getScale()\n",
    "    textCloudiness = text.draw(str, center, scale, props)\n",
    "\n",
    "    # Shift left 25 pixels.\n",
    "    textCloudiness = textCloudiness \\\n",
    "        .translate(-scale * 25, 0, 'meters', 'EPSG:3857')\n",
    "\n",
    "    # Merge results.\n",
    "    return ee.ImageCollection([edge, textCloudiness]).mosaic()\n",
    "\n",
    "\n",
    "# Select images.\n",
    "images = ee.ImageCollection('LANDSAT/LC08/C02/T1_RT_TOA') \\\n",
    "    .select([5, 4, 2]) \\\n",
    "    .filterBounds(geometry) \\\n",
    "    .filterDate('2018-01-01', '2018-01-7')\n",
    "\n",
    "# dim background.\n",
    "Map.addLayer(ee.Image(1), {\n",
    "    'palette': ['black']\n",
    "}, 'black', True, 0.5)\n",
    "\n",
    "# Show images.\n",
    "Map.addLayer(images, {\n",
    "    'min': 0.05,\n",
    "    'max': 1,\n",
    "    'gamma': 1.4\n",
    "}, 'images')\n",
    "\n",
    "# Show annotations.\n",
    "labels = images.map(annotate)\n",
    "labelsLayer = ui.Map.Layer(labels, {}, 'annotations')\n",
    "Map.layers().add(labelsLayer)\n",
    "\n",
    "# re-render (rescale) annotations when map zoom changes.\n",
    "Map.onChangeZoom(function(zoom) {\n",
    "    labelsLayer.setEeObject(images.map(annotate))\n",
    "})\n",
    "\n",
    "#  -----------------------------------------------------------------------\n",
    "#  CHECKPOINT\n",
    "#  -----------------------------------------------------------------------"
   ]
  },
  {
   "cell_type": "markdown",
   "metadata": {},
   "source": [
    "## Display the interactive map"
   ]
  },
  {
   "cell_type": "code",
   "execution_count": null,
   "metadata": {},
   "outputs": [],
   "source": [
    "Map"
   ]
  }
 ],
 "metadata": {
  "anaconda-cloud": {},
  "kernelspec": {
   "display_name": "Python 3",
   "language": "python",
   "name": "python3"
  },
  "language_info": {
   "codemirror_mode": {
    "name": "ipython",
    "version": 3
   },
   "file_extension": ".py",
   "mimetype": "text/x-python",
   "name": "python",
   "nbconvert_exporter": "python",
   "pygments_lexer": "ipython3",
   "version": "3.6.1"
  }
 },
 "nbformat": 4,
 "nbformat_minor": 4
}
