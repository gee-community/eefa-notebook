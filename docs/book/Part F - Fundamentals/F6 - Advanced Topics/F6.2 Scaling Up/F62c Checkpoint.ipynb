{
 "cells": [
  {
   "cell_type": "markdown",
   "metadata": {},
   "source": [
    "## Import libraries"
   ]
  },
  {
   "cell_type": "code",
   "execution_count": null,
   "metadata": {},
   "outputs": [],
   "source": [
    "import ee\n",
    "import geemap"
   ]
  },
  {
   "cell_type": "markdown",
   "metadata": {},
   "source": [
    "## Create an interactive map"
   ]
  },
  {
   "cell_type": "code",
   "execution_count": null,
   "metadata": {},
   "outputs": [],
   "source": [
    "Map = geemap.Map(center=[40, -100], zoom=4)"
   ]
  },
  {
   "cell_type": "markdown",
   "metadata": {},
   "source": [
    "## Add Earth Engine Python script"
   ]
  },
  {
   "cell_type": "code",
   "execution_count": null,
   "metadata": {},
   "outputs": [],
   "source": [
    "# Add Earth Engine dataset\n",
    "image = ee.Image(\"USGS/SRTMGL1_003\")\n",
    "\n",
    "#  ~~~~~~~~~~~~~~~~~~~~~~~~~~~~~~~~~~~~~~~~~~~~~~~~~~~~~~~~~~~~~~~~~~~~~~~~~~~~~~~\n",
    "#  Chapter:      F6.2 Scaling Up in Earth Engine\n",
    "#  Checkpoint:   F62c\n",
    "#  Authors:      Jillian M. Deines, Stefania Di Tommaso, Nicholas Clinton, Noel Gorelick\n",
    "#  ~~~~~~~~~~~~~~~~~~~~~~~~~~~~~~~~~~~~~~~~~~~~~~~~~~~~~~~~~~~~~~~~~~~~~~~~~~~~~~~\n",
    "\n",
    "# Set the Region of Interest:Seattle, Washington, United States\n",
    "roi = ee.Geometry.Point([-122.33524518034544, 47.61356183942883])\n",
    "\n",
    "# Dates over which to create a median composite.\n",
    "start = ee.Date(\"2019-03-01\")\n",
    "end = ee.Date(\"2019-09-01\")\n",
    "\n",
    "# Specify module with cloud mask functions.\n",
    "s2mask_tools = require(\n",
    "    \"projects/gee-edu/book:Part F - Fundamentals/F6 - Advanced Topics/F6.2 Scaling Up/modules/s2cloudmask.js\"\n",
    ")\n",
    "\n",
    "\n",
    "# Specify S2 collections and filter.\n",
    "\n",
    "# Sentinel-2 surface reflectance data for the composite.\n",
    "s2Sr = (\n",
    "    ee.ImageCollection(\"COPERNICUS/S2_SR\")\n",
    "    .filterDate(start, end)\n",
    "    .filterBounds(roi)\n",
    "    .select([\"B2\", \"B3\", \"B4\", \"B5\"])\n",
    ")\n",
    "\n",
    "# Sentinel-2 Level 1C data (top-of-atmosphere).\n",
    "# Bands B7, B8, B8A and B10 needed for CDI and the cloud mask function.\n",
    "s2 = (\n",
    "    ee.ImageCollection(\"COPERNICUS/S2\")\n",
    "    .filterBounds(roi)\n",
    "    .filterDate(start, end)\n",
    "    .select([\"B7\", \"B8\", \"B8A\", \"B10\"])\n",
    ")\n",
    "\n",
    "# Cloud probability dataset - used in cloud mask function\n",
    "s2c = (\n",
    "    ee.ImageCollection(\"COPERNICUS/S2_CLOUD_PROBABILITY\")\n",
    "    .filterDate(start, end)\n",
    "    .filterBounds(roi)\n",
    ")\n",
    "\n",
    "# Apply the cloud mask.\n",
    "\n",
    "# Join the cloud probability dataset to surface reflectance.\n",
    "withCloudProbability = s2mask_tools.indexJoin(s2Sr, s2c, \"cloud_probability\")\n",
    "\n",
    "# Join the L1C data to get the bands needed for CDI.\n",
    "withS2L1C = s2mask_tools.indexJoin(withCloudProbability, s2, \"l1c\")\n",
    "\n",
    "# Map the cloud masking function over the joined collection.\n",
    "# Cast output to ImageCollection\n",
    "masked = ee.ImageCollection(withS2L1C.map(s2mask_tools.maskImage))\n",
    "\n",
    "# Take the median, specifying a tileScale to avoid memory errors.\n",
    "median = masked.reduce(ee.Reducer.median(), 8)\n",
    "\n",
    "# Display the results.\n",
    "Map.centerObject(roi, 12)\n",
    "Map.addLayer(roi)\n",
    "\n",
    "viz = {\"bands\": [\"B4_median\", \"B3_median\", \"B2_median\"], \"min\": 0, \"max\": 3000}\n",
    "Map.addLayer(median, viz, \"median\")\n",
    "\n",
    "Map.centerObject(roi, 9)\n",
    "Map.addLayer(roi)\n",
    "Map.addLayer(median, viz, \"median\")\n",
    "\n",
    "#  -----------------------------------------------------------------------\n",
    "#  CHECKPOINT\n",
    "#  -----------------------------------------------------------------------"
   ]
  },
  {
   "cell_type": "markdown",
   "metadata": {},
   "source": [
    "## Display the interactive map"
   ]
  },
  {
   "cell_type": "code",
   "execution_count": null,
   "metadata": {},
   "outputs": [],
   "source": [
    "Map"
   ]
  }
 ],
 "metadata": {
  "anaconda-cloud": {},
  "kernelspec": {
   "display_name": "Python 3",
   "language": "python",
   "name": "python3"
  },
  "language_info": {
   "codemirror_mode": {
    "name": "ipython",
    "version": 3
   },
   "file_extension": ".py",
   "mimetype": "text/x-python",
   "name": "python",
   "nbconvert_exporter": "python",
   "pygments_lexer": "ipython3",
   "version": "3.6.1"
  }
 },
 "nbformat": 4,
 "nbformat_minor": 4
}
