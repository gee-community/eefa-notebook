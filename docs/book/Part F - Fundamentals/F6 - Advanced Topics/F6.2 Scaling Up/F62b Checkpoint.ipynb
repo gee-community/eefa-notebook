{
 "cells": [
  {
   "cell_type": "markdown",
   "metadata": {},
   "source": [
    "## Import libraries"
   ]
  },
  {
   "cell_type": "code",
   "execution_count": null,
   "metadata": {},
   "outputs": [],
   "source": [
    "import ee\n",
    "import geemap"
   ]
  },
  {
   "cell_type": "markdown",
   "metadata": {},
   "source": [
    "## Create an interactive map"
   ]
  },
  {
   "cell_type": "code",
   "execution_count": null,
   "metadata": {},
   "outputs": [],
   "source": [
    "Map = geemap.Map(center=[40, -100], zoom=4)"
   ]
  },
  {
   "cell_type": "markdown",
   "metadata": {},
   "source": [
    "## Add Earth Engine Python script"
   ]
  },
  {
   "cell_type": "code",
   "execution_count": null,
   "metadata": {},
   "outputs": [],
   "source": [
    "# Add Earth Engine dataset\n",
    "image = ee.Image(\"USGS/SRTMGL1_003\")\n",
    "\n",
    "#  ~~~~~~~~~~~~~~~~~~~~~~~~~~~~~~~~~~~~~~~~~~~~~~~~~~~~~~~~~~~~~~~~~~~~~~~~~~~~~~~\n",
    "#  Chapter:      F6.2 Scaling Up in Earth Engine\n",
    "#  Checkpoint:   F62b\n",
    "#  Authors:      Jillian M. Deines, Stefania Di Tommaso, Nicholas Clinton, Noel Gorelick\n",
    "#  ~~~~~~~~~~~~~~~~~~~~~~~~~~~~~~~~~~~~~~~~~~~~~~~~~~~~~~~~~~~~~~~~~~~~~~~~~~~~~~~\n",
    "\n",
    "# Load county dataset.\n",
    "# Filter counties in Indiana, Illinois, and Iowa by state FIPS code.\n",
    "# Select only the unique ID column for simplicity.\n",
    "countiesAll = ee.FeatureCollection('TIGER/2018/Counties')\n",
    "states = ['17', '18', '19']\n",
    "uniqueID = 'GEOID'\n",
    "featColl = countiesAll.filter(ee.Filter.inList('STATEFP', states)) \\\n",
    "    .select(uniqueID)\n",
    "\n",
    "print(featColl.size())\n",
    "print(featColl.limit(1))\n",
    "Map.addLayer(featColl)\n",
    "\n",
    "# Specify years of interest.\n",
    "startYear = 2001\n",
    "endYear = 2020\n",
    "\n",
    "# Climate dataset info.\n",
    "imageCollectionName = 'IDAHO_EPSCOR/GRIDMET'\n",
    "bandsWanted = ['pr', 'tmmn', 'tmmx']\n",
    "scale = 4000\n",
    "\n",
    "# Export info.\n",
    "exportFolder = 'GEE_scalingUp'\n",
    "filenameBase = 'Gridmet_counties_IN_IL_IA_' + scale + 'm_'\n",
    "\n",
    "# Initiate a loop, in which the variable i takes on values of each year.\n",
    "for i in range(startYear, endYear, 1):         # for each year....\n",
    "\n",
    "  # Load climate collection for that year.\n",
    "  startDate = i + '-01-01'\n",
    "\n",
    "  endYear_adj = i + 1\n",
    "  endDate = endYear_adj + '-01-01'\n",
    "\n",
    "  imageCollection = ee.ImageCollection(imageCollectionName) \\\n",
    "      .select(bandsWanted) \\\n",
    "      .filterBounds(featColl) \\\n",
    "      .filterDate(startDate, endDate)\n",
    "\n",
    "  # Get values at feature collection.\n",
    "\n",
    "def func_rsk(image):\n",
    "    return image.reduceRegions({\n",
    "      'collection': featColl,\n",
    "      'reducer': ee.Reducer.mean(),\n",
    "      'tileScale': 1,\n",
    "      'scale': scale\n",
    "    }).filter(ee.Filter.NotNull(bandsWanted))  # remove rows without data \\\n",
    "      .map(function(f) {                  \n",
    "        time_start = image.get('system:time_start')\n",
    "        dte = ee.Date(time_start).format('YYYYMMdd')\n",
    "        return f.set('date_ymd', dte)\n",
    "    })\n",
    "\n",
    "  sampledFeatures = imageCollection.map(func_rsk\n",
    ").flatten()\n",
    "\n",
    "\n",
    "\n",
    "\n",
    "\n",
    "\n",
    "\n",
    "\n",
    "\n",
    "\n",
    "\n",
    ").flatten()\n",
    "\n",
    "  # Prepare export: specify properties and filename.\n",
    "  columnsWanted = [uniqueID].concat(['date_ymd'], bandsWanted)\n",
    "  filename = filenameBase + i\n",
    "\n",
    "  Export.table.toDrive({\n",
    "    'collection': sampledFeatures,\n",
    "    'description': filename,\n",
    "    'folder': exportFolder,\n",
    "    'fileFormat': 'CSV',\n",
    "    'selectors': columnsWanted\n",
    "  })\n",
    "\n",
    "\n",
    "#  -----------------------------------------------------------------------\n",
    "#  CHECKPOINT\n",
    "#  -----------------------------------------------------------------------\n",
    "\n",
    "\n"
   ]
  },
  {
   "cell_type": "markdown",
   "metadata": {},
   "source": [
    "## Display the interactive map"
   ]
  },
  {
   "cell_type": "code",
   "execution_count": null,
   "metadata": {},
   "outputs": [],
   "source": [
    "Map"
   ]
  }
 ],
 "metadata": {
  "anaconda-cloud": {},
  "kernelspec": {
   "display_name": "Python 3",
   "language": "python",
   "name": "python3"
  },
  "language_info": {
   "codemirror_mode": {
    "name": "ipython",
    "version": 3
   },
   "file_extension": ".py",
   "mimetype": "text/x-python",
   "name": "python",
   "nbconvert_exporter": "python",
   "pygments_lexer": "ipython3",
   "version": "3.6.1"
  }
 },
 "nbformat": 4,
 "nbformat_minor": 4
}
