{
 "cells": [
  {
   "cell_type": "markdown",
   "metadata": {},
   "source": [
    "## Import libraries"
   ]
  },
  {
   "cell_type": "code",
   "execution_count": null,
   "metadata": {},
   "outputs": [],
   "source": [
    "import ee\n",
    "import geemap"
   ]
  },
  {
   "cell_type": "markdown",
   "metadata": {},
   "source": [
    "## Create an interactive map"
   ]
  },
  {
   "cell_type": "code",
   "execution_count": null,
   "metadata": {},
   "outputs": [],
   "source": [
    "Map = geemap.Map(center=[40, -100], zoom=4)"
   ]
  },
  {
   "cell_type": "markdown",
   "metadata": {},
   "source": [
    "## Add Earth Engine Python script"
   ]
  },
  {
   "cell_type": "code",
   "execution_count": null,
   "metadata": {},
   "outputs": [],
   "source": [
    "# Add Earth Engine dataset\n",
    "image = ee.Image(\"USGS/SRTMGL1_003\")\n",
    "\n",
    "#  ~~~~~~~~~~~~~~~~~~~~~~~~~~~~~~~~~~~~~~~~~~~~~~~~~~~~~~~~~~~~~~~~~~~~~~~~~~~~~~~\n",
    "#  Chapter:      F5.3 Advanced Vector Operations\n",
    "#  Checkpoint:   F53a\n",
    "#  Author:       Ujaval Gandhi\n",
    "#  ~~~~~~~~~~~~~~~~~~~~~~~~~~~~~~~~~~~~~~~~~~~~~~~~~~~~~~~~~~~~~~~~~~~~~~~~~~~~~~~\n",
    "\n",
    "blocks = ee.FeatureCollection(\"TIGER/2010/Blocks\")\n",
    "roads = ee.FeatureCollection(\"TIGER/2016/Roads\")\n",
    "sfNeighborhoods = ee.FeatureCollection(\"projects/gee-book/assets/F5-0/SFneighborhoods\")\n",
    "\n",
    "geometry = sfNeighborhoods.geometry()\n",
    "Map.centerObject(geometry)\n",
    "\n",
    "# Creating a Choropleth Map\n",
    "\n",
    "# Filter blocks to the San Francisco boundary.\n",
    "sfBlocks = blocks.filter(ee.Filter.bounds(geometry))\n",
    "\n",
    "# Visualize with a single color.\n",
    "Map.addLayer(sfBlocks, {\"color\": \"#de2d26\"}, \"Census Blocks (single color)\")\n",
    "\n",
    "# Visualize with values in a column using paint().\n",
    "\n",
    "# Add a pop_density column.\n",
    "\n",
    "\n",
    "def func_gvn(f):\n",
    "    # Get the polygon area in square miles.\n",
    "    area_sqmi = f.area().divide(2.59e6)\n",
    "    population = f.get(\"pop10\")\n",
    "    # Calculate population density.\n",
    "    density = ee.Number(population).divide(area_sqmi)\n",
    "    return f.set({\"area_sqmi\": area_sqmi, \"pop_density\": density})\n",
    "\n",
    "\n",
    "sfBlocks = sfBlocks.map(func_gvn)\n",
    "\n",
    "\n",
    "# Calculate the statistics of the newly computed column.\n",
    "stats = sfBlocks.aggregate_stats(\"pop_density\")\n",
    "print(stats)\n",
    "\n",
    "# Create an empty image into which to paint the features.\n",
    "# Cast to 32-bit integer which supports storing values\n",
    "# up to 2,147,483,647.\n",
    "\n",
    "empty = ee.Image().int32()\n",
    "\n",
    "# use paint() to color image with the values from the\n",
    "# 'pop_density' column.\n",
    "sfBlocksPaint = empty.paint(\n",
    "    {\n",
    "        \"featureCollection\": sfBlocks,\n",
    "        \"color\": \"pop_density\",\n",
    "    }\n",
    ")\n",
    "\n",
    "palette = [\"fee5d9\", \"fcae91\", \"fb6a4a\", \"de2d26\", \"a50f15\"]\n",
    "visParams = {\"min\": 0, \"max\": 50000, \"palette\": palette}\n",
    "Map.addLayer(sfBlocksPaint.clip(geometry), visParams, \"Population Density\")\n",
    "\n",
    "# Filter roads to San Francisco boundary.\n",
    "sfRoads = roads.filter(ee.Filter.bounds(geometry))\n",
    "\n",
    "Map.addLayer(sfRoads, {\"color\": \"blue\"}, \"Roads (default)\")\n",
    "\n",
    "# Visualize with draw().\n",
    "sfRoadsDraw = sfRoads.draw({\"color\": \"blue\", \"strokeWidth\": 1})\n",
    "Map.addLayer(sfRoadsDraw, {}, \"Roads (Draw)\")\n",
    "\n",
    "styles = ee.Dictionary(\n",
    "    {\n",
    "        \"S1100\": {\"color\": \"blue\", \"width\": 3},\n",
    "        \"S1200\": {\"color\": \"green\", \"width\": 2},\n",
    "        \"S1400\": {\"color\": \"orange\", \"width\": 1},\n",
    "    }\n",
    ")\n",
    "defaultStyle = {\"color\": \"gray\", \"width\": 1}\n",
    "\n",
    "\n",
    "def func_wwf(f):\n",
    "    classcode = f.get(\"mtfcc\")\n",
    "    style = styles.get(classcode, defaultStyle)\n",
    "    return f.set(\"style\", style)\n",
    "\n",
    "\n",
    "sfRoads = sfRoads.map(func_wwf)\n",
    "\n",
    "\n",
    "sfRoadsStyle = sfRoads.style(**{\"styleProperty\": \"style\"})\n",
    "Map.addLayer(sfRoadsStyle.clip(geometry), {}, \"Roads (Style)\")\n",
    "\n",
    "#  -----------------------------------------------------------------------\n",
    "#  CHECKPOINT\n",
    "#  -----------------------------------------------------------------------"
   ]
  },
  {
   "cell_type": "markdown",
   "metadata": {},
   "source": [
    "## Display the interactive map"
   ]
  },
  {
   "cell_type": "code",
   "execution_count": null,
   "metadata": {},
   "outputs": [],
   "source": [
    "Map"
   ]
  }
 ],
 "metadata": {
  "anaconda-cloud": {},
  "kernelspec": {
   "display_name": "Python 3",
   "language": "python",
   "name": "python3"
  },
  "language_info": {
   "codemirror_mode": {
    "name": "ipython",
    "version": 3
   },
   "file_extension": ".py",
   "mimetype": "text/x-python",
   "name": "python",
   "nbconvert_exporter": "python",
   "pygments_lexer": "ipython3",
   "version": "3.6.1"
  }
 },
 "nbformat": 4,
 "nbformat_minor": 4
}
