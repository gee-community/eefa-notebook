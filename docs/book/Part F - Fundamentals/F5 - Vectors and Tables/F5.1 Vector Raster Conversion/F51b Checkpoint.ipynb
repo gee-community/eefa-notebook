{
 "cells": [
  {
   "cell_type": "markdown",
   "metadata": {},
   "source": [
    "## Import libraries"
   ]
  },
  {
   "cell_type": "code",
   "execution_count": null,
   "metadata": {},
   "outputs": [],
   "source": [
    "import ee\n",
    "import geemap"
   ]
  },
  {
   "cell_type": "markdown",
   "metadata": {},
   "source": [
    "## Create an interactive map"
   ]
  },
  {
   "cell_type": "code",
   "execution_count": null,
   "metadata": {},
   "outputs": [],
   "source": [
    "Map = geemap.Map(center=[40, -100], zoom=4)"
   ]
  },
  {
   "cell_type": "markdown",
   "metadata": {},
   "source": [
    "## Add Earth Engine Python script"
   ]
  },
  {
   "cell_type": "code",
   "execution_count": null,
   "metadata": {},
   "outputs": [],
   "source": [
    "# Add Earth Engine dataset\n",
    "image = ee.Image(\"USGS/SRTMGL1_003\")\n",
    "\n",
    "#  ~~~~~~~~~~~~~~~~~~~~~~~~~~~~~~~~~~~~~~~~~~~~~~~~~~~~~~~~~~~~~~~~~~~~~~~~~~~~~~~\n",
    "#  Chapter:      F5.1 Raster/Vector Conversions\n",
    "#  Checkpoint:   F51b\n",
    "#  Authors:      Keiko Nomura, Samuel Bowers\n",
    "#  ~~~~~~~~~~~~~~~~~~~~~~~~~~~~~~~~~~~~~~~~~~~~~~~~~~~~~~~~~~~~~~~~~~~~~~~~~~~~~~~\n",
    "\n",
    "# -------------#\n",
    "# Section 1.3 #\n",
    "# -------------#\n",
    "\n",
    "# Read input data.\n",
    "# Note: these datasets are periodically updated.\n",
    "# Consider searching the Data Catalog for newer versions.\n",
    "gfc = ee.Image(\"UMD/hansen/global_forest_change_2020_v1_8\")\n",
    "wdpa = ee.FeatureCollection(\"WCMC/WDPA/current/polygons\")\n",
    "\n",
    "# Print assets to show available layers and properties.\n",
    "print(gfc)\n",
    "print(wdpa.limit(10))\n",
    "# Show first 10 records.\n",
    "\n",
    "\n",
    "# Display deforestation.\n",
    "deforestation = gfc.select(\"lossyear\")\n",
    "\n",
    "Map.addLayer(\n",
    "    deforestation,\n",
    "    {\"min\": 1, \"max\": 20, \"palette\": [\"yellow\", \"orange\", \"red\"]},\n",
    "    \"Deforestation raster\",\n",
    ")\n",
    "\n",
    "# Display WDPA data.\n",
    "protectedArea = wdpa.filter(ee.Filter.equals(\"NAME\", \"La Paya\"))\n",
    "\n",
    "# Display protected area as an outline (see F5.3 for paint()).\n",
    "protectedAreaOutline = (\n",
    "    ee.Image()\n",
    "    .byte()\n",
    "    .paint({\"featureCollection\": protectedArea, \"color\": 1, \"width\": 3})\n",
    ")\n",
    "\n",
    "Map.addLayer(protectedAreaOutline, {\"palette\": \"white\"}, \"Protected area\")\n",
    "\n",
    "# Set up map display.\n",
    "Map.centerObject(protectedArea)\n",
    "Map.setOptions(\"SATELLITE\")\n",
    "\n",
    "# Convert from a deforestation raster to vector.\n",
    "deforestationVector = deforestation.reduceToVectors(\n",
    "    {\n",
    "        \"scale\": deforestation.projection().nominalScale(),\n",
    "        \"geometry\": protectedArea.geometry(),\n",
    "        \"labelProperty\": \"lossyear\",  # Label polygons with a change year.\n",
    "        \"maxPixels\": 1e13,\n",
    "    }\n",
    ")\n",
    "\n",
    "# Count the number of individual change events\n",
    "print(\"Number of change events:\", deforestationVector.size())\n",
    "\n",
    "# Display deforestation polygons. Color outline by change year.\n",
    "deforestationVectorOutline = (\n",
    "    ee.Image()\n",
    "    .byte()\n",
    "    .paint({\"featureCollection\": deforestationVector, \"color\": \"lossyear\", \"width\": 1})\n",
    ")\n",
    "\n",
    "Map.addLayer(\n",
    "    deforestationVectorOutline,\n",
    "    {\"palette\": [\"yellow\", \"orange\", \"red\"], \"min\": 1, \"max\": 20},\n",
    "    \"Deforestation vector\",\n",
    ")\n",
    "\n",
    "chart = ui.Chart.feature.histogram(\n",
    "    {\"features\": deforestationVector, \"property\": \"lossyear\"}\n",
    ").setOptions(\n",
    "    {\n",
    "        \"hAxis\": {\"title\": \"Year\"},\n",
    "        \"vAxis\": {\"title\": \"Number of deforestation events\"},\n",
    "        \"legend\": {\"position\": \"none\"},\n",
    "    }\n",
    ")\n",
    "\n",
    "print(chart)\n",
    "\n",
    "# Generate deforestation point locations.\n",
    "\n",
    "\n",
    "def func_hoz(feat):\n",
    "    return feat.centroid()\n",
    "\n",
    "\n",
    "deforestationCentroids = deforestationVector.map(func_hoz)\n",
    "\n",
    "\n",
    "Map.addLayer(deforestationCentroids, {\"color\": \"darkblue\"}, \"Deforestation centroids\")\n",
    "\n",
    "# Add a new property to the deforestation FeatureCollection\n",
    "# describing the area of the change polygon.\n",
    "\n",
    "\n",
    "def func_opk(feat):\n",
    "    return feat.set(\"area\", feat.geometry().area({\"maxError\": 10}).divide(10000))\n",
    "    # Convert m^2 to hectare.\n",
    "\n",
    "\n",
    "deforestationVector = deforestationVector.map(func_opk)\n",
    "\n",
    "\n",
    "# Filter the deforestation FeatureCollection for only large-scale (>10 ha) changes\n",
    "deforestationLarge = deforestationVector.filter(ee.Filter.gt(\"area\", 10))\n",
    "\n",
    "# Display deforestation area outline by year.\n",
    "deforestationLargeOutline = (\n",
    "    ee.Image()\n",
    "    .byte()\n",
    "    .paint({\"featureCollection\": deforestationLarge, \"color\": \"lossyear\", \"width\": 1})\n",
    ")\n",
    "\n",
    "Map.addLayer(\n",
    "    deforestationLargeOutline,\n",
    "    {\"palette\": [\"yellow\", \"orange\", \"red\"], \"min\": 1, \"max\": 20},\n",
    "    \"Deforestation (>10 ha)\",\n",
    ")\n",
    "\n",
    "#  -----------------------------------------------------------------------\n",
    "#  CHECKPOINT\n",
    "#  -----------------------------------------------------------------------"
   ]
  },
  {
   "cell_type": "markdown",
   "metadata": {},
   "source": [
    "## Display the interactive map"
   ]
  },
  {
   "cell_type": "code",
   "execution_count": null,
   "metadata": {},
   "outputs": [],
   "source": [
    "Map"
   ]
  }
 ],
 "metadata": {
  "anaconda-cloud": {},
  "kernelspec": {
   "display_name": "Python 3",
   "language": "python",
   "name": "python3"
  },
  "language_info": {
   "codemirror_mode": {
    "name": "ipython",
    "version": 3
   },
   "file_extension": ".py",
   "mimetype": "text/x-python",
   "name": "python",
   "nbconvert_exporter": "python",
   "pygments_lexer": "ipython3",
   "version": "3.6.1"
  }
 },
 "nbformat": 4,
 "nbformat_minor": 4
}
