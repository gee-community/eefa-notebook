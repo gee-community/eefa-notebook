{
 "cells": [
  {
   "cell_type": "markdown",
   "metadata": {},
   "source": [
    "## Import libraries"
   ]
  },
  {
   "cell_type": "code",
   "execution_count": null,
   "metadata": {},
   "outputs": [],
   "source": [
    "import ee\n",
    "import geemap"
   ]
  },
  {
   "cell_type": "markdown",
   "metadata": {},
   "source": [
    "## Create an interactive map"
   ]
  },
  {
   "cell_type": "code",
   "execution_count": null,
   "metadata": {},
   "outputs": [],
   "source": [
    "Map = geemap.Map(center=[40, -100], zoom=4)"
   ]
  },
  {
   "cell_type": "markdown",
   "metadata": {},
   "source": [
    "## Add Earth Engine Python script"
   ]
  },
  {
   "cell_type": "code",
   "execution_count": null,
   "metadata": {},
   "outputs": [],
   "source": [
    "# Add Earth Engine dataset\n",
    "image = ee.Image(\"USGS/SRTMGL1_003\")\n",
    "\n",
    "#  ~~~~~~~~~~~~~~~~~~~~~~~~~~~~~~~~~~~~~~~~~~~~~~~~~~~~~~~~~~~~~~~~~~~~~~~~~~~~~~~\n",
    "#  Chapter:      F5.1 Raster/Vector Conversions\n",
    "#  Checkpoint:   F51c\n",
    "#  Authors:      Keiko Nomura, Samuel Bowers\n",
    "#  ~~~~~~~~~~~~~~~~~~~~~~~~~~~~~~~~~~~~~~~~~~~~~~~~~~~~~~~~~~~~~~~~~~~~~~~~~~~~~~~\n",
    "\n",
    "#-------------#\n",
    "# Section 1.4 #\n",
    "#-------------#\n",
    "\n",
    "# Load required datasets.\n",
    "gfc = ee.Image('UMD/hansen/global_forest_change_2020_v1_8')\n",
    "wdpa = ee.FeatureCollection('WCMC/WDPA/current/polygons')\n",
    "\n",
    "# Display deforestation.\n",
    "deforestation = gfc.select('lossyear')\n",
    "\n",
    "Map.addLayer(deforestation, {\n",
    "    'min': 1,\n",
    "    'max': 20,\n",
    "    'palette': ['yellow', 'orange', 'red']\n",
    "}, 'Deforestation raster')\n",
    "\n",
    "# Select protected areas in the Colombian Amazon.\n",
    "amazonianProtectedAreas = [\n",
    "    'Cordillera de los Picachos', 'La Paya', 'Nukak',\n",
    "    'Serrania de Chiribiquete',\n",
    "    'Sierra de la Macarena', 'Tinigua'\n",
    "]\n",
    "\n",
    "wdpaSubset = wdpa.filter(ee.Filter.inList('NAME',\n",
    "    amazonianProtectedAreas))\n",
    "\n",
    "# Display protected areas as an outline.\n",
    "protectedAreasOutline = ee.Image().byte().paint({\n",
    "    'featureCollection': wdpaSubset,\n",
    "    'color': 1,\n",
    "    'width': 1\n",
    "})\n",
    "\n",
    "Map.addLayer(protectedAreasOutline, {\n",
    "    'palette': 'white'\n",
    "}, 'Amazonian protected areas')\n",
    "\n",
    "# Set up map display.\n",
    "Map.centerObject(wdpaSubset)\n",
    "Map.setOptions('SATELLITE')\n",
    "\n",
    "scale = deforestation.projection().nominalScale()\n",
    "\n",
    "# Use 'reduceRegions' to sum together pixel areas in each protected area.\n",
    "wdpaSubset = deforestation.gte(1) \\\n",
    "    .multiply(ee.Image.pixelArea().divide(10000)).reduceRegions({\n",
    "        'collection': wdpaSubset,\n",
    "        'reducer': ee.Reducer.sum().setOutputs([\n",
    "            'deforestation_area']),\n",
    "        'scale': scale\n",
    "    })\n",
    "\n",
    "print(wdpaSubset); # Note the new 'deforestation_area' property.\n",
    "\n",
    "# Normalize by area.\n",
    "wdpaSubset = wdpaSubset.map(\n",
    "    def function(feat):\n",
    "        return feat.set('deforestation_rate',\n",
    "            ee.Number(feat.get('deforestation_area')) \\\n",
    "            .divide(feat.area().divide(10000)) \\\n",
    "            .divide(20) \\\n",
    "            .multiply(100)); \n",
    "    )\n",
    "\n",
    "# Print to identify rates of change per protected area.\n",
    "# Which has the fastest rate of loss?\n",
    "print(wdpaSubset.reduceColumns({\n",
    "    'reducer': ee.Reducer.toList().repeat(2),\n",
    "    'selectors': ['NAME', 'deforestation_rate']\n",
    "}))\n",
    "\n",
    "#  -----------------------------------------------------------------------\n",
    "#  CHECKPOINT\n",
    "#  -----------------------------------------------------------------------"
   ]
  },
  {
   "cell_type": "markdown",
   "metadata": {},
   "source": [
    "## Display the interactive map"
   ]
  },
  {
   "cell_type": "code",
   "execution_count": null,
   "metadata": {},
   "outputs": [],
   "source": [
    "Map"
   ]
  }
 ],
 "metadata": {
  "anaconda-cloud": {},
  "kernelspec": {
   "display_name": "Python 3",
   "language": "python",
   "name": "python3"
  },
  "language_info": {
   "codemirror_mode": {
    "name": "ipython",
    "version": 3
   },
   "file_extension": ".py",
   "mimetype": "text/x-python",
   "name": "python",
   "nbconvert_exporter": "python",
   "pygments_lexer": "ipython3",
   "version": "3.6.1"
  }
 },
 "nbformat": 4,
 "nbformat_minor": 4
}
