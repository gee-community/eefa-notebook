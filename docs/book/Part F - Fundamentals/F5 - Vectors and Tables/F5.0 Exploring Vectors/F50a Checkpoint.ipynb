{
 "cells": [
  {
   "cell_type": "markdown",
   "metadata": {},
   "source": [
    "## Import libraries"
   ]
  },
  {
   "cell_type": "code",
   "execution_count": null,
   "metadata": {},
   "outputs": [],
   "source": [
    "import ee\n",
    "import geemap"
   ]
  },
  {
   "cell_type": "markdown",
   "metadata": {},
   "source": [
    "## Create an interactive map"
   ]
  },
  {
   "cell_type": "code",
   "execution_count": null,
   "metadata": {},
   "outputs": [],
   "source": [
    "Map = geemap.Map(center=[40, -100], zoom=4)"
   ]
  },
  {
   "cell_type": "markdown",
   "metadata": {},
   "source": [
    "## Add Earth Engine Python script"
   ]
  },
  {
   "cell_type": "code",
   "execution_count": null,
   "metadata": {},
   "outputs": [],
   "source": [
    "# Add Earth Engine dataset\n",
    "image = ee.Image(\"USGS/SRTMGL1_003\")\n",
    "\n",
    "#*** Start of imports. If edited, may not auto-convert in the playground. ***#\n",
    "usf_building =\n",
    "\n",
    "    # shown: False #\n",
    "    ee.Geometry.Polygon(\n",
    "        [[[-122.45136729605188, 37.77692986089728],\n",
    "          [-122.45126000769129, 37.77633201208984],\n",
    "          [-122.45136193163385, 37.77631505176946],\n",
    "          [-122.45131901628962, 37.776132728079645],\n",
    "          [-122.45086840517511, 37.776187849242575],\n",
    "          [-122.4509005916833, 37.77637017279647],\n",
    "          [-122.45101860887995, 37.77635321248484],\n",
    "          [-122.45112053282251, 37.776789939269314],\n",
    "          [-122.4506484640359, 37.776849299992314],\n",
    "          [-122.45067528612604, 37.777014661755025]]]),\n",
    "    usf_campus =\n",
    "\n",
    "    # shown: False #\n",
    "    ee.Geometry.MultiPolygon(\n",
    "        [[[[-122.45387746358996, 37.78025485651328],\n",
    "           [-122.4534697678197, 37.77791441971873],\n",
    "           [-122.4489851143468, 37.77849105595329],\n",
    "           [-122.44962884451037, 37.78076363731525]]],\n",
    "         [[[-122.45295922018377, 37.775902746563965],\n",
    "           [-122.45270172811834, 37.77512256326928],\n",
    "           [-122.44941870428411, 37.77552113619849],\n",
    "           [-122.44960109449713, 37.77630979544932],\n",
    "           [-122.44678009874097, 37.776725234224465],\n",
    "           [-122.44701613313428, 37.777590200803616],\n",
    "           [-122.45311011201612, 37.776860915925724]]],\n",
    "         [[[-122.45492520933641, 37.77589822903132],\n",
    "           [-122.45316568022264, 37.7761356745013],\n",
    "           [-122.45350900297655, 37.77776385146553],\n",
    "           [-122.45511832838548, 37.77756033130608]]]]),\n",
    "    usf_point =\n",
    "\n",
    "    # shown: False #\n",
    "    ee.Geometry.Point([-122.45124246920876, 37.77652242316423])\n",
    "#**** End of imports. If edited, may not auto-convert in the playground. ****#\n",
    "#  ~~~~~~~~~~~~~~~~~~~~~~~~~~~~~~~~~~~~~~~~~~~~~~~~~~~~~~~~~~~~~~~~~~~~~~~\n",
    "#  Chapter:      F5.0 Exploring Vectors\n",
    "#  Checkpoint:   F50a\n",
    "#  Authors:      AJ Purdy, Ellen Brock, David Saah\n",
    "#  ~~~~~~~~~~~~~~~~~~~~~~~~~~~~~~~~~~~~~~~~~~~~~~~~~~~~~~~~~~~~~~~~~~~~~~~\n",
    "\n",
    "# This script contains the Imports, but no code (yet).\n",
    "\n",
    "#  -----------------------------------------------------------------------\n",
    "#  CHECKPOINT\n",
    "#  -----------------------------------------------------------------------\n"
   ]
  },
  {
   "cell_type": "markdown",
   "metadata": {},
   "source": [
    "## Display the interactive map"
   ]
  },
  {
   "cell_type": "code",
   "execution_count": null,
   "metadata": {},
   "outputs": [],
   "source": [
    "Map"
   ]
  }
 ],
 "metadata": {
  "anaconda-cloud": {},
  "kernelspec": {
   "display_name": "Python 3",
   "language": "python",
   "name": "python3"
  },
  "language_info": {
   "codemirror_mode": {
    "name": "ipython",
    "version": 3
   },
   "file_extension": ".py",
   "mimetype": "text/x-python",
   "name": "python",
   "nbconvert_exporter": "python",
   "pygments_lexer": "ipython3",
   "version": "3.6.1"
  }
 },
 "nbformat": 4,
 "nbformat_minor": 4
}
