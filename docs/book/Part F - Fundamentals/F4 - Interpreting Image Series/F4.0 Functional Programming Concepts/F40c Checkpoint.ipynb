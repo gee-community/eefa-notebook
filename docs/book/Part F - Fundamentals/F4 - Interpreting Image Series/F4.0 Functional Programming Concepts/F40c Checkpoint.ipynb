{
 "cells": [
  {
   "cell_type": "markdown",
   "metadata": {},
   "source": [
    "## Import libraries"
   ]
  },
  {
   "cell_type": "code",
   "execution_count": null,
   "metadata": {},
   "outputs": [],
   "source": [
    "import ee\n",
    "import geemap"
   ]
  },
  {
   "cell_type": "markdown",
   "metadata": {},
   "source": [
    "## Create an interactive map"
   ]
  },
  {
   "cell_type": "code",
   "execution_count": null,
   "metadata": {},
   "outputs": [],
   "source": [
    "Map = geemap.Map(center=[40, -100], zoom=4)"
   ]
  },
  {
   "cell_type": "markdown",
   "metadata": {},
   "source": [
    "## Add Earth Engine Python script"
   ]
  },
  {
   "cell_type": "code",
   "execution_count": null,
   "metadata": {},
   "outputs": [],
   "source": [
    "# Add Earth Engine dataset\n",
    "image = ee.Image(\"USGS/SRTMGL1_003\")\n",
    "\n",
    "#  ~~~~~~~~~~~~~~~~~~~~~~~~~~~~~~~~~~~~~~~~~~~~~~~~~~~~~~~~~~~~~~~~~~~~~~~\n",
    "#  Chapter:      F4.0 Filter, Map, Reduce\n",
    "#  Checkpoint:   F40c\n",
    "#  Author:       Jeff Cardille\n",
    "#  ~~~~~~~~~~~~~~~~~~~~~~~~~~~~~~~~~~~~~~~~~~~~~~~~~~~~~~~~~~~~~~~~~~~~~~~\n",
    "\n",
    "imgCol = ee.ImageCollection(\"LANDSAT/LT05/C02/T1_L2\")\n",
    "# How many Tier 1 Landsat 5 images have ever been collected?\n",
    "print(\"All images ever: \", imgCol.size())\n",
    "# A very large number\n",
    "\n",
    "# How many images were collected in the 2000s?\n",
    "startDate = \"2000-01-01\"\n",
    "endDate = \"2010-01-01\"\n",
    "\n",
    "imgColfilteredByDate = imgCol.filterDate(startDate, endDate)\n",
    "print(\"All images 2000-2010: \", imgColfilteredByDate.size())\n",
    "# A smaller (but still large) number\n",
    "\n",
    "ShanghaiImage = ee.Image(\"LANDSAT/LT05/C02/T1_L2/LT05_118038_20000606\")\n",
    "Map.centerObject(ShanghaiImage, 9)\n",
    "\n",
    "imgColfilteredByDateHere = imgColfilteredByDate.filterBounds(Map.getCenter())\n",
    "print(\"All images here, 2000-2010: \", imgColfilteredByDateHere.size())\n",
    "\n",
    "L5FilteredLowCloudImages = imgColfilteredByDateHere.filterMetadata(\n",
    "    \"CLOUD_COVER\", \"less_than\", 50\n",
    ")\n",
    "print(\"Less than 50% clouds in this area, 2000-2010\", L5FilteredLowCloudImages.size())\n",
    "# A smaller number\n",
    "\n",
    "chainedFilteredSet = (\n",
    "    imgCol.filterDate(startDate, endDate)\n",
    "    .filterBounds(Map.getCenter())\n",
    "    .filterMetadata(\"CLOUD_COVER\", \"less_than\", 50)\n",
    ")\n",
    "print(\n",
    "    \"Chained: Less than 50% clouds in this area, 2000-2010\", chainedFilteredSet.size()\n",
    ")\n",
    "\n",
    "efficientFilteredSet = (\n",
    "    imgCol.filterBounds(Map.getCenter())\n",
    "    .filterDate(startDate, endDate)\n",
    "    .filterMetadata(\"CLOUD_COVER\", \"less_than\", 50)\n",
    ")\n",
    "print(\n",
    "    \"Efficient filtering: Less than 50% clouds in this area, 2000-2010\",\n",
    "    efficientFilteredSet.size(),\n",
    ")\n",
    "\n",
    "#  -----------------------------------------------------------------------\n",
    "#  CHECKPOINT\n",
    "#  -----------------------------------------------------------------------\n",
    "\n",
    "\n",
    "def makeLandsat5EVI(oneL5Image):\n",
    "    # compute the EVI for any Landsat 5 image. Note it's specific to\n",
    "    # Landsat 5 images due to the band numbers. Don't run this exact\n",
    "    # function for images from sensors other than Landsat 5.\n",
    "\n",
    "    # Extract the bands and divide by 1e4 to account for scaling done.\n",
    "    nirScaled = oneL5Image.select(\"SR_B4\").divide(10000)\n",
    "    redScaled = oneL5Image.select(\"SR_B3\").divide(10000)\n",
    "    blueScaled = oneL5Image.select(\"SR_B1\").divide(10000)\n",
    "\n",
    "    # Calculate the numerator, note that order goes from left to right.\n",
    "    numeratorEVI = (nirScaled.subtract(redScaled)).multiply(2.5)\n",
    "\n",
    "    # Calculate the denominator\n",
    "    denomClause1 = redScaled.multiply(6)\n",
    "    denomClause2 = blueScaled.multiply(7.5)\n",
    "    denominatorEVI = nirScaled.add(denomClause1).subtract(denomClause2).add(1)\n",
    "\n",
    "    # Calculate EVI and name it.\n",
    "    landsat5EVI = numeratorEVI.divide(denominatorEVI).rename(\"EVI\")\n",
    "    return landsat5EVI\n",
    "\n",
    "\n",
    "L5EVIimages = efficientFilteredSet.map(makeLandsat5EVI)\n",
    "print(\n",
    "    \"Verifying that the .map gives back the same number of images: \", L5EVIimages.size()\n",
    ")\n",
    "print(L5EVIimages)\n",
    "\n",
    "Map.addLayer(L5EVIimages, {}, \"L5EVIimages\", 1, 1)\n",
    "\n",
    "#  -----------------------------------------------------------------------\n",
    "#  CHECKPOINT\n",
    "#  -----------------------------------------------------------------------\n",
    "\n",
    "L5EVImean = L5EVIimages.reduce(ee.Reducer.mean())\n",
    "print(L5EVImean)\n",
    "Map.addLayer(\n",
    "    L5EVImean, {\"min\": -1, \"max\": 2, \"palette\": [\"red\", \"white\", \"green\"]}, \"Mean EVI\"\n",
    ")\n",
    "\n",
    "L5EVImedian = L5EVIimages.reduce(ee.Reducer.median())\n",
    "print(L5EVImedian)\n",
    "Map.addLayer(\n",
    "    L5EVImedian,\n",
    "    {\"min\": -1, \"max\": 2, \"palette\": [\"red\", \"white\", \"green\"]},\n",
    "    \"Median EVI\",\n",
    ")\n",
    "\n",
    "#  -----------------------------------------------------------------------\n",
    "#  CHECKPOINT\n",
    "#  -----------------------------------------------------------------------"
   ]
  },
  {
   "cell_type": "markdown",
   "metadata": {},
   "source": [
    "## Display the interactive map"
   ]
  },
  {
   "cell_type": "code",
   "execution_count": null,
   "metadata": {},
   "outputs": [],
   "source": [
    "Map"
   ]
  }
 ],
 "metadata": {
  "anaconda-cloud": {},
  "kernelspec": {
   "display_name": "Python 3",
   "language": "python",
   "name": "python3"
  },
  "language_info": {
   "codemirror_mode": {
    "name": "ipython",
    "version": 3
   },
   "file_extension": ".py",
   "mimetype": "text/x-python",
   "name": "python",
   "nbconvert_exporter": "python",
   "pygments_lexer": "ipython3",
   "version": "3.6.1"
  }
 },
 "nbformat": 4,
 "nbformat_minor": 4
}
