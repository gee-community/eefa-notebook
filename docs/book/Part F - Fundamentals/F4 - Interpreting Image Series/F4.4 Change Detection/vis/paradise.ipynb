{
 "cells": [
  {
   "cell_type": "markdown",
   "metadata": {},
   "source": [
    "## Import libraries"
   ]
  },
  {
   "cell_type": "code",
   "execution_count": null,
   "metadata": {},
   "outputs": [],
   "source": [
    "import ee\n",
    "import geemap"
   ]
  },
  {
   "cell_type": "markdown",
   "metadata": {},
   "source": [
    "## Create an interactive map"
   ]
  },
  {
   "cell_type": "code",
   "execution_count": null,
   "metadata": {},
   "outputs": [],
   "source": [
    "Map = geemap.Map(center=[40, -100], zoom=4)"
   ]
  },
  {
   "cell_type": "markdown",
   "metadata": {},
   "source": [
    "## Add Earth Engine Python script"
   ]
  },
  {
   "cell_type": "code",
   "execution_count": null,
   "metadata": {},
   "outputs": [],
   "source": [
    "# Add Earth Engine dataset\n",
    "image = ee.Image(\"USGS/SRTMGL1_003\")\n",
    "\n",
    "#*** Start of imports. If edited, may not auto-convert in the playground. ***#\n",
    "imageVisParam = {\"opacity\":1,\"bands\":[\"swir2\",\"nir\",\"red\"],\"min\":7749,\"max\":22215,\"gamma\":1},\n",
    "    point =\n",
    "\n",
    "    # shown: False #\n",
    "    ee.Geometry.Point([-121.55188822809693, 39.794570152006976])\n",
    "#**** End of imports. If edited, may not auto-convert in the playground. ****#\n",
    "landsat8 = ee.ImageCollection('LANDSAT/LC08/C02/T1_L2') \\\n",
    "    .select(\n",
    "      ['SR_B2', 'SR_B3', 'SR_B4', 'SR_B5', 'SR_B6', 'SR_B7'],\n",
    "      ['blue', 'green', 'red', 'nir', 'swir1', 'swir2'])\n",
    "\n",
    "preImage = landsat8 \\\n",
    "    .filterBounds(point) \\\n",
    "    .filterDate('2018-10-01', '2018-10-30') \\\n",
    "    .sort('CLOUD_COVER', True) \\\n",
    "    .first()\n",
    "postImage = landsat8 \\\n",
    "    .filterBounds(point) \\\n",
    "    .filterDate('2018-12-01', '2019-04-30') \\\n",
    "    .sort('CLOUD_COVER', True) \\\n",
    "    .first()\n",
    "\n",
    "Map.centerObject(point, 10)\n",
    "Map.addLayer(preImage, imageVisParam, 'pre')\n",
    "Map.addLayer(postImage, imageVisParam, 'post')"
   ]
  },
  {
   "cell_type": "markdown",
   "metadata": {},
   "source": [
    "## Display the interactive map"
   ]
  },
  {
   "cell_type": "code",
   "execution_count": null,
   "metadata": {},
   "outputs": [],
   "source": [
    "Map"
   ]
  }
 ],
 "metadata": {
  "anaconda-cloud": {},
  "kernelspec": {
   "display_name": "Python 3",
   "language": "python",
   "name": "python3"
  },
  "language_info": {
   "codemirror_mode": {
    "name": "ipython",
    "version": 3
   },
   "file_extension": ".py",
   "mimetype": "text/x-python",
   "name": "python",
   "nbconvert_exporter": "python",
   "pygments_lexer": "ipython3",
   "version": "3.6.1"
  }
 },
 "nbformat": 4,
 "nbformat_minor": 4
}
