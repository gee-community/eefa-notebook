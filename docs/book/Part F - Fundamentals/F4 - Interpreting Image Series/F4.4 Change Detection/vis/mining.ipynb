{
 "cells": [
  {
   "cell_type": "markdown",
   "metadata": {},
   "source": [
    "## Import libraries"
   ]
  },
  {
   "cell_type": "code",
   "execution_count": null,
   "metadata": {},
   "outputs": [],
   "source": [
    "import ee\n",
    "import geemap"
   ]
  },
  {
   "cell_type": "markdown",
   "metadata": {},
   "source": [
    "## Create an interactive map"
   ]
  },
  {
   "cell_type": "code",
   "execution_count": null,
   "metadata": {},
   "outputs": [],
   "source": [
    "Map = geemap.Map(center=[40, -100], zoom=4)"
   ]
  },
  {
   "cell_type": "markdown",
   "metadata": {},
   "source": [
    "## Add Earth Engine Python script"
   ]
  },
  {
   "cell_type": "code",
   "execution_count": null,
   "metadata": {},
   "outputs": [],
   "source": [
    "# Add Earth Engine dataset\n",
    "image = ee.Image(\"USGS/SRTMGL1_003\")\n",
    "\n",
    "#*** Start of imports. If edited, may not auto-convert in the playground. ***#\n",
    "point = ee.Geometry.Point([-70.54473946976444, -13.046675490210111]),\n",
    "    mininPostVis = {\"opacity\":1,\"bands\":[\"swir2\",\"nir\",\"red\"],\"min\":7749,\"max\":22215,\"gamma\":1},\n",
    "    miningPreVis = {\"opacity\":1,\"bands\":[\"swir2\",\"nir\",\"red\"],\"min\":569.5106854708367,\"max\":3002.543077970024,\"gamma\":0.649}\n",
    "#**** End of imports. If edited, may not auto-convert in the playground. ****#\n",
    "landsat8 = ee.ImageCollection('LANDSAT/LC08/C02/T1_L2') \\\n",
    "    .select(\n",
    "      ['SR_B2', 'SR_B3', 'SR_B4', 'SR_B5', 'SR_B6', 'SR_B7'],\n",
    "      ['blue', 'green', 'red', 'nir', 'swir1', 'swir2'])\n",
    "landsat5 = ee.ImageCollection('LANDSAT/LT05/C01/T2_SR') \\\n",
    "    .select(\n",
    "      ['B1', 'B2', 'B3', 'B4', 'B5', 'B7'],\n",
    "      ['blue', 'green', 'red', 'nir', 'swir1', 'swir2'])\n",
    "\n",
    "preImage = landsat5 \\\n",
    "    .filterBounds(point) \\\n",
    "    .filterDate('1985-01-01', '2002-12-30') \\\n",
    "    .sort('CLOUD_COVER', True) \\\n",
    "    .first()\n",
    "postImage = landsat8 \\\n",
    "    .filterBounds(point) \\\n",
    "    .filterDate('2020-01-01', '2020-12-30') \\\n",
    "    .sort('CLOUD_COVER', True) \\\n",
    "    .first()\n",
    "\n",
    "Map.centerObject(point, 10)\n",
    "Map.addLayer(preImage, miningPreVis, 'pre')\n",
    "Map.addLayer(postImage, mininPostVis, 'post')"
   ]
  },
  {
   "cell_type": "markdown",
   "metadata": {},
   "source": [
    "## Display the interactive map"
   ]
  },
  {
   "cell_type": "code",
   "execution_count": null,
   "metadata": {},
   "outputs": [],
   "source": [
    "Map"
   ]
  }
 ],
 "metadata": {
  "anaconda-cloud": {},
  "kernelspec": {
   "display_name": "Python 3",
   "language": "python",
   "name": "python3"
  },
  "language_info": {
   "codemirror_mode": {
    "name": "ipython",
    "version": 3
   },
   "file_extension": ".py",
   "mimetype": "text/x-python",
   "name": "python",
   "nbconvert_exporter": "python",
   "pygments_lexer": "ipython3",
   "version": "3.6.1"
  }
 },
 "nbformat": 4,
 "nbformat_minor": 4
}
