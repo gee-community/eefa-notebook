{
 "cells": [
  {
   "cell_type": "markdown",
   "metadata": {},
   "source": [
    "## Import libraries"
   ]
  },
  {
   "cell_type": "code",
   "execution_count": null,
   "metadata": {},
   "outputs": [],
   "source": [
    "import ee\n",
    "import geemap"
   ]
  },
  {
   "cell_type": "markdown",
   "metadata": {},
   "source": [
    "## Create an interactive map"
   ]
  },
  {
   "cell_type": "code",
   "execution_count": null,
   "metadata": {},
   "outputs": [],
   "source": [
    "Map = geemap.Map(center=[40, -100], zoom=4)"
   ]
  },
  {
   "cell_type": "markdown",
   "metadata": {},
   "source": [
    "## Add Earth Engine Python script"
   ]
  },
  {
   "cell_type": "code",
   "execution_count": null,
   "metadata": {},
   "outputs": [],
   "source": [
    "# Add Earth Engine dataset\n",
    "image = ee.Image(\"USGS/SRTMGL1_003\")\n",
    "\n",
    "#*** Start of imports. If edited, may not auto-convert in the playground. ***#\n",
    "point =\n",
    "\n",
    "    # shown: False #\n",
    "    ee.Geometry.Point([-122.19174741047361, 46.20040199038881])\n",
    "#**** End of imports. If edited, may not auto-convert in the playground. ****#\n",
    "landsat2 = ee.ImageCollection('LANDSAT/LM02/C02/T2') \\\n",
    "    .select(['B4', 'B5', 'B6', 'B7'],\n",
    "            ['green', 'red', 'nir1', 'nir2'])\n",
    "\n",
    "preImage = landsat2 \\\n",
    "    .filterBounds(point) \\\n",
    "    .filterDate('1979-08-01', '1979-10-30') \\\n",
    "    .sort('CLOUD_COVER', True) \\\n",
    "    .first()\n",
    "postImage = landsat2 \\\n",
    "    .filterBounds(point) \\\n",
    "    .filterDate('1980-04-01', '1981-10-30') \\\n",
    "    .sort('CLOUD_COVER', True) \\\n",
    "    .first()\n",
    "\n",
    "visParam = {\n",
    "  'opacity': 1,\n",
    "  'bands': ['nir1', 'red', 'green'],\n",
    "  'min': 0,\n",
    "  'max': 128,\n",
    "  'gamma':1\n",
    "}\n",
    "\n",
    "Map.centerObject(point, 10)\n",
    "Map.addLayer(preImage, visParam, 'pre')\n",
    "Map.addLayer(postImage, visParam, 'post')\n"
   ]
  },
  {
   "cell_type": "markdown",
   "metadata": {},
   "source": [
    "## Display the interactive map"
   ]
  },
  {
   "cell_type": "code",
   "execution_count": null,
   "metadata": {},
   "outputs": [],
   "source": [
    "Map"
   ]
  }
 ],
 "metadata": {
  "anaconda-cloud": {},
  "kernelspec": {
   "display_name": "Python 3",
   "language": "python",
   "name": "python3"
  },
  "language_info": {
   "codemirror_mode": {
    "name": "ipython",
    "version": 3
   },
   "file_extension": ".py",
   "mimetype": "text/x-python",
   "name": "python",
   "nbconvert_exporter": "python",
   "pygments_lexer": "ipython3",
   "version": "3.6.1"
  }
 },
 "nbformat": 4,
 "nbformat_minor": 4
}
