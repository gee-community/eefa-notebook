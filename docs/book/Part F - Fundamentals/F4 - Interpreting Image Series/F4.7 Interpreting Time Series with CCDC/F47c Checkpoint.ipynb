{
 "cells": [
  {
   "cell_type": "markdown",
   "metadata": {},
   "source": [
    "## Import libraries"
   ]
  },
  {
   "cell_type": "code",
   "execution_count": null,
   "metadata": {},
   "outputs": [],
   "source": [
    "import ee\n",
    "import geemap"
   ]
  },
  {
   "cell_type": "markdown",
   "metadata": {},
   "source": [
    "## Create an interactive map"
   ]
  },
  {
   "cell_type": "code",
   "execution_count": null,
   "metadata": {},
   "outputs": [],
   "source": [
    "Map = geemap.Map(center=[40, -100], zoom=4)"
   ]
  },
  {
   "cell_type": "markdown",
   "metadata": {},
   "source": [
    "## Add Earth Engine Python script"
   ]
  },
  {
   "cell_type": "code",
   "execution_count": null,
   "metadata": {},
   "outputs": [],
   "source": [
    "# Add Earth Engine dataset\n",
    "image = ee.Image(\"USGS/SRTMGL1_003\")\n",
    "\n",
    "#  ~~~~~~~~~~~~~~~~~~~~~~~~~~~~~~~~~~~~~~~~~~~~~~~~~~~~~~~~~~~~~~~~~~~~~~~~~~~~~~~\n",
    "#  Chapter:      F4.7 Interpreting Time Series with CCDC\n",
    "#  Checkpoint:   F47c\n",
    "#  Authors:      Paulo Arévalo, Pontus Olofsson\n",
    "#  ~~~~~~~~~~~~~~~~~~~~~~~~~~~~~~~~~~~~~~~~~~~~~~~~~~~~~~~~~~~~~~~~~~~~~~~~~~~~~~~\n",
    "\n",
    "palettes = require('users/gena/packages:palettes')\n",
    "\n",
    "resultsPath =\n",
    "    'projects/gee-book/assets/F4-7/Rondonia_example_small'\n",
    "ccdResults = ee.Image(resultsPath)\n",
    "Map.centerObject(ccdResults, 10)\n",
    "print(ccdResults)\n",
    "\n",
    "# Select time of break and change probability array images.\n",
    "change = ccdResults.select('tBreak')\n",
    "changeProb = ccdResults.select('changeProb')\n",
    "\n",
    "# Set the time range we want to use and get as mask of\n",
    "# places that meet the condition.\n",
    "start = 2000\n",
    "end = 2021\n",
    "mask = change.gt(start).And(change.lte(end)).And(changeProb.eq(\n",
    "1))\n",
    "Map.addLayer(changeProb, {}, 'change prob')\n",
    "\n",
    "# Obtain the number of breaks for the time range.\n",
    "numBreaks = mask.arrayReduce(ee.Reducer.sum(), [0])\n",
    "Map.addLayer(numBreaks, {\n",
    "    'min': 0,\n",
    "    'max': 5\n",
    "}, 'Number of breaks')\n",
    "\n",
    "# Obtain the first change in that time period.\n",
    "dates = change.arrayMask(mask).arrayPad([1])\n",
    "firstChange = dates \\\n",
    "    .arraySlice(0, 0, 1) \\\n",
    "    .arrayFlatten([\n",
    "        ['firstChange']\n",
    "    ]) \\\n",
    "    .selfMask()\n",
    "\n",
    "timeVisParams = {\n",
    "    'palette': palettes.colorbrewer.YlOrRd[9],\n",
    "    'min': start,\n",
    "    'max': end\n",
    "}\n",
    "Map.addLayer(firstChange, timeVisParams, 'First change')\n",
    "\n",
    "# Obtain the last change in that time period.\n",
    "lastChange = dates \\\n",
    "    .arraySlice(0, -1) \\\n",
    "    .arrayFlatten([\n",
    "        ['lastChange']\n",
    "    ]) \\\n",
    "    .selfMask()\n",
    "Map.addLayer(lastChange, timeVisParams, 'Last change')\n",
    "\n",
    "# Get masked magnitudes.\n",
    "magnitudes = ccdResults \\\n",
    "    .select('SWIR1_magnitude') \\\n",
    "    .arrayMask(mask) \\\n",
    "    .arrayPad([1])\n",
    "\n",
    "# Get index of max abs magnitude of change.\n",
    "maxIndex = magnitudes \\\n",
    "    .abs() \\\n",
    "    .arrayArgmax() \\\n",
    "    .arrayFlatten([\n",
    "        ['index']\n",
    "    ])\n",
    "\n",
    "# Select max magnitude and its timing\n",
    "selectedMag = magnitudes.arrayGet(maxIndex)\n",
    "selectedTbreak = dates.arrayGet(maxIndex).selfMask()\n",
    "\n",
    "magVisParams = {\n",
    "    'palette': palettes.matplotlib.viridis[7],\n",
    "    'min': -0.15,\n",
    "    'max': 0.15\n",
    "}\n",
    "Map.addLayer(selectedMag, magVisParams, 'Max mag')\n",
    "Map.addLayer(selectedTbreak, timeVisParams, 'Time of max mag')\n",
    "\n",
    "#  -----------------------------------------------------------------------\n",
    "#  CHECKPOINT\n",
    "#  -----------------------------------------------------------------------\n"
   ]
  },
  {
   "cell_type": "markdown",
   "metadata": {},
   "source": [
    "## Display the interactive map"
   ]
  },
  {
   "cell_type": "code",
   "execution_count": null,
   "metadata": {},
   "outputs": [],
   "source": [
    "Map"
   ]
  }
 ],
 "metadata": {
  "anaconda-cloud": {},
  "kernelspec": {
   "display_name": "Python 3",
   "language": "python",
   "name": "python3"
  },
  "language_info": {
   "codemirror_mode": {
    "name": "ipython",
    "version": 3
   },
   "file_extension": ".py",
   "mimetype": "text/x-python",
   "name": "python",
   "nbconvert_exporter": "python",
   "pygments_lexer": "ipython3",
   "version": "3.6.1"
  }
 },
 "nbformat": 4,
 "nbformat_minor": 4
}
