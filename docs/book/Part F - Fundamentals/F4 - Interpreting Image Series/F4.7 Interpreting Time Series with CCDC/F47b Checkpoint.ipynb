{
 "cells": [
  {
   "cell_type": "markdown",
   "metadata": {},
   "source": [
    "## Import libraries"
   ]
  },
  {
   "cell_type": "code",
   "execution_count": null,
   "metadata": {},
   "outputs": [],
   "source": [
    "import ee\n",
    "import geemap"
   ]
  },
  {
   "cell_type": "markdown",
   "metadata": {},
   "source": [
    "## Create an interactive map"
   ]
  },
  {
   "cell_type": "code",
   "execution_count": null,
   "metadata": {},
   "outputs": [],
   "source": [
    "Map = geemap.Map(center=[40, -100], zoom=4)"
   ]
  },
  {
   "cell_type": "markdown",
   "metadata": {},
   "source": [
    "## Add Earth Engine Python script"
   ]
  },
  {
   "cell_type": "code",
   "execution_count": null,
   "metadata": {},
   "outputs": [],
   "source": [
    "# Add Earth Engine dataset\n",
    "image = ee.Image(\"USGS/SRTMGL1_003\")\n",
    "\n",
    "#  ~~~~~~~~~~~~~~~~~~~~~~~~~~~~~~~~~~~~~~~~~~~~~~~~~~~~~~~~~~~~~~~~~~~~~~~~~~~~~~~\n",
    "#  Chapter:      F4.7 Interpreting Time Series with CCDC\n",
    "#  Checkpoint:   F47b\n",
    "#  Authors:      Paulo Arévalo, Pontus Olofsson\n",
    "#  ~~~~~~~~~~~~~~~~~~~~~~~~~~~~~~~~~~~~~~~~~~~~~~~~~~~~~~~~~~~~~~~~~~~~~~~~~~~~~~~\n",
    "\n",
    "utils = require(\n",
    "    'users/parevalo_bu/gee-ccdc-tools:ccdcUtilities/api')\n",
    "\n",
    "studyRegion = ee.Geometry.Rectangle([\n",
    "    [-63.9533, -10.1315],\n",
    "    [-64.9118, -10.6813]\n",
    "])\n",
    "\n",
    "# Define start, end dates and Landsat bands to use.\n",
    "startDate = '2000-01-01'\n",
    "endDate = '2020-01-01'\n",
    "bands = ['BLUE', 'GREEN', 'RED', 'NIR', 'SWIR1', 'SWIR2']\n",
    "\n",
    "# Retrieve all clear, Landsat 4, 5, 7 and 8 observations (Collection 2, Tier 1).\n",
    "filteredLandsat = utils.Inputs.getLandsat({\n",
    "        'collection': 2\n",
    "    }) \\\n",
    "    .filterBounds(studyRegion) \\\n",
    "    .filterDate(startDate, endDate) \\\n",
    "    .select(bands)\n",
    "\n",
    "print(filteredLandsat.first())\n",
    "\n",
    "# Set CCD params to use.\n",
    "ccdParams = {\n",
    "    'breakpointBands': ['GREEN', 'RED', 'NIR', 'SWIR1', 'SWIR2'],\n",
    "    'tmaskBands': ['GREEN', 'SWIR1'],\n",
    "    'minObservations': 6,\n",
    "    'chiSquareProbability': 0.99,\n",
    "    'minNumOfYearsScaler': 1.33,\n",
    "    'dateFormat': 1,\n",
    "    'lambda': 0.002,\n",
    "    'maxIterations': 10000,\n",
    "    'collection': filteredLandsat\n",
    "}\n",
    "\n",
    "# Run CCD.\n",
    "ccdResults = ee.Algorithms.TemporalSegmentation.Ccdc(ccdParams)\n",
    "print(ccdResults)\n",
    "\n",
    "exportResults = False\n",
    "if (exportResults) {\n",
    "    # Create a metadata dictionary with the parameters and arguments used.\n",
    "    metadata = ccdParams\n",
    "    metadata['breakpointBands'] = metadata['breakpointBands'].toString()\n",
    "    metadata['tmaskBands'] = metadata['tmaskBands'].toString()\n",
    "    metadata['startDate'] = startDate\n",
    "    metadata['endDate'] = endDate\n",
    "    metadata['bands'] = bands.toString()\n",
    "\n",
    "    # Export results, assigning the metadata as image properties.\n",
    "    #\n",
    "    Export.image.toAsset({\n",
    "        'image': ccdResults.set(metadata),\n",
    "        'region': studyRegion,\n",
    "        'pyramidingPolicy': {\n",
    "            \".default\": 'sample'\n",
    "        },\n",
    "        'scale': 30\n",
    "    })\n",
    "}\n",
    "\n",
    "#  -----------------------------------------------------------------------\n",
    "#  CHECKPOINT\n",
    "#  -----------------------------------------------------------------------"
   ]
  },
  {
   "cell_type": "markdown",
   "metadata": {},
   "source": [
    "## Display the interactive map"
   ]
  },
  {
   "cell_type": "code",
   "execution_count": null,
   "metadata": {},
   "outputs": [],
   "source": [
    "Map"
   ]
  }
 ],
 "metadata": {
  "anaconda-cloud": {},
  "kernelspec": {
   "display_name": "Python 3",
   "language": "python",
   "name": "python3"
  },
  "language_info": {
   "codemirror_mode": {
    "name": "ipython",
    "version": 3
   },
   "file_extension": ".py",
   "mimetype": "text/x-python",
   "name": "python",
   "nbconvert_exporter": "python",
   "pygments_lexer": "ipython3",
   "version": "3.6.1"
  }
 },
 "nbformat": 4,
 "nbformat_minor": 4
}
