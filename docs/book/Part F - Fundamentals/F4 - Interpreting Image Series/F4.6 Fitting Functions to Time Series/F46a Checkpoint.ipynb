{
 "cells": [
  {
   "cell_type": "markdown",
   "metadata": {},
   "source": [
    "## Import libraries"
   ]
  },
  {
   "cell_type": "code",
   "execution_count": null,
   "metadata": {},
   "outputs": [],
   "source": [
    "import ee\n",
    "import geemap"
   ]
  },
  {
   "cell_type": "markdown",
   "metadata": {},
   "source": [
    "## Create an interactive map"
   ]
  },
  {
   "cell_type": "code",
   "execution_count": null,
   "metadata": {},
   "outputs": [],
   "source": [
    "Map = geemap.Map(center=[40, -100], zoom=4)"
   ]
  },
  {
   "cell_type": "markdown",
   "metadata": {},
   "source": [
    "## Add Earth Engine Python script"
   ]
  },
  {
   "cell_type": "code",
   "execution_count": null,
   "metadata": {},
   "outputs": [],
   "source": [
    "# Add Earth Engine dataset\n",
    "image = ee.Image(\"USGS/SRTMGL1_003\")\n",
    "\n",
    "#  ~~~~~~~~~~~~~~~~~~~~~~~~~~~~~~~~~~~~~~~~~~~~~~~~~~~~~~~~~~~~~~~~~~~~~~~~~~~~~~~\n",
    "#  Chapter:      F4.6 Fitting Functions to Time Series\n",
    "#  Checkpoint:   F46a\n",
    "#  Authors:      Andréa Puzzi Nicolau, Karen Dyson, Biplov Bhandari, David Saah,\n",
    "#                Nicholas Clinton\n",
    "#  ~~~~~~~~~~~~~~~~~~~~~~~~~~~~~~~~~~~~~~~~~~~~~~~~~~~~~~~~~~~~~~~~~~~~~~~~~~~~~~~\n",
    "\n",
    "##########/ Sections 1 & 2 ##############/\n",
    "\n",
    "\n",
    "# Define function to mask clouds, scale, and add variables\n",
    "# (NDVI, time and a constant) to Landsat 8 imagery.\n",
    "def maskScaleAndAddVariable(image):\n",
    "    # Bit 0 - Fill\n",
    "    # Bit 1 - Dilated Cloud\n",
    "    # Bit 2 - Cirrus\n",
    "    # Bit 3 - Cloud\n",
    "    # Bit 4 - Cloud Shadow\n",
    "    qaMask = image.select(\"QA_PIXEL\").bitwiseAnd(parseInt(\"11111\", 2)).eq(0)\n",
    "    saturationMask = image.select(\"QA_RADSAT\").eq(0)\n",
    "\n",
    "    # Apply the scaling factors to the appropriate bands.\n",
    "    opticalBands = image.select(\"SR_B.\").multiply(0.0000275).add(-0.2)\n",
    "    thermalBands = image.select(\"ST_B.*\").multiply(0.00341802).add(149.0)\n",
    "\n",
    "    # Replace the original bands with the scaled ones and apply the masks.\n",
    "    img = (\n",
    "        image.addBands(opticalBands, None, True)\n",
    "        .addBands(thermalBands, None, True)\n",
    "        .updateMask(qaMask)\n",
    "        .updateMask(saturationMask)\n",
    "    )\n",
    "    imgScaled = image.addBands(img, None, True)\n",
    "\n",
    "    # Now we start to add variables of interest.\n",
    "    # Compute time in fractional years since the epoch.\n",
    "    date = ee.Date(image.get(\"system:time_start\"))\n",
    "    years = date.difference(ee.Date(\"1970-01-01\"), \"year\")\n",
    "    # Return the image with the added bands.\n",
    "    return (\n",
    "        imgScaled.addBands(\n",
    "            imgScaled.normalizedDifference([\"SR_B5\", \"SR_B4\"]).rename(\"NDVI\")\n",
    "        )\n",
    "        .addBands(ee.Image(years).rename(\"t\"))\n",
    "        .float()\n",
    "        .addBands(ee.Image.constant(1))\n",
    "    )\n",
    "\n",
    "\n",
    "# Import point of interest over California, USA.\n",
    "roi = ee.Geometry.Point([-121.059, 37.9242])\n",
    "\n",
    "# Import the USGS Landsat 8 Level 2, Collection 2, Tier 1 image collection),\n",
    "# filter, mask clouds, scale, and add variables.\n",
    "landsat8sr = (\n",
    "    ee.ImageCollection(\"LANDSAT/LC08/C02/T1_L2\")\n",
    "    .filterBounds(roi)\n",
    "    .filterDate(\"2013-01-01\", \"2018-01-01\")\n",
    "    .map(maskScaleAndAddVariable)\n",
    ")\n",
    "\n",
    "# Set map center over the ROI.\n",
    "Map.centerObject(roi, 6)\n",
    "\n",
    "# Plot a time series of NDVI at a single location.\n",
    "landsat8Chart = (\n",
    "    ui.Chart.image.series(landsat8sr.select(\"NDVI\"), roi)\n",
    "    .setChartType(\"ScatterChart\")\n",
    "    .setOptions(\n",
    "        {\n",
    "            \"title\": \"Landsat 8 NDVI time series at ROI\",\n",
    "            \"lineWidth\": 1,\n",
    "            \"pointSize\": 3,\n",
    "        }\n",
    "    )\n",
    ")\n",
    "print(landsat8Chart)\n",
    "\n",
    "# Plot a time series of NDVI with a linear trend line\n",
    "# at a single location.\n",
    "landsat8ChartTL = (\n",
    "    ui.Chart.image.series(landsat8sr.select(\"NDVI\"), roi)\n",
    "    .setChartType(\"ScatterChart\")\n",
    "    .setOptions(\n",
    "        {\n",
    "            \"title\": \"Landsat 8 NDVI time series at ROI\",\n",
    "            \"trendlines\": {\"0\": {\"color\": \"CC0000\"}},\n",
    "            \"lineWidth\": 1,\n",
    "            \"pointSize\": 3,\n",
    "        }\n",
    "    )\n",
    ")\n",
    "print(landsat8ChartTL)\n",
    "\n",
    "#  -----------------------------------------------------------------------\n",
    "#  CHECKPOINT\n",
    "#  -----------------------------------------------------------------------"
   ]
  },
  {
   "cell_type": "markdown",
   "metadata": {},
   "source": [
    "## Display the interactive map"
   ]
  },
  {
   "cell_type": "code",
   "execution_count": null,
   "metadata": {},
   "outputs": [],
   "source": [
    "Map"
   ]
  }
 ],
 "metadata": {
  "anaconda-cloud": {},
  "kernelspec": {
   "display_name": "Python 3",
   "language": "python",
   "name": "python3"
  },
  "language_info": {
   "codemirror_mode": {
    "name": "ipython",
    "version": 3
   },
   "file_extension": ".py",
   "mimetype": "text/x-python",
   "name": "python",
   "nbconvert_exporter": "python",
   "pygments_lexer": "ipython3",
   "version": "3.6.1"
  }
 },
 "nbformat": 4,
 "nbformat_minor": 4
}
