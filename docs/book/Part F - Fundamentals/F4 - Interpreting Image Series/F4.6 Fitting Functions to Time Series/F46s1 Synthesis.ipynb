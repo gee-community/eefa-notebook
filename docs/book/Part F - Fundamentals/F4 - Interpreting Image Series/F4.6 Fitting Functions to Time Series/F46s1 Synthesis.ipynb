{
 "cells": [
  {
   "cell_type": "markdown",
   "metadata": {},
   "source": [
    "## Import libraries"
   ]
  },
  {
   "cell_type": "code",
   "execution_count": null,
   "metadata": {},
   "outputs": [],
   "source": [
    "import ee\n",
    "import geemap"
   ]
  },
  {
   "cell_type": "markdown",
   "metadata": {},
   "source": [
    "## Create an interactive map"
   ]
  },
  {
   "cell_type": "code",
   "execution_count": null,
   "metadata": {},
   "outputs": [],
   "source": [
    "Map = geemap.Map(center=[40, -100], zoom=4)"
   ]
  },
  {
   "cell_type": "markdown",
   "metadata": {},
   "source": [
    "## Add Earth Engine Python script"
   ]
  },
  {
   "cell_type": "code",
   "execution_count": null,
   "metadata": {},
   "outputs": [],
   "source": [
    "# Add Earth Engine dataset\n",
    "image = ee.Image(\"USGS/SRTMGL1_003\")\n",
    "\n",
    "#  ~~~~~~~~~~~~~~~~~~~~~~~~~~~~~~~~~~~~~~~~~~~~~~~~~~~~~~~~~~~~~~~~~~~~~~~~~~~~~~~\n",
    "#  Chapter:      F4.6 Fitting Functions to Time Series\n",
    "#  Checkpoint:   F46s1\n",
    "#  Authors:      Andréa Puzzi Nicolau, Karen Dyson, Biplov Bhandari, David Saah,\n",
    "#                Nicholas Clinton\n",
    "#  ~~~~~~~~~~~~~~~~~~~~~~~~~~~~~~~~~~~~~~~~~~~~~~~~~~~~~~~~~~~~~~~~~~~~~~~~~~~~~~~\n",
    "\n",
    "# Satellite basemap.\n",
    "Map.setOptions('SATELLITE')\n",
    "\n",
    "# Define roi, a point over the Brazilian Amazon.\n",
    "roi = ee.Geometry.Point([-59.985146, -2.871413])\n",
    "\n",
    "# Add the point to the map.\n",
    "Map.addLayer(roi, {\n",
    "    'color': 'red'\n",
    "}, 'roi')\n",
    "Map.centerObject(roi, 16)\n",
    "\n",
    "# The dependent variable we are modeling.\n",
    "dependent = 'NDVI'\n",
    "\n",
    "# The number of cycles per year to model.\n",
    "harmonics = 1\n",
    "\n",
    "# Make a list of harmonic frequencies to model.\n",
    "# These also serve as band name suffixes.\n",
    "harmonicFrequencies = ee.List.sequence(1, harmonics)\n",
    "\n",
    "# Function to get a sequence of band names for harmonic terms.\n",
    "def getNames(base, list):\n",
    "\n",
    "def func_cht(i):\n",
    "        return ee.String(base).cat(ee.Number(i).int())\n",
    "\n",
    "    return ee.List(list).map(func_cht)\n",
    "\n",
    "\n",
    "\n",
    "\n",
    "\n",
    "# Construct lists of names for the harmonic terms.\n",
    "cosNames = getNames('cos_', harmonicFrequencies)\n",
    "sinNames = getNames('sin_', harmonicFrequencies)\n",
    "\n",
    "# Independent variables.\n",
    "independents = ee.List(['constant', 't']) \\\n",
    "    .cat(cosNames).cat(sinNames)\n",
    "\n",
    "# Define function to mask clouds, scale, and add variables\n",
    "# (NDVI, time and a constant) to Landsat 8 imagery.\n",
    "def maskScaleAndAddVariable(image):\n",
    "    # Bit 0 - Fill\n",
    "    # Bit 1 - Dilated Cloud\n",
    "    # Bit 2 - Cirrus\n",
    "    # Bit 3 - Cloud\n",
    "    # Bit 4 - Cloud Shadow\n",
    "    qaMask = image.select('QA_PIXEL').bitwiseAnd(parseInt('11111',\n",
    "        2)).eq(0)\n",
    "    saturationMask = image.select('QA_RADSAT').eq(0)\n",
    "\n",
    "    # Apply the scaling factors to the appropriate bands.\n",
    "    opticalBands = image.select('SR_B.').multiply(0.0000275).add(-\n",
    "        0.2)\n",
    "    thermalBands = image.select('ST_B.*').multiply(0.00341802) \\\n",
    "        .add(149.0)\n",
    "\n",
    "    # Replace the original bands with the scaled ones and apply the masks.\n",
    "    img = image.addBands(opticalBands, None, True) \\\n",
    "        .addBands(thermalBands, None, True) \\\n",
    "        .updateMask(qaMask) \\\n",
    "        .updateMask(saturationMask)\n",
    "    imgScaled = image.addBands(img, None, True)\n",
    "\n",
    "    # Now we start to add variables of interest.\n",
    "    # Compute time in fractional years since the epoch.\n",
    "    date = ee.Date(image.get('system:time_start'))\n",
    "    years = date.difference(ee.Date('1970-01-01'), 'year')\n",
    "    timeRadians = ee.Image(years.multiply(2 * math.pi))\n",
    "    # Return the image with the added bands.\n",
    "    return imgScaled \\\n",
    "        .addBands(imgScaled.normalizedDifference(['SR_B5', 'SR_B4']) \\\n",
    "            .rename('NDVI')) \\\n",
    "        .addBands(timeRadians.rename('t')) \\\n",
    "        .float() \\\n",
    "        .addBands(ee.Image.constant(1))\n",
    "\n",
    "\n",
    "# Function to compute the specified number of harmonics\n",
    "# and add them as bands.  Assumes the time band is present.\n",
    "def addHarmonics(freqs):\n",
    "    return function(image) {\n",
    "        # Make an image of frequencies.\n",
    "        frequencies = ee.Image.constant(freqs)\n",
    "        # This band should represent time in radians.\n",
    "        time = ee.Image(image).select('t')\n",
    "        # Get the cosine terms.\n",
    "        cosines = time.multiply(frequencies).cos() \\\n",
    "            .rename(cosNames)\n",
    "        # Get the sin terms.\n",
    "        sines = time.multiply(frequencies).sin() \\\n",
    "            .rename(sinNames)\n",
    "        return image.addBands(cosines).addBands(sines)\n",
    "    }\n",
    "\n",
    "\n",
    "# Import the USGS Landsat 8 Level 2, Collection 2, Tier 1 image collection),\n",
    "# and map functions.\n",
    "harmonicLandsat = ee.ImageCollection('LANDSAT/LC08/C02/T1_L2') \\\n",
    "    .filterBounds(roi) \\\n",
    "    .map(maskScaleAndAddVariable) \\\n",
    "    .map(addHarmonics(harmonicFrequencies))\n",
    "\n",
    "#  -----------------------------------------------------------------------\n",
    "#  CHECKPOINT\n",
    "#  -----------------------------------------------------------------------"
   ]
  },
  {
   "cell_type": "markdown",
   "metadata": {},
   "source": [
    "## Display the interactive map"
   ]
  },
  {
   "cell_type": "code",
   "execution_count": null,
   "metadata": {},
   "outputs": [],
   "source": [
    "Map"
   ]
  }
 ],
 "metadata": {
  "anaconda-cloud": {},
  "kernelspec": {
   "display_name": "Python 3",
   "language": "python",
   "name": "python3"
  },
  "language_info": {
   "codemirror_mode": {
    "name": "ipython",
    "version": 3
   },
   "file_extension": ".py",
   "mimetype": "text/x-python",
   "name": "python",
   "nbconvert_exporter": "python",
   "pygments_lexer": "ipython3",
   "version": "3.6.1"
  }
 },
 "nbformat": 4,
 "nbformat_minor": 4
}
