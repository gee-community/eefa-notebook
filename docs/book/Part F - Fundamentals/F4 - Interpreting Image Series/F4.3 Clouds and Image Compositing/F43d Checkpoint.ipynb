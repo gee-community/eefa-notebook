{
 "cells": [
  {
   "cell_type": "markdown",
   "metadata": {},
   "source": [
    "## Import libraries"
   ]
  },
  {
   "cell_type": "code",
   "execution_count": null,
   "metadata": {},
   "outputs": [],
   "source": [
    "import ee\n",
    "import geemap"
   ]
  },
  {
   "cell_type": "markdown",
   "metadata": {},
   "source": [
    "## Create an interactive map"
   ]
  },
  {
   "cell_type": "code",
   "execution_count": null,
   "metadata": {},
   "outputs": [],
   "source": [
    "Map = geemap.Map(center=[40, -100], zoom=4)"
   ]
  },
  {
   "cell_type": "markdown",
   "metadata": {},
   "source": [
    "## Add Earth Engine Python script"
   ]
  },
  {
   "cell_type": "code",
   "execution_count": null,
   "metadata": {},
   "outputs": [],
   "source": [
    "# Add Earth Engine dataset\n",
    "image = ee.Image(\"USGS/SRTMGL1_003\")\n",
    "\n",
    "#  ~~~~~~~~~~~~~~~~~~~~~~~~~~~~~~~~~~~~~~~~~~~~~~~~~~~~~~~~~~~~~~~~~~~~~~~\n",
    "#  Chapter:      F4.3 Clouds and Image Compositing\n",
    "#  Checkpoint:   F43d\n",
    "#  Authors:      Txomin Hermosilla, Saverio Francini, Andréa P. Nicolau,\n",
    "#                Michael A. Wulder, Joanne C. White, Nicholas C. Coops,\n",
    "#                Gherardo Chirici\n",
    "#  ~~~~~~~~~~~~~~~~~~~~~~~~~~~~~~~~~~~~~~~~~~~~~~~~~~~~~~~~~~~~~~~~~~~~~~~\n",
    "\n",
    "# Define required parameters.\n",
    "targetDay = \"06-01\"\n",
    "daysRange = 75\n",
    "cloudsTh = 70\n",
    "SLCoffPenalty = 0.7\n",
    "opacityScoreMin = 0.2\n",
    "opacityScoreMax = 0.3\n",
    "cloudDistMax = 1500\n",
    "despikeTh = 0.65\n",
    "despikeNbands = 3\n",
    "startYear = 2015\n",
    "endYear = 2017\n",
    "\n",
    "# Define study area.\n",
    "worldCountries = ee.FeatureCollection(\"USDOS/LSIB_SIMPLE/2017\")\n",
    "colombia = worldCountries.filter(ee.Filter.eq(\"country_na\", \"Colombia\"))\n",
    "\n",
    "# Load the bap library.\n",
    "library = require(\"users/sfrancini/bap:library\")\n",
    "\n",
    "# Calculate BAP.\n",
    "BAPCS = library.BAP(\n",
    "    None,\n",
    "    targetDay,\n",
    "    daysRange,\n",
    "    cloudsTh,\n",
    "    SLCoffPenalty,\n",
    "    opacityScoreMin,\n",
    "    opacityScoreMax,\n",
    "    cloudDistMax,\n",
    ")\n",
    "\n",
    "# Despike the collection.\n",
    "BAPCS = library.despikeCollection(despikeTh, despikeNbands, BAPCS, 1984, 2021, True)\n",
    "\n",
    "# Infill datagaps.\n",
    "BAPCS = library.infill(BAPCS, 1984, 2021, False, True)\n",
    "\n",
    "# Visualize the image.\n",
    "Map.centerObject(colombia, 5)\n",
    "library.ShowCollection(BAPCS, startYear, endYear, colombia, False, None)\n",
    "library.AddSLider(startYear, endYear)\n",
    "\n",
    "#  -----------------------------------------------------------------------\n",
    "#  CHECKPOINT\n",
    "#  -----------------------------------------------------------------------"
   ]
  },
  {
   "cell_type": "markdown",
   "metadata": {},
   "source": [
    "## Display the interactive map"
   ]
  },
  {
   "cell_type": "code",
   "execution_count": null,
   "metadata": {},
   "outputs": [],
   "source": [
    "Map"
   ]
  }
 ],
 "metadata": {
  "anaconda-cloud": {},
  "kernelspec": {
   "display_name": "Python 3",
   "language": "python",
   "name": "python3"
  },
  "language_info": {
   "codemirror_mode": {
    "name": "ipython",
    "version": 3
   },
   "file_extension": ".py",
   "mimetype": "text/x-python",
   "name": "python",
   "nbconvert_exporter": "python",
   "pygments_lexer": "ipython3",
   "version": "3.6.1"
  }
 },
 "nbformat": 4,
 "nbformat_minor": 4
}
